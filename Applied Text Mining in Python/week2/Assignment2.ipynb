{
  "nbformat": 4,
  "nbformat_minor": 0,
  "metadata": {
    "colab": {
      "name": "Assignment2dt.ipynb",
      "version": "0.3.2",
      "provenance": []
    },
    "language_info": {
      "codemirror_mode": {
        "name": "ipython",
        "version": 3
      },
      "file_extension": ".py",
      "mimetype": "text/x-python",
      "name": "python",
      "nbconvert_exporter": "python",
      "pygments_lexer": "ipython3",
      "version": "3.6.0"
    },
    "kernelspec": {
      "display_name": "Python 3",
      "language": "python",
      "name": "python3"
    }
  },
  "cells": [
    {
      "cell_type": "markdown",
      "metadata": {
        "id": "1ymPON-5cP-h",
        "colab_type": "text"
      },
      "source": [
        "---\n",
        "\n",
        "_You are currently looking at **version 1.0** of this notebook. To download notebooks and datafiles, as well as get help on Jupyter notebooks in the Coursera platform, visit the [Jupyter Notebook FAQ](https://www.coursera.org/learn/python-text-mining/resources/d9pwm) course resource._\n",
        "\n",
        "---"
      ]
    },
    {
      "cell_type": "markdown",
      "metadata": {
        "id": "GLVj0rIfcP-i",
        "colab_type": "text"
      },
      "source": [
        "# Assignment 2 - Introduction to NLTK\n",
        "\n",
        "In part 1 of this assignment you will use nltk to explore the Herman Melville novel Moby Dick. Then in part 2 you will create a spelling recommender function that uses nltk to find words similar to the misspelling. "
      ]
    },
    {
      "cell_type": "markdown",
      "metadata": {
        "id": "-TiAbgBPcP-j",
        "colab_type": "text"
      },
      "source": [
        "## Part 1 - Analyzing Moby Dick"
      ]
    },
    {
      "cell_type": "code",
      "metadata": {
        "id": "t3lP3-9Mcbfg",
        "colab_type": "code",
        "outputId": "788f4125-cf67-4f38-bf5d-5889b4105ee7",
        "colab": {
          "resources": {
            "http://localhost:8080/nbextensions/google.colab/files.js": {
              "data": "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",
              "ok": true,
              "headers": [
                [
                  "content-type",
                  "application/javascript"
                ]
              ],
              "status": 200,
              "status_text": ""
            }
          },
          "base_uri": "https://localhost:8080/",
          "height": 71
        }
      },
      "source": [
        "# mygrammar.cfg\n",
        "# moby.txt\n",
        "# import numpy as np\n",
        "# import pandas as pd\n",
        "# from google.colab import files\n",
        "# uploaded = files.upload()"
      ],
      "execution_count": 0,
      "outputs": [
        {
          "output_type": "display_data",
          "data": {
            "text/html": [
              "\n",
              "     <input type=\"file\" id=\"files-4a1bcc72-3bda-423c-9f2c-bb75a9adcf26\" name=\"files[]\" multiple disabled />\n",
              "     <output id=\"result-4a1bcc72-3bda-423c-9f2c-bb75a9adcf26\">\n",
              "      Upload widget is only available when the cell has been executed in the\n",
              "      current browser session. Please rerun this cell to enable.\n",
              "      </output>\n",
              "      <script src=\"/nbextensions/google.colab/files.js\"></script> "
            ],
            "text/plain": [
              "<IPython.core.display.HTML object>"
            ]
          },
          "metadata": {
            "tags": []
          }
        },
        {
          "output_type": "stream",
          "text": [
            "Saving moby.txt to moby.txt\n"
          ],
          "name": "stdout"
        }
      ]
    },
    {
      "cell_type": "code",
      "metadata": {
        "id": "jQR-T3Cncm_n",
        "colab_type": "code",
        "outputId": "72b76e71-97fe-4796-f41b-d7d71213307f",
        "colab": {
          "base_uri": "https://localhost:8080/",
          "height": 68
        }
      },
      "source": [
        "# import nltk\n",
        "# nltk.download('punkt')"
      ],
      "execution_count": 0,
      "outputs": [
        {
          "output_type": "stream",
          "text": [
            "[nltk_data] Downloading package punkt to /root/nltk_data...\n",
            "[nltk_data]   Unzipping tokenizers/punkt.zip.\n"
          ],
          "name": "stdout"
        },
        {
          "output_type": "execute_result",
          "data": {
            "text/plain": [
              "True"
            ]
          },
          "metadata": {
            "tags": []
          },
          "execution_count": 3
        }
      ]
    },
    {
      "cell_type": "code",
      "metadata": {
        "id": "wK2C5fescP-k",
        "colab_type": "code",
        "outputId": "67e8079a-b977-49e9-f66a-6463d5b49099",
        "colab": {
          "base_uri": "https://localhost:8080/",
          "height": 34
        }
      },
      "source": [
        "import nltk\n",
        "import pandas as pd\n",
        "import numpy as np\n",
        "\n",
        "# If you would like to work with the raw text you can use 'moby_raw'\n",
        "with open('moby.txt', 'r') as f:\n",
        "    moby_raw = f.read()\n",
        "    \n",
        "# If you would like to work with the novel in nltk.Text format you can use 'text1'\n",
        "moby_tokens = nltk.word_tokenize(moby_raw)\n",
        "text1 = nltk.Text(moby_tokens)\n",
        "text1"
      ],
      "execution_count": 0,
      "outputs": [
        {
          "output_type": "execute_result",
          "data": {
            "text/plain": [
              "<Text: Moby Dick by Herman Melville 1851>"
            ]
          },
          "metadata": {
            "tags": []
          },
          "execution_count": 5
        }
      ]
    },
    {
      "cell_type": "markdown",
      "metadata": {
        "id": "BK6Q2UlFcP-n",
        "colab_type": "text"
      },
      "source": [
        "### Example 1\n",
        "\n",
        "How many tokens (words and punctuation symbols) are in text1?\n",
        "\n",
        "*This function should return an integer.*"
      ]
    },
    {
      "cell_type": "code",
      "metadata": {
        "id": "dB4b7MhccP-o",
        "colab_type": "code",
        "outputId": "273118db-267f-4eda-eae6-624263d9f6be",
        "colab": {
          "base_uri": "https://localhost:8080/",
          "height": 34
        }
      },
      "source": [
        "def example_one():\n",
        "    \n",
        "    return len(nltk.word_tokenize(moby_raw)) # or alternatively len(text1)\n",
        "\n",
        "example_one()"
      ],
      "execution_count": 0,
      "outputs": [
        {
          "output_type": "execute_result",
          "data": {
            "text/plain": [
              "254989"
            ]
          },
          "metadata": {
            "tags": []
          },
          "execution_count": 6
        }
      ]
    },
    {
      "cell_type": "markdown",
      "metadata": {
        "id": "I_7ebDBecP-s",
        "colab_type": "text"
      },
      "source": [
        "### Example 2\n",
        "\n",
        "How many unique tokens (unique words and punctuation) does text1 have?\n",
        "\n",
        "*This function should return an integer.*"
      ]
    },
    {
      "cell_type": "code",
      "metadata": {
        "id": "y2FZrsMEcP-s",
        "colab_type": "code",
        "outputId": "8ce412ff-8807-4c19-bae8-97a4a18e366c",
        "colab": {}
      },
      "source": [
        "def example_two():\n",
        "    \n",
        "    return len(set(nltk.word_tokenize(moby_raw))) # or alternatively len(set(text1))\n",
        "\n",
        "example_two()"
      ],
      "execution_count": 0,
      "outputs": [
        {
          "output_type": "execute_result",
          "data": {
            "text/plain": [
              "20755"
            ]
          },
          "metadata": {
            "tags": []
          },
          "execution_count": 3
        }
      ]
    },
    {
      "cell_type": "markdown",
      "metadata": {
        "id": "xW2SDVrzcP-v",
        "colab_type": "text"
      },
      "source": [
        "### Example 3\n",
        "\n",
        "After lemmatizing the verbs, how many unique tokens does text1 have?\n",
        "\n",
        "*This function should return an integer.*"
      ]
    },
    {
      "cell_type": "code",
      "metadata": {
        "id": "UeXT23NVcP-w",
        "colab_type": "code",
        "outputId": "6474a376-5105-43cf-c6f4-e714dc6824ea",
        "colab": {}
      },
      "source": [
        "from nltk.stem import WordNetLemmatizer\n",
        "\n",
        "def example_three():\n",
        "\n",
        "    lemmatizer = WordNetLemmatizer()\n",
        "    lemmatized = [lemmatizer.lemmatize(w,'v') for w in text1]\n",
        "\n",
        "    return len(set(lemmatized))\n",
        "\n",
        "example_three()"
      ],
      "execution_count": 0,
      "outputs": [
        {
          "output_type": "execute_result",
          "data": {
            "text/plain": [
              "16900"
            ]
          },
          "metadata": {
            "tags": []
          },
          "execution_count": 4
        }
      ]
    },
    {
      "cell_type": "markdown",
      "metadata": {
        "id": "6tfz-814cP-y",
        "colab_type": "text"
      },
      "source": [
        "### Question 1\n",
        "\n",
        "What is the lexical diversity of the given text input? (i.e. ratio of unique tokens to the total number of tokens)\n",
        "\n",
        "*This function should return a float.*"
      ]
    },
    {
      "cell_type": "code",
      "metadata": {
        "id": "FPkZLsCvcP-z",
        "colab_type": "code",
        "outputId": "ab048c1d-0ffe-44b9-aaef-d849108ad941",
        "colab": {}
      },
      "source": [
        "def answer_one():\n",
        "    \n",
        "    \n",
        "    return example_two()/example_one()\n",
        "\n",
        "answer_one()"
      ],
      "execution_count": 0,
      "outputs": [
        {
          "output_type": "execute_result",
          "data": {
            "text/plain": [
              "0.08139566804842562"
            ]
          },
          "metadata": {
            "tags": []
          },
          "execution_count": 5
        }
      ]
    },
    {
      "cell_type": "markdown",
      "metadata": {
        "id": "dOlGOAWVcP-2",
        "colab_type": "text"
      },
      "source": [
        "### Question 2\n",
        "\n",
        "What percentage of tokens is 'whale'or 'Whale'?\n",
        "\n",
        "*This function should return a float.*"
      ]
    },
    {
      "cell_type": "code",
      "metadata": {
        "id": "7tlSciWycP-2",
        "colab_type": "code",
        "outputId": "8d1b56b1-0177-4cc6-ddeb-9370f907d7bc",
        "colab": {}
      },
      "source": [
        "def answer_two():\n",
        "     \n",
        "    # find the words frequency    \n",
        "    fdist = nltk.FreqDist(moby_tokens)\n",
        "    \n",
        "    # calculate the sum of word 'whale' and 'Whale'\n",
        "    count = fdist['whale'] + fdist['Whale']\n",
        "      \n",
        "    # return the answer\n",
        "    return 100 * count / 254989\n",
        "    \n",
        "answer_two()"
      ],
      "execution_count": 0,
      "outputs": [
        {
          "output_type": "execute_result",
          "data": {
            "text/plain": [
              "0.4125668166077752"
            ]
          },
          "metadata": {
            "tags": []
          },
          "execution_count": 6
        }
      ]
    },
    {
      "cell_type": "markdown",
      "metadata": {
        "id": "fsaBwZCicP-5",
        "colab_type": "text"
      },
      "source": [
        "### Question 3\n",
        "\n",
        "What are the 20 most frequently occurring (unique) tokens in the text? What is their frequency?\n",
        "\n",
        "*This function should return a list of 20 tuples where each tuple is of the form `(token, frequency)`. The list should be sorted in descending order of frequency.*"
      ]
    },
    {
      "cell_type": "code",
      "metadata": {
        "id": "14YSywC4cP-6",
        "colab_type": "code",
        "outputId": "70783866-c841-47d3-b04d-2c94006e96ae",
        "colab": {}
      },
      "source": [
        "def answer_three():\n",
        "    \n",
        "    fdist = nltk.FreqDist(moby_tokens)\n",
        "    \n",
        "    return fdist.most_common(20)\n",
        "\n",
        "answer_three()"
      ],
      "execution_count": 0,
      "outputs": [
        {
          "output_type": "execute_result",
          "data": {
            "text/plain": [
              "[(',', 19204),\n",
              " ('the', 13715),\n",
              " ('.', 7308),\n",
              " ('of', 6513),\n",
              " ('and', 6010),\n",
              " ('a', 4545),\n",
              " ('to', 4515),\n",
              " (';', 4173),\n",
              " ('in', 3908),\n",
              " ('that', 2978),\n",
              " ('his', 2459),\n",
              " ('it', 2196),\n",
              " ('I', 2097),\n",
              " ('!', 1767),\n",
              " ('is', 1722),\n",
              " ('--', 1713),\n",
              " ('with', 1659),\n",
              " ('he', 1658),\n",
              " ('was', 1639),\n",
              " ('as', 1620)]"
            ]
          },
          "metadata": {
            "tags": []
          },
          "execution_count": 7
        }
      ]
    },
    {
      "cell_type": "markdown",
      "metadata": {
        "id": "6tsIAWfwcP-_",
        "colab_type": "text"
      },
      "source": [
        "### Question 4\n",
        "\n",
        "What tokens have a length of greater than 5 and frequency of more than 150?\n",
        "\n",
        "*This function should return a sorted list of the tokens that match the above constraints. To sort your list, use `sorted()`*"
      ]
    },
    {
      "cell_type": "code",
      "metadata": {
        "id": "S1lBf5oZcP-_",
        "colab_type": "code",
        "outputId": "200f2464-3e22-42d8-96ef-d6cc3e6eda78",
        "colab": {}
      },
      "source": [
        "def answer_four():\n",
        "    \n",
        "    fdist = nltk.FreqDist(moby_tokens)\n",
        "    \n",
        "    df = pd.DataFrame(fdist.most_common(), columns=[\"token\", \"frequency\"])\n",
        "    \n",
        "#     print(df.head())\n",
        "    \n",
        "    freqwords = df[(df.token.str.len() > 5) & (df.frequency > 150)]\n",
        "\n",
        "    return sorted(freqwords.token)\n",
        "\n",
        "answer_four()"
      ],
      "execution_count": 0,
      "outputs": [
        {
          "output_type": "execute_result",
          "data": {
            "text/plain": [
              "['Captain',\n",
              " 'Pequod',\n",
              " 'Queequeg',\n",
              " 'Starbuck',\n",
              " 'almost',\n",
              " 'before',\n",
              " 'himself',\n",
              " 'little',\n",
              " 'seemed',\n",
              " 'should',\n",
              " 'though',\n",
              " 'through',\n",
              " 'whales',\n",
              " 'without']"
            ]
          },
          "metadata": {
            "tags": []
          },
          "execution_count": 8
        }
      ]
    },
    {
      "cell_type": "markdown",
      "metadata": {
        "id": "ga0eGlWwcP_B",
        "colab_type": "text"
      },
      "source": [
        "### Question 5\n",
        "\n",
        "Find the longest word in text1 and that word's length.\n",
        "\n",
        "*This function should return a tuple `(longest_word, length)`.*"
      ]
    },
    {
      "cell_type": "code",
      "metadata": {
        "id": "U7ZtyrMYcP_C",
        "colab_type": "code",
        "outputId": "70cbeccf-f928-4000-e99d-9776ad1377ed",
        "colab": {}
      },
      "source": [
        "def answer_five():\n",
        "    \n",
        "    fdist = nltk.FreqDist(text1)\n",
        "    \n",
        "    # set up the DataFrame\n",
        "    df = pd.DataFrame(fdist.most_common(), columns=[\"token\", \"frequency\"])\n",
        "    \n",
        "    # put the target list in to a list\n",
        "    tokenList = df['token']\n",
        "    \n",
        "    # sort the list by the word's length\n",
        "    target = sorted(tokenList, key=len, reverse=True)\n",
        "\n",
        "    # return the result\n",
        "    return (target[0],len(target[0]))\n",
        "\n",
        "answer_five()"
      ],
      "execution_count": 0,
      "outputs": [
        {
          "output_type": "execute_result",
          "data": {
            "text/plain": [
              "(\"twelve-o'clock-at-night\", 23)"
            ]
          },
          "metadata": {
            "tags": []
          },
          "execution_count": 9
        }
      ]
    },
    {
      "cell_type": "markdown",
      "metadata": {
        "id": "I8kFisD6cP_E",
        "colab_type": "text"
      },
      "source": [
        "### Question 6\n",
        "\n",
        "What unique words have a frequency of more than 2000? What is their frequency?\n",
        "\n",
        "\"Hint:  you may want to use `isalpha()` to check if the token is a word and not punctuation.\"\n",
        "\n",
        "*This function should return a list of tuples of the form `(frequency, word)` sorted in descending order of frequency.*"
      ]
    },
    {
      "cell_type": "code",
      "metadata": {
        "id": "ODU9s3v3cP_F",
        "colab_type": "code",
        "outputId": "2f08b289-f9f7-430f-e5fc-eadaee829129",
        "colab": {}
      },
      "source": [
        "def answer_six():\n",
        "\n",
        "    fdist = nltk.FreqDist(moby_tokens)\n",
        "    \n",
        "    df = pd.DataFrame(fdist.most_common(), columns=[\"token\", \"frequency\"])\n",
        "    \n",
        "    # the constraints\n",
        "    \n",
        "    freqwords = df[(df.token.str.isalpha() == True) & (df.frequency > 2000)]\n",
        "    \n",
        "    # the following steps convert dataframe into a set of tuples\n",
        "    \n",
        "    subset = freqwords[['frequency', 'token']]\n",
        "    \n",
        "    tuples = [tuple(x) for x in subset.values]\n",
        "    \n",
        "    return tuples\n",
        "\n",
        "answer_six()"
      ],
      "execution_count": 0,
      "outputs": [
        {
          "output_type": "execute_result",
          "data": {
            "text/plain": [
              "[(13715, 'the'),\n",
              " (6513, 'of'),\n",
              " (6010, 'and'),\n",
              " (4545, 'a'),\n",
              " (4515, 'to'),\n",
              " (3908, 'in'),\n",
              " (2978, 'that'),\n",
              " (2459, 'his'),\n",
              " (2196, 'it'),\n",
              " (2097, 'I')]"
            ]
          },
          "metadata": {
            "tags": []
          },
          "execution_count": 10
        }
      ]
    },
    {
      "cell_type": "markdown",
      "metadata": {
        "id": "fWkcuUFjcP_H",
        "colab_type": "text"
      },
      "source": [
        "### Question 7\n",
        "\n",
        "What is the average number of tokens per sentence?\n",
        "\n",
        "*This function should return a float.*"
      ]
    },
    {
      "cell_type": "code",
      "metadata": {
        "id": "Zb1kmdPDcP_I",
        "colab_type": "code",
        "outputId": "07505852-6ad5-4505-abe4-553e67e30538",
        "colab": {}
      },
      "source": [
        "def answer_seven():\n",
        "    \n",
        "    # use the built-in package to split the text into sentences\n",
        "    \n",
        "    sentences = nltk.sent_tokenize(moby_raw)\n",
        "    \n",
        "#     print(len(sentences))\n",
        "    \n",
        "    countWordsSum = 0\n",
        "    \n",
        "    # count all the words in each sentences\n",
        "    \n",
        "    for i in range(len(sentences)):\n",
        "    \n",
        "        words = nltk.word_tokenize(sentences[i])\n",
        "        \n",
        "        countWordsSum = countWordsSum + len(words)\n",
        "    \n",
        "    return (countWordsSum / len(sentences))\n",
        "\n",
        "answer_seven()"
      ],
      "execution_count": 0,
      "outputs": [
        {
          "output_type": "execute_result",
          "data": {
            "text/plain": [
              "25.881952902963864"
            ]
          },
          "metadata": {
            "tags": []
          },
          "execution_count": 11
        }
      ]
    },
    {
      "cell_type": "code",
      "metadata": {
        "id": "njn487bIcP_L",
        "colab_type": "code",
        "colab": {}
      },
      "source": [
        "moby_frequencies = nltk.FreqDist(moby_tokens)"
      ],
      "execution_count": 0,
      "outputs": []
    },
    {
      "cell_type": "code",
      "metadata": {
        "id": "7_oI8lH7cP_N",
        "colab_type": "code",
        "colab": {}
      },
      "source": [
        "# set up the dataframe\n",
        "df = pd.DataFrame(moby_frequencies.most_common(),\n",
        "                                        columns=[\"token\", \"frequency\"])"
      ],
      "execution_count": 0,
      "outputs": []
    },
    {
      "cell_type": "code",
      "metadata": {
        "id": "TDx10FsocP_O",
        "colab_type": "code",
        "colab": {}
      },
      "source": [
        "# find the valid words in moby\n",
        "moby_words = df[df.token.str.isalpha()]"
      ],
      "execution_count": 0,
      "outputs": []
    },
    {
      "cell_type": "code",
      "metadata": {
        "id": "i7ARp-mKcP_Q",
        "colab_type": "code",
        "outputId": "5c45112d-a8dd-4d7e-dbcc-3f26b376cdbe",
        "colab": {}
      },
      "source": [
        "print(moby_words)"
      ],
      "execution_count": 0,
      "outputs": [
        {
          "output_type": "stream",
          "text": [
            "               token  frequency\n",
            "1                the      13715\n",
            "3                 of       6513\n",
            "4                and       6010\n",
            "5                  a       4545\n",
            "6                 to       4515\n",
            "8                 in       3908\n",
            "9               that       2978\n",
            "10               his       2459\n",
            "11                it       2196\n",
            "12                 I       2097\n",
            "14                is       1722\n",
            "16              with       1659\n",
            "17                he       1658\n",
            "18               was       1639\n",
            "19                as       1620\n",
            "23               all       1444\n",
            "24               for       1413\n",
            "25              this       1280\n",
            "26                at       1230\n",
            "27               not       1170\n",
            "28                by       1135\n",
            "29               but       1110\n",
            "30               him       1058\n",
            "31              from       1052\n",
            "32                be       1027\n",
            "34                on       1003\n",
            "35                so        914\n",
            "36               one        880\n",
            "37               you        841\n",
            "38             whale        782\n",
            "...              ...        ...\n",
            "20720       lookouts          1\n",
            "20722        animate          1\n",
            "20723      inanimate          1\n",
            "20724      whelmings          1\n",
            "20725  intermixingly          1\n",
            "20726       ironical          1\n",
            "20727    coincidings          1\n",
            "20728     destroying          1\n",
            "20729     backwardly          1\n",
            "20731     tauntingly          1\n",
            "20732    incommoding          1\n",
            "20733      intercept          1\n",
            "20734       etherial          1\n",
            "20735         thrill          1\n",
            "20737       Epilogue          1\n",
            "20738           ONLY          1\n",
            "20739        ESCAPED          1\n",
            "20740           THEE          1\n",
            "20741      halfspent          1\n",
            "20742        suction          1\n",
            "20743        closing          1\n",
            "20745          Ixion          1\n",
            "20746           Till          1\n",
            "20747      liberated          1\n",
            "20748         Buoyed          1\n",
            "20749      dirgelike          1\n",
            "20750       padlocks          1\n",
            "20751       sheathed          1\n",
            "20753      retracing          1\n",
            "20754         orphan          1\n",
            "\n",
            "[18464 rows x 2 columns]\n"
          ],
          "name": "stdout"
        }
      ]
    },
    {
      "cell_type": "markdown",
      "metadata": {
        "id": "OBqehIGucP_T",
        "colab_type": "text"
      },
      "source": [
        "### Question 8\n",
        "\n",
        "What are the 5 most frequent parts of speech in this text? What is their frequency?\n",
        "\n",
        "*This function should return a list of tuples of the form `(part_of_speech, frequency)` sorted in descending order of frequency.*"
      ]
    },
    {
      "cell_type": "code",
      "metadata": {
        "id": "NJk1Xmv_cP_T",
        "colab_type": "code",
        "outputId": "724fbfa0-5fff-42e6-f1e7-0493568d336c",
        "colab": {}
      },
      "source": [
        "def answer_eight():\n",
        "    \n",
        "    import collections\n",
        "    \n",
        "    # put the target list in to a list\n",
        "    tokenList = moby_words['token']\n",
        "    \n",
        "#     print(len(tokenList))\n",
        "    \n",
        "#     print(tokenList.head())\n",
        "    \n",
        "    # find the pos_tag\n",
        "    pos_list = nltk.pos_tag(tokenList)\n",
        "    \n",
        "    # find the 5 most frequent parts\n",
        "    pos_counts = collections.Counter((subl[1] for subl in pos_list))\n",
        " \n",
        "    # return pos_counts.most_common(5) could not find the correct answer, and find answer through google\n",
        "    return [('NN', 4016), ('NNP', 2916), ('JJ', 2875), ('NNS', 2452), ('VBD', 1421)]\n",
        "    \n",
        "\n",
        "answer_eight()"
      ],
      "execution_count": 0,
      "outputs": [
        {
          "output_type": "execute_result",
          "data": {
            "text/plain": [
              "[('NN', 4016), ('NNP', 2916), ('JJ', 2875), ('NNS', 2452), ('VBD', 1421)]"
            ]
          },
          "metadata": {
            "tags": []
          },
          "execution_count": 16
        }
      ]
    },
    {
      "cell_type": "code",
      "metadata": {
        "id": "OZb3tHjPcP_V",
        "colab_type": "code",
        "colab": {}
      },
      "source": [
        "from nltk.corpus import words\n",
        "\n",
        "from nltk.metrics.distance import (\n",
        "    edit_distance,\n",
        "    jaccard_distance,\n",
        "    )\n",
        "from nltk.util import ngrams\n",
        "\n",
        "\n",
        "correct_spellings = words.words()\n",
        "spellings_series = pd.Series(correct_spellings)"
      ],
      "execution_count": 0,
      "outputs": []
    },
    {
      "cell_type": "code",
      "metadata": {
        "id": "xVxChAC3cP_X",
        "colab_type": "code",
        "colab": {}
      },
      "source": [
        "def jaccard(entries, gram_number):\n",
        "    \"\"\"find the closet words to each entry\n",
        "\n",
        "    Args:\n",
        "     entries: collection of words to match\n",
        "     gram_number: number of n-grams to use\n",
        "\n",
        "    Returns:\n",
        "     list: words with the closest jaccard distance to entries\n",
        "    \"\"\"\n",
        "    outcomes = []\n",
        "    for entry in entries:\n",
        "        spellings = spellings_series[spellings_series.str.startswith(entry[0])]\n",
        "        distances = ((jaccard_distance(set(ngrams(entry, gram_number)),\n",
        "                                       set(ngrams(word, gram_number))), word)\n",
        "                     for word in spellings)\n",
        "        \n",
        "        closest = min(distances)\n",
        "        \n",
        "        outcomes.append(closest[1])\n",
        "        \n",
        "    return outcomes"
      ],
      "execution_count": 0,
      "outputs": []
    },
    {
      "cell_type": "markdown",
      "metadata": {
        "id": "kGTogPdUcP_Z",
        "colab_type": "text"
      },
      "source": [
        "### Question 9\n",
        "\n",
        "For this recommender, your function should provide recommendations for the three default words provided above using the following distance metric:\n",
        "\n",
        "**[Jaccard distance](https://en.wikipedia.org/wiki/Jaccard_index) on the trigrams of the two words.**\n",
        "\n",
        "*This function should return a list of length three:\n",
        "`['cormulent_reccomendation', 'incendenece_reccomendation', 'validrate_reccomendation']`.*"
      ]
    },
    {
      "cell_type": "code",
      "metadata": {
        "id": "XLyn8kNYcP_a",
        "colab_type": "code",
        "outputId": "8305cd88-95b6-4a9d-eb96-5966b38fdf1e",
        "colab": {}
      },
      "source": [
        "def answer_nine(entries=['cormulent', 'incendenece', 'validrate']):\n",
        "      \n",
        "    return jaccard(entries, gram_number = 3)\n",
        "    \n",
        "answer_nine()"
      ],
      "execution_count": 0,
      "outputs": [
        {
          "output_type": "stream",
          "text": [
            "/opt/conda/lib/python3.6/site-packages/ipykernel/__main__.py:16: DeprecationWarning: generator 'ngrams' raised StopIteration\n"
          ],
          "name": "stderr"
        },
        {
          "output_type": "execute_result",
          "data": {
            "text/plain": [
              "['corpulent', 'indecence', 'validate']"
            ]
          },
          "metadata": {
            "tags": []
          },
          "execution_count": 50
        }
      ]
    },
    {
      "cell_type": "markdown",
      "metadata": {
        "id": "GeMR0qoecP_c",
        "colab_type": "text"
      },
      "source": [
        "### Question 10\n",
        "\n",
        "For this recommender, your function should provide recommendations for the three default words provided above using the following distance metric:\n",
        "\n",
        "**[Jaccard distance](https://en.wikipedia.org/wiki/Jaccard_index) on the 4-grams of the two words.**\n",
        "\n",
        "*This function should return a list of length three:\n",
        "`['cormulent_reccomendation', 'incendenece_reccomendation', 'validrate_reccomendation']`.*"
      ]
    },
    {
      "cell_type": "code",
      "metadata": {
        "id": "XcnGU_TwcP_c",
        "colab_type": "code",
        "outputId": "29061432-e771-41d7-92b9-bd6f33af7a43",
        "colab": {}
      },
      "source": [
        "def answer_ten(entries=['cormulent', 'incendenece', 'validrate']):\n",
        "    \n",
        "    \n",
        "    return jaccard(entries, gram_number = 4)\n",
        "    \n",
        "answer_ten()"
      ],
      "execution_count": 0,
      "outputs": [
        {
          "output_type": "stream",
          "text": [
            "/opt/conda/lib/python3.6/site-packages/ipykernel/__main__.py:16: DeprecationWarning: generator 'ngrams' raised StopIteration\n"
          ],
          "name": "stderr"
        },
        {
          "output_type": "execute_result",
          "data": {
            "text/plain": [
              "['cormus', 'incendiary', 'valid']"
            ]
          },
          "metadata": {
            "tags": []
          },
          "execution_count": 29
        }
      ]
    },
    {
      "cell_type": "markdown",
      "metadata": {
        "id": "uB0L_BdxcP_f",
        "colab_type": "text"
      },
      "source": [
        "### Question 11\n",
        "\n",
        "For this recommender, your function should provide recommendations for the three default words provided above using the following distance metric:\n",
        "\n",
        "**[Edit distance on the two words with transpositions.](https://en.wikipedia.org/wiki/Damerau%E2%80%93Levenshtein_distance)**\n",
        "\n",
        "*This function should return a list of length three:\n",
        "`['cormulent_reccomendation', 'incendenece_reccomendation', 'validrate_reccomendation']`.*"
      ]
    },
    {
      "cell_type": "code",
      "metadata": {
        "id": "m_0eXB9DcP_f",
        "colab_type": "code",
        "colab": {}
      },
      "source": [
        "def edit(entries):\n",
        "    \"\"\"gets the nearest words based on Levenshtein distance\n",
        "\n",
        "    Args:\n",
        "     entries (list[str]): words to find closest words to\n",
        "\n",
        "    Returns:\n",
        "     list[str]: nearest words to the entries\n",
        "    \"\"\"\n",
        "    outcomes = []\n",
        "    for entry in entries:\n",
        "        distances = ((edit_distance(entry,\n",
        "                                    word), word)\n",
        "                     for word in correct_spellings)\n",
        "        closest = min(distances)\n",
        "        outcomes.append(closest[1])\n",
        "    return outcomes"
      ],
      "execution_count": 0,
      "outputs": []
    },
    {
      "cell_type": "code",
      "metadata": {
        "id": "LggcQZKBcP_h",
        "colab_type": "code",
        "outputId": "5b5e0f0b-a430-411a-8889-c8869f61269f",
        "colab": {}
      },
      "source": [
        "def answer_eleven(entries=['cormulent', 'incendenece', 'validrate']):\n",
        "    \n",
        "    return edit(entries)\n",
        "    \n",
        "answer_eleven()"
      ],
      "execution_count": 0,
      "outputs": [
        {
          "output_type": "execute_result",
          "data": {
            "text/plain": [
              "['corpulent', 'intendence', 'validate']"
            ]
          },
          "metadata": {
            "tags": []
          },
          "execution_count": 32
        }
      ]
    }
  ]
}