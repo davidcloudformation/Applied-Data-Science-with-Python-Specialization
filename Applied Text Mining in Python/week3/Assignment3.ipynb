{
  "nbformat": 4,
  "nbformat_minor": 0,
  "metadata": {
    "colab": {
      "name": "Assignment3(may252019).ipynb",
      "version": "0.3.2",
      "provenance": [],
      "collapsed_sections": []
    },
    "language_info": {
      "codemirror_mode": {
        "name": "ipython",
        "version": 3
      },
      "file_extension": ".py",
      "mimetype": "text/x-python",
      "name": "python",
      "nbconvert_exporter": "python",
      "pygments_lexer": "ipython3",
      "version": "3.6.0"
    },
    "kernelspec": {
      "display_name": "Python 3",
      "language": "python",
      "name": "python3"
    }
  },
  "cells": [
    {
      "cell_type": "markdown",
      "metadata": {
        "id": "VDNvHPkwh8Z-",
        "colab_type": "text"
      },
      "source": [
        "---\n",
        "\n",
        "_You are currently looking at **version 1.0** of this notebook. To download notebooks and datafiles, as well as get help on Jupyter notebooks in the Coursera platform, visit the [Jupyter Notebook FAQ](https://www.coursera.org/learn/python-text-mining/resources/d9pwm) course resource._\n",
        "\n",
        "---"
      ]
    },
    {
      "cell_type": "markdown",
      "metadata": {
        "id": "KAxk4rxth8Z_",
        "colab_type": "text"
      },
      "source": [
        "# Assignment 3\n",
        "\n",
        "In this assignment you will explore text message data and create models to predict if a message is spam or not. "
      ]
    },
    {
      "cell_type": "code",
      "metadata": {
        "id": "MavghnbIGLNq",
        "colab_type": "code",
        "colab": {}
      },
      "source": [
        "# import numpy as np\n",
        "# import pandas as pd\n",
        "# from google.colab import files\n",
        "# uploaded = files.upload()\n",
        "# spam.csv"
      ],
      "execution_count": 0,
      "outputs": []
    },
    {
      "cell_type": "code",
      "metadata": {
        "id": "hL11xabXJmOK",
        "colab_type": "code",
        "colab": {}
      },
      "source": [
        "# import warnings\n",
        "# warnings.filterwarnings('ignore', category=FutureWarning)"
      ],
      "execution_count": 0,
      "outputs": []
    },
    {
      "cell_type": "code",
      "metadata": {
        "id": "O4SSuNz0h8aA",
        "colab_type": "code",
        "outputId": "40e33967-396c-4515-fdac-c71e3e940f21",
        "colab": {
          "base_uri": "https://localhost:8080/",
          "height": 359
        }
      },
      "source": [
        "import pandas as pd\n",
        "import numpy as np\n",
        "\n",
        "spam_data = pd.read_csv('spam.csv')\n",
        "\n",
        "spam_data['target'] = np.where(spam_data['target']=='spam',1,0)\n",
        "spam_data.head(10)"
      ],
      "execution_count": 4,
      "outputs": [
        {
          "output_type": "execute_result",
          "data": {
            "text/html": [
              "<div>\n",
              "<style scoped>\n",
              "    .dataframe tbody tr th:only-of-type {\n",
              "        vertical-align: middle;\n",
              "    }\n",
              "\n",
              "    .dataframe tbody tr th {\n",
              "        vertical-align: top;\n",
              "    }\n",
              "\n",
              "    .dataframe thead th {\n",
              "        text-align: right;\n",
              "    }\n",
              "</style>\n",
              "<table border=\"1\" class=\"dataframe\">\n",
              "  <thead>\n",
              "    <tr style=\"text-align: right;\">\n",
              "      <th></th>\n",
              "      <th>text</th>\n",
              "      <th>target</th>\n",
              "    </tr>\n",
              "  </thead>\n",
              "  <tbody>\n",
              "    <tr>\n",
              "      <th>0</th>\n",
              "      <td>Go until jurong point, crazy.. Available only ...</td>\n",
              "      <td>0</td>\n",
              "    </tr>\n",
              "    <tr>\n",
              "      <th>1</th>\n",
              "      <td>Ok lar... Joking wif u oni...</td>\n",
              "      <td>0</td>\n",
              "    </tr>\n",
              "    <tr>\n",
              "      <th>2</th>\n",
              "      <td>Free entry in 2 a wkly comp to win FA Cup fina...</td>\n",
              "      <td>1</td>\n",
              "    </tr>\n",
              "    <tr>\n",
              "      <th>3</th>\n",
              "      <td>U dun say so early hor... U c already then say...</td>\n",
              "      <td>0</td>\n",
              "    </tr>\n",
              "    <tr>\n",
              "      <th>4</th>\n",
              "      <td>Nah I don't think he goes to usf, he lives aro...</td>\n",
              "      <td>0</td>\n",
              "    </tr>\n",
              "    <tr>\n",
              "      <th>5</th>\n",
              "      <td>FreeMsg Hey there darling it's been 3 week's n...</td>\n",
              "      <td>1</td>\n",
              "    </tr>\n",
              "    <tr>\n",
              "      <th>6</th>\n",
              "      <td>Even my brother is not like to speak with me. ...</td>\n",
              "      <td>0</td>\n",
              "    </tr>\n",
              "    <tr>\n",
              "      <th>7</th>\n",
              "      <td>As per your request 'Melle Melle (Oru Minnamin...</td>\n",
              "      <td>0</td>\n",
              "    </tr>\n",
              "    <tr>\n",
              "      <th>8</th>\n",
              "      <td>WINNER!! As a valued network customer you have...</td>\n",
              "      <td>1</td>\n",
              "    </tr>\n",
              "    <tr>\n",
              "      <th>9</th>\n",
              "      <td>Had your mobile 11 months or more? U R entitle...</td>\n",
              "      <td>1</td>\n",
              "    </tr>\n",
              "  </tbody>\n",
              "</table>\n",
              "</div>"
            ],
            "text/plain": [
              "                                                text  target\n",
              "0  Go until jurong point, crazy.. Available only ...       0\n",
              "1                      Ok lar... Joking wif u oni...       0\n",
              "2  Free entry in 2 a wkly comp to win FA Cup fina...       1\n",
              "3  U dun say so early hor... U c already then say...       0\n",
              "4  Nah I don't think he goes to usf, he lives aro...       0\n",
              "5  FreeMsg Hey there darling it's been 3 week's n...       1\n",
              "6  Even my brother is not like to speak with me. ...       0\n",
              "7  As per your request 'Melle Melle (Oru Minnamin...       0\n",
              "8  WINNER!! As a valued network customer you have...       1\n",
              "9  Had your mobile 11 months or more? U R entitle...       1"
            ]
          },
          "metadata": {
            "tags": []
          },
          "execution_count": 4
        }
      ]
    },
    {
      "cell_type": "code",
      "metadata": {
        "id": "ahOQTGnvh8aF",
        "colab_type": "code",
        "colab": {}
      },
      "source": [
        "from sklearn.model_selection import train_test_split\n",
        "\n",
        "\n",
        "X_train, X_test, y_train, y_test = train_test_split(spam_data['text'], \n",
        "                                                    spam_data['target'], \n",
        "                                                    random_state=0)"
      ],
      "execution_count": 0,
      "outputs": []
    },
    {
      "cell_type": "markdown",
      "metadata": {
        "id": "gNRpnz-6h8aH",
        "colab_type": "text"
      },
      "source": [
        "### Question 1\n",
        "What percentage of the documents in `spam_data` are spam?"
      ]
    },
    {
      "cell_type": "code",
      "metadata": {
        "id": "t1FZWxU2h8aH",
        "colab_type": "code",
        "colab": {}
      },
      "source": [
        "def answer_one():\n",
        "      \n",
        "    ans = len(spam_data[spam_data['target'] == 1]) / len(spam_data) * 100\n",
        "    \n",
        "    return ans"
      ],
      "execution_count": 0,
      "outputs": []
    },
    {
      "cell_type": "code",
      "metadata": {
        "id": "jXbXWeI0h8aJ",
        "colab_type": "code",
        "outputId": "350b0021-cb49-4faa-eb95-9c98879b373c",
        "colab": {
          "base_uri": "https://localhost:8080/",
          "height": 34
        }
      },
      "source": [
        "answer_one()"
      ],
      "execution_count": 7,
      "outputs": [
        {
          "output_type": "execute_result",
          "data": {
            "text/plain": [
              "13.406317300789663"
            ]
          },
          "metadata": {
            "tags": []
          },
          "execution_count": 7
        }
      ]
    },
    {
      "cell_type": "markdown",
      "metadata": {
        "id": "FOGI7jrJh8aM",
        "colab_type": "text"
      },
      "source": [
        "### Question 2\n",
        "\n",
        "Fit the training data `X_train` using a Count Vectorizer with default parameters.\n",
        "\n",
        "What is the longest token in the vocabulary?\n",
        "\n",
        "*This function should return a string.*"
      ]
    },
    {
      "cell_type": "code",
      "metadata": {
        "id": "i01WgaZlh8aM",
        "colab_type": "code",
        "colab": {}
      },
      "source": [
        "from sklearn.feature_extraction.text import CountVectorizer\n",
        "\n",
        "def answer_two():\n",
        "    \n",
        "    # convert the dataframe to list for the following processing \n",
        "    texts = spam_data['text'].T.tolist()\n",
        "\n",
        "    # cv train \n",
        "    cv = CountVectorizer()\n",
        "    cv_fit = cv.fit_transform(texts)\n",
        "    \n",
        "    # sort the words by length in order\n",
        "    sortedwords = sorted(cv.get_feature_names(), key=len)\n",
        "    \n",
        "#     print(sortedwords)\n",
        "    \n",
        "#     print(len(sortedwords[-1]))\n",
        "    # return the result\n",
        "    return sortedwords[-2]"
      ],
      "execution_count": 0,
      "outputs": []
    },
    {
      "cell_type": "code",
      "metadata": {
        "id": "kLrcr_weh8aO",
        "colab_type": "code",
        "outputId": "e0c240e2-3c8a-41fa-9452-987c4cbd9529",
        "colab": {
          "base_uri": "https://localhost:8080/",
          "height": 34
        }
      },
      "source": [
        "answer_two()"
      ],
      "execution_count": 9,
      "outputs": [
        {
          "output_type": "execute_result",
          "data": {
            "text/plain": [
              "'com1win150ppmx3age16subscription'"
            ]
          },
          "metadata": {
            "tags": []
          },
          "execution_count": 9
        }
      ]
    },
    {
      "cell_type": "markdown",
      "metadata": {
        "id": "7pOuVLJPh8aS",
        "colab_type": "text"
      },
      "source": [
        "### Question 3\n",
        "\n",
        "Fit and transform the training data `X_train` using a Count Vectorizer with default parameters.\n",
        "\n",
        "Next, fit a fit a multinomial Naive Bayes classifier model with smoothing `alpha=0.1`. Find the area under the curve (AUC) score using the transformed test data.\n",
        "\n",
        "*This function should return the AUC score as a float.*"
      ]
    },
    {
      "cell_type": "code",
      "metadata": {
        "id": "QmL7MpDIh8aS",
        "colab_type": "code",
        "colab": {}
      },
      "source": [
        "from sklearn.naive_bayes import MultinomialNB\n",
        "from sklearn.metrics import roc_auc_score\n",
        "\n",
        "def answer_three():\n",
        "    \n",
        "    # convert the dataframe to list for the following processing \n",
        "    texts = X_train.T.tolist()\n",
        "\n",
        "    # cv train using X_train \n",
        "    vect = CountVectorizer().fit(X_train)\n",
        "    \n",
        "    # transform the texts in the training data to a document-term matrix\n",
        "    X_train_vectorized = vect.transform(X_train)\n",
        "\n",
        "    # Train the model\n",
        "    model = MultinomialNB(alpha=0.1)\n",
        "    model.fit(X_train_vectorized, y_train)\n",
        "\n",
        "    # Predict the transformed test documents\n",
        "    predictions = model.predict(vect.transform(X_test))\n",
        "\n",
        "    return roc_auc_score(y_test, predictions)"
      ],
      "execution_count": 0,
      "outputs": []
    },
    {
      "cell_type": "code",
      "metadata": {
        "id": "UKla0oRfh8aU",
        "colab_type": "code",
        "outputId": "43daf95c-6dab-4b18-bc96-4e04667281a1",
        "colab": {
          "base_uri": "https://localhost:8080/",
          "height": 34
        }
      },
      "source": [
        "answer_three()"
      ],
      "execution_count": 11,
      "outputs": [
        {
          "output_type": "execute_result",
          "data": {
            "text/plain": [
              "0.9720812182741116"
            ]
          },
          "metadata": {
            "tags": []
          },
          "execution_count": 11
        }
      ]
    },
    {
      "cell_type": "markdown",
      "metadata": {
        "id": "xZ4T-EElh8aX",
        "colab_type": "text"
      },
      "source": [
        "### Question 4\n",
        "\n",
        "Fit and transform the training data `X_train` using a Tfidf Vectorizer with default parameters.\n",
        "\n",
        "What 20 features have the smallest tf-idf and what 20 have the largest tf-idf?\n",
        "\n",
        "Put these features in a two series where each series is sorted by tf-idf value and then alphabetically by feature name. The index of the series should be the feature name, and the data should be the tf-idf.\n",
        "\n",
        "The series of 20 features with smallest tf-idfs should be sorted smallest tfidf first, the list of 20 features with largest tf-idfs should be sorted largest first. \n",
        "\n",
        "*This function should return a tuple of two series\n",
        "`(smallest tf-idfs series, largest tf-idfs series)`.*"
      ]
    },
    {
      "cell_type": "code",
      "metadata": {
        "id": "Xi34KGjXh8aX",
        "colab_type": "code",
        "colab": {}
      },
      "source": [
        "from sklearn.feature_extraction.text import TfidfVectorizer\n",
        "\n",
        "def answer_four():\n",
        "    \n",
        "    # Fit the TfidfVectorizer to the training data\n",
        "    vect = TfidfVectorizer().fit(X_train)\n",
        "    \n",
        "    # transform the texts in the training data to a document-term matrix\n",
        "    X_train_vectorized = vect.transform(X_train)\n",
        "\n",
        "    # find the tfidf value and order the tf_idf_index by importance  \n",
        "    values =  X_train_vectorized.max(0).toarray()[0]\n",
        "    index = vect.get_feature_names()\n",
        "    \n",
        "    # convert the list to the Series required\n",
        "    features_series = pd.Series(values,index = index)\n",
        "    \n",
        "    return features_series.nsmallest(20),features_series.nlargest(20)"
      ],
      "execution_count": 0,
      "outputs": []
    },
    {
      "cell_type": "code",
      "metadata": {
        "id": "iXorHAheh8aZ",
        "colab_type": "code",
        "outputId": "825138ae-f510-4e84-95ec-43f55e50e633",
        "colab": {
          "base_uri": "https://localhost:8080/",
          "height": 714
        }
      },
      "source": [
        "answer_four()"
      ],
      "execution_count": 13,
      "outputs": [
        {
          "output_type": "execute_result",
          "data": {
            "text/plain": [
              "(aaniye          0.074475\n",
              " athletic        0.074475\n",
              " chef            0.074475\n",
              " companion       0.074475\n",
              " courageous      0.074475\n",
              " dependable      0.074475\n",
              " determined      0.074475\n",
              " exterminator    0.074475\n",
              " healer          0.074475\n",
              " listener        0.074475\n",
              " organizer       0.074475\n",
              " pest            0.074475\n",
              " psychiatrist    0.074475\n",
              " psychologist    0.074475\n",
              " pudunga         0.074475\n",
              " stylist         0.074475\n",
              " sympathetic     0.074475\n",
              " venaam          0.074475\n",
              " afternoons      0.091250\n",
              " approaching     0.091250\n",
              " dtype: float64, 146tf150p    1.000000\n",
              " 645          1.000000\n",
              " anything     1.000000\n",
              " anytime      1.000000\n",
              " beerage      1.000000\n",
              " done         1.000000\n",
              " er           1.000000\n",
              " havent       1.000000\n",
              " home         1.000000\n",
              " lei          1.000000\n",
              " nite         1.000000\n",
              " ok           1.000000\n",
              " okie         1.000000\n",
              " thank        1.000000\n",
              " thanx        1.000000\n",
              " too          1.000000\n",
              " where        1.000000\n",
              " yup          1.000000\n",
              " tick         0.980166\n",
              " blank        0.932702\n",
              " dtype: float64)"
            ]
          },
          "metadata": {
            "tags": []
          },
          "execution_count": 13
        }
      ]
    },
    {
      "cell_type": "markdown",
      "metadata": {
        "id": "_6PahmyJh8ac",
        "colab_type": "text"
      },
      "source": [
        "### Question 5\n",
        "\n",
        "Fit and transform the training data `X_train` using a Tfidf Vectorizer ignoring terms that have a document frequency strictly lower than **3**.\n",
        "\n",
        "Then fit a multinomial Naive Bayes classifier model with smoothing `alpha=0.1` and compute the area under the curve (AUC) score using the transformed test data.\n",
        "\n",
        "*This function should return the AUC score as a float.*"
      ]
    },
    {
      "cell_type": "code",
      "metadata": {
        "id": "33zSzdUgh8ac",
        "colab_type": "code",
        "colab": {}
      },
      "source": [
        "def answer_five():\n",
        "    \n",
        "    # Fit the TfidfVectorizer to the training data\n",
        "    vect = TfidfVectorizer(min_df=3).fit(X_train)\n",
        "    \n",
        "    # transform the texts in the training data to a document-term matrix\n",
        "    X_train_vectorized = vect.transform(X_train)\n",
        "\n",
        "    # Train the model\n",
        "    model = MultinomialNB(alpha=0.1)\n",
        "    model.fit(X_train_vectorized, y_train)\n",
        "\n",
        "    # Predict the transformed test documents\n",
        "    predictions = model.predict(vect.transform(X_test))\n",
        "\n",
        "    return roc_auc_score(y_test, predictions)"
      ],
      "execution_count": 0,
      "outputs": []
    },
    {
      "cell_type": "code",
      "metadata": {
        "id": "9TeeNt69h8ag",
        "colab_type": "code",
        "outputId": "552a53bf-9e0b-433e-bbd7-a3cfb10ad763",
        "colab": {
          "base_uri": "https://localhost:8080/",
          "height": 34
        }
      },
      "source": [
        "answer_five()"
      ],
      "execution_count": 15,
      "outputs": [
        {
          "output_type": "execute_result",
          "data": {
            "text/plain": [
              "0.9416243654822335"
            ]
          },
          "metadata": {
            "tags": []
          },
          "execution_count": 15
        }
      ]
    },
    {
      "cell_type": "markdown",
      "metadata": {
        "id": "FaFg7Bjwh8aj",
        "colab_type": "text"
      },
      "source": [
        "### Question 6\n",
        "\n",
        "What is the average length of documents (number of characters) for not spam and spam documents?\n",
        "\n",
        "*This function should return a tuple (average length not spam, average length spam).*"
      ]
    },
    {
      "cell_type": "code",
      "metadata": {
        "id": "GUUwyE1Vh8ak",
        "colab_type": "code",
        "colab": {}
      },
      "source": [
        "def answer_six():\n",
        "    \n",
        "    # define spam and not spam text\n",
        "    spam_texts = spam_data[spam_data['target'] == 1]['text']\n",
        "    not_spam_texts = spam_data[spam_data['target'] == 0]['text']\n",
        "    \n",
        "    # get the spam and not spam length list \n",
        "    spam_len_list = [len(length) for length in spam_texts]\n",
        "    not_spam_len_list = [len(length) for length in not_spam_texts]\n",
        "    \n",
        "    # get the average length of spam and not spam texts\n",
        "    spam_len_avg = sum(spam_len_list)/len(spam_len_list)\n",
        "    not_spam_len_avg = sum(not_spam_len_list)/len(not_spam_len_list)\n",
        "     \n",
        "    return (not_spam_len_avg, spam_len_avg)"
      ],
      "execution_count": 0,
      "outputs": []
    },
    {
      "cell_type": "code",
      "metadata": {
        "id": "UGhEMvXsh8am",
        "colab_type": "code",
        "outputId": "27d127a7-cd9c-460b-877d-1818dd2e34e2",
        "colab": {
          "base_uri": "https://localhost:8080/",
          "height": 34
        }
      },
      "source": [
        "answer_six()"
      ],
      "execution_count": 17,
      "outputs": [
        {
          "output_type": "execute_result",
          "data": {
            "text/plain": [
              "(71.02362694300518, 138.8661311914324)"
            ]
          },
          "metadata": {
            "tags": []
          },
          "execution_count": 17
        }
      ]
    },
    {
      "cell_type": "markdown",
      "metadata": {
        "id": "Mpbo5NKHh8aq",
        "colab_type": "text"
      },
      "source": [
        "<br>\n",
        "<br>\n",
        "The following function has been provided to help you combine new features into the training data:"
      ]
    },
    {
      "cell_type": "code",
      "metadata": {
        "id": "mHLj4_44h8ar",
        "colab_type": "code",
        "colab": {}
      },
      "source": [
        "def add_feature(X, feature_to_add):\n",
        "    \"\"\"\n",
        "    Returns sparse feature matrix with added feature.\n",
        "    feature_to_add can also be a list of features.\n",
        "    \"\"\"\n",
        "    from scipy.sparse import csr_matrix, hstack\n",
        "    return hstack([X, csr_matrix(feature_to_add).T], 'csr')"
      ],
      "execution_count": 0,
      "outputs": []
    },
    {
      "cell_type": "markdown",
      "metadata": {
        "id": "Bk23LFETh8av",
        "colab_type": "text"
      },
      "source": [
        "### Question 7\n",
        "\n",
        "Fit and transform the training data X_train using a Tfidf Vectorizer ignoring terms that have a document frequency strictly lower than **5**.\n",
        "\n",
        "Using this document-term matrix and an additional feature, **the length of document (number of characters)**, fit a Support Vector Classification model with regularization `C=10000`. Then compute the area under the curve (AUC) score using the transformed test data.\n",
        "\n",
        "*This function should return the AUC score as a float.*"
      ]
    },
    {
      "cell_type": "code",
      "metadata": {
        "id": "5nwws76Uh8aw",
        "colab_type": "code",
        "colab": {}
      },
      "source": [
        "from sklearn.svm import SVC\n",
        "\n",
        "def answer_seven():\n",
        "    \n",
        "    # Fit the TfidfVectorizer to the training data\n",
        "    vect = TfidfVectorizer(min_df=5).fit(X_train)\n",
        "    \n",
        "    # transform the texts in the training data to a document-term matrix\n",
        "    X_train_vectorized = vect.transform(X_train)\n",
        "    X_test_vectorized = vect.transform(X_test)\n",
        "    \n",
        "    # get the len of each X_train as a feature\n",
        "    X_train_len = X_train.apply(len)\n",
        "    X_test_len = X_test.apply(len)\n",
        "\n",
        "    # add the new feature to the original feature matrix\n",
        "    X_train_aug = add_feature(X_train_vectorized, X_train_len)\n",
        "    X_test_aug = add_feature(X_test_vectorized, X_test_len)\n",
        "\n",
        "    # Train the model\n",
        "    model = SVC(C = 10000)\n",
        "    model.fit(X_train_aug, y_train)\n",
        "\n",
        "    # Predict the transformed test documents\n",
        "    predictions = model.predict(X_test_aug)\n",
        "\n",
        "    return roc_auc_score(y_test, predictions)"
      ],
      "execution_count": 0,
      "outputs": []
    },
    {
      "cell_type": "code",
      "metadata": {
        "id": "LT5c6Q4ah8az",
        "colab_type": "code",
        "outputId": "85b8ce7c-03d1-4758-eee6-c873da9c60c4",
        "colab": {
          "base_uri": "https://localhost:8080/",
          "height": 34
        }
      },
      "source": [
        "answer_seven()"
      ],
      "execution_count": 20,
      "outputs": [
        {
          "output_type": "execute_result",
          "data": {
            "text/plain": [
              "0.9581366823421557"
            ]
          },
          "metadata": {
            "tags": []
          },
          "execution_count": 20
        }
      ]
    },
    {
      "cell_type": "markdown",
      "metadata": {
        "id": "ORQusERLh8a2",
        "colab_type": "text"
      },
      "source": [
        "### Question 8\n",
        "\n",
        "What is the average number of digits per document for not spam and spam documents?\n",
        "\n",
        "*This function should return a tuple (average # digits not spam, average # digits spam).*"
      ]
    },
    {
      "cell_type": "code",
      "metadata": {
        "id": "TzzwdthIh8a2",
        "colab_type": "code",
        "colab": {}
      },
      "source": [
        "def answer_eight():\n",
        "    \n",
        "    spam_digits_avg = spam_data.loc[spam_data['target'] == 1,'text'].str.count('\\d').mean()\n",
        "    not_spam_digits_avg = spam_data.loc[spam_data['target'] == 0,'text'].str.count('\\d').mean()\n",
        "    \n",
        "    return (not_spam_digits_avg, spam_digits_avg)"
      ],
      "execution_count": 0,
      "outputs": []
    },
    {
      "cell_type": "code",
      "metadata": {
        "id": "hGgkDh65h8a4",
        "colab_type": "code",
        "outputId": "26925e97-1097-4f1b-d774-ba4ddf2aa42c",
        "colab": {
          "base_uri": "https://localhost:8080/",
          "height": 34
        }
      },
      "source": [
        "answer_eight()"
      ],
      "execution_count": 22,
      "outputs": [
        {
          "output_type": "execute_result",
          "data": {
            "text/plain": [
              "(0.2992746113989637, 15.759036144578314)"
            ]
          },
          "metadata": {
            "tags": []
          },
          "execution_count": 22
        }
      ]
    },
    {
      "cell_type": "markdown",
      "metadata": {
        "id": "b4uC7IvHh8a5",
        "colab_type": "text"
      },
      "source": [
        "### Question 9\n",
        "\n",
        "Fit and transform the training data `X_train` using a Tfidf Vectorizer ignoring terms that have a document frequency strictly lower than **5** and using **word n-grams from n=1 to n=3** (unigrams, bigrams, and trigrams).\n",
        "\n",
        "Using this document-term matrix and the following additional features:\n",
        "* the length of document (number of characters)\n",
        "* **number of digits per document**\n",
        "\n",
        "fit a Logistic Regression model with regularization `C=100`. Then compute the area under the curve (AUC) score using the transformed test data.\n",
        "\n",
        "*This function should return the AUC score as a float.*"
      ]
    },
    {
      "cell_type": "code",
      "metadata": {
        "id": "_a9TcH-Eh8a6",
        "colab_type": "code",
        "colab": {}
      },
      "source": [
        "from sklearn.linear_model import LogisticRegression\n",
        "\n",
        "def answer_nine():\n",
        "    \n",
        "    # Fit the TfidfVectorizer to the training data\n",
        "    vect = TfidfVectorizer(min_df=5, ngram_range=(1,3)).fit(X_train)\n",
        "    \n",
        "    # transform the texts in the training data to a document-term matrix\n",
        "    X_train_vectorized = vect.transform(X_train)\n",
        "    X_test_vectorized = vect.transform(X_test)\n",
        "    \n",
        "    # get the len of each X_train as a feature\n",
        "    X_train_len = X_train.apply(len)\n",
        "    X_test_len = X_test.apply(len)\n",
        "    \n",
        "    # find the number of digits per document\n",
        "    X_train_digits_len = X_train.str.count('\\d')\n",
        "    X_test_digits_len = X_test.str.count('\\d')\n",
        "    \n",
        "    # add the new feature to the original feature matrix\n",
        "    X_train_aug_1 = add_feature(X_train_vectorized, X_train_len)\n",
        "    X_train_aug_2 = add_feature(X_train_aug_1, X_train_digits_len)\n",
        "    \n",
        "    X_test_aug_1 = add_feature(X_test_vectorized, X_test_len)\n",
        "    X_test_aug_2 = add_feature(X_test_aug_1, X_test_digits_len)\n",
        "\n",
        "    # Train the model\n",
        "    model = LogisticRegression(C = 100)\n",
        "    model.fit(X_train_aug_2, y_train)\n",
        "\n",
        "    # Predict the transformed test documents\n",
        "    predictions = model.predict(X_test_aug_2)\n",
        "\n",
        "    return roc_auc_score(y_test, predictions)"
      ],
      "execution_count": 0,
      "outputs": []
    },
    {
      "cell_type": "code",
      "metadata": {
        "id": "GQBdSYnnh8a7",
        "colab_type": "code",
        "outputId": "bcb4e8ec-3b5a-499c-da12-f63ff31f7d13",
        "colab": {
          "base_uri": "https://localhost:8080/",
          "height": 34
        }
      },
      "source": [
        "answer_nine()"
      ],
      "execution_count": 24,
      "outputs": [
        {
          "output_type": "execute_result",
          "data": {
            "text/plain": [
              "0.9653328353394565"
            ]
          },
          "metadata": {
            "tags": []
          },
          "execution_count": 24
        }
      ]
    },
    {
      "cell_type": "markdown",
      "metadata": {
        "id": "hlOdd6HUh8a-",
        "colab_type": "text"
      },
      "source": [
        "### Question 10\n",
        "\n",
        "What is the average number of non-word characters (anything other than a letter, digit or underscore) per document for not spam and spam documents?\n",
        "\n",
        "*Hint: Use `\\w` and `\\W` character classes*\n",
        "\n",
        "*This function should return a tuple (average # non-word characters not spam, average # non-word characters spam).*"
      ]
    },
    {
      "cell_type": "code",
      "metadata": {
        "id": "aWC4ctfPh8a-",
        "colab_type": "code",
        "colab": {}
      },
      "source": [
        "def answer_ten():\n",
        "    \n",
        "    spam_char_avg = spam_data.loc[spam_data['target'] == 1,'text'].str.count('\\W').mean()\n",
        "    \n",
        "    not_spam_char_avg = spam_data.loc[spam_data['target'] == 0,'text'].str.count('\\W').mean()\n",
        "    \n",
        "    return (not_spam_char_avg, spam_char_avg)"
      ],
      "execution_count": 0,
      "outputs": []
    },
    {
      "cell_type": "code",
      "metadata": {
        "id": "KN_puNXLh8bA",
        "colab_type": "code",
        "outputId": "74e87d06-20cc-4d2f-8252-4642cceaf5d3",
        "colab": {
          "base_uri": "https://localhost:8080/",
          "height": 34
        }
      },
      "source": [
        "answer_ten()"
      ],
      "execution_count": 26,
      "outputs": [
        {
          "output_type": "execute_result",
          "data": {
            "text/plain": [
              "(17.29181347150259, 29.041499330655956)"
            ]
          },
          "metadata": {
            "tags": []
          },
          "execution_count": 26
        }
      ]
    },
    {
      "cell_type": "markdown",
      "metadata": {
        "id": "Z_yR93Bgh8bC",
        "colab_type": "text"
      },
      "source": [
        "### Question 11\n",
        "\n",
        "Fit and transform the training data X_train using a Count Vectorizer ignoring terms that have a document frequency strictly lower than **5** and using **character n-grams from n=2 to n=5.**\n",
        "\n",
        "To tell Count Vectorizer to use character n-grams pass in `analyzer='char_wb'` which creates character n-grams only from text inside word boundaries. This should make the model more robust to spelling mistakes.\n",
        "\n",
        "Using this document-term matrix and the following additional features:\n",
        "* the length of document (number of characters)\n",
        "* number of digits per document\n",
        "* **number of non-word characters (anything other than a letter, digit or underscore.)**\n",
        "\n",
        "fit a Logistic Regression model with regularization C=100. Then compute the area under the curve (AUC) score using the transformed test data.\n",
        "\n",
        "Also **find the 10 smallest and 10 largest coefficients from the model** and return them along with the AUC score in a tuple.\n",
        "\n",
        "The list of 10 smallest coefficients should be sorted smallest first, the list of 10 largest coefficients should be sorted largest first.\n",
        "\n",
        "The three features that were added to the document term matrix should have the following names should they appear in the list of coefficients:\n",
        "['length_of_doc', 'digit_count', 'non_word_char_count']\n",
        "\n",
        "*This function should return a tuple `(AUC score as a float, smallest coefs list, largest coefs list)`.*"
      ]
    },
    {
      "cell_type": "code",
      "metadata": {
        "id": "fPtime9Vh8bC",
        "colab_type": "code",
        "colab": {}
      },
      "source": [
        "def answer_eleven():\n",
        "    \n",
        "    # Fit the TfidfVectorizer to the training data\n",
        "    vect = TfidfVectorizer(min_df=5, analyzer='char_wb', ngram_range=(2,5)).fit(X_train)\n",
        "    \n",
        "    # transform the texts in the training data to a document-term matrix\n",
        "    X_train_vectorized = vect.transform(X_train)\n",
        "    X_test_vectorized = vect.transform(X_test)\n",
        "    \n",
        "    # get the len of each X_train as a feature\n",
        "    X_train_len = X_train.apply(len)\n",
        "    X_test_len = X_test.apply(len)\n",
        "    \n",
        "    # find the number of digits per document\n",
        "    X_train_digits_len = X_train.str.count('\\d')\n",
        "    X_test_digits_len = X_test.str.count('\\d')\n",
        "    \n",
        "    # find the average number of non-word characters\n",
        "    X_train_spam_char_len = X_train.str.count('\\W')\n",
        "    X_test_spam_char_len = X_test.str.count('\\W')\n",
        "    \n",
        "    \n",
        "    # add the new feature to the original feature matrix\n",
        "    X_train_aug_1 = add_feature(X_train_vectorized, X_train_len)\n",
        "    X_train_aug_2 = add_feature(X_train_aug_1, X_train_digits_len)\n",
        "    X_train_aug_3 = add_feature(X_train_aug_2, X_train_spam_char_len)\n",
        "    \n",
        "    X_test_aug_1 = add_feature(X_test_vectorized, X_test_len)\n",
        "    X_test_aug_2 = add_feature(X_test_aug_1, X_test_digits_len)\n",
        "    X_test_aug_3 = add_feature(X_test_aug_2, X_test_spam_char_len)\n",
        "\n",
        "    # Train the model\n",
        "    model = LogisticRegression(C = 100)\n",
        "    model.fit(X_train_aug_3, y_train)\n",
        "\n",
        "    # Predict the transformed test documents\n",
        "    predictions = model.predict(X_test_aug_3)\n",
        "\n",
        "    # get feature names from the vect while adding the new feature names\n",
        "    feature_names = np.array(vect.get_feature_names() + [\"length_of_doc\", \"digit_count\", \"non_word_char_count\"])\n",
        "\n",
        "    # sort the importance of the features\n",
        "    sorted_coef_index = model.coef_[0].argsort()\n",
        "\n",
        "    # find the most and least important features\n",
        "    smallest_coef_list = feature_names[sorted_coef_index[:10]].tolist()\n",
        "    largest_coef_list = feature_names[sorted_coef_index[:-11:-1]].tolist()\n",
        "\n",
        "    return (roc_auc_score(y_test, predictions), smallest_coef_list, largest_coef_list)"
      ],
      "execution_count": 0,
      "outputs": []
    },
    {
      "cell_type": "code",
      "metadata": {
        "id": "o1ei1pzyh8bE",
        "colab_type": "code",
        "outputId": "4204335f-48fb-45ce-d255-57e341e97aad",
        "colab": {
          "base_uri": "https://localhost:8080/",
          "height": 68
        }
      },
      "source": [
        "answer_eleven()"
      ],
      "execution_count": 28,
      "outputs": [
        {
          "output_type": "execute_result",
          "data": {
            "text/plain": [
              "(0.9759031798040846,\n",
              " ['i ', '..', ' i', ' m', 'ca', 'if', 'if ', '5,', 'my ', ' 6'],\n",
              " ['**', 'ww', 'xt', '***', 'co', 'ne', 'ex', 'uk', '****', 'eply '])"
            ]
          },
          "metadata": {
            "tags": []
          },
          "execution_count": 28
        }
      ]
    }
  ]
}