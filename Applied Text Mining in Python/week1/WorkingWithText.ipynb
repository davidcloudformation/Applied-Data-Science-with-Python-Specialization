{
  "nbformat": 4,
  "nbformat_minor": 0,
  "metadata": {
    "colab": {
      "name": "Working+With+Text(may19-2019).ipynb",
      "version": "0.3.2",
      "provenance": [],
      "collapsed_sections": []
    },
    "language_info": {
      "codemirror_mode": {
        "name": "ipython",
        "version": 3
      },
      "file_extension": ".py",
      "mimetype": "text/x-python",
      "name": "python",
      "nbconvert_exporter": "python",
      "pygments_lexer": "ipython3",
      "version": "3.6.0"
    },
    "kernelspec": {
      "display_name": "Python 3",
      "language": "python",
      "name": "python3"
    }
  },
  "cells": [
    {
      "cell_type": "markdown",
      "metadata": {
        "id": "a7tgJmLZ2zfp",
        "colab_type": "text"
      },
      "source": [
        "---\n",
        "\n",
        "_You are currently looking at **version 1.0** of this notebook. To download notebooks and datafiles, as well as get help on Jupyter notebooks in the Coursera platform, visit the [Jupyter Notebook FAQ](https://www.coursera.org/learn/python-text-mining/resources/d9pwm) course resource._\n",
        "\n",
        "---"
      ]
    },
    {
      "cell_type": "markdown",
      "metadata": {
        "id": "w5yU750s2zfq",
        "colab_type": "text"
      },
      "source": [
        "# Working With Text"
      ]
    },
    {
      "cell_type": "code",
      "metadata": {
        "id": "Cgr6fhYV2zfr",
        "colab_type": "code",
        "outputId": "aa71d86c-a7bd-45fb-f0bf-86331445d39a",
        "colab": {
          "base_uri": "https://localhost:8080/",
          "height": 34
        }
      },
      "source": [
        "text1 = \"Ethics are built right into the ideals and objectives of the United Nations \"\n",
        "\n",
        "len(text1) # The length of text1"
      ],
      "execution_count": 0,
      "outputs": [
        {
          "output_type": "execute_result",
          "data": {
            "text/plain": [
              "76"
            ]
          },
          "metadata": {
            "tags": []
          },
          "execution_count": 1
        }
      ]
    },
    {
      "cell_type": "code",
      "metadata": {
        "id": "mPyMslij2zfw",
        "colab_type": "code",
        "outputId": "ac3b2133-090c-4ff6-db8d-68cfb23e89d6",
        "colab": {
          "base_uri": "https://localhost:8080/",
          "height": 34
        }
      },
      "source": [
        "text2 = text1.split(' ') # Return a list of the words in text2, separating by ' '.\n",
        "\n",
        "len(text2)"
      ],
      "execution_count": 0,
      "outputs": [
        {
          "output_type": "execute_result",
          "data": {
            "text/plain": [
              "14"
            ]
          },
          "metadata": {
            "tags": []
          },
          "execution_count": 2
        }
      ]
    },
    {
      "cell_type": "code",
      "metadata": {
        "id": "jyB6HiHd2zfz",
        "colab_type": "code",
        "outputId": "44fd6420-d380-492c-f0f4-f54b0cbe2a42",
        "colab": {
          "base_uri": "https://localhost:8080/",
          "height": 255
        }
      },
      "source": [
        "text2"
      ],
      "execution_count": 0,
      "outputs": [
        {
          "output_type": "execute_result",
          "data": {
            "text/plain": [
              "['Ethics',\n",
              " 'are',\n",
              " 'built',\n",
              " 'right',\n",
              " 'into',\n",
              " 'the',\n",
              " 'ideals',\n",
              " 'and',\n",
              " 'objectives',\n",
              " 'of',\n",
              " 'the',\n",
              " 'United',\n",
              " 'Nations',\n",
              " '']"
            ]
          },
          "metadata": {
            "tags": []
          },
          "execution_count": 3
        }
      ]
    },
    {
      "cell_type": "markdown",
      "metadata": {
        "id": "Nc06F2bl2zf1",
        "colab_type": "text"
      },
      "source": [
        "<br>\n",
        "List comprehension allows us to find specific words:"
      ]
    },
    {
      "cell_type": "code",
      "metadata": {
        "id": "TIRwhQeQ2zf2",
        "colab_type": "code",
        "outputId": "e2a2aa48-11dd-4064-9608-71741db15569",
        "colab": {
          "base_uri": "https://localhost:8080/",
          "height": 153
        }
      },
      "source": [
        "[w for w in text2 if len(w) > 3] # Words that are greater than 3 letters long in text2"
      ],
      "execution_count": 0,
      "outputs": [
        {
          "output_type": "execute_result",
          "data": {
            "text/plain": [
              "['Ethics',\n",
              " 'built',\n",
              " 'right',\n",
              " 'into',\n",
              " 'ideals',\n",
              " 'objectives',\n",
              " 'United',\n",
              " 'Nations']"
            ]
          },
          "metadata": {
            "tags": []
          },
          "execution_count": 4
        }
      ]
    },
    {
      "cell_type": "code",
      "metadata": {
        "id": "nh28eGjU2zf4",
        "colab_type": "code",
        "outputId": "91d40caf-36b6-4cc4-ba99-f2b6b1ec0822",
        "colab": {
          "base_uri": "https://localhost:8080/",
          "height": 34
        }
      },
      "source": [
        "[w for w in text2 if w.istitle()] # Capitalized words in text2"
      ],
      "execution_count": 0,
      "outputs": [
        {
          "output_type": "execute_result",
          "data": {
            "text/plain": [
              "['Ethics', 'United', 'Nations']"
            ]
          },
          "metadata": {
            "tags": []
          },
          "execution_count": 5
        }
      ]
    },
    {
      "cell_type": "code",
      "metadata": {
        "id": "YvH66hbc2zf6",
        "colab_type": "code",
        "outputId": "e6a0b308-33d5-432b-b765-b315be4baaeb",
        "colab": {
          "base_uri": "https://localhost:8080/",
          "height": 34
        }
      },
      "source": [
        "[w for w in text2 if w.endswith('s')] # Words in text2 that end in 's'"
      ],
      "execution_count": 0,
      "outputs": [
        {
          "output_type": "execute_result",
          "data": {
            "text/plain": [
              "['Ethics', 'ideals', 'objectives', 'Nations']"
            ]
          },
          "metadata": {
            "tags": []
          },
          "execution_count": 6
        }
      ]
    },
    {
      "cell_type": "markdown",
      "metadata": {
        "id": "FDNoPCDM2zf-",
        "colab_type": "text"
      },
      "source": [
        "<br>\n",
        "We can find unique words using `set()`."
      ]
    },
    {
      "cell_type": "code",
      "metadata": {
        "id": "6zGYloF02zf_",
        "colab_type": "code",
        "outputId": "c1eddc1a-a702-48a8-8c66-3f3288b41ede",
        "colab": {
          "base_uri": "https://localhost:8080/",
          "height": 34
        }
      },
      "source": [
        "text3 = 'To be or not to be'\n",
        "text4 = text3.split(' ')\n",
        "\n",
        "len(text4)"
      ],
      "execution_count": 0,
      "outputs": [
        {
          "output_type": "execute_result",
          "data": {
            "text/plain": [
              "6"
            ]
          },
          "metadata": {
            "tags": []
          },
          "execution_count": 7
        }
      ]
    },
    {
      "cell_type": "code",
      "metadata": {
        "id": "ILlEk4Mt2zgD",
        "colab_type": "code",
        "outputId": "3deb8e18-24f4-4f09-ec9f-3a50c9d5888a",
        "colab": {
          "base_uri": "https://localhost:8080/",
          "height": 34
        }
      },
      "source": [
        "len(set(text4))"
      ],
      "execution_count": 0,
      "outputs": [
        {
          "output_type": "execute_result",
          "data": {
            "text/plain": [
              "5"
            ]
          },
          "metadata": {
            "tags": []
          },
          "execution_count": 8
        }
      ]
    },
    {
      "cell_type": "code",
      "metadata": {
        "id": "x9eal0uj2zgG",
        "colab_type": "code",
        "outputId": "86f4eff2-cff9-40c7-a524-a6d4f1f08da4",
        "colab": {
          "base_uri": "https://localhost:8080/",
          "height": 34
        }
      },
      "source": [
        "set(text4)"
      ],
      "execution_count": 0,
      "outputs": [
        {
          "output_type": "execute_result",
          "data": {
            "text/plain": [
              "{'To', 'be', 'not', 'or', 'to'}"
            ]
          },
          "metadata": {
            "tags": []
          },
          "execution_count": 9
        }
      ]
    },
    {
      "cell_type": "code",
      "metadata": {
        "id": "mHX6Wgqf2zgI",
        "colab_type": "code",
        "outputId": "141ac4a1-d1d7-495f-fa1c-ce3d9d4b48ab",
        "colab": {
          "base_uri": "https://localhost:8080/",
          "height": 34
        }
      },
      "source": [
        "len(set([w.lower() for w in text4])) # .lower converts the string to lowercase."
      ],
      "execution_count": 0,
      "outputs": [
        {
          "output_type": "execute_result",
          "data": {
            "text/plain": [
              "4"
            ]
          },
          "metadata": {
            "tags": []
          },
          "execution_count": 10
        }
      ]
    },
    {
      "cell_type": "code",
      "metadata": {
        "id": "ZrcWTdzZ2zgK",
        "colab_type": "code",
        "outputId": "5a27297b-395c-4a43-8727-16f622a5d75d",
        "colab": {
          "base_uri": "https://localhost:8080/",
          "height": 34
        }
      },
      "source": [
        "set([w.lower() for w in text4])"
      ],
      "execution_count": 0,
      "outputs": [
        {
          "output_type": "execute_result",
          "data": {
            "text/plain": [
              "{'be', 'not', 'or', 'to'}"
            ]
          },
          "metadata": {
            "tags": []
          },
          "execution_count": 11
        }
      ]
    },
    {
      "cell_type": "markdown",
      "metadata": {
        "id": "frbTbglO2zgM",
        "colab_type": "text"
      },
      "source": [
        "### Processing free-text"
      ]
    },
    {
      "cell_type": "code",
      "metadata": {
        "id": "rePVtLGJ2zgN",
        "colab_type": "code",
        "outputId": "9240fabf-69fd-43d7-ce04-fae149258545",
        "colab": {
          "base_uri": "https://localhost:8080/",
          "height": 374
        }
      },
      "source": [
        "text5 = '\"Ethics are built right into the ideals and objectives of the United Nations\" \\\n",
        "#UNSG @ NY Society for Ethical Culture bit.ly/2guVelr'\n",
        "text6 = text5.split(' ')\n",
        "\n",
        "text6"
      ],
      "execution_count": 0,
      "outputs": [
        {
          "output_type": "execute_result",
          "data": {
            "text/plain": [
              "['\"Ethics',\n",
              " 'are',\n",
              " 'built',\n",
              " 'right',\n",
              " 'into',\n",
              " 'the',\n",
              " 'ideals',\n",
              " 'and',\n",
              " 'objectives',\n",
              " 'of',\n",
              " 'the',\n",
              " 'United',\n",
              " 'Nations\"',\n",
              " '#UNSG',\n",
              " '@',\n",
              " 'NY',\n",
              " 'Society',\n",
              " 'for',\n",
              " 'Ethical',\n",
              " 'Culture',\n",
              " 'bit.ly/2guVelr']"
            ]
          },
          "metadata": {
            "tags": []
          },
          "execution_count": 12
        }
      ]
    },
    {
      "cell_type": "markdown",
      "metadata": {
        "id": "m7emYERF2zgP",
        "colab_type": "text"
      },
      "source": [
        "<br>\n",
        "Finding hastags:"
      ]
    },
    {
      "cell_type": "code",
      "metadata": {
        "id": "sFqezf3I2zgQ",
        "colab_type": "code",
        "outputId": "d5812079-994c-4186-84d4-aa49522a9fe9",
        "colab": {
          "base_uri": "https://localhost:8080/",
          "height": 34
        }
      },
      "source": [
        "[w for w in text6 if w.startswith('#')]"
      ],
      "execution_count": 0,
      "outputs": [
        {
          "output_type": "execute_result",
          "data": {
            "text/plain": [
              "['#UNSG']"
            ]
          },
          "metadata": {
            "tags": []
          },
          "execution_count": 13
        }
      ]
    },
    {
      "cell_type": "markdown",
      "metadata": {
        "id": "8rJTDDIS2zgS",
        "colab_type": "text"
      },
      "source": [
        "<br>\n",
        "Finding callouts:"
      ]
    },
    {
      "cell_type": "code",
      "metadata": {
        "id": "rTSAk0Fy2zgT",
        "colab_type": "code",
        "outputId": "aa58f69d-4e0a-44b4-eee8-525a53aa8a7f",
        "colab": {
          "base_uri": "https://localhost:8080/",
          "height": 34
        }
      },
      "source": [
        "[w for w in text6 if w.startswith('@')]"
      ],
      "execution_count": 0,
      "outputs": [
        {
          "output_type": "execute_result",
          "data": {
            "text/plain": [
              "['@']"
            ]
          },
          "metadata": {
            "tags": []
          },
          "execution_count": 14
        }
      ]
    },
    {
      "cell_type": "code",
      "metadata": {
        "id": "58I09yV72zgV",
        "colab_type": "code",
        "colab": {}
      },
      "source": [
        "text7 = '@UN @UN_Women \"Ethics are built right into the ideals and objectives of the United Nations\" \\\n",
        "#UNSG @ NY Society for Ethical Culture bit.ly/2guVelr'\n",
        "text8 = text7.split(' ')"
      ],
      "execution_count": 0,
      "outputs": []
    },
    {
      "cell_type": "markdown",
      "metadata": {
        "id": "nFGXlBx42zgX",
        "colab_type": "text"
      },
      "source": [
        "<br>\n",
        "\n",
        "We can use regular expressions to help us with more complex parsing. \n",
        "\n",
        "For example `'@[A-Za-z0-9_]+'` will return all words that: \n",
        "* start with `'@'` and are followed by at least one: \n",
        "* capital letter (`'A-Z'`)\n",
        "* lowercase letter (`'a-z'`) \n",
        "* number (`'0-9'`)\n",
        "* or underscore (`'_'`)"
      ]
    },
    {
      "cell_type": "code",
      "metadata": {
        "id": "JAChNDXy2zgX",
        "colab_type": "code",
        "outputId": "27e3caa1-af42-4385-e2e7-614f7d949c1b",
        "colab": {
          "base_uri": "https://localhost:8080/",
          "height": 34
        }
      },
      "source": [
        "import re # import re - a module that provides support for regular expressions\n",
        "\n",
        "[w for w in text8 if re.search('@[A-Za-z0-9_]+', w)]"
      ],
      "execution_count": 0,
      "outputs": [
        {
          "output_type": "execute_result",
          "data": {
            "text/plain": [
              "['@UN', '@UN_Women']"
            ]
          },
          "metadata": {
            "tags": []
          },
          "execution_count": 16
        }
      ]
    },
    {
      "cell_type": "code",
      "metadata": {
        "id": "PhE17QWGmSEt",
        "colab_type": "code",
        "outputId": "11cab6d7-674a-4c4b-e03b-9221ea2e79bc",
        "colab": {
          "base_uri": "https://localhost:8080/",
          "height": 34
        }
      },
      "source": [
        "# Finding specific characters\n",
        " text12 = 'ouagadougou'\n",
        "re.findall(r'[aeiou]', text12)\n",
        "# ['o', 'u', 'a', 'a', 'o', 'u', 'o', 'u']\n",
        " re.findall(r'[^aeiou]', text12)\n",
        "# ['g', 'd', 'g’]"
      ],
      "execution_count": 0,
      "outputs": [
        {
          "output_type": "execute_result",
          "data": {
            "text/plain": [
              "['g', 'd', 'g']"
            ]
          },
          "metadata": {
            "tags": []
          },
          "execution_count": 18
        }
      ]
    },
    {
      "cell_type": "code",
      "metadata": {
        "id": "PEwUq6U3mYo3",
        "colab_type": "code",
        "outputId": "8857c540-245c-400a-aca0-8f3af8686b1b",
        "colab": {
          "base_uri": "https://localhost:8080/",
          "height": 34
        }
      },
      "source": [
        "# Cleaning Text\n",
        " text8 = ' A quick brown fox jumped over the lazy dog. '\n",
        "  \n",
        "text8.split(' ')\n",
        "# ['', '', '\\t', 'A', 'quick', 'brown', 'fox', 'jumped', 'over',\n",
        "# 'the', 'lazy', 'dog.', '']\n",
        "text9 = text8.strip()\n",
        " text9.split(' ')\n",
        "# ['A', 'quick', 'brown', 'fox', 'jumped', 'over', 'the', 'lazy',\n",
        "# 'dog.']"
      ],
      "execution_count": 0,
      "outputs": [
        {
          "output_type": "execute_result",
          "data": {
            "text/plain": [
              "['A', 'quick', 'brown', 'fox', 'jumped', 'over', 'the', 'lazy', 'dog.']"
            ]
          },
          "metadata": {
            "tags": []
          },
          "execution_count": 19
        }
      ]
    },
    {
      "cell_type": "code",
      "metadata": {
        "id": "udUGiQP4mqgr",
        "colab_type": "code",
        "outputId": "9e927647-5928-4e23-a59d-dab793436663",
        "colab": {
          "base_uri": "https://localhost:8080/",
          "height": 85
        }
      },
      "source": [
        "# Changing Text\n",
        "# • Find and replace\n",
        "print(text9)\n",
        "# 'A quick brown fox jumped over the lazy dog.'\n",
        "print(text9.find('o'))\n",
        "# 10\n",
        "print(text9.rfind('o'))\n",
        "# 40\n",
        "print(text9.replace('o', 'O'))\n",
        "# 'A quick brOwn fOx jumped Over the lazy dOg."
      ],
      "execution_count": 0,
      "outputs": [
        {
          "output_type": "stream",
          "text": [
            "A quick brown fox jumped over the lazy dog.\n",
            "10\n",
            "40\n",
            "A quick brOwn fOx jumped Over the lazy dOg.\n"
          ],
          "name": "stdout"
        }
      ]
    },
    {
      "cell_type": "code",
      "metadata": {
        "id": "VTVV5X5Jm8I-",
        "colab_type": "code",
        "outputId": "1d40134c-4eec-4b4e-8c1b-270d497da034",
        "colab": {
          "base_uri": "https://localhost:8080/",
          "height": 408
        }
      },
      "source": [
        "# Processing Free-text\n",
        " text10 = '\"Ethics are built right into the ideals and objectives of the United Nations\" #UNSG @ NY Society for Ethical Culture bit.ly/2guVelr @UN @UN_Women'\n",
        "text11 = text10.split(' ')\n",
        "text11\n",
        "# ['\"Ethics', 'are', 'built', 'right', 'into', 'the', 'ideals',\n",
        "# 'and', 'objectives', 'of', 'the', 'United', 'Nations\"', '#UNSG',\n",
        "# '@', 'NY', 'Society', 'for', 'Ethical', 'Culture', 'bit.ly/\n",
        "# 2guVelr', '@UN', '@UN_Women']\n",
        "# • How do you find all Hashtags? Callouts?"
      ],
      "execution_count": 0,
      "outputs": [
        {
          "output_type": "execute_result",
          "data": {
            "text/plain": [
              "['\"Ethics',\n",
              " 'are',\n",
              " 'built',\n",
              " 'right',\n",
              " 'into',\n",
              " 'the',\n",
              " 'ideals',\n",
              " 'and',\n",
              " 'objectives',\n",
              " 'of',\n",
              " 'the',\n",
              " 'United',\n",
              " 'Nations\"',\n",
              " '#UNSG',\n",
              " '@',\n",
              " 'NY',\n",
              " 'Society',\n",
              " 'for',\n",
              " 'Ethical',\n",
              " 'Culture',\n",
              " 'bit.ly/2guVelr',\n",
              " '@UN',\n",
              " '@UN_Women']"
            ]
          },
          "metadata": {
            "tags": []
          },
          "execution_count": 21
        }
      ]
    },
    {
      "cell_type": "code",
      "metadata": {
        "id": "elb-__MH1X3a",
        "colab_type": "code",
        "outputId": "1ef68590-98a2-45c6-9caf-6290a226f1fa",
        "colab": {
          "base_uri": "https://localhost:8080/",
          "height": 51
        }
      },
      "source": [
        "# Finding Specific Words\n",
        "# • Hashtags\n",
        "print([w for w in text11 if w.startswith('#')])\n",
        "# ['#UNSG']\n",
        "# • Callouts\n",
        "print([w for w in text11 if w.startswith('@')])\n",
        "# ['@', '@UN', '@UN_Women']"
      ],
      "execution_count": 0,
      "outputs": [
        {
          "output_type": "stream",
          "text": [
            "['#UNSG']\n",
            "['@', '@UN', '@UN_Women']\n"
          ],
          "name": "stdout"
        }
      ]
    },
    {
      "cell_type": "code",
      "metadata": {
        "id": "PdGhCu9z1g08",
        "colab_type": "code",
        "colab": {}
      },
      "source": [
        "text10 = ‘”Ethics are built right into the ideals and objectives of the United Nations” #UNSG @ NY Society for Ethical Culture bit.ly/2guVelr @UN @UN_Women’\n",
        "text11 = text10.split(' ')\n",
        "[w for w in text11 if w.startswith('@')]\n",
        "# ['@', '@UN', '@UN_Women']\n",
        "# Import regular expressions first!\n",
        ">>> import re\n",
        ">>> [w for w in text11 if re.search('@[A-Za-z0-9_]+', w)]\n",
        "# ['@UN', '@UN_Women']\n",
        "[w for w in text11 if re.search('@w+', w)]"
      ],
      "execution_count": 0,
      "outputs": []
    },
    {
      "cell_type": "code",
      "metadata": {
        "id": "Xj5YUuPf4odz",
        "colab_type": "code",
        "outputId": "3e216efb-bd3a-4ab5-f4d3-799fd0f4cb0c",
        "colab": {
          "base_uri": "https://localhost:8080/",
          "height": 34
        }
      },
      "source": [
        "# Let’s look at some more examples!\n",
        "# • Finding specific characters\n",
        "import re\n",
        "text12 = 'ouagadougou'\n",
        "re.findall(r'[aeiou]', text12)\n",
        "# ['o', 'u', 'a', 'a', 'o', 'u', 'o', 'u']\n",
        "re.findall(r'[^aeiou]', text12)\n",
        "# ['g', 'd', 'g’]"
      ],
      "execution_count": 0,
      "outputs": [
        {
          "output_type": "execute_result",
          "data": {
            "text/plain": [
              "['g', 'd', 'g']"
            ]
          },
          "metadata": {
            "tags": []
          },
          "execution_count": 27
        }
      ]
    },
    {
      "cell_type": "code",
      "metadata": {
        "id": "CoTVgmUU4ur_",
        "colab_type": "code",
        "colab": {}
      },
      "source": [
        ""
      ],
      "execution_count": 0,
      "outputs": []
    }
  ]
}