{
  "nbformat": 4,
  "nbformat_minor": 0,
  "metadata": {
    "colab": {
      "name": "week2dt_Assignment2.ipynb",
      "version": "0.3.2",
      "provenance": [],
      "collapsed_sections": []
    },
    "language_info": {
      "codemirror_mode": {
        "name": "ipython",
        "version": 3
      },
      "file_extension": ".py",
      "mimetype": "text/x-python",
      "name": "python",
      "nbconvert_exporter": "python",
      "pygments_lexer": "ipython3",
      "version": "3.6.2"
    },
    "kernelspec": {
      "display_name": "Python 3",
      "language": "python",
      "name": "python3"
    }
  },
  "cells": [
    {
      "metadata": {
        "id": "yEDRiT6aL9J2",
        "colab_type": "text",
        "pycharm": {}
      },
      "cell_type": "markdown",
      "source": [
        "---\n",
        "\n",
        "_You are currently looking at **version 1.2** of this notebook. To download notebooks and datafiles, as well as get help on Jupyter notebooks in the Coursera platform, visit the [Jupyter Notebook FAQ](https://www.coursera.org/learn/python-data-analysis/resources/0dhYG) course resource._\n",
        "\n",
        "---"
      ]
    },
    {
      "metadata": {
        "id": "EJIlwEZFL9J3",
        "colab_type": "text",
        "pycharm": {}
      },
      "cell_type": "markdown",
      "source": [
        "# Assignment 2 - Pandas Introduction\n",
        "All questions are weighted the same in this assignment.\n",
        "## Part 1\n",
        "The following code loads the olympics dataset (olympics.csv), which was derrived from the Wikipedia entry on [All Time Olympic Games Medals](https://en.wikipedia.org/wiki/All-time_Olympic_Games_medal_table), and does some basic data cleaning. \n",
        "\n",
        "The columns are organized as # of Summer games, Summer medals, # of Winter games, Winter medals, total # number of games, total # of medals. Use this dataset to answer the questions below."
      ]
    },
    {
      "metadata": {
        "id": "ONkWrRy9H0kd",
        "colab_type": "code",
        "colab": {
          "resources": {
            "http://localhost:8080/nbextensions/google.colab/files.js": {
              "data": "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\u003d",
              "ok": true,
              "headers": [
                [
                  "content-type",
                  "application/javascript"
                ]
              ],
              "status": 200,
              "status_text": ""
            }
          },
          "base_uri": "https://localhost:8080/",
          "height": 72
        },
        "outputId": "0017f724-2327-4826-828b-7950a8c2e796",
        "executionInfo": {
          "status": "ok",
          "timestamp": 1555075650473,
          "user_tz": 300,
          "elapsed": 5947,
          "user": {
            "displayName": "David Tan",
            "photoUrl": "",
            "userId": "15726769250755126620"
          }
        },
        "pycharm": {}
      },
      "cell_type": "code",
      "source": [
        "# import numpy as np\n",
        "# import pandas as pd\n",
        "# from google.colab import files\n",
        "# uploaded \u003d files.upload()"
      ],
      "execution_count": 2,
      "outputs": [
        {
          "output_type": "display_data",
          "data": {
            "text/html": [
              "\n",
              "     \u003cinput type\u003d\"file\" id\u003d\"files-e92e989f-6e74-456a-b3a0-fd1510650946\" name\u003d\"files[]\" multiple disabled /\u003e\n",
              "     \u003coutput id\u003d\"result-e92e989f-6e74-456a-b3a0-fd1510650946\"\u003e\n",
              "      Upload widget is only available when the cell has been executed in the\n",
              "      current browser session. Please rerun this cell to enable.\n",
              "      \u003c/output\u003e\n",
              "      \u003cscript src\u003d\"/nbextensions/google.colab/files.js\"\u003e\u003c/script\u003e "
            ],
            "text/plain": [
              "\u003cIPython.core.display.HTML object\u003e"
            ]
          },
          "metadata": {
            "tags": []
          }
        },
        {
          "output_type": "stream",
          "text": [
            "Saving olympics.csv to olympics.csv\n"
          ],
          "name": "stdout"
        }
      ]
    },
    {
      "metadata": {
        "nbgrader": {
          "grade": false,
          "grade_id": "1",
          "locked": false,
          "solution": false
        },
        "umich_question": "prolog-000",
        "id": "OpUJEq7TL9J4",
        "colab_type": "code",
        "outputId": "e3b124ed-8887-48ae-aa63-849b3ac0f8d2",
        "executionInfo": {
          "status": "ok",
          "timestamp": 1555075668896,
          "user_tz": 300,
          "elapsed": 361,
          "user": {
            "displayName": "David Tan",
            "photoUrl": "",
            "userId": "15726769250755126620"
          }
        },
        "colab": {
          "base_uri": "https://localhost:8080/",
          "height": 235
        },
        "pycharm": {}
      },
      "cell_type": "code",
      "source": [
        "import pandas as pd\n",
        "\n",
        "df \u003d pd.read_csv(\u0027olympics.csv\u0027, index_col\u003d0, skiprows\u003d1)\n",
        "\n",
        "for col in df.columns:\n",
        "    if col[:2]\u003d\u003d\u002701\u0027:\n",
        "        df.rename(columns\u003d{col:\u0027Gold\u0027+col[4:]}, inplace\u003dTrue)\n",
        "    if col[:2]\u003d\u003d\u002702\u0027:\n",
        "        df.rename(columns\u003d{col:\u0027Silver\u0027+col[4:]}, inplace\u003dTrue)\n",
        "    if col[:2]\u003d\u003d\u002703\u0027:\n",
        "        df.rename(columns\u003d{col:\u0027Bronze\u0027+col[4:]}, inplace\u003dTrue)\n",
        "    if col[:1]\u003d\u003d\u0027№\u0027:\n",
        "        df.rename(columns\u003d{col:\u0027#\u0027+col[1:]}, inplace\u003dTrue)\n",
        "\n",
        "names_ids \u003d df.index.str.split(\u0027\\s\\(\u0027) # split the index by \u0027(\u0027\n",
        "# print(names_ids)\n",
        "df.index \u003d names_ids.str[0] # the [0] element is the country name (new index) \n",
        "# print(df.index)\n",
        "df[\u0027ID\u0027] \u003d names_ids.str[1].str[:3] # the [1] element is the abbreviation or ID (take first 3 characters from that)\n",
        "# print(df[\u0027ID\u0027])\n",
        "df \u003d df.drop(\u0027Totals\u0027)\n",
        "df.head()"
      ],
      "execution_count": 3,
      "outputs": [
        {
          "output_type": "execute_result",
          "data": {
            "text/html": [
              "\u003cdiv\u003e\n",
              "\u003cstyle scoped\u003e\n",
              "    .dataframe tbody tr th:only-of-type {\n",
              "        vertical-align: middle;\n",
              "    }\n",
              "\n",
              "    .dataframe tbody tr th {\n",
              "        vertical-align: top;\n",
              "    }\n",
              "\n",
              "    .dataframe thead th {\n",
              "        text-align: right;\n",
              "    }\n",
              "\u003c/style\u003e\n",
              "\u003ctable border\u003d\"1\" class\u003d\"dataframe\"\u003e\n",
              "  \u003cthead\u003e\n",
              "    \u003ctr style\u003d\"text-align: right;\"\u003e\n",
              "      \u003cth\u003e\u003c/th\u003e\n",
              "      \u003cth\u003e# Summer\u003c/th\u003e\n",
              "      \u003cth\u003eGold\u003c/th\u003e\n",
              "      \u003cth\u003eSilver\u003c/th\u003e\n",
              "      \u003cth\u003eBronze\u003c/th\u003e\n",
              "      \u003cth\u003eTotal\u003c/th\u003e\n",
              "      \u003cth\u003e# Winter\u003c/th\u003e\n",
              "      \u003cth\u003eGold.1\u003c/th\u003e\n",
              "      \u003cth\u003eSilver.1\u003c/th\u003e\n",
              "      \u003cth\u003eBronze.1\u003c/th\u003e\n",
              "      \u003cth\u003eTotal.1\u003c/th\u003e\n",
              "      \u003cth\u003e# Games\u003c/th\u003e\n",
              "      \u003cth\u003eGold.2\u003c/th\u003e\n",
              "      \u003cth\u003eSilver.2\u003c/th\u003e\n",
              "      \u003cth\u003eBronze.2\u003c/th\u003e\n",
              "      \u003cth\u003eCombined total\u003c/th\u003e\n",
              "      \u003cth\u003eID\u003c/th\u003e\n",
              "    \u003c/tr\u003e\n",
              "  \u003c/thead\u003e\n",
              "  \u003ctbody\u003e\n",
              "    \u003ctr\u003e\n",
              "      \u003cth\u003eAfghanistan\u003c/th\u003e\n",
              "      \u003ctd\u003e13\u003c/td\u003e\n",
              "      \u003ctd\u003e0\u003c/td\u003e\n",
              "      \u003ctd\u003e0\u003c/td\u003e\n",
              "      \u003ctd\u003e2\u003c/td\u003e\n",
              "      \u003ctd\u003e2\u003c/td\u003e\n",
              "      \u003ctd\u003e0\u003c/td\u003e\n",
              "      \u003ctd\u003e0\u003c/td\u003e\n",
              "      \u003ctd\u003e0\u003c/td\u003e\n",
              "      \u003ctd\u003e0\u003c/td\u003e\n",
              "      \u003ctd\u003e0\u003c/td\u003e\n",
              "      \u003ctd\u003e13\u003c/td\u003e\n",
              "      \u003ctd\u003e0\u003c/td\u003e\n",
              "      \u003ctd\u003e0\u003c/td\u003e\n",
              "      \u003ctd\u003e2\u003c/td\u003e\n",
              "      \u003ctd\u003e2\u003c/td\u003e\n",
              "      \u003ctd\u003eAFG\u003c/td\u003e\n",
              "    \u003c/tr\u003e\n",
              "    \u003ctr\u003e\n",
              "      \u003cth\u003eAlgeria\u003c/th\u003e\n",
              "      \u003ctd\u003e12\u003c/td\u003e\n",
              "      \u003ctd\u003e5\u003c/td\u003e\n",
              "      \u003ctd\u003e2\u003c/td\u003e\n",
              "      \u003ctd\u003e8\u003c/td\u003e\n",
              "      \u003ctd\u003e15\u003c/td\u003e\n",
              "      \u003ctd\u003e3\u003c/td\u003e\n",
              "      \u003ctd\u003e0\u003c/td\u003e\n",
              "      \u003ctd\u003e0\u003c/td\u003e\n",
              "      \u003ctd\u003e0\u003c/td\u003e\n",
              "      \u003ctd\u003e0\u003c/td\u003e\n",
              "      \u003ctd\u003e15\u003c/td\u003e\n",
              "      \u003ctd\u003e5\u003c/td\u003e\n",
              "      \u003ctd\u003e2\u003c/td\u003e\n",
              "      \u003ctd\u003e8\u003c/td\u003e\n",
              "      \u003ctd\u003e15\u003c/td\u003e\n",
              "      \u003ctd\u003eALG\u003c/td\u003e\n",
              "    \u003c/tr\u003e\n",
              "    \u003ctr\u003e\n",
              "      \u003cth\u003eArgentina\u003c/th\u003e\n",
              "      \u003ctd\u003e23\u003c/td\u003e\n",
              "      \u003ctd\u003e18\u003c/td\u003e\n",
              "      \u003ctd\u003e24\u003c/td\u003e\n",
              "      \u003ctd\u003e28\u003c/td\u003e\n",
              "      \u003ctd\u003e70\u003c/td\u003e\n",
              "      \u003ctd\u003e18\u003c/td\u003e\n",
              "      \u003ctd\u003e0\u003c/td\u003e\n",
              "      \u003ctd\u003e0\u003c/td\u003e\n",
              "      \u003ctd\u003e0\u003c/td\u003e\n",
              "      \u003ctd\u003e0\u003c/td\u003e\n",
              "      \u003ctd\u003e41\u003c/td\u003e\n",
              "      \u003ctd\u003e18\u003c/td\u003e\n",
              "      \u003ctd\u003e24\u003c/td\u003e\n",
              "      \u003ctd\u003e28\u003c/td\u003e\n",
              "      \u003ctd\u003e70\u003c/td\u003e\n",
              "      \u003ctd\u003eARG\u003c/td\u003e\n",
              "    \u003c/tr\u003e\n",
              "    \u003ctr\u003e\n",
              "      \u003cth\u003eArmenia\u003c/th\u003e\n",
              "      \u003ctd\u003e5\u003c/td\u003e\n",
              "      \u003ctd\u003e1\u003c/td\u003e\n",
              "      \u003ctd\u003e2\u003c/td\u003e\n",
              "      \u003ctd\u003e9\u003c/td\u003e\n",
              "      \u003ctd\u003e12\u003c/td\u003e\n",
              "      \u003ctd\u003e6\u003c/td\u003e\n",
              "      \u003ctd\u003e0\u003c/td\u003e\n",
              "      \u003ctd\u003e0\u003c/td\u003e\n",
              "      \u003ctd\u003e0\u003c/td\u003e\n",
              "      \u003ctd\u003e0\u003c/td\u003e\n",
              "      \u003ctd\u003e11\u003c/td\u003e\n",
              "      \u003ctd\u003e1\u003c/td\u003e\n",
              "      \u003ctd\u003e2\u003c/td\u003e\n",
              "      \u003ctd\u003e9\u003c/td\u003e\n",
              "      \u003ctd\u003e12\u003c/td\u003e\n",
              "      \u003ctd\u003eARM\u003c/td\u003e\n",
              "    \u003c/tr\u003e\n",
              "    \u003ctr\u003e\n",
              "      \u003cth\u003eAustralasia\u003c/th\u003e\n",
              "      \u003ctd\u003e2\u003c/td\u003e\n",
              "      \u003ctd\u003e3\u003c/td\u003e\n",
              "      \u003ctd\u003e4\u003c/td\u003e\n",
              "      \u003ctd\u003e5\u003c/td\u003e\n",
              "      \u003ctd\u003e12\u003c/td\u003e\n",
              "      \u003ctd\u003e0\u003c/td\u003e\n",
              "      \u003ctd\u003e0\u003c/td\u003e\n",
              "      \u003ctd\u003e0\u003c/td\u003e\n",
              "      \u003ctd\u003e0\u003c/td\u003e\n",
              "      \u003ctd\u003e0\u003c/td\u003e\n",
              "      \u003ctd\u003e2\u003c/td\u003e\n",
              "      \u003ctd\u003e3\u003c/td\u003e\n",
              "      \u003ctd\u003e4\u003c/td\u003e\n",
              "      \u003ctd\u003e5\u003c/td\u003e\n",
              "      \u003ctd\u003e12\u003c/td\u003e\n",
              "      \u003ctd\u003eANZ\u003c/td\u003e\n",
              "    \u003c/tr\u003e\n",
              "  \u003c/tbody\u003e\n",
              "\u003c/table\u003e\n",
              "\u003c/div\u003e"
            ],
            "text/plain": [
              "             # Summer  Gold  Silver  Bronze  Total  # Winter  Gold.1  \\\n",
              "Afghanistan        13     0       0       2      2         0       0   \n",
              "Algeria            12     5       2       8     15         3       0   \n",
              "Argentina          23    18      24      28     70        18       0   \n",
              "Armenia             5     1       2       9     12         6       0   \n",
              "Australasia         2     3       4       5     12         0       0   \n",
              "\n",
              "             Silver.1  Bronze.1  Total.1  # Games  Gold.2  Silver.2  Bronze.2  \\\n",
              "Afghanistan         0         0        0       13       0         0         2   \n",
              "Algeria             0         0        0       15       5         2         8   \n",
              "Argentina           0         0        0       41      18        24        28   \n",
              "Armenia             0         0        0       11       1         2         9   \n",
              "Australasia         0         0        0        2       3         4         5   \n",
              "\n",
              "             Combined total   ID  \n",
              "Afghanistan               2  AFG  \n",
              "Algeria                  15  ALG  \n",
              "Argentina                70  ARG  \n",
              "Armenia                  12  ARM  \n",
              "Australasia              12  ANZ  "
            ]
          },
          "metadata": {
            "tags": []
          },
          "execution_count": 3
        }
      ]
    },
    {
      "metadata": {
        "id": "bsyqObVdL9J9",
        "colab_type": "text",
        "pycharm": {}
      },
      "cell_type": "markdown",
      "source": [
        "### Question 0 (Example)\n",
        "\n",
        "What is the first country in df?\n",
        "\n",
        "*This function should return a Series.*"
      ]
    },
    {
      "metadata": {
        "umich_question": "000",
        "id": "sHbf2ndWL9J-",
        "colab_type": "code",
        "outputId": "7465cc31-2280-4d72-df4d-fa2ef2f9374d",
        "executionInfo": {
          "status": "ok",
          "timestamp": 1555020210584,
          "user_tz": 300,
          "elapsed": 517,
          "user": {
            "displayName": "David Tan",
            "photoUrl": "",
            "userId": "15726769250755126620"
          }
        },
        "colab": {
          "base_uri": "https://localhost:8080/",
          "height": 311
        },
        "pycharm": {}
      },
      "cell_type": "code",
      "source": [
        "# You should write your whole answer within the function provided. The autograder will call\n",
        "# this function and compare the return value against the correct solution value\n",
        "def answer_zero():\n",
        "    # This function returns the row for Afghanistan, which is a Series object. The assignment\n",
        "    # question description will tell you the general format the autograder is expecting\n",
        "    return df.iloc[0]\n",
        "\n",
        "# You can examine what your function returns by calling it in the cell. If you have questions\n",
        "# about the assignment formats, check out the discussion forums for any FAQs\n",
        "answer_zero() "
      ],
      "execution_count": 0,
      "outputs": [
        {
          "output_type": "execute_result",
          "data": {
            "text/plain": [
              "# Summer           13\n",
              "Gold                0\n",
              "Silver              0\n",
              "Bronze              2\n",
              "Total               2\n",
              "# Winter            0\n",
              "Gold.1              0\n",
              "Silver.1            0\n",
              "Bronze.1            0\n",
              "Total.1             0\n",
              "# Games            13\n",
              "Gold.2              0\n",
              "Silver.2            0\n",
              "Bronze.2            2\n",
              "Combined total      2\n",
              "ID                AFG\n",
              "Name: Afghanistan, dtype: object"
            ]
          },
          "metadata": {
            "tags": []
          },
          "execution_count": 48
        }
      ]
    },
    {
      "metadata": {
        "id": "Y8dgxcBRL9KB",
        "colab_type": "text",
        "pycharm": {}
      },
      "cell_type": "markdown",
      "source": [
        "### Question 1\n",
        "Which country has won the most gold medals in summer games?\n",
        "\n",
        "*This function should return a single string value.*"
      ]
    },
    {
      "metadata": {
        "nbgrader": {
          "grade": false,
          "locked": false,
          "solution": false
        },
        "umich_part_id": "001",
        "umich_partlist_id": "001",
        "id": "LO3LkcoaL9KC",
        "colab_type": "code",
        "outputId": "ae7b7896-89b9-467e-afa0-52e8dcfb1331",
        "executionInfo": {
          "status": "ok",
          "timestamp": 1555020210586,
          "user_tz": 300,
          "elapsed": 506,
          "user": {
            "displayName": "David Tan",
            "photoUrl": "",
            "userId": "15726769250755126620"
          }
        },
        "colab": {
          "base_uri": "https://localhost:8080/",
          "height": 35
        },
        "pycharm": {}
      },
      "cell_type": "code",
      "source": [
        "def answer_one():\n",
        "    most_gold \u003d max(df[\u0027Gold\u0027])\n",
        "    most_gold_row \u003d df[df[\u0027Gold\u0027] \u003d\u003d most_gold]\n",
        "    return str(most_gold_row.index[0])\n",
        "  \n",
        "answer_one()  "
      ],
      "execution_count": 0,
      "outputs": [
        {
          "output_type": "execute_result",
          "data": {
            "text/plain": [
              "\u0027United States\u0027"
            ]
          },
          "metadata": {
            "tags": []
          },
          "execution_count": 49
        }
      ]
    },
    {
      "metadata": {
        "id": "iG9VgRcEL9KE",
        "colab_type": "text",
        "pycharm": {}
      },
      "cell_type": "markdown",
      "source": [
        "### Question 2\n",
        "Which country had the biggest difference between their summer and winter gold medal counts?\n",
        "\n",
        "*This function should return a single string value.*"
      ]
    },
    {
      "metadata": {
        "umich_part_id": "002",
        "umich_partlist_id": "001",
        "id": "FzMn4QSpL9KE",
        "colab_type": "code",
        "outputId": "506487c0-bebe-411b-ffc9-b34a89de14a2",
        "executionInfo": {
          "status": "ok",
          "timestamp": 1555075678549,
          "user_tz": 300,
          "elapsed": 255,
          "user": {
            "displayName": "David Tan",
            "photoUrl": "",
            "userId": "15726769250755126620"
          }
        },
        "colab": {
          "base_uri": "https://localhost:8080/",
          "height": 35
        },
        "pycharm": {}
      },
      "cell_type": "code",
      "source": [
        "def answer_two():\n",
        "    copy_df \u003d df.copy()\n",
        "    copy_df[\u0027Diff\u0027] \u003d copy_df[\u0027Gold\u0027] - df[\u0027Gold.1\u0027]\n",
        "    max_diff_summer_winter \u003d max(copy_df[\u0027Diff\u0027])\n",
        "    row_max \u003d copy_df[copy_df[\u0027Diff\u0027] \u003d\u003d max_diff_summer_winter]\n",
        "    return str(row_max.index[0])\n",
        "  \n",
        "  \n",
        "answer_two()  \n",
        "  "
      ],
      "execution_count": 4,
      "outputs": [
        {
          "output_type": "execute_result",
          "data": {
            "text/plain": [
              "\u0027United States\u0027"
            ]
          },
          "metadata": {
            "tags": []
          },
          "execution_count": 4
        }
      ]
    },
    {
      "metadata": {
        "id": "_C6fYOp2L9KG",
        "colab_type": "text",
        "pycharm": {}
      },
      "cell_type": "markdown",
      "source": "### Question 3\nWhich country has the biggest difference between their summer gold medal counts and winter gold medal counts relative to their total gold medal count? \n\n$$\\frac{Summer~Gold - Winter~Gold}{Total~Gold}$$\n\nOnly include countries that have won at least 1 gold in both summer and winter.\n\n*This function should return a single string value.*\n"
    },
    {
      "metadata": {
        "id": "gu2TR7zVxUY-",
        "colab_type": "code",
        "colab": {
          "base_uri": "https://localhost:8080/",
          "height": 35
        },
        "outputId": "18247d34-3390-4bb3-c84d-cceb12f428b1",
        "executionInfo": {
          "status": "ok",
          "timestamp": 1555085446047,
          "user_tz": 300,
          "elapsed": 283,
          "user": {
            "displayName": "David Tan",
            "photoUrl": "",
            "userId": "15726769250755126620"
          }
        },
        "pycharm": {}
      },
      "cell_type": "code",
      "source": "import numpy as np\ndef answer_three():\n    copy_df \u003d df.copy()\n    copy_df \u003d copy_df.where(df[\u0027Gold\u0027] \u003e 0)\n    copy_df \u003d copy_df.where(df[\u0027Gold.1\u0027] \u003e 0)\n#     print(copy_df)\n#     copy_df_final \u003d copy_df[np.isfinite(copy_df[\u0027Gold_Ratio\u0027])]\n    copy_df[\u0027Diff\u0027] \u003d copy_df[\u0027Gold\u0027] - copy_df[\u0027Gold.1\u0027]\n    copy_df[\u0027Gold_Ratio\u0027] \u003d copy_df[\u0027Diff\u0027] / (copy_df[\u0027Gold\u0027] + copy_df[\u0027Gold.1\u0027])\n    copy_df_final \u003d copy_df[np.isfinite(copy_df[\u0027Gold_Ratio\u0027])]\n    max_ratio \u003d max(copy_df_final[\u0027Gold_Ratio\u0027])\n    return (str(copy_df_final[copy_df_final[\u0027Gold_Ratio\u0027] \u003d\u003d max_ratio].index[0]))\n  \nanswer_three()    ",
      "execution_count": 107,
      "outputs": [
        {
          "output_type": "execute_result",
          "data": {
            "text/plain": [
              "\u0027Bulgaria\u0027"
            ]
          },
          "metadata": {
            "tags": []
          },
          "execution_count": 107
        }
      ]
    },
    {
      "metadata": {
        "id": "i6x1YgKKL9KJ",
        "colab_type": "text",
        "pycharm": {}
      },
      "cell_type": "markdown",
      "source": [
        "### Question 4\n",
        "Write a function that creates a Series called \"Points\" which is a weighted value where each gold medal (`Gold.2`) counts for 3 points, silver medals (`Silver.2`) for 2 points, and bronze medals (`Bronze.2`) for 1 point. The function should return only the column (a Series object) which you created, with the country names as indices.\n",
        "\n",
        "*This function should return a Series named `Points` of length 146*"
      ]
    },
    {
      "metadata": {
        "umich_part_id": "004",
        "umich_partlist_id": "001",
        "id": "5GjQXnLqL9KJ",
        "colab_type": "code",
        "colab": {
          "base_uri": "https://localhost:8080/",
          "height": 1088
        },
        "outputId": "281686c6-adbc-4263-fd68-c739ae9179a0",
        "executionInfo": {
          "status": "ok",
          "timestamp": 1555076843511,
          "user_tz": 300,
          "elapsed": 539,
          "user": {
            "displayName": "David Tan",
            "photoUrl": "",
            "userId": "15726769250755126620"
          }
        },
        "pycharm": {}
      },
      "cell_type": "code",
      "source": [
        "def answer_four():\n",
        "    copy_df \u003d df.copy()\n",
        "    copy_df[\u0027Points\u0027] \u003d copy_df[\u0027Gold.2\u0027] * 3 + copy_df[\u0027Silver.2\u0027]*2 +copy_df[\u0027Bronze.2\u0027] \n",
        "    return pd.Series(copy_df[\u0027Points\u0027])\n",
        "  \n",
        "answer_four()  "
      ],
      "execution_count": 22,
      "outputs": [
        {
          "output_type": "execute_result",
          "data": {
            "text/plain": [
              "Afghanistan                            2\n",
              "Algeria                               27\n",
              "Argentina                            130\n",
              "Armenia                               16\n",
              "Australasia                           22\n",
              "Australia                            923\n",
              "Austria                              569\n",
              "Azerbaijan                            43\n",
              "Bahamas                               24\n",
              "Bahrain                                1\n",
              "Barbados                               1\n",
              "Belarus                              154\n",
              "Belgium                              276\n",
              "Bermuda                                1\n",
              "Bohemia                                5\n",
              "Botswana                               2\n",
              "Brazil                               184\n",
              "British West Indies                    2\n",
              "Bulgaria                             411\n",
              "Burundi                                3\n",
              "Cameroon                              12\n",
              "Canada                               846\n",
              "Chile                                 24\n",
              "China                               1120\n",
              "Colombia                              29\n",
              "Costa Rica                             7\n",
              "Ivory Coast                            2\n",
              "Croatia                               67\n",
              "Cuba                                 420\n",
              "Cyprus                                 2\n",
              "                                    ... \n",
              "Spain                                268\n",
              "Sri Lanka                              4\n",
              "Sudan                                  2\n",
              "Suriname                               4\n",
              "Sweden                              1217\n",
              "Switzerland                          630\n",
              "Syria                                  6\n",
              "Chinese Taipei                        32\n",
              "Tajikistan                             4\n",
              "Tanzania                               4\n",
              "Thailand                              44\n",
              "Togo                                   1\n",
              "Tonga                                  2\n",
              "Trinidad and Tobago                   27\n",
              "Tunisia                               19\n",
              "Turkey                               191\n",
              "Uganda                                14\n",
              "Ukraine                              220\n",
              "United Arab Emirates                   3\n",
              "United States                       5684\n",
              "Uruguay                               16\n",
              "Uzbekistan                            38\n",
              "Venezuela                             18\n",
              "Vietnam                                4\n",
              "Virgin Islands                         2\n",
              "Yugoslavia                           171\n",
              "Independent Olympic Participants       4\n",
              "Zambia                                 3\n",
              "Zimbabwe                              18\n",
              "Mixed team                            38\n",
              "Name: Points, Length: 146, dtype: int64"
            ]
          },
          "metadata": {
            "tags": []
          },
          "execution_count": 22
        }
      ]
    },
    {
      "metadata": {
        "id": "22NSwZZ1L9KL",
        "colab_type": "text",
        "pycharm": {}
      },
      "cell_type": "markdown",
      "source": [
        "## Part 2\n",
        "For the next set of questions, we will be using census data from the [United States Census Bureau](http://www.census.gov). Counties are political and geographic subdivisions of states in the United States. This dataset contains population data for counties and states in the US from 2010 to 2015. [See this document](https://www2.census.gov/programs-surveys/popest/technical-documentation/file-layouts/2010-2015/co-est2015-alldata.pdf) for a description of the variable names.\n",
        "\n",
        "The census dataset (census.csv) should be loaded as census_df. Answer questions using this as appropriate.\n",
        "\n",
        "### Question 5\n",
        "Which state has the most counties in it? (hint: consider the sumlevel key carefully! You\u0027ll need this for future questions too...)\n",
        "\n",
        "*This function should return a single string value.*"
      ]
    },
    {
      "metadata": {
        "id": "3d80nrCgbFTV",
        "colab_type": "code",
        "colab": {},
        "pycharm": {}
      },
      "cell_type": "code",
      "source": [
        "# import numpy as np\n",
        "# import pandas as pd\n",
        "# from google.colab import files\n",
        "# uploaded \u003d files.upload()"
      ],
      "execution_count": 0,
      "outputs": []
    },
    {
      "metadata": {
        "umich_question": "prolog-005",
        "id": "pKFqLCX3L9KM",
        "colab_type": "code",
        "outputId": "6c4fe4e4-ec69-46fa-d3a4-a49d93da660d",
        "executionInfo": {
          "status": "ok",
          "timestamp": 1555076850309,
          "user_tz": 300,
          "elapsed": 317,
          "user": {
            "displayName": "David Tan",
            "photoUrl": "",
            "userId": "15726769250755126620"
          }
        },
        "colab": {
          "base_uri": "https://localhost:8080/",
          "height": 316
        },
        "pycharm": {}
      },
      "cell_type": "code",
      "source": [
        "census_df \u003d pd.read_csv(\u0027census.csv\u0027)\n",
        "census_df.head()"
      ],
      "execution_count": 23,
      "outputs": [
        {
          "output_type": "execute_result",
          "data": {
            "text/html": [
              "\u003cdiv\u003e\n",
              "\u003cstyle scoped\u003e\n",
              "    .dataframe tbody tr th:only-of-type {\n",
              "        vertical-align: middle;\n",
              "    }\n",
              "\n",
              "    .dataframe tbody tr th {\n",
              "        vertical-align: top;\n",
              "    }\n",
              "\n",
              "    .dataframe thead th {\n",
              "        text-align: right;\n",
              "    }\n",
              "\u003c/style\u003e\n",
              "\u003ctable border\u003d\"1\" class\u003d\"dataframe\"\u003e\n",
              "  \u003cthead\u003e\n",
              "    \u003ctr style\u003d\"text-align: right;\"\u003e\n",
              "      \u003cth\u003e\u003c/th\u003e\n",
              "      \u003cth\u003eSUMLEV\u003c/th\u003e\n",
              "      \u003cth\u003eREGION\u003c/th\u003e\n",
              "      \u003cth\u003eDIVISION\u003c/th\u003e\n",
              "      \u003cth\u003eSTATE\u003c/th\u003e\n",
              "      \u003cth\u003eCOUNTY\u003c/th\u003e\n",
              "      \u003cth\u003eSTNAME\u003c/th\u003e\n",
              "      \u003cth\u003eCTYNAME\u003c/th\u003e\n",
              "      \u003cth\u003eCENSUS2010POP\u003c/th\u003e\n",
              "      \u003cth\u003eESTIMATESBASE2010\u003c/th\u003e\n",
              "      \u003cth\u003ePOPESTIMATE2010\u003c/th\u003e\n",
              "      \u003cth\u003e...\u003c/th\u003e\n",
              "      \u003cth\u003eRDOMESTICMIG2011\u003c/th\u003e\n",
              "      \u003cth\u003eRDOMESTICMIG2012\u003c/th\u003e\n",
              "      \u003cth\u003eRDOMESTICMIG2013\u003c/th\u003e\n",
              "      \u003cth\u003eRDOMESTICMIG2014\u003c/th\u003e\n",
              "      \u003cth\u003eRDOMESTICMIG2015\u003c/th\u003e\n",
              "      \u003cth\u003eRNETMIG2011\u003c/th\u003e\n",
              "      \u003cth\u003eRNETMIG2012\u003c/th\u003e\n",
              "      \u003cth\u003eRNETMIG2013\u003c/th\u003e\n",
              "      \u003cth\u003eRNETMIG2014\u003c/th\u003e\n",
              "      \u003cth\u003eRNETMIG2015\u003c/th\u003e\n",
              "    \u003c/tr\u003e\n",
              "  \u003c/thead\u003e\n",
              "  \u003ctbody\u003e\n",
              "    \u003ctr\u003e\n",
              "      \u003cth\u003e0\u003c/th\u003e\n",
              "      \u003ctd\u003e40\u003c/td\u003e\n",
              "      \u003ctd\u003e3\u003c/td\u003e\n",
              "      \u003ctd\u003e6\u003c/td\u003e\n",
              "      \u003ctd\u003e1\u003c/td\u003e\n",
              "      \u003ctd\u003e0\u003c/td\u003e\n",
              "      \u003ctd\u003eAlabama\u003c/td\u003e\n",
              "      \u003ctd\u003eAlabama\u003c/td\u003e\n",
              "      \u003ctd\u003e4779736\u003c/td\u003e\n",
              "      \u003ctd\u003e4780127\u003c/td\u003e\n",
              "      \u003ctd\u003e4785161\u003c/td\u003e\n",
              "      \u003ctd\u003e...\u003c/td\u003e\n",
              "      \u003ctd\u003e0.002295\u003c/td\u003e\n",
              "      \u003ctd\u003e-0.193196\u003c/td\u003e\n",
              "      \u003ctd\u003e0.381066\u003c/td\u003e\n",
              "      \u003ctd\u003e0.582002\u003c/td\u003e\n",
              "      \u003ctd\u003e-0.467369\u003c/td\u003e\n",
              "      \u003ctd\u003e1.030015\u003c/td\u003e\n",
              "      \u003ctd\u003e0.826644\u003c/td\u003e\n",
              "      \u003ctd\u003e1.383282\u003c/td\u003e\n",
              "      \u003ctd\u003e1.724718\u003c/td\u003e\n",
              "      \u003ctd\u003e0.712594\u003c/td\u003e\n",
              "    \u003c/tr\u003e\n",
              "    \u003ctr\u003e\n",
              "      \u003cth\u003e1\u003c/th\u003e\n",
              "      \u003ctd\u003e50\u003c/td\u003e\n",
              "      \u003ctd\u003e3\u003c/td\u003e\n",
              "      \u003ctd\u003e6\u003c/td\u003e\n",
              "      \u003ctd\u003e1\u003c/td\u003e\n",
              "      \u003ctd\u003e1\u003c/td\u003e\n",
              "      \u003ctd\u003eAlabama\u003c/td\u003e\n",
              "      \u003ctd\u003eAutauga County\u003c/td\u003e\n",
              "      \u003ctd\u003e54571\u003c/td\u003e\n",
              "      \u003ctd\u003e54571\u003c/td\u003e\n",
              "      \u003ctd\u003e54660\u003c/td\u003e\n",
              "      \u003ctd\u003e...\u003c/td\u003e\n",
              "      \u003ctd\u003e7.242091\u003c/td\u003e\n",
              "      \u003ctd\u003e-2.915927\u003c/td\u003e\n",
              "      \u003ctd\u003e-3.012349\u003c/td\u003e\n",
              "      \u003ctd\u003e2.265971\u003c/td\u003e\n",
              "      \u003ctd\u003e-2.530799\u003c/td\u003e\n",
              "      \u003ctd\u003e7.606016\u003c/td\u003e\n",
              "      \u003ctd\u003e-2.626146\u003c/td\u003e\n",
              "      \u003ctd\u003e-2.722002\u003c/td\u003e\n",
              "      \u003ctd\u003e2.592270\u003c/td\u003e\n",
              "      \u003ctd\u003e-2.187333\u003c/td\u003e\n",
              "    \u003c/tr\u003e\n",
              "    \u003ctr\u003e\n",
              "      \u003cth\u003e2\u003c/th\u003e\n",
              "      \u003ctd\u003e50\u003c/td\u003e\n",
              "      \u003ctd\u003e3\u003c/td\u003e\n",
              "      \u003ctd\u003e6\u003c/td\u003e\n",
              "      \u003ctd\u003e1\u003c/td\u003e\n",
              "      \u003ctd\u003e3\u003c/td\u003e\n",
              "      \u003ctd\u003eAlabama\u003c/td\u003e\n",
              "      \u003ctd\u003eBaldwin County\u003c/td\u003e\n",
              "      \u003ctd\u003e182265\u003c/td\u003e\n",
              "      \u003ctd\u003e182265\u003c/td\u003e\n",
              "      \u003ctd\u003e183193\u003c/td\u003e\n",
              "      \u003ctd\u003e...\u003c/td\u003e\n",
              "      \u003ctd\u003e14.832960\u003c/td\u003e\n",
              "      \u003ctd\u003e17.647293\u003c/td\u003e\n",
              "      \u003ctd\u003e21.845705\u003c/td\u003e\n",
              "      \u003ctd\u003e19.243287\u003c/td\u003e\n",
              "      \u003ctd\u003e17.197872\u003c/td\u003e\n",
              "      \u003ctd\u003e15.844176\u003c/td\u003e\n",
              "      \u003ctd\u003e18.559627\u003c/td\u003e\n",
              "      \u003ctd\u003e22.727626\u003c/td\u003e\n",
              "      \u003ctd\u003e20.317142\u003c/td\u003e\n",
              "      \u003ctd\u003e18.293499\u003c/td\u003e\n",
              "    \u003c/tr\u003e\n",
              "    \u003ctr\u003e\n",
              "      \u003cth\u003e3\u003c/th\u003e\n",
              "      \u003ctd\u003e50\u003c/td\u003e\n",
              "      \u003ctd\u003e3\u003c/td\u003e\n",
              "      \u003ctd\u003e6\u003c/td\u003e\n",
              "      \u003ctd\u003e1\u003c/td\u003e\n",
              "      \u003ctd\u003e5\u003c/td\u003e\n",
              "      \u003ctd\u003eAlabama\u003c/td\u003e\n",
              "      \u003ctd\u003eBarbour County\u003c/td\u003e\n",
              "      \u003ctd\u003e27457\u003c/td\u003e\n",
              "      \u003ctd\u003e27457\u003c/td\u003e\n",
              "      \u003ctd\u003e27341\u003c/td\u003e\n",
              "      \u003ctd\u003e...\u003c/td\u003e\n",
              "      \u003ctd\u003e-4.728132\u003c/td\u003e\n",
              "      \u003ctd\u003e-2.500690\u003c/td\u003e\n",
              "      \u003ctd\u003e-7.056824\u003c/td\u003e\n",
              "      \u003ctd\u003e-3.904217\u003c/td\u003e\n",
              "      \u003ctd\u003e-10.543299\u003c/td\u003e\n",
              "      \u003ctd\u003e-4.874741\u003c/td\u003e\n",
              "      \u003ctd\u003e-2.758113\u003c/td\u003e\n",
              "      \u003ctd\u003e-7.167664\u003c/td\u003e\n",
              "      \u003ctd\u003e-3.978583\u003c/td\u003e\n",
              "      \u003ctd\u003e-10.543299\u003c/td\u003e\n",
              "    \u003c/tr\u003e\n",
              "    \u003ctr\u003e\n",
              "      \u003cth\u003e4\u003c/th\u003e\n",
              "      \u003ctd\u003e50\u003c/td\u003e\n",
              "      \u003ctd\u003e3\u003c/td\u003e\n",
              "      \u003ctd\u003e6\u003c/td\u003e\n",
              "      \u003ctd\u003e1\u003c/td\u003e\n",
              "      \u003ctd\u003e7\u003c/td\u003e\n",
              "      \u003ctd\u003eAlabama\u003c/td\u003e\n",
              "      \u003ctd\u003eBibb County\u003c/td\u003e\n",
              "      \u003ctd\u003e22915\u003c/td\u003e\n",
              "      \u003ctd\u003e22919\u003c/td\u003e\n",
              "      \u003ctd\u003e22861\u003c/td\u003e\n",
              "      \u003ctd\u003e...\u003c/td\u003e\n",
              "      \u003ctd\u003e-5.527043\u003c/td\u003e\n",
              "      \u003ctd\u003e-5.068871\u003c/td\u003e\n",
              "      \u003ctd\u003e-6.201001\u003c/td\u003e\n",
              "      \u003ctd\u003e-0.177537\u003c/td\u003e\n",
              "      \u003ctd\u003e0.177258\u003c/td\u003e\n",
              "      \u003ctd\u003e-5.088389\u003c/td\u003e\n",
              "      \u003ctd\u003e-4.363636\u003c/td\u003e\n",
              "      \u003ctd\u003e-5.403729\u003c/td\u003e\n",
              "      \u003ctd\u003e0.754533\u003c/td\u003e\n",
              "      \u003ctd\u003e1.107861\u003c/td\u003e\n",
              "    \u003c/tr\u003e\n",
              "  \u003c/tbody\u003e\n",
              "\u003c/table\u003e\n",
              "\u003cp\u003e5 rows × 100 columns\u003c/p\u003e\n",
              "\u003c/div\u003e"
            ],
            "text/plain": [
              "   SUMLEV  REGION  DIVISION  STATE  COUNTY   STNAME         CTYNAME  \\\n",
              "0      40       3         6      1       0  Alabama         Alabama   \n",
              "1      50       3         6      1       1  Alabama  Autauga County   \n",
              "2      50       3         6      1       3  Alabama  Baldwin County   \n",
              "3      50       3         6      1       5  Alabama  Barbour County   \n",
              "4      50       3         6      1       7  Alabama     Bibb County   \n",
              "\n",
              "   CENSUS2010POP  ESTIMATESBASE2010  POPESTIMATE2010     ...       \\\n",
              "0        4779736            4780127          4785161     ...        \n",
              "1          54571              54571            54660     ...        \n",
              "2         182265             182265           183193     ...        \n",
              "3          27457              27457            27341     ...        \n",
              "4          22915              22919            22861     ...        \n",
              "\n",
              "   RDOMESTICMIG2011  RDOMESTICMIG2012  RDOMESTICMIG2013  RDOMESTICMIG2014  \\\n",
              "0          0.002295         -0.193196          0.381066          0.582002   \n",
              "1          7.242091         -2.915927         -3.012349          2.265971   \n",
              "2         14.832960         17.647293         21.845705         19.243287   \n",
              "3         -4.728132         -2.500690         -7.056824         -3.904217   \n",
              "4         -5.527043         -5.068871         -6.201001         -0.177537   \n",
              "\n",
              "   RDOMESTICMIG2015  RNETMIG2011  RNETMIG2012  RNETMIG2013  RNETMIG2014  \\\n",
              "0         -0.467369     1.030015     0.826644     1.383282     1.724718   \n",
              "1         -2.530799     7.606016    -2.626146    -2.722002     2.592270   \n",
              "2         17.197872    15.844176    18.559627    22.727626    20.317142   \n",
              "3        -10.543299    -4.874741    -2.758113    -7.167664    -3.978583   \n",
              "4          0.177258    -5.088389    -4.363636    -5.403729     0.754533   \n",
              "\n",
              "   RNETMIG2015  \n",
              "0     0.712594  \n",
              "1    -2.187333  \n",
              "2    18.293499  \n",
              "3   -10.543299  \n",
              "4     1.107861  \n",
              "\n",
              "[5 rows x 100 columns]"
            ]
          },
          "metadata": {
            "tags": []
          },
          "execution_count": 23
        }
      ]
    },
    {
      "metadata": {
        "umich_part_id": "005",
        "umich_partlist_id": "002",
        "id": "0ZRfLpaML9KP",
        "colab_type": "code",
        "colab": {
          "base_uri": "https://localhost:8080/",
          "height": 35
        },
        "outputId": "7eb6e7ea-7bdd-4803-949c-3d2049503e78",
        "executionInfo": {
          "status": "ok",
          "timestamp": 1555082343445,
          "user_tz": 300,
          "elapsed": 515,
          "user": {
            "displayName": "David Tan",
            "photoUrl": "",
            "userId": "15726769250755126620"
          }
        },
        "pycharm": {}
      },
      "cell_type": "code",
      "source": [
        "def answer_five():\n",
        "#   /// filter\n",
        "    counties_df \u003d census_df[census_df[\u0027SUMLEV\u0027]\u003d\u003d 50]\n",
        "    x \u003d counties_df.groupby(\u0027STNAME\u0027).count()\n",
        "    max_v \u003d max(x[\u0027SUMLEV\u0027])\n",
        "    y \u003d x[x[\u0027SUMLEV\u0027] \u003d\u003d max_v]\n",
        "    return y.index[0]\n",
        "#     return x.idxmax()\n",
        "  \n",
        "answer_five()  "
      ],
      "execution_count": 50,
      "outputs": [
        {
          "output_type": "execute_result",
          "data": {
            "text/plain": [
              "\u0027Texas\u0027"
            ]
          },
          "metadata": {
            "tags": []
          },
          "execution_count": 50
        }
      ]
    },
    {
      "metadata": {
        "id": "5bcg1m4f2pRE",
        "colab_type": "code",
        "colab": {
          "base_uri": "https://localhost:8080/",
          "height": 35
        },
        "outputId": "af105930-40b5-438f-ae59-ec0ff364e950",
        "executionInfo": {
          "status": "ok",
          "timestamp": 1555077709063,
          "user_tz": 300,
          "elapsed": 295,
          "user": {
            "displayName": "David Tan",
            "photoUrl": "",
            "userId": "15726769250755126620"
          }
        },
        "pycharm": {}
      },
      "cell_type": "code",
      "source": [
        "# def answer_five():  \n",
        "#     counties_df \u003d census_df[census_df[\u0027SUMLEV\u0027] \u003d\u003d 50]\n",
        "#     x \u003d counties_df.groupby(\u0027STNAME\u0027).count()[\u0027CTYNAME\u0027]\n",
        "# #     counties_df.set_index(\u0027STNAME\u0027, inplace \u003d True)\n",
        "# #     print(counties_df)\n",
        "#     ans \u003d x.idxmax()\n",
        "# #     print(ans)\n",
        "#     return ans\n",
        "\n",
        "# answer_five()"
      ],
      "execution_count": 47,
      "outputs": [
        {
          "output_type": "execute_result",
          "data": {
            "text/plain": [
              "\u0027Texas\u0027"
            ]
          },
          "metadata": {
            "tags": []
          },
          "execution_count": 47
        }
      ]
    },
    {
      "metadata": {
        "id": "7f40MpXCL9KR",
        "colab_type": "text",
        "pycharm": {}
      },
      "cell_type": "markdown",
      "source": [
        "### Question 6\n",
        "**Only looking at the three most populous counties for each state**, what are the three most populous states (in order of highest population to lowest population)? Use `CENSUS2010POP`.\n",
        "\n",
        "*This function should return a list of string values.*"
      ]
    },
    {
      "metadata": {
        "umich_part_id": "006",
        "umich_partlist_id": "002",
        "id": "CqK4cd7hL9KS",
        "colab_type": "code",
        "colab": {
          "base_uri": "https://localhost:8080/",
          "height": 35
        },
        "outputId": "e8b5af22-be97-4f67-aea7-206ed9521c48",
        "executionInfo": {
          "status": "ok",
          "timestamp": 1555082940080,
          "user_tz": 300,
          "elapsed": 277,
          "user": {
            "displayName": "David Tan",
            "photoUrl": "",
            "userId": "15726769250755126620"
          }
        },
        "pycharm": {}
      },
      "cell_type": "code",
      "source": "def answer_six():\n    counties_df \u003d census_df[census_df[\u0027SUMLEV\u0027]\u003d\u003d 50]\n    top_three_counties \u003d counties_df.sort_values(by\u003d\u0027CENSUS2010POP\u0027,ascending \u003d False).groupby(\u0027STNAME\u0027).head(3)\n    ans \u003d top_three_counties.groupby(\u0027STNAME\u0027).sum().sort_values(by\u003d\u0027CENSUS2010POP\u0027,ascending \u003d False).head(3).index.tolist()\n    return ans\n  \nanswer_six()  ",
      "execution_count": 78,
      "outputs": [
        {
          "output_type": "execute_result",
          "data": {
            "text/plain": [
              "[\u0027California\u0027, \u0027Texas\u0027, \u0027Illinois\u0027]"
            ]
          },
          "metadata": {
            "tags": []
          },
          "execution_count": 78
        }
      ]
    },
    {
      "metadata": {
        "id": "7Oe6NUo9L9KU",
        "colab_type": "text",
        "pycharm": {}
      },
      "cell_type": "markdown",
      "source": [
        "### Question 7\n",
        "Which county has had the largest absolute change in population within the period 2010-2015? (Hint: population values are stored in columns POPESTIMATE2010 through POPESTIMATE2015, you need to consider all six columns.)\n",
        "\n",
        "e.g. If County Population in the 5 year period is 100, 120, 80, 105, 100, 130, then its largest change in the period would be |130-80| \u003d 50.\n",
        "\n",
        "*This function should return a single string value.*"
      ]
    },
    {
      "metadata": {
        "umich_part_id": "007",
        "umich_partlist_id": "002",
        "id": "O0fc3dv7L9KU",
        "colab_type": "code",
        "colab": {
          "base_uri": "https://localhost:8080/",
          "height": 35
        },
        "outputId": "cfc64664-7622-4e35-e8d9-98d4b8234944",
        "executionInfo": {
          "status": "ok",
          "timestamp": 1555084093655,
          "user_tz": 300,
          "elapsed": 280,
          "user": {
            "displayName": "David Tan",
            "photoUrl": "",
            "userId": "15726769250755126620"
          }
        },
        "pycharm": {}
      },
      "cell_type": "code",
      "source": [
        "def answer_seven():\n",
        "#     /// filter by counties\n",
        "    counties_df \u003d census_df[census_df[\u0027SUMLEV\u0027]\u003d\u003d 50]\n",
        "#   //// set index\n",
        "    counties_df \u003d counties_df.set_index(\u0027CTYNAME\u0027)\n",
        "    columns \u003d [\n",
        "        \u0027POPESTIMATE2010\u0027,\n",
        "        \u0027POPESTIMATE2011\u0027,\n",
        "        \u0027POPESTIMATE2012\u0027,\n",
        "        \u0027POPESTIMATE2013\u0027,\n",
        "        \u0027POPESTIMATE2014\u0027,\n",
        "        \u0027POPESTIMATE2015\u0027\n",
        "        \n",
        "    ]\n",
        "    max_value \u003d counties_df[columns].max(axis\u003d1)\n",
        "    min_value \u003d counties_df[columns].min(axis\u003d1)\n",
        "    diff \u003d max_value - min_value\n",
        "    counties_df[\u0027diff\u0027] \u003d diff\n",
        "    \n",
        "    return counties_df[\u0027diff\u0027].idxmax()\n",
        "  \n",
        "answer_seven()  "
      ],
      "execution_count": 83,
      "outputs": [
        {
          "output_type": "execute_result",
          "data": {
            "text/plain": [
              "\u0027Harris County\u0027"
            ]
          },
          "metadata": {
            "tags": []
          },
          "execution_count": 83
        }
      ]
    },
    {
      "metadata": {
        "id": "7-sardPEL9KW",
        "colab_type": "text",
        "pycharm": {}
      },
      "cell_type": "markdown",
      "source": [
        "### Question 8\n",
        "In this datafile, the United States is broken up into four regions using the \"REGION\" column. \n",
        "\n",
        "Create a query that finds the counties that belong to regions 1 or 2, whose name starts with \u0027Washington\u0027, and whose POPESTIMATE2015 was greater than their POPESTIMATE 2014.\n",
        "\n",
        "*This function should return a 5x2 DataFrame with the columns \u003d [\u0027STNAME\u0027, \u0027CTYNAME\u0027] and the same index ID as the census_df (sorted ascending by index).*"
      ]
    },
    {
      "metadata": {
        "umich_part_id": "008",
        "umich_partlist_id": "002",
        "id": "nSZ-Hj-xL9KX",
        "colab_type": "code",
        "colab": {
          "base_uri": "https://localhost:8080/",
          "height": 198
        },
        "outputId": "ec934520-b071-48f2-c367-1f491e3e4eb8",
        "executionInfo": {
          "status": "ok",
          "timestamp": 1555085197695,
          "user_tz": 300,
          "elapsed": 277,
          "user": {
            "displayName": "David Tan",
            "photoUrl": "",
            "userId": "15726769250755126620"
          }
        },
        "pycharm": {}
      },
      "cell_type": "code",
      "source": "def answer_eight():\n    counties_df \u003d census_df[census_df[\u0027SUMLEV\u0027]\u003d\u003d 50]\n    ans \u003d counties_df[(((counties_df[\u0027REGION\u0027] \u003d\u003d 1) | (counties_df[\u0027REGION\u0027] \u003d\u003d 2))  \n                       \u0026 (counties_df[\u0027CTYNAME\u0027] \u003d\u003d \u0027Washington County\u0027) \n                       \u0026 (counties_df[\u0027POPESTIMATE2015\u0027] \u003e counties_df[\u0027POPESTIMATE2014\u0027]) \n                      )][[\u0027STNAME\u0027,\u0027CTYNAME\u0027]]\n\n    return ans.sort_index(ascending\u003dTrue)\n \nanswer_eight()  ",
      "execution_count": 105,
      "outputs": [
        {
          "output_type": "execute_result",
          "data": {
            "text/html": [
              "\u003cdiv\u003e\n",
              "\u003cstyle scoped\u003e\n",
              "    .dataframe tbody tr th:only-of-type {\n",
              "        vertical-align: middle;\n",
              "    }\n",
              "\n",
              "    .dataframe tbody tr th {\n",
              "        vertical-align: top;\n",
              "    }\n",
              "\n",
              "    .dataframe thead th {\n",
              "        text-align: right;\n",
              "    }\n",
              "\u003c/style\u003e\n",
              "\u003ctable border\u003d\"1\" class\u003d\"dataframe\"\u003e\n",
              "  \u003cthead\u003e\n",
              "    \u003ctr style\u003d\"text-align: right;\"\u003e\n",
              "      \u003cth\u003e\u003c/th\u003e\n",
              "      \u003cth\u003eSTNAME\u003c/th\u003e\n",
              "      \u003cth\u003eCTYNAME\u003c/th\u003e\n",
              "    \u003c/tr\u003e\n",
              "  \u003c/thead\u003e\n",
              "  \u003ctbody\u003e\n",
              "    \u003ctr\u003e\n",
              "      \u003cth\u003e896\u003c/th\u003e\n",
              "      \u003ctd\u003eIowa\u003c/td\u003e\n",
              "      \u003ctd\u003eWashington County\u003c/td\u003e\n",
              "    \u003c/tr\u003e\n",
              "    \u003ctr\u003e\n",
              "      \u003cth\u003e1419\u003c/th\u003e\n",
              "      \u003ctd\u003eMinnesota\u003c/td\u003e\n",
              "      \u003ctd\u003eWashington County\u003c/td\u003e\n",
              "    \u003c/tr\u003e\n",
              "    \u003ctr\u003e\n",
              "      \u003cth\u003e2345\u003c/th\u003e\n",
              "      \u003ctd\u003ePennsylvania\u003c/td\u003e\n",
              "      \u003ctd\u003eWashington County\u003c/td\u003e\n",
              "    \u003c/tr\u003e\n",
              "    \u003ctr\u003e\n",
              "      \u003cth\u003e2355\u003c/th\u003e\n",
              "      \u003ctd\u003eRhode Island\u003c/td\u003e\n",
              "      \u003ctd\u003eWashington County\u003c/td\u003e\n",
              "    \u003c/tr\u003e\n",
              "    \u003ctr\u003e\n",
              "      \u003cth\u003e3163\u003c/th\u003e\n",
              "      \u003ctd\u003eWisconsin\u003c/td\u003e\n",
              "      \u003ctd\u003eWashington County\u003c/td\u003e\n",
              "    \u003c/tr\u003e\n",
              "  \u003c/tbody\u003e\n",
              "\u003c/table\u003e\n",
              "\u003c/div\u003e"
            ],
            "text/plain": [
              "            STNAME            CTYNAME\n",
              "896           Iowa  Washington County\n",
              "1419     Minnesota  Washington County\n",
              "2345  Pennsylvania  Washington County\n",
              "2355  Rhode Island  Washington County\n",
              "3163     Wisconsin  Washington County"
            ]
          },
          "metadata": {
            "tags": []
          },
          "execution_count": 105
        }
      ]
    }
  ]
}