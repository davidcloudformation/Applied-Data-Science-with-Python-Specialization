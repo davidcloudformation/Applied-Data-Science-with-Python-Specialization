{
  "nbformat": 4,
  "nbformat_minor": 0,
  "metadata": {
    "colab": {
      "name": "week2-working-Apr11-2019.ipynb",
      "version": "0.3.2",
      "provenance": [],
      "collapsed_sections": [
        "9lV4_VgHBZuf",
        "LXb7NkwHBZvG",
        "cv74URpiBZv8",
        "YB5SSetqBZwe",
        "DQe7J_fPBZwu",
        "DWHvr9AsBZw_",
        "XOhBM1PfBZxW"
      ]
    },
    "language_info": {
      "codemirror_mode": {
        "name": "ipython",
        "version": 3
      },
      "file_extension": ".py",
      "mimetype": "text/x-python",
      "name": "python",
      "nbconvert_exporter": "python",
      "pygments_lexer": "ipython3",
      "version": "3.5.2"
    },
    "kernelspec": {
      "display_name": "Python 3",
      "language": "python",
      "name": "python3"
    }
  },
  "cells": [
    {
      "metadata": {
        "id": "Oyi94CNGBZue",
        "colab_type": "text",
        "pycharm": {}
      },
      "cell_type": "markdown",
      "source": [
        "---\n",
        "\n",
        "_You are currently looking at **version 1.0** of this notebook. To download notebooks and datafiles, as well as get help on Jupyter notebooks in the Coursera platform, visit the [Jupyter Notebook FAQ](https://www.coursera.org/learn/python-data-analysis/resources/0dhYG) course resource._\n",
        "\n",
        "---"
      ]
    },
    {
      "metadata": {
        "id": "9lV4_VgHBZuf",
        "colab_type": "text",
        "pycharm": {}
      },
      "cell_type": "markdown",
      "source": [
        "# The Series Data Structure"
      ]
    },
    {
      "metadata": {
        "id": "XV8yH0BMBZuf",
        "colab_type": "code",
        "colab": {},
        "pycharm": {}
      },
      "cell_type": "code",
      "source": "import pandas as pd",
      "execution_count": 0,
      "outputs": []
    },
    {
      "metadata": {
        "id": "YSa5C6y4BZui",
        "colab_type": "code",
        "outputId": "d195ad37-f241-4305-e2ee-7646b1c40ca8",
        "executionInfo": {
          "status": "ok",
          "timestamp": 1555005218052,
          "user_tz": 300,
          "elapsed": 4707,
          "user": {
            "displayName": "David Tan",
            "photoUrl": "",
            "userId": "15726769250755126620"
          }
        },
        "colab": {
          "base_uri": "https://localhost:8080/",
          "height": 85
        },
        "pycharm": {}
      },
      "cell_type": "code",
      "source": [
        "number \u003d [1,2,3]\n",
        "pd.Series(number)"
      ],
      "execution_count": 0,
      "outputs": [
        {
          "output_type": "execute_result",
          "data": {
            "text/plain": [
              "0    1\n",
              "1    2\n",
              "2    3\n",
              "dtype: int64"
            ]
          },
          "metadata": {
            "tags": []
          },
          "execution_count": 21
        }
      ]
    },
    {
      "metadata": {
        "id": "4MFR40_8BZup",
        "colab_type": "code",
        "outputId": "15c833c8-6ff3-492f-be2f-4d5968827bff",
        "executionInfo": {
          "status": "ok",
          "timestamp": 1555005218053,
          "user_tz": 300,
          "elapsed": 4696,
          "user": {
            "displayName": "David Tan",
            "photoUrl": "",
            "userId": "15726769250755126620"
          }
        },
        "colab": {
          "base_uri": "https://localhost:8080/",
          "height": 85
        },
        "pycharm": {}
      },
      "cell_type": "code",
      "source": [
        "numbers \u003d [1, 2, 3]\n",
        "pd.Series(numbers)"
      ],
      "execution_count": 0,
      "outputs": [
        {
          "output_type": "execute_result",
          "data": {
            "text/plain": [
              "0    1\n",
              "1    2\n",
              "2    3\n",
              "dtype: int64"
            ]
          },
          "metadata": {
            "tags": []
          },
          "execution_count": 22
        }
      ]
    },
    {
      "metadata": {
        "id": "dm7Q93KKBZus",
        "colab_type": "code",
        "outputId": "acd2abc3-a0b1-4d72-bc92-085acbf27279",
        "executionInfo": {
          "status": "ok",
          "timestamp": 1555005218054,
          "user_tz": 300,
          "elapsed": 4683,
          "user": {
            "displayName": "David Tan",
            "photoUrl": "",
            "userId": "15726769250755126620"
          }
        },
        "colab": {
          "base_uri": "https://localhost:8080/",
          "height": 85
        },
        "pycharm": {}
      },
      "cell_type": "code",
      "source": [
        "animals \u003d [\u0027Tiger\u0027, \u0027Bear\u0027, None]\n",
        "pd.Series(animals)"
      ],
      "execution_count": 0,
      "outputs": [
        {
          "output_type": "execute_result",
          "data": {
            "text/plain": [
              "0    Tiger\n",
              "1     Bear\n",
              "2     None\n",
              "dtype: object"
            ]
          },
          "metadata": {
            "tags": []
          },
          "execution_count": 23
        }
      ]
    },
    {
      "metadata": {
        "id": "p9z61wS0BZuu",
        "colab_type": "code",
        "outputId": "f074d82b-3755-4f71-fbd1-63e2332e802d",
        "executionInfo": {
          "status": "ok",
          "timestamp": 1555005218054,
          "user_tz": 300,
          "elapsed": 4670,
          "user": {
            "displayName": "David Tan",
            "photoUrl": "",
            "userId": "15726769250755126620"
          }
        },
        "colab": {
          "base_uri": "https://localhost:8080/",
          "height": 85
        },
        "pycharm": {}
      },
      "cell_type": "code",
      "source": [
        "numbers \u003d [1, 2, None]\n",
        "pd.Series(numbers)"
      ],
      "execution_count": 0,
      "outputs": [
        {
          "output_type": "execute_result",
          "data": {
            "text/plain": [
              "0    1.0\n",
              "1    2.0\n",
              "2    NaN\n",
              "dtype: float64"
            ]
          },
          "metadata": {
            "tags": []
          },
          "execution_count": 24
        }
      ]
    },
    {
      "metadata": {
        "id": "fINw55BDBZux",
        "colab_type": "code",
        "outputId": "d63fa1ae-b8a8-41f8-8793-21c7578ae2f5",
        "executionInfo": {
          "status": "ok",
          "timestamp": 1555005218055,
          "user_tz": 300,
          "elapsed": 4654,
          "user": {
            "displayName": "David Tan",
            "photoUrl": "",
            "userId": "15726769250755126620"
          }
        },
        "colab": {
          "base_uri": "https://localhost:8080/",
          "height": 34
        },
        "pycharm": {}
      },
      "cell_type": "code",
      "source": [
        "import numpy as np\n",
        "np.nan \u003d\u003d None"
      ],
      "execution_count": 0,
      "outputs": [
        {
          "output_type": "execute_result",
          "data": {
            "text/plain": [
              "False"
            ]
          },
          "metadata": {
            "tags": []
          },
          "execution_count": 25
        }
      ]
    },
    {
      "metadata": {
        "id": "aoylLNqWBZu1",
        "colab_type": "code",
        "outputId": "d7f02585-d6ff-41a9-d6e0-0edee759d00a",
        "executionInfo": {
          "status": "ok",
          "timestamp": 1555005218055,
          "user_tz": 300,
          "elapsed": 4644,
          "user": {
            "displayName": "David Tan",
            "photoUrl": "",
            "userId": "15726769250755126620"
          }
        },
        "colab": {
          "base_uri": "https://localhost:8080/",
          "height": 34
        },
        "pycharm": {}
      },
      "cell_type": "code",
      "source": [
        "np.nan \u003d\u003d np.nan\n"
      ],
      "execution_count": 0,
      "outputs": [
        {
          "output_type": "execute_result",
          "data": {
            "text/plain": [
              "False"
            ]
          },
          "metadata": {
            "tags": []
          },
          "execution_count": 26
        }
      ]
    },
    {
      "metadata": {
        "id": "XUQRoupoBZu4",
        "colab_type": "code",
        "outputId": "e482be2c-1b24-4f61-f229-de880e58e915",
        "executionInfo": {
          "status": "ok",
          "timestamp": 1555005218056,
          "user_tz": 300,
          "elapsed": 4637,
          "user": {
            "displayName": "David Tan",
            "photoUrl": "",
            "userId": "15726769250755126620"
          }
        },
        "colab": {
          "base_uri": "https://localhost:8080/",
          "height": 34
        },
        "pycharm": {}
      },
      "cell_type": "code",
      "source": [
        "np.isnan(np.nan)"
      ],
      "execution_count": 0,
      "outputs": [
        {
          "output_type": "execute_result",
          "data": {
            "text/plain": [
              "True"
            ]
          },
          "metadata": {
            "tags": []
          },
          "execution_count": 27
        }
      ]
    },
    {
      "metadata": {
        "id": "lLsvTdKxBZu7",
        "colab_type": "code",
        "outputId": "8fdb7628-6154-4aaa-f4ee-b9302097bc81",
        "executionInfo": {
          "status": "ok",
          "timestamp": 1555005218056,
          "user_tz": 300,
          "elapsed": 4630,
          "user": {
            "displayName": "David Tan",
            "photoUrl": "",
            "userId": "15726769250755126620"
          }
        },
        "colab": {
          "base_uri": "https://localhost:8080/",
          "height": 102
        },
        "pycharm": {}
      },
      "cell_type": "code",
      "source": [
        "sports \u003d {\u0027Archery\u0027: \u0027Bhutan\u0027,\n",
        "          \u0027Golf\u0027: \u0027Scotland\u0027,\n",
        "          \u0027Sumo\u0027: \u0027Japan\u0027,\n",
        "          \u0027Taekwondo\u0027: \u0027South Korea\u0027}\n",
        "s \u003d pd.Series(sports)\n",
        "s"
      ],
      "execution_count": 0,
      "outputs": [
        {
          "output_type": "execute_result",
          "data": {
            "text/plain": [
              "Archery           Bhutan\n",
              "Golf            Scotland\n",
              "Sumo               Japan\n",
              "Taekwondo    South Korea\n",
              "dtype: object"
            ]
          },
          "metadata": {
            "tags": []
          },
          "execution_count": 28
        }
      ]
    },
    {
      "metadata": {
        "id": "Ohv-IFsTBZu9",
        "colab_type": "code",
        "outputId": "8f9b4d32-6164-45f5-c73b-d908c2224950",
        "executionInfo": {
          "status": "ok",
          "timestamp": 1555005218057,
          "user_tz": 300,
          "elapsed": 4624,
          "user": {
            "displayName": "David Tan",
            "photoUrl": "",
            "userId": "15726769250755126620"
          }
        },
        "colab": {
          "base_uri": "https://localhost:8080/",
          "height": 34
        },
        "pycharm": {}
      },
      "cell_type": "code",
      "source": [
        "s.index"
      ],
      "execution_count": 0,
      "outputs": [
        {
          "output_type": "execute_result",
          "data": {
            "text/plain": [
              "Index([\u0027Archery\u0027, \u0027Golf\u0027, \u0027Sumo\u0027, \u0027Taekwondo\u0027], dtype\u003d\u0027object\u0027)"
            ]
          },
          "metadata": {
            "tags": []
          },
          "execution_count": 29
        }
      ]
    },
    {
      "metadata": {
        "id": "MQ2z5rotBZvA",
        "colab_type": "code",
        "outputId": "61c906a6-fca3-41cc-b337-d1656a68d354",
        "executionInfo": {
          "status": "ok",
          "timestamp": 1555005218057,
          "user_tz": 300,
          "elapsed": 4614,
          "user": {
            "displayName": "David Tan",
            "photoUrl": "",
            "userId": "15726769250755126620"
          }
        },
        "colab": {
          "base_uri": "https://localhost:8080/",
          "height": 85
        },
        "pycharm": {}
      },
      "cell_type": "code",
      "source": [
        "s \u003d pd.Series([\u0027Tiger\u0027, \u0027Bear\u0027, \u0027Moose\u0027], index\u003d[\u0027India\u0027, \u0027America\u0027, \u0027Canada\u0027])\n",
        "s"
      ],
      "execution_count": 0,
      "outputs": [
        {
          "output_type": "execute_result",
          "data": {
            "text/plain": [
              "India      Tiger\n",
              "America     Bear\n",
              "Canada     Moose\n",
              "dtype: object"
            ]
          },
          "metadata": {
            "tags": []
          },
          "execution_count": 30
        }
      ]
    },
    {
      "metadata": {
        "id": "-Zdt5eByBZvC",
        "colab_type": "code",
        "outputId": "8d11c55a-ea0e-44f3-a0f8-d42955b80733",
        "executionInfo": {
          "status": "ok",
          "timestamp": 1555005218058,
          "user_tz": 300,
          "elapsed": 4605,
          "user": {
            "displayName": "David Tan",
            "photoUrl": "",
            "userId": "15726769250755126620"
          }
        },
        "colab": {
          "base_uri": "https://localhost:8080/",
          "height": 85
        },
        "pycharm": {}
      },
      "cell_type": "code",
      "source": [
        "sports \u003d {\u0027Archery\u0027: \u0027Bhutan\u0027,\n",
        "          \u0027Golf\u0027: \u0027Scotland\u0027,\n",
        "          \u0027Sumo\u0027: \u0027Japan\u0027,\n",
        "          \u0027Taekwondo\u0027: \u0027South Korea\u0027}\n",
        "s \u003d pd.Series(sports, index\u003d[\u0027Golf\u0027, \u0027Sumo\u0027, \u0027Hockey\u0027])\n",
        "s"
      ],
      "execution_count": 0,
      "outputs": [
        {
          "output_type": "execute_result",
          "data": {
            "text/plain": [
              "Golf      Scotland\n",
              "Sumo         Japan\n",
              "Hockey         NaN\n",
              "dtype: object"
            ]
          },
          "metadata": {
            "tags": []
          },
          "execution_count": 31
        }
      ]
    },
    {
      "metadata": {
        "id": "LXb7NkwHBZvG",
        "colab_type": "text",
        "pycharm": {}
      },
      "cell_type": "markdown",
      "source": [
        "# Querying a Series"
      ]
    },
    {
      "metadata": {
        "id": "UsmwQPL-BZvH",
        "colab_type": "code",
        "outputId": "fec6cac7-a97b-4870-e6e4-5d2f318a52af",
        "executionInfo": {
          "status": "ok",
          "timestamp": 1555005218058,
          "user_tz": 300,
          "elapsed": 4597,
          "user": {
            "displayName": "David Tan",
            "photoUrl": "",
            "userId": "15726769250755126620"
          }
        },
        "colab": {
          "base_uri": "https://localhost:8080/",
          "height": 102
        },
        "pycharm": {}
      },
      "cell_type": "code",
      "source": "sports \u003d {\u0027Archery\u0027: \u0027Bhutan\u0027,\n          \u0027Golf\u0027: \u0027Scotland\u0027,\n          \u0027Sumo\u0027: \u0027Japan\u0027,\n          \u0027Taekwondo\u0027: \u0027South Korea\u0027}\ns \u003d pd.Series(sports)\ns",
      "execution_count": 0,
      "outputs": [
        {
          "output_type": "execute_result",
          "data": {
            "text/plain": [
              "Archery           Bhutan\n",
              "Golf            Scotland\n",
              "Sumo               Japan\n",
              "Taekwondo    South Korea\n",
              "dtype: object"
            ]
          },
          "metadata": {
            "tags": []
          },
          "execution_count": 32
        }
      ]
    },
    {
      "metadata": {
        "id": "hOahPvfXBZvK",
        "colab_type": "code",
        "outputId": "708387b3-4f2c-4ab5-ca61-13b65eb8073a",
        "executionInfo": {
          "status": "ok",
          "timestamp": 1555005218059,
          "user_tz": 300,
          "elapsed": 4590,
          "user": {
            "displayName": "David Tan",
            "photoUrl": "",
            "userId": "15726769250755126620"
          }
        },
        "colab": {
          "base_uri": "https://localhost:8080/",
          "height": 34
        },
        "pycharm": {}
      },
      "cell_type": "code",
      "source": [
        "s.iloc[3]"
      ],
      "execution_count": 0,
      "outputs": [
        {
          "output_type": "execute_result",
          "data": {
            "text/plain": [
              "\u0027South Korea\u0027"
            ]
          },
          "metadata": {
            "tags": []
          },
          "execution_count": 33
        }
      ]
    },
    {
      "metadata": {
        "id": "a3xU9k4GBZvO",
        "colab_type": "code",
        "outputId": "9b540e4b-57d2-4d31-829d-8099ac81f708",
        "executionInfo": {
          "status": "ok",
          "timestamp": 1555005218059,
          "user_tz": 300,
          "elapsed": 4583,
          "user": {
            "displayName": "David Tan",
            "photoUrl": "",
            "userId": "15726769250755126620"
          }
        },
        "colab": {
          "base_uri": "https://localhost:8080/",
          "height": 34
        },
        "pycharm": {}
      },
      "cell_type": "code",
      "source": [
        "s.loc[\u0027Sumo\u0027]"
      ],
      "execution_count": 0,
      "outputs": [
        {
          "output_type": "execute_result",
          "data": {
            "text/plain": [
              "\u0027Japan\u0027"
            ]
          },
          "metadata": {
            "tags": []
          },
          "execution_count": 34
        }
      ]
    },
    {
      "metadata": {
        "id": "ViyVY9MABZvR",
        "colab_type": "code",
        "outputId": "de4c8cc5-c81d-4a72-ef6a-09a091e3f914",
        "executionInfo": {
          "status": "ok",
          "timestamp": 1555005218060,
          "user_tz": 300,
          "elapsed": 4576,
          "user": {
            "displayName": "David Tan",
            "photoUrl": "",
            "userId": "15726769250755126620"
          }
        },
        "colab": {
          "base_uri": "https://localhost:8080/",
          "height": 34
        },
        "pycharm": {}
      },
      "cell_type": "code",
      "source": [
        "s[3]"
      ],
      "execution_count": 0,
      "outputs": [
        {
          "output_type": "execute_result",
          "data": {
            "text/plain": [
              "\u0027South Korea\u0027"
            ]
          },
          "metadata": {
            "tags": []
          },
          "execution_count": 35
        }
      ]
    },
    {
      "metadata": {
        "id": "T-2yYWgaBZvT",
        "colab_type": "code",
        "outputId": "e61fb2a7-d8af-4c26-c25c-14a14498ff7b",
        "executionInfo": {
          "status": "ok",
          "timestamp": 1555005218061,
          "user_tz": 300,
          "elapsed": 4569,
          "user": {
            "displayName": "David Tan",
            "photoUrl": "",
            "userId": "15726769250755126620"
          }
        },
        "colab": {
          "base_uri": "https://localhost:8080/",
          "height": 34
        },
        "pycharm": {}
      },
      "cell_type": "code",
      "source": [
        "s[\u0027Golf\u0027]"
      ],
      "execution_count": 0,
      "outputs": [
        {
          "output_type": "execute_result",
          "data": {
            "text/plain": [
              "\u0027Scotland\u0027"
            ]
          },
          "metadata": {
            "tags": []
          },
          "execution_count": 36
        }
      ]
    },
    {
      "metadata": {
        "id": "_zzvdw_IBZvW",
        "colab_type": "code",
        "colab": {},
        "pycharm": {}
      },
      "cell_type": "code",
      "source": [
        "sports \u003d {99: \u0027Bhutan\u0027,\n",
        "          100: \u0027Scotland\u0027,\n",
        "          101: \u0027Japan\u0027,\n",
        "          102: \u0027South Korea\u0027}\n",
        "s \u003d pd.Series(sports)"
      ],
      "execution_count": 0,
      "outputs": []
    },
    {
      "metadata": {
        "scrolled": true,
        "id": "kl7iq36sBZvX",
        "colab_type": "code",
        "colab": {},
        "pycharm": {}
      },
      "cell_type": "code",
      "source": [
        "# s[0] #This won\u0027t call s.iloc[0] as one might expect, it generates an error instead"
      ],
      "execution_count": 0,
      "outputs": []
    },
    {
      "metadata": {
        "id": "oEa7BrLEBZva",
        "colab_type": "code",
        "colab": {},
        "pycharm": {}
      },
      "cell_type": "code",
      "source": [
        "s \u003d pd.Series([100.00, 120.00, 101.00, 3.00])\n",
        "# s"
      ],
      "execution_count": 0,
      "outputs": []
    },
    {
      "metadata": {
        "id": "o2uLYzzjBZvc",
        "colab_type": "code",
        "outputId": "eebbf8e2-356e-4ea4-cf78-61768b1735d6",
        "executionInfo": {
          "status": "ok",
          "timestamp": 1555005218067,
          "user_tz": 300,
          "elapsed": 4548,
          "user": {
            "displayName": "David Tan",
            "photoUrl": "",
            "userId": "15726769250755126620"
          }
        },
        "colab": {
          "base_uri": "https://localhost:8080/",
          "height": 34
        },
        "pycharm": {}
      },
      "cell_type": "code",
      "source": [
        "total \u003d 0\n",
        "for item in s:\n",
        "    total+\u003ditem\n",
        "print(total)"
      ],
      "execution_count": 0,
      "outputs": [
        {
          "output_type": "stream",
          "text": [
            "324.0\n"
          ],
          "name": "stdout"
        }
      ]
    },
    {
      "metadata": {
        "id": "gs1IzPnDBZve",
        "colab_type": "code",
        "outputId": "feb68db1-bcae-431b-b01e-7eb6666b7df8",
        "executionInfo": {
          "status": "ok",
          "timestamp": 1555005218068,
          "user_tz": 300,
          "elapsed": 4544,
          "user": {
            "displayName": "David Tan",
            "photoUrl": "",
            "userId": "15726769250755126620"
          }
        },
        "colab": {
          "base_uri": "https://localhost:8080/",
          "height": 34
        },
        "pycharm": {}
      },
      "cell_type": "code",
      "source": [
        "import numpy as np\n",
        "\n",
        "total \u003d np.sum(s)\n",
        "print(total)"
      ],
      "execution_count": 0,
      "outputs": [
        {
          "output_type": "stream",
          "text": [
            "324.0\n"
          ],
          "name": "stdout"
        }
      ]
    },
    {
      "metadata": {
        "id": "YyKEaCSVBZvg",
        "colab_type": "code",
        "outputId": "c8117da9-0d34-4dad-f2d7-982c4b9cdb5c",
        "executionInfo": {
          "status": "ok",
          "timestamp": 1555005218068,
          "user_tz": 300,
          "elapsed": 4537,
          "user": {
            "displayName": "David Tan",
            "photoUrl": "",
            "userId": "15726769250755126620"
          }
        },
        "colab": {
          "base_uri": "https://localhost:8080/",
          "height": 85
        },
        "pycharm": {}
      },
      "cell_type": "code",
      "source": [
        "a \u003d pd.Series([100,200])\n",
        "print(a)\n",
        "np.sum(a)"
      ],
      "execution_count": 0,
      "outputs": [
        {
          "output_type": "stream",
          "text": [
            "0    100\n",
            "1    200\n",
            "dtype: int64\n"
          ],
          "name": "stdout"
        },
        {
          "output_type": "execute_result",
          "data": {
            "text/plain": [
              "300"
            ]
          },
          "metadata": {
            "tags": []
          },
          "execution_count": 42
        }
      ]
    },
    {
      "metadata": {
        "id": "Ull3e_pNBZvi",
        "colab_type": "code",
        "outputId": "94223037-4047-4af7-8961-c0955b03bb41",
        "executionInfo": {
          "status": "ok",
          "timestamp": 1555005218069,
          "user_tz": 300,
          "elapsed": 4533,
          "user": {
            "displayName": "David Tan",
            "photoUrl": "",
            "userId": "15726769250755126620"
          }
        },
        "colab": {
          "base_uri": "https://localhost:8080/",
          "height": 34
        },
        "pycharm": {}
      },
      "cell_type": "code",
      "source": [
        "len(s)"
      ],
      "execution_count": 0,
      "outputs": [
        {
          "output_type": "execute_result",
          "data": {
            "text/plain": [
              "4"
            ]
          },
          "metadata": {
            "tags": []
          },
          "execution_count": 43
        }
      ]
    },
    {
      "metadata": {
        "id": "vZa7yBNTBZvk",
        "colab_type": "code",
        "outputId": "ed6d0ea1-1b7c-47f7-bb0b-d9cfaa64b62f",
        "executionInfo": {
          "status": "ok",
          "timestamp": 1555005218069,
          "user_tz": 300,
          "elapsed": 4527,
          "user": {
            "displayName": "David Tan",
            "photoUrl": "",
            "userId": "15726769250755126620"
          }
        },
        "colab": {
          "base_uri": "https://localhost:8080/",
          "height": 34
        },
        "pycharm": {}
      },
      "cell_type": "code",
      "source": [
        "%%timeit -n 100\n",
        "summary \u003d 0\n",
        "for item in s:\n",
        "    summary+\u003ditem"
      ],
      "execution_count": 0,
      "outputs": [
        {
          "output_type": "stream",
          "text": [
            "100 loops, best of 3: 20.9 µs per loop\n"
          ],
          "name": "stdout"
        }
      ]
    },
    {
      "metadata": {
        "id": "sxXif7wxBZvm",
        "colab_type": "code",
        "outputId": "0bc17da0-c48c-4944-d746-fecf5f67ff30",
        "executionInfo": {
          "status": "ok",
          "timestamp": 1555005218070,
          "user_tz": 300,
          "elapsed": 4522,
          "user": {
            "displayName": "David Tan",
            "photoUrl": "",
            "userId": "15726769250755126620"
          }
        },
        "colab": {
          "base_uri": "https://localhost:8080/",
          "height": 34
        },
        "pycharm": {}
      },
      "cell_type": "code",
      "source": [
        "%%timeit -n 100\n",
        "summary \u003d np.sum(s)"
      ],
      "execution_count": 0,
      "outputs": [
        {
          "output_type": "stream",
          "text": [
            "100 loops, best of 3: 126 µs per loop\n"
          ],
          "name": "stdout"
        }
      ]
    },
    {
      "metadata": {
        "id": "ChdVywFBBZvp",
        "colab_type": "code",
        "outputId": "d9be1ae2-cda6-4b48-9c59-0199aa085ee1",
        "executionInfo": {
          "status": "ok",
          "timestamp": 1555005218070,
          "user_tz": 300,
          "elapsed": 4516,
          "user": {
            "displayName": "David Tan",
            "photoUrl": "",
            "userId": "15726769250755126620"
          }
        },
        "colab": {
          "base_uri": "https://localhost:8080/",
          "height": 51
        },
        "pycharm": {}
      },
      "cell_type": "code",
      "source": [
        "s+\u003d2 #adds two to each item in s using broadcasting\n",
        "s.head(n \u003d 1)"
      ],
      "execution_count": 0,
      "outputs": [
        {
          "output_type": "execute_result",
          "data": {
            "text/plain": [
              "0    102.0\n",
              "dtype: float64"
            ]
          },
          "metadata": {
            "tags": []
          },
          "execution_count": 46
        }
      ]
    },
    {
      "metadata": {
        "id": "NWmfojH_BZvr",
        "colab_type": "code",
        "outputId": "6ee774c9-f855-42c8-ac1b-a7ad73d05e44",
        "executionInfo": {
          "status": "ok",
          "timestamp": 1555005218071,
          "user_tz": 300,
          "elapsed": 4508,
          "user": {
            "displayName": "David Tan",
            "photoUrl": "",
            "userId": "15726769250755126620"
          }
        },
        "colab": {
          "base_uri": "https://localhost:8080/",
          "height": 156
        },
        "pycharm": {}
      },
      "cell_type": "code",
      "source": [
        "for label, value in s.iteritems():\n",
        "    s.set_value(label, value+2)\n",
        "s.head()"
      ],
      "execution_count": 0,
      "outputs": [
        {
          "output_type": "stream",
          "text": [
            "/usr/local/lib/python3.6/dist-packages/ipykernel_launcher.py:2: FutureWarning: set_value is deprecated and will be removed in a future release. Please use .at[] or .iat[] accessors instead\n",
            "  \n"
          ],
          "name": "stderr"
        },
        {
          "output_type": "execute_result",
          "data": {
            "text/plain": [
              "0    104.0\n",
              "1    124.0\n",
              "2    105.0\n",
              "3      7.0\n",
              "dtype: float64"
            ]
          },
          "metadata": {
            "tags": []
          },
          "execution_count": 47
        }
      ]
    },
    {
      "metadata": {
        "id": "N-b4dKMCBZvu",
        "colab_type": "code",
        "outputId": "cf75efcf-d226-4854-85f1-eb01e4b28219",
        "executionInfo": {
          "status": "ok",
          "timestamp": 1555005376963,
          "user_tz": 300,
          "elapsed": 163395,
          "user": {
            "displayName": "David Tan",
            "photoUrl": "",
            "userId": "15726769250755126620"
          }
        },
        "colab": {
          "base_uri": "https://localhost:8080/",
          "height": 34
        },
        "pycharm": {}
      },
      "cell_type": "code",
      "source": [
        "%%timeit -n 10\n",
        "s \u003d pd.Series(np.random.randint(0,1000,10000))\n",
        "for label, value in s.iteritems():\n",
        "    s.loc[label]\u003d value+2"
      ],
      "execution_count": 0,
      "outputs": [
        {
          "output_type": "stream",
          "text": [
            "10 loops, best of 3: 5.18 s per loop\n"
          ],
          "name": "stdout"
        }
      ]
    },
    {
      "metadata": {
        "id": "2rHRRwg3BZvv",
        "colab_type": "code",
        "outputId": "31e2d5b8-9493-4305-ddb7-e5703b95468a",
        "executionInfo": {
          "status": "ok",
          "timestamp": 1555005376964,
          "user_tz": 300,
          "elapsed": 163392,
          "user": {
            "displayName": "David Tan",
            "photoUrl": "",
            "userId": "15726769250755126620"
          }
        },
        "colab": {
          "base_uri": "https://localhost:8080/",
          "height": 34
        },
        "pycharm": {}
      },
      "cell_type": "code",
      "source": [
        "%%timeit -n 10\n",
        "s \u003d pd.Series(np.random.randint(0,1000,10000))\n",
        "s+\u003d2\n"
      ],
      "execution_count": 0,
      "outputs": [
        {
          "output_type": "stream",
          "text": [
            "10 loops, best of 3: 348 µs per loop\n"
          ],
          "name": "stdout"
        }
      ]
    },
    {
      "metadata": {
        "id": "NNeQ6Fk6BZvx",
        "colab_type": "code",
        "outputId": "62d4651b-9892-4635-a0c5-16dbd3d09af6",
        "executionInfo": {
          "status": "ok",
          "timestamp": 1555005376965,
          "user_tz": 300,
          "elapsed": 163387,
          "user": {
            "displayName": "David Tan",
            "photoUrl": "",
            "userId": "15726769250755126620"
          }
        },
        "colab": {
          "base_uri": "https://localhost:8080/",
          "height": 102
        },
        "pycharm": {}
      },
      "cell_type": "code",
      "source": [
        "s \u003d pd.Series([1, 2, 3])\n",
        "s.loc[\u0027Animal\u0027] \u003d \u0027Bears\u0027\n",
        "s"
      ],
      "execution_count": 0,
      "outputs": [
        {
          "output_type": "execute_result",
          "data": {
            "text/plain": [
              "0             1\n",
              "1             2\n",
              "2             3\n",
              "Animal    Bears\n",
              "dtype: object"
            ]
          },
          "metadata": {
            "tags": []
          },
          "execution_count": 50
        }
      ]
    },
    {
      "metadata": {
        "id": "9cmbkJPHBZvy",
        "colab_type": "code",
        "colab": {},
        "pycharm": {}
      },
      "cell_type": "code",
      "source": [
        "original_sports \u003d pd.Series({\u0027Archery\u0027: \u0027Bhutan\u0027,\n",
        "                             \u0027Golf\u0027: \u0027Scotland\u0027,\n",
        "                             \u0027Sumo\u0027: \u0027Japan\u0027,\n",
        "                             \u0027Taekwondo\u0027: \u0027South Korea\u0027})\n",
        "cricket_loving_countries \u003d pd.Series([\u0027Australia\u0027,\n",
        "                                      \u0027Barbados\u0027,\n",
        "                                      \u0027Pakistan\u0027,\n",
        "                                      \u0027England\u0027], \n",
        "                                   index\u003d[\u0027Cricket\u0027,\n",
        "                                          \u0027Cricket\u0027,\n",
        "                                          \u0027Cricket\u0027,\n",
        "                                          \u0027Cricket\u0027])\n",
        "all_countries \u003d original_sports.append(cricket_loving_countries)"
      ],
      "execution_count": 0,
      "outputs": []
    },
    {
      "metadata": {
        "id": "6d4xtPn4BZv0",
        "colab_type": "code",
        "outputId": "aa52b029-19e9-404c-d089-574367df31b9",
        "executionInfo": {
          "status": "ok",
          "timestamp": 1555005376969,
          "user_tz": 300,
          "elapsed": 163380,
          "user": {
            "displayName": "David Tan",
            "photoUrl": "",
            "userId": "15726769250755126620"
          }
        },
        "colab": {
          "base_uri": "https://localhost:8080/",
          "height": 102
        },
        "pycharm": {}
      },
      "cell_type": "code",
      "source": [
        "original_sports"
      ],
      "execution_count": 0,
      "outputs": [
        {
          "output_type": "execute_result",
          "data": {
            "text/plain": [
              "Archery           Bhutan\n",
              "Golf            Scotland\n",
              "Sumo               Japan\n",
              "Taekwondo    South Korea\n",
              "dtype: object"
            ]
          },
          "metadata": {
            "tags": []
          },
          "execution_count": 52
        }
      ]
    },
    {
      "metadata": {
        "id": "cvivEmadBZv2",
        "colab_type": "code",
        "outputId": "b4857b1e-81b8-4b05-9658-942a6ee48c13",
        "executionInfo": {
          "status": "ok",
          "timestamp": 1555005376970,
          "user_tz": 300,
          "elapsed": 163375,
          "user": {
            "displayName": "David Tan",
            "photoUrl": "",
            "userId": "15726769250755126620"
          }
        },
        "colab": {
          "base_uri": "https://localhost:8080/",
          "height": 102
        },
        "pycharm": {}
      },
      "cell_type": "code",
      "source": [
        "cricket_loving_countries"
      ],
      "execution_count": 0,
      "outputs": [
        {
          "output_type": "execute_result",
          "data": {
            "text/plain": [
              "Cricket    Australia\n",
              "Cricket     Barbados\n",
              "Cricket     Pakistan\n",
              "Cricket      England\n",
              "dtype: object"
            ]
          },
          "metadata": {
            "tags": []
          },
          "execution_count": 53
        }
      ]
    },
    {
      "metadata": {
        "id": "WqAGk0nnBZv5",
        "colab_type": "code",
        "outputId": "ffc8d937-034e-4046-c0f3-f1456d800656",
        "executionInfo": {
          "status": "ok",
          "timestamp": 1555005376970,
          "user_tz": 300,
          "elapsed": 163370,
          "user": {
            "displayName": "David Tan",
            "photoUrl": "",
            "userId": "15726769250755126620"
          }
        },
        "colab": {
          "base_uri": "https://localhost:8080/",
          "height": 170
        },
        "pycharm": {}
      },
      "cell_type": "code",
      "source": [
        "all_countries"
      ],
      "execution_count": 0,
      "outputs": [
        {
          "output_type": "execute_result",
          "data": {
            "text/plain": [
              "Archery           Bhutan\n",
              "Golf            Scotland\n",
              "Sumo               Japan\n",
              "Taekwondo    South Korea\n",
              "Cricket        Australia\n",
              "Cricket         Barbados\n",
              "Cricket         Pakistan\n",
              "Cricket          England\n",
              "dtype: object"
            ]
          },
          "metadata": {
            "tags": []
          },
          "execution_count": 54
        }
      ]
    },
    {
      "metadata": {
        "id": "3WRMBONmBZv6",
        "colab_type": "code",
        "outputId": "58dcacde-4777-4329-abef-d016b938d0dd",
        "executionInfo": {
          "status": "ok",
          "timestamp": 1555005376971,
          "user_tz": 300,
          "elapsed": 163366,
          "user": {
            "displayName": "David Tan",
            "photoUrl": "",
            "userId": "15726769250755126620"
          }
        },
        "colab": {
          "base_uri": "https://localhost:8080/",
          "height": 102
        },
        "pycharm": {}
      },
      "cell_type": "code",
      "source": [
        "all_countries.loc[\u0027Cricket\u0027]"
      ],
      "execution_count": 0,
      "outputs": [
        {
          "output_type": "execute_result",
          "data": {
            "text/plain": [
              "Cricket    Australia\n",
              "Cricket     Barbados\n",
              "Cricket     Pakistan\n",
              "Cricket      England\n",
              "dtype: object"
            ]
          },
          "metadata": {
            "tags": []
          },
          "execution_count": 55
        }
      ]
    },
    {
      "metadata": {
        "collapsed": true,
        "id": "cv74URpiBZv8",
        "colab_type": "text",
        "pycharm": {}
      },
      "cell_type": "markdown",
      "source": [
        "# The DataFrame Data Structure"
      ]
    },
    {
      "metadata": {
        "id": "7D5tt9L-BZv9",
        "colab_type": "code",
        "outputId": "f7735fff-0bb8-4d6c-8c4c-0401964f1de8",
        "executionInfo": {
          "status": "ok",
          "timestamp": 1555005376972,
          "user_tz": 300,
          "elapsed": 163362,
          "user": {
            "displayName": "David Tan",
            "photoUrl": "",
            "userId": "15726769250755126620"
          }
        },
        "colab": {
          "base_uri": "https://localhost:8080/",
          "height": 142
        },
        "pycharm": {}
      },
      "cell_type": "code",
      "source": "import pandas as pd\npurchase_1 \u003d pd.Series({\u0027Name\u0027: \u0027Chris\u0027,\n                        \u0027Item Purchased\u0027: \u0027Dog Food\u0027,\n                        \u0027Cost\u0027: 22.50})\npurchase_2 \u003d pd.Series({\u0027Name\u0027: \u0027Kevyn\u0027,\n                        \u0027Item Purchased\u0027: \u0027Kitty Litter\u0027,\n                        \u0027Cost\u0027: 2.50})\npurchase_3 \u003d pd.Series({\u0027Name\u0027: \u0027Vinod\u0027,\n                        \u0027Item Purchased\u0027: \u0027Bird Seed\u0027,\n                        \u0027Cost\u0027: 5.00})\ndf \u003d pd.DataFrame([purchase_1, purchase_2, purchase_3], index\u003d[\u0027Store 1\u0027, \u0027Store 1\u0027, \u0027Store 2\u0027])\ndf.head()",
      "execution_count": 0,
      "outputs": [
        {
          "output_type": "execute_result",
          "data": {
            "text/html": [
              "\u003cdiv\u003e\n",
              "\u003cstyle scoped\u003e\n",
              "    .dataframe tbody tr th:only-of-type {\n",
              "        vertical-align: middle;\n",
              "    }\n",
              "\n",
              "    .dataframe tbody tr th {\n",
              "        vertical-align: top;\n",
              "    }\n",
              "\n",
              "    .dataframe thead th {\n",
              "        text-align: right;\n",
              "    }\n",
              "\u003c/style\u003e\n",
              "\u003ctable border\u003d\"1\" class\u003d\"dataframe\"\u003e\n",
              "  \u003cthead\u003e\n",
              "    \u003ctr style\u003d\"text-align: right;\"\u003e\n",
              "      \u003cth\u003e\u003c/th\u003e\n",
              "      \u003cth\u003eCost\u003c/th\u003e\n",
              "      \u003cth\u003eItem Purchased\u003c/th\u003e\n",
              "      \u003cth\u003eName\u003c/th\u003e\n",
              "    \u003c/tr\u003e\n",
              "  \u003c/thead\u003e\n",
              "  \u003ctbody\u003e\n",
              "    \u003ctr\u003e\n",
              "      \u003cth\u003eStore 1\u003c/th\u003e\n",
              "      \u003ctd\u003e22.5\u003c/td\u003e\n",
              "      \u003ctd\u003eDog Food\u003c/td\u003e\n",
              "      \u003ctd\u003eChris\u003c/td\u003e\n",
              "    \u003c/tr\u003e\n",
              "    \u003ctr\u003e\n",
              "      \u003cth\u003eStore 1\u003c/th\u003e\n",
              "      \u003ctd\u003e2.5\u003c/td\u003e\n",
              "      \u003ctd\u003eKitty Litter\u003c/td\u003e\n",
              "      \u003ctd\u003eKevyn\u003c/td\u003e\n",
              "    \u003c/tr\u003e\n",
              "    \u003ctr\u003e\n",
              "      \u003cth\u003eStore 2\u003c/th\u003e\n",
              "      \u003ctd\u003e5.0\u003c/td\u003e\n",
              "      \u003ctd\u003eBird Seed\u003c/td\u003e\n",
              "      \u003ctd\u003eVinod\u003c/td\u003e\n",
              "    \u003c/tr\u003e\n",
              "  \u003c/tbody\u003e\n",
              "\u003c/table\u003e\n",
              "\u003c/div\u003e"
            ],
            "text/plain": [
              "         Cost Item Purchased   Name\n",
              "Store 1  22.5       Dog Food  Chris\n",
              "Store 1   2.5   Kitty Litter  Kevyn\n",
              "Store 2   5.0      Bird Seed  Vinod"
            ]
          },
          "metadata": {
            "tags": []
          },
          "execution_count": 56
        }
      ]
    },
    {
      "metadata": {
        "id": "Ht71WK9fBZv_",
        "colab_type": "code",
        "outputId": "50ee3102-5ab8-44d6-c7a1-6dd36de4544e",
        "executionInfo": {
          "status": "ok",
          "timestamp": 1555005376972,
          "user_tz": 300,
          "elapsed": 163356,
          "user": {
            "displayName": "David Tan",
            "photoUrl": "",
            "userId": "15726769250755126620"
          }
        },
        "colab": {
          "base_uri": "https://localhost:8080/",
          "height": 85
        },
        "pycharm": {}
      },
      "cell_type": "code",
      "source": [
        "df.loc[\u0027Store 2\u0027]"
      ],
      "execution_count": 0,
      "outputs": [
        {
          "output_type": "execute_result",
          "data": {
            "text/plain": [
              "Cost                      5\n",
              "Item Purchased    Bird Seed\n",
              "Name                  Vinod\n",
              "Name: Store 2, dtype: object"
            ]
          },
          "metadata": {
            "tags": []
          },
          "execution_count": 57
        }
      ]
    },
    {
      "metadata": {
        "id": "iUAnQ7fBBZwA",
        "colab_type": "code",
        "outputId": "d9ffd79a-080f-4161-b1d0-e62f2c7093b2",
        "executionInfo": {
          "status": "ok",
          "timestamp": 1555005376973,
          "user_tz": 300,
          "elapsed": 163353,
          "user": {
            "displayName": "David Tan",
            "photoUrl": "",
            "userId": "15726769250755126620"
          }
        },
        "colab": {
          "base_uri": "https://localhost:8080/",
          "height": 34
        },
        "pycharm": {}
      },
      "cell_type": "code",
      "source": [
        "type(df.loc[\u0027Store 2\u0027])"
      ],
      "execution_count": 0,
      "outputs": [
        {
          "output_type": "execute_result",
          "data": {
            "text/plain": [
              "pandas.core.series.Series"
            ]
          },
          "metadata": {
            "tags": []
          },
          "execution_count": 58
        }
      ]
    },
    {
      "metadata": {
        "id": "mSV9nfqOBZwF",
        "colab_type": "code",
        "outputId": "67883e82-74a7-446f-8292-0e5ecc9fd7c7",
        "executionInfo": {
          "status": "ok",
          "timestamp": 1555005376974,
          "user_tz": 300,
          "elapsed": 163349,
          "user": {
            "displayName": "David Tan",
            "photoUrl": "",
            "userId": "15726769250755126620"
          }
        },
        "colab": {
          "base_uri": "https://localhost:8080/",
          "height": 111
        },
        "pycharm": {}
      },
      "cell_type": "code",
      "source": [
        "df.loc[\u0027Store 1\u0027]"
      ],
      "execution_count": 0,
      "outputs": [
        {
          "output_type": "execute_result",
          "data": {
            "text/html": [
              "\u003cdiv\u003e\n",
              "\u003cstyle scoped\u003e\n",
              "    .dataframe tbody tr th:only-of-type {\n",
              "        vertical-align: middle;\n",
              "    }\n",
              "\n",
              "    .dataframe tbody tr th {\n",
              "        vertical-align: top;\n",
              "    }\n",
              "\n",
              "    .dataframe thead th {\n",
              "        text-align: right;\n",
              "    }\n",
              "\u003c/style\u003e\n",
              "\u003ctable border\u003d\"1\" class\u003d\"dataframe\"\u003e\n",
              "  \u003cthead\u003e\n",
              "    \u003ctr style\u003d\"text-align: right;\"\u003e\n",
              "      \u003cth\u003e\u003c/th\u003e\n",
              "      \u003cth\u003eCost\u003c/th\u003e\n",
              "      \u003cth\u003eItem Purchased\u003c/th\u003e\n",
              "      \u003cth\u003eName\u003c/th\u003e\n",
              "    \u003c/tr\u003e\n",
              "  \u003c/thead\u003e\n",
              "  \u003ctbody\u003e\n",
              "    \u003ctr\u003e\n",
              "      \u003cth\u003eStore 1\u003c/th\u003e\n",
              "      \u003ctd\u003e22.5\u003c/td\u003e\n",
              "      \u003ctd\u003eDog Food\u003c/td\u003e\n",
              "      \u003ctd\u003eChris\u003c/td\u003e\n",
              "    \u003c/tr\u003e\n",
              "    \u003ctr\u003e\n",
              "      \u003cth\u003eStore 1\u003c/th\u003e\n",
              "      \u003ctd\u003e2.5\u003c/td\u003e\n",
              "      \u003ctd\u003eKitty Litter\u003c/td\u003e\n",
              "      \u003ctd\u003eKevyn\u003c/td\u003e\n",
              "    \u003c/tr\u003e\n",
              "  \u003c/tbody\u003e\n",
              "\u003c/table\u003e\n",
              "\u003c/div\u003e"
            ],
            "text/plain": [
              "         Cost Item Purchased   Name\n",
              "Store 1  22.5       Dog Food  Chris\n",
              "Store 1   2.5   Kitty Litter  Kevyn"
            ]
          },
          "metadata": {
            "tags": []
          },
          "execution_count": 59
        }
      ]
    },
    {
      "metadata": {
        "id": "rJzrnxovBZwI",
        "colab_type": "code",
        "outputId": "6da9fdee-02bb-45d7-ad30-57e83f0d986e",
        "executionInfo": {
          "status": "ok",
          "timestamp": 1555005376974,
          "user_tz": 300,
          "elapsed": 163342,
          "user": {
            "displayName": "David Tan",
            "photoUrl": "",
            "userId": "15726769250755126620"
          }
        },
        "colab": {
          "base_uri": "https://localhost:8080/",
          "height": 68
        },
        "pycharm": {}
      },
      "cell_type": "code",
      "source": [
        "df.loc[\u0027Store 1\u0027, \u0027Cost\u0027]"
      ],
      "execution_count": 0,
      "outputs": [
        {
          "output_type": "execute_result",
          "data": {
            "text/plain": [
              "Store 1    22.5\n",
              "Store 1     2.5\n",
              "Name: Cost, dtype: float64"
            ]
          },
          "metadata": {
            "tags": []
          },
          "execution_count": 60
        }
      ]
    },
    {
      "metadata": {
        "id": "W1WImbiSBZwK",
        "colab_type": "code",
        "outputId": "ccc3ad4c-4dfa-4f93-83ce-2b499d601aee",
        "executionInfo": {
          "status": "ok",
          "timestamp": 1555005376975,
          "user_tz": 300,
          "elapsed": 163337,
          "user": {
            "displayName": "David Tan",
            "photoUrl": "",
            "userId": "15726769250755126620"
          }
        },
        "colab": {
          "base_uri": "https://localhost:8080/",
          "height": 142
        },
        "pycharm": {}
      },
      "cell_type": "code",
      "source": [
        "df.T"
      ],
      "execution_count": 0,
      "outputs": [
        {
          "output_type": "execute_result",
          "data": {
            "text/html": [
              "\u003cdiv\u003e\n",
              "\u003cstyle scoped\u003e\n",
              "    .dataframe tbody tr th:only-of-type {\n",
              "        vertical-align: middle;\n",
              "    }\n",
              "\n",
              "    .dataframe tbody tr th {\n",
              "        vertical-align: top;\n",
              "    }\n",
              "\n",
              "    .dataframe thead th {\n",
              "        text-align: right;\n",
              "    }\n",
              "\u003c/style\u003e\n",
              "\u003ctable border\u003d\"1\" class\u003d\"dataframe\"\u003e\n",
              "  \u003cthead\u003e\n",
              "    \u003ctr style\u003d\"text-align: right;\"\u003e\n",
              "      \u003cth\u003e\u003c/th\u003e\n",
              "      \u003cth\u003eStore 1\u003c/th\u003e\n",
              "      \u003cth\u003eStore 1\u003c/th\u003e\n",
              "      \u003cth\u003eStore 2\u003c/th\u003e\n",
              "    \u003c/tr\u003e\n",
              "  \u003c/thead\u003e\n",
              "  \u003ctbody\u003e\n",
              "    \u003ctr\u003e\n",
              "      \u003cth\u003eCost\u003c/th\u003e\n",
              "      \u003ctd\u003e22.5\u003c/td\u003e\n",
              "      \u003ctd\u003e2.5\u003c/td\u003e\n",
              "      \u003ctd\u003e5\u003c/td\u003e\n",
              "    \u003c/tr\u003e\n",
              "    \u003ctr\u003e\n",
              "      \u003cth\u003eItem Purchased\u003c/th\u003e\n",
              "      \u003ctd\u003eDog Food\u003c/td\u003e\n",
              "      \u003ctd\u003eKitty Litter\u003c/td\u003e\n",
              "      \u003ctd\u003eBird Seed\u003c/td\u003e\n",
              "    \u003c/tr\u003e\n",
              "    \u003ctr\u003e\n",
              "      \u003cth\u003eName\u003c/th\u003e\n",
              "      \u003ctd\u003eChris\u003c/td\u003e\n",
              "      \u003ctd\u003eKevyn\u003c/td\u003e\n",
              "      \u003ctd\u003eVinod\u003c/td\u003e\n",
              "    \u003c/tr\u003e\n",
              "  \u003c/tbody\u003e\n",
              "\u003c/table\u003e\n",
              "\u003c/div\u003e"
            ],
            "text/plain": [
              "                 Store 1       Store 1    Store 2\n",
              "Cost                22.5           2.5          5\n",
              "Item Purchased  Dog Food  Kitty Litter  Bird Seed\n",
              "Name               Chris         Kevyn      Vinod"
            ]
          },
          "metadata": {
            "tags": []
          },
          "execution_count": 61
        }
      ]
    },
    {
      "metadata": {
        "id": "Nr2bsG7WBZwM",
        "colab_type": "code",
        "outputId": "116bc9e2-fbf4-4764-b7b4-bd9f1d6c9aac",
        "executionInfo": {
          "status": "ok",
          "timestamp": 1555005376976,
          "user_tz": 300,
          "elapsed": 163332,
          "user": {
            "displayName": "David Tan",
            "photoUrl": "",
            "userId": "15726769250755126620"
          }
        },
        "colab": {
          "base_uri": "https://localhost:8080/",
          "height": 85
        },
        "pycharm": {}
      },
      "cell_type": "code",
      "source": [
        "df.T.loc[\u0027Cost\u0027]"
      ],
      "execution_count": 0,
      "outputs": [
        {
          "output_type": "execute_result",
          "data": {
            "text/plain": [
              "Store 1    22.5\n",
              "Store 1     2.5\n",
              "Store 2       5\n",
              "Name: Cost, dtype: object"
            ]
          },
          "metadata": {
            "tags": []
          },
          "execution_count": 62
        }
      ]
    },
    {
      "metadata": {
        "id": "GjlxWPo5BZwN",
        "colab_type": "code",
        "outputId": "101fe269-d271-485a-86bf-0603e15c858b",
        "executionInfo": {
          "status": "ok",
          "timestamp": 1555005376976,
          "user_tz": 300,
          "elapsed": 163326,
          "user": {
            "displayName": "David Tan",
            "photoUrl": "",
            "userId": "15726769250755126620"
          }
        },
        "colab": {
          "base_uri": "https://localhost:8080/",
          "height": 85
        },
        "pycharm": {}
      },
      "cell_type": "code",
      "source": [
        "df[\u0027Cost\u0027]"
      ],
      "execution_count": 0,
      "outputs": [
        {
          "output_type": "execute_result",
          "data": {
            "text/plain": [
              "Store 1    22.5\n",
              "Store 1     2.5\n",
              "Store 2     5.0\n",
              "Name: Cost, dtype: float64"
            ]
          },
          "metadata": {
            "tags": []
          },
          "execution_count": 63
        }
      ]
    },
    {
      "metadata": {
        "id": "qJ1RXoR5BZwP",
        "colab_type": "code",
        "outputId": "fc206ed9-7e85-4dfd-f3b7-5e8c61ecb36d",
        "executionInfo": {
          "status": "ok",
          "timestamp": 1555005376977,
          "user_tz": 300,
          "elapsed": 163319,
          "user": {
            "displayName": "David Tan",
            "photoUrl": "",
            "userId": "15726769250755126620"
          }
        },
        "colab": {
          "base_uri": "https://localhost:8080/",
          "height": 68
        },
        "pycharm": {}
      },
      "cell_type": "code",
      "source": [
        "df.loc[\u0027Store 1\u0027][\u0027Cost\u0027]"
      ],
      "execution_count": 0,
      "outputs": [
        {
          "output_type": "execute_result",
          "data": {
            "text/plain": [
              "Store 1    22.5\n",
              "Store 1     2.5\n",
              "Name: Cost, dtype: float64"
            ]
          },
          "metadata": {
            "tags": []
          },
          "execution_count": 64
        }
      ]
    },
    {
      "metadata": {
        "id": "TbKzokKXBZwS",
        "colab_type": "code",
        "outputId": "436bfb64-482f-44f9-9d5d-4f3179100525",
        "executionInfo": {
          "status": "ok",
          "timestamp": 1555005376979,
          "user_tz": 300,
          "elapsed": 163315,
          "user": {
            "displayName": "David Tan",
            "photoUrl": "",
            "userId": "15726769250755126620"
          }
        },
        "colab": {
          "base_uri": "https://localhost:8080/",
          "height": 142
        },
        "pycharm": {}
      },
      "cell_type": "code",
      "source": [
        "df.loc[:,[\u0027Name\u0027, \u0027Cost\u0027]]"
      ],
      "execution_count": 0,
      "outputs": [
        {
          "output_type": "execute_result",
          "data": {
            "text/html": [
              "\u003cdiv\u003e\n",
              "\u003cstyle scoped\u003e\n",
              "    .dataframe tbody tr th:only-of-type {\n",
              "        vertical-align: middle;\n",
              "    }\n",
              "\n",
              "    .dataframe tbody tr th {\n",
              "        vertical-align: top;\n",
              "    }\n",
              "\n",
              "    .dataframe thead th {\n",
              "        text-align: right;\n",
              "    }\n",
              "\u003c/style\u003e\n",
              "\u003ctable border\u003d\"1\" class\u003d\"dataframe\"\u003e\n",
              "  \u003cthead\u003e\n",
              "    \u003ctr style\u003d\"text-align: right;\"\u003e\n",
              "      \u003cth\u003e\u003c/th\u003e\n",
              "      \u003cth\u003eName\u003c/th\u003e\n",
              "      \u003cth\u003eCost\u003c/th\u003e\n",
              "    \u003c/tr\u003e\n",
              "  \u003c/thead\u003e\n",
              "  \u003ctbody\u003e\n",
              "    \u003ctr\u003e\n",
              "      \u003cth\u003eStore 1\u003c/th\u003e\n",
              "      \u003ctd\u003eChris\u003c/td\u003e\n",
              "      \u003ctd\u003e22.5\u003c/td\u003e\n",
              "    \u003c/tr\u003e\n",
              "    \u003ctr\u003e\n",
              "      \u003cth\u003eStore 1\u003c/th\u003e\n",
              "      \u003ctd\u003eKevyn\u003c/td\u003e\n",
              "      \u003ctd\u003e2.5\u003c/td\u003e\n",
              "    \u003c/tr\u003e\n",
              "    \u003ctr\u003e\n",
              "      \u003cth\u003eStore 2\u003c/th\u003e\n",
              "      \u003ctd\u003eVinod\u003c/td\u003e\n",
              "      \u003ctd\u003e5.0\u003c/td\u003e\n",
              "    \u003c/tr\u003e\n",
              "  \u003c/tbody\u003e\n",
              "\u003c/table\u003e\n",
              "\u003c/div\u003e"
            ],
            "text/plain": [
              "          Name  Cost\n",
              "Store 1  Chris  22.5\n",
              "Store 1  Kevyn   2.5\n",
              "Store 2  Vinod   5.0"
            ]
          },
          "metadata": {
            "tags": []
          },
          "execution_count": 65
        }
      ]
    },
    {
      "metadata": {
        "id": "se6tLQfRBZwU",
        "colab_type": "code",
        "outputId": "2910fa4c-8a8d-46f7-8a50-ad4030de1d60",
        "executionInfo": {
          "status": "ok",
          "timestamp": 1555005376980,
          "user_tz": 300,
          "elapsed": 163311,
          "user": {
            "displayName": "David Tan",
            "photoUrl": "",
            "userId": "15726769250755126620"
          }
        },
        "colab": {
          "base_uri": "https://localhost:8080/",
          "height": 80
        },
        "pycharm": {}
      },
      "cell_type": "code",
      "source": [
        "df.drop(\u0027Store 1\u0027)"
      ],
      "execution_count": 0,
      "outputs": [
        {
          "output_type": "execute_result",
          "data": {
            "text/html": [
              "\u003cdiv\u003e\n",
              "\u003cstyle scoped\u003e\n",
              "    .dataframe tbody tr th:only-of-type {\n",
              "        vertical-align: middle;\n",
              "    }\n",
              "\n",
              "    .dataframe tbody tr th {\n",
              "        vertical-align: top;\n",
              "    }\n",
              "\n",
              "    .dataframe thead th {\n",
              "        text-align: right;\n",
              "    }\n",
              "\u003c/style\u003e\n",
              "\u003ctable border\u003d\"1\" class\u003d\"dataframe\"\u003e\n",
              "  \u003cthead\u003e\n",
              "    \u003ctr style\u003d\"text-align: right;\"\u003e\n",
              "      \u003cth\u003e\u003c/th\u003e\n",
              "      \u003cth\u003eCost\u003c/th\u003e\n",
              "      \u003cth\u003eItem Purchased\u003c/th\u003e\n",
              "      \u003cth\u003eName\u003c/th\u003e\n",
              "    \u003c/tr\u003e\n",
              "  \u003c/thead\u003e\n",
              "  \u003ctbody\u003e\n",
              "    \u003ctr\u003e\n",
              "      \u003cth\u003eStore 2\u003c/th\u003e\n",
              "      \u003ctd\u003e5.0\u003c/td\u003e\n",
              "      \u003ctd\u003eBird Seed\u003c/td\u003e\n",
              "      \u003ctd\u003eVinod\u003c/td\u003e\n",
              "    \u003c/tr\u003e\n",
              "  \u003c/tbody\u003e\n",
              "\u003c/table\u003e\n",
              "\u003c/div\u003e"
            ],
            "text/plain": [
              "         Cost Item Purchased   Name\n",
              "Store 2   5.0      Bird Seed  Vinod"
            ]
          },
          "metadata": {
            "tags": []
          },
          "execution_count": 66
        }
      ]
    },
    {
      "metadata": {
        "id": "17etLl63BZwV",
        "colab_type": "code",
        "outputId": "648a30fd-9522-4479-9ba7-ba6e14a0a888",
        "executionInfo": {
          "status": "ok",
          "timestamp": 1555005376980,
          "user_tz": 300,
          "elapsed": 163304,
          "user": {
            "displayName": "David Tan",
            "photoUrl": "",
            "userId": "15726769250755126620"
          }
        },
        "colab": {
          "base_uri": "https://localhost:8080/",
          "height": 142
        },
        "pycharm": {}
      },
      "cell_type": "code",
      "source": [
        "df"
      ],
      "execution_count": 0,
      "outputs": [
        {
          "output_type": "execute_result",
          "data": {
            "text/html": [
              "\u003cdiv\u003e\n",
              "\u003cstyle scoped\u003e\n",
              "    .dataframe tbody tr th:only-of-type {\n",
              "        vertical-align: middle;\n",
              "    }\n",
              "\n",
              "    .dataframe tbody tr th {\n",
              "        vertical-align: top;\n",
              "    }\n",
              "\n",
              "    .dataframe thead th {\n",
              "        text-align: right;\n",
              "    }\n",
              "\u003c/style\u003e\n",
              "\u003ctable border\u003d\"1\" class\u003d\"dataframe\"\u003e\n",
              "  \u003cthead\u003e\n",
              "    \u003ctr style\u003d\"text-align: right;\"\u003e\n",
              "      \u003cth\u003e\u003c/th\u003e\n",
              "      \u003cth\u003eCost\u003c/th\u003e\n",
              "      \u003cth\u003eItem Purchased\u003c/th\u003e\n",
              "      \u003cth\u003eName\u003c/th\u003e\n",
              "    \u003c/tr\u003e\n",
              "  \u003c/thead\u003e\n",
              "  \u003ctbody\u003e\n",
              "    \u003ctr\u003e\n",
              "      \u003cth\u003eStore 1\u003c/th\u003e\n",
              "      \u003ctd\u003e22.5\u003c/td\u003e\n",
              "      \u003ctd\u003eDog Food\u003c/td\u003e\n",
              "      \u003ctd\u003eChris\u003c/td\u003e\n",
              "    \u003c/tr\u003e\n",
              "    \u003ctr\u003e\n",
              "      \u003cth\u003eStore 1\u003c/th\u003e\n",
              "      \u003ctd\u003e2.5\u003c/td\u003e\n",
              "      \u003ctd\u003eKitty Litter\u003c/td\u003e\n",
              "      \u003ctd\u003eKevyn\u003c/td\u003e\n",
              "    \u003c/tr\u003e\n",
              "    \u003ctr\u003e\n",
              "      \u003cth\u003eStore 2\u003c/th\u003e\n",
              "      \u003ctd\u003e5.0\u003c/td\u003e\n",
              "      \u003ctd\u003eBird Seed\u003c/td\u003e\n",
              "      \u003ctd\u003eVinod\u003c/td\u003e\n",
              "    \u003c/tr\u003e\n",
              "  \u003c/tbody\u003e\n",
              "\u003c/table\u003e\n",
              "\u003c/div\u003e"
            ],
            "text/plain": [
              "         Cost Item Purchased   Name\n",
              "Store 1  22.5       Dog Food  Chris\n",
              "Store 1   2.5   Kitty Litter  Kevyn\n",
              "Store 2   5.0      Bird Seed  Vinod"
            ]
          },
          "metadata": {
            "tags": []
          },
          "execution_count": 67
        }
      ]
    },
    {
      "metadata": {
        "id": "i3057MoSBZwW",
        "colab_type": "code",
        "outputId": "03d068c9-fb32-4703-c8f6-e00f5c92f557",
        "executionInfo": {
          "status": "ok",
          "timestamp": 1555005376981,
          "user_tz": 300,
          "elapsed": 163298,
          "user": {
            "displayName": "David Tan",
            "photoUrl": "",
            "userId": "15726769250755126620"
          }
        },
        "colab": {
          "base_uri": "https://localhost:8080/",
          "height": 80
        },
        "pycharm": {}
      },
      "cell_type": "code",
      "source": [
        "copy_df \u003d df.copy()\n",
        "copy_df \u003d copy_df.drop(\u0027Store 1\u0027)\n",
        "copy_df"
      ],
      "execution_count": 0,
      "outputs": [
        {
          "output_type": "execute_result",
          "data": {
            "text/html": [
              "\u003cdiv\u003e\n",
              "\u003cstyle scoped\u003e\n",
              "    .dataframe tbody tr th:only-of-type {\n",
              "        vertical-align: middle;\n",
              "    }\n",
              "\n",
              "    .dataframe tbody tr th {\n",
              "        vertical-align: top;\n",
              "    }\n",
              "\n",
              "    .dataframe thead th {\n",
              "        text-align: right;\n",
              "    }\n",
              "\u003c/style\u003e\n",
              "\u003ctable border\u003d\"1\" class\u003d\"dataframe\"\u003e\n",
              "  \u003cthead\u003e\n",
              "    \u003ctr style\u003d\"text-align: right;\"\u003e\n",
              "      \u003cth\u003e\u003c/th\u003e\n",
              "      \u003cth\u003eCost\u003c/th\u003e\n",
              "      \u003cth\u003eItem Purchased\u003c/th\u003e\n",
              "      \u003cth\u003eName\u003c/th\u003e\n",
              "    \u003c/tr\u003e\n",
              "  \u003c/thead\u003e\n",
              "  \u003ctbody\u003e\n",
              "    \u003ctr\u003e\n",
              "      \u003cth\u003eStore 2\u003c/th\u003e\n",
              "      \u003ctd\u003e5.0\u003c/td\u003e\n",
              "      \u003ctd\u003eBird Seed\u003c/td\u003e\n",
              "      \u003ctd\u003eVinod\u003c/td\u003e\n",
              "    \u003c/tr\u003e\n",
              "  \u003c/tbody\u003e\n",
              "\u003c/table\u003e\n",
              "\u003c/div\u003e"
            ],
            "text/plain": [
              "         Cost Item Purchased   Name\n",
              "Store 2   5.0      Bird Seed  Vinod"
            ]
          },
          "metadata": {
            "tags": []
          },
          "execution_count": 68
        }
      ]
    },
    {
      "metadata": {
        "id": "ieiltjIsBZwY",
        "colab_type": "code",
        "colab": {},
        "pycharm": {}
      },
      "cell_type": "code",
      "source": [
        "copy_df.drop?"
      ],
      "execution_count": 0,
      "outputs": []
    },
    {
      "metadata": {
        "id": "nRoLKysMBZwa",
        "colab_type": "code",
        "outputId": "91c03351-28a6-49b4-b440-925602107992",
        "executionInfo": {
          "status": "ok",
          "timestamp": 1555005377012,
          "user_tz": 300,
          "elapsed": 163319,
          "user": {
            "displayName": "David Tan",
            "photoUrl": "",
            "userId": "15726769250755126620"
          }
        },
        "colab": {
          "base_uri": "https://localhost:8080/",
          "height": 80
        },
        "pycharm": {}
      },
      "cell_type": "code",
      "source": [
        "del copy_df[\u0027Name\u0027]\n",
        "copy_df"
      ],
      "execution_count": 0,
      "outputs": [
        {
          "output_type": "execute_result",
          "data": {
            "text/html": [
              "\u003cdiv\u003e\n",
              "\u003cstyle scoped\u003e\n",
              "    .dataframe tbody tr th:only-of-type {\n",
              "        vertical-align: middle;\n",
              "    }\n",
              "\n",
              "    .dataframe tbody tr th {\n",
              "        vertical-align: top;\n",
              "    }\n",
              "\n",
              "    .dataframe thead th {\n",
              "        text-align: right;\n",
              "    }\n",
              "\u003c/style\u003e\n",
              "\u003ctable border\u003d\"1\" class\u003d\"dataframe\"\u003e\n",
              "  \u003cthead\u003e\n",
              "    \u003ctr style\u003d\"text-align: right;\"\u003e\n",
              "      \u003cth\u003e\u003c/th\u003e\n",
              "      \u003cth\u003eCost\u003c/th\u003e\n",
              "      \u003cth\u003eItem Purchased\u003c/th\u003e\n",
              "    \u003c/tr\u003e\n",
              "  \u003c/thead\u003e\n",
              "  \u003ctbody\u003e\n",
              "    \u003ctr\u003e\n",
              "      \u003cth\u003eStore 2\u003c/th\u003e\n",
              "      \u003ctd\u003e5.0\u003c/td\u003e\n",
              "      \u003ctd\u003eBird Seed\u003c/td\u003e\n",
              "    \u003c/tr\u003e\n",
              "  \u003c/tbody\u003e\n",
              "\u003c/table\u003e\n",
              "\u003c/div\u003e"
            ],
            "text/plain": [
              "         Cost Item Purchased\n",
              "Store 2   5.0      Bird Seed"
            ]
          },
          "metadata": {
            "tags": []
          },
          "execution_count": 70
        }
      ]
    },
    {
      "metadata": {
        "id": "ScRHjjueBZwb",
        "colab_type": "code",
        "outputId": "c5db0011-4f92-476e-a23f-46309308d0b1",
        "executionInfo": {
          "status": "ok",
          "timestamp": 1555005377013,
          "user_tz": 300,
          "elapsed": 163314,
          "user": {
            "displayName": "David Tan",
            "photoUrl": "",
            "userId": "15726769250755126620"
          }
        },
        "colab": {
          "base_uri": "https://localhost:8080/",
          "height": 142
        },
        "pycharm": {}
      },
      "cell_type": "code",
      "source": [
        "df[\u0027Location\u0027] \u003d None\n",
        "df"
      ],
      "execution_count": 0,
      "outputs": [
        {
          "output_type": "execute_result",
          "data": {
            "text/html": [
              "\u003cdiv\u003e\n",
              "\u003cstyle scoped\u003e\n",
              "    .dataframe tbody tr th:only-of-type {\n",
              "        vertical-align: middle;\n",
              "    }\n",
              "\n",
              "    .dataframe tbody tr th {\n",
              "        vertical-align: top;\n",
              "    }\n",
              "\n",
              "    .dataframe thead th {\n",
              "        text-align: right;\n",
              "    }\n",
              "\u003c/style\u003e\n",
              "\u003ctable border\u003d\"1\" class\u003d\"dataframe\"\u003e\n",
              "  \u003cthead\u003e\n",
              "    \u003ctr style\u003d\"text-align: right;\"\u003e\n",
              "      \u003cth\u003e\u003c/th\u003e\n",
              "      \u003cth\u003eCost\u003c/th\u003e\n",
              "      \u003cth\u003eItem Purchased\u003c/th\u003e\n",
              "      \u003cth\u003eName\u003c/th\u003e\n",
              "      \u003cth\u003eLocation\u003c/th\u003e\n",
              "    \u003c/tr\u003e\n",
              "  \u003c/thead\u003e\n",
              "  \u003ctbody\u003e\n",
              "    \u003ctr\u003e\n",
              "      \u003cth\u003eStore 1\u003c/th\u003e\n",
              "      \u003ctd\u003e22.5\u003c/td\u003e\n",
              "      \u003ctd\u003eDog Food\u003c/td\u003e\n",
              "      \u003ctd\u003eChris\u003c/td\u003e\n",
              "      \u003ctd\u003eNone\u003c/td\u003e\n",
              "    \u003c/tr\u003e\n",
              "    \u003ctr\u003e\n",
              "      \u003cth\u003eStore 1\u003c/th\u003e\n",
              "      \u003ctd\u003e2.5\u003c/td\u003e\n",
              "      \u003ctd\u003eKitty Litter\u003c/td\u003e\n",
              "      \u003ctd\u003eKevyn\u003c/td\u003e\n",
              "      \u003ctd\u003eNone\u003c/td\u003e\n",
              "    \u003c/tr\u003e\n",
              "    \u003ctr\u003e\n",
              "      \u003cth\u003eStore 2\u003c/th\u003e\n",
              "      \u003ctd\u003e5.0\u003c/td\u003e\n",
              "      \u003ctd\u003eBird Seed\u003c/td\u003e\n",
              "      \u003ctd\u003eVinod\u003c/td\u003e\n",
              "      \u003ctd\u003eNone\u003c/td\u003e\n",
              "    \u003c/tr\u003e\n",
              "  \u003c/tbody\u003e\n",
              "\u003c/table\u003e\n",
              "\u003c/div\u003e"
            ],
            "text/plain": [
              "         Cost Item Purchased   Name Location\n",
              "Store 1  22.5       Dog Food  Chris     None\n",
              "Store 1   2.5   Kitty Litter  Kevyn     None\n",
              "Store 2   5.0      Bird Seed  Vinod     None"
            ]
          },
          "metadata": {
            "tags": []
          },
          "execution_count": 71
        }
      ]
    },
    {
      "metadata": {
        "collapsed": true,
        "id": "YB5SSetqBZwe",
        "colab_type": "text",
        "pycharm": {}
      },
      "cell_type": "markdown",
      "source": [
        "# Dataframe Indexing and Loading"
      ]
    },
    {
      "metadata": {
        "id": "y3UO1q4-BZwe",
        "colab_type": "code",
        "outputId": "570ffe84-95d5-4be2-b9ae-a51a1f1e7006",
        "executionInfo": {
          "status": "ok",
          "timestamp": 1555005377014,
          "user_tz": 300,
          "elapsed": 163311,
          "user": {
            "displayName": "David Tan",
            "photoUrl": "",
            "userId": "15726769250755126620"
          }
        },
        "colab": {
          "base_uri": "https://localhost:8080/",
          "height": 85
        },
        "pycharm": {}
      },
      "cell_type": "code",
      "source": [
        "costs \u003d df[\u0027Cost\u0027]\n",
        "costs"
      ],
      "execution_count": 0,
      "outputs": [
        {
          "output_type": "execute_result",
          "data": {
            "text/plain": [
              "Store 1    22.5\n",
              "Store 1     2.5\n",
              "Store 2     5.0\n",
              "Name: Cost, dtype: float64"
            ]
          },
          "metadata": {
            "tags": []
          },
          "execution_count": 72
        }
      ]
    },
    {
      "metadata": {
        "id": "vGU9Ia6VBZwh",
        "colab_type": "code",
        "outputId": "805565d5-5ba4-484c-9229-aa62e807c38c",
        "executionInfo": {
          "status": "ok",
          "timestamp": 1555005377014,
          "user_tz": 300,
          "elapsed": 163306,
          "user": {
            "displayName": "David Tan",
            "photoUrl": "",
            "userId": "15726769250755126620"
          }
        },
        "colab": {
          "base_uri": "https://localhost:8080/",
          "height": 85
        },
        "pycharm": {}
      },
      "cell_type": "code",
      "source": [
        "costs+\u003d2\n",
        "costs"
      ],
      "execution_count": 0,
      "outputs": [
        {
          "output_type": "execute_result",
          "data": {
            "text/plain": [
              "Store 1    24.5\n",
              "Store 1     4.5\n",
              "Store 2     7.0\n",
              "Name: Cost, dtype: float64"
            ]
          },
          "metadata": {
            "tags": []
          },
          "execution_count": 73
        }
      ]
    },
    {
      "metadata": {
        "id": "ATZYu7o2BZwi",
        "colab_type": "code",
        "outputId": "434678d9-85a4-4e43-fde1-85cb4dcefc68",
        "executionInfo": {
          "status": "ok",
          "timestamp": 1555005377015,
          "user_tz": 300,
          "elapsed": 163302,
          "user": {
            "displayName": "David Tan",
            "photoUrl": "",
            "userId": "15726769250755126620"
          }
        },
        "colab": {
          "base_uri": "https://localhost:8080/",
          "height": 142
        },
        "pycharm": {}
      },
      "cell_type": "code",
      "source": [
        "df"
      ],
      "execution_count": 0,
      "outputs": [
        {
          "output_type": "execute_result",
          "data": {
            "text/html": [
              "\u003cdiv\u003e\n",
              "\u003cstyle scoped\u003e\n",
              "    .dataframe tbody tr th:only-of-type {\n",
              "        vertical-align: middle;\n",
              "    }\n",
              "\n",
              "    .dataframe tbody tr th {\n",
              "        vertical-align: top;\n",
              "    }\n",
              "\n",
              "    .dataframe thead th {\n",
              "        text-align: right;\n",
              "    }\n",
              "\u003c/style\u003e\n",
              "\u003ctable border\u003d\"1\" class\u003d\"dataframe\"\u003e\n",
              "  \u003cthead\u003e\n",
              "    \u003ctr style\u003d\"text-align: right;\"\u003e\n",
              "      \u003cth\u003e\u003c/th\u003e\n",
              "      \u003cth\u003eCost\u003c/th\u003e\n",
              "      \u003cth\u003eItem Purchased\u003c/th\u003e\n",
              "      \u003cth\u003eName\u003c/th\u003e\n",
              "      \u003cth\u003eLocation\u003c/th\u003e\n",
              "    \u003c/tr\u003e\n",
              "  \u003c/thead\u003e\n",
              "  \u003ctbody\u003e\n",
              "    \u003ctr\u003e\n",
              "      \u003cth\u003eStore 1\u003c/th\u003e\n",
              "      \u003ctd\u003e24.5\u003c/td\u003e\n",
              "      \u003ctd\u003eDog Food\u003c/td\u003e\n",
              "      \u003ctd\u003eChris\u003c/td\u003e\n",
              "      \u003ctd\u003eNone\u003c/td\u003e\n",
              "    \u003c/tr\u003e\n",
              "    \u003ctr\u003e\n",
              "      \u003cth\u003eStore 1\u003c/th\u003e\n",
              "      \u003ctd\u003e4.5\u003c/td\u003e\n",
              "      \u003ctd\u003eKitty Litter\u003c/td\u003e\n",
              "      \u003ctd\u003eKevyn\u003c/td\u003e\n",
              "      \u003ctd\u003eNone\u003c/td\u003e\n",
              "    \u003c/tr\u003e\n",
              "    \u003ctr\u003e\n",
              "      \u003cth\u003eStore 2\u003c/th\u003e\n",
              "      \u003ctd\u003e7.0\u003c/td\u003e\n",
              "      \u003ctd\u003eBird Seed\u003c/td\u003e\n",
              "      \u003ctd\u003eVinod\u003c/td\u003e\n",
              "      \u003ctd\u003eNone\u003c/td\u003e\n",
              "    \u003c/tr\u003e\n",
              "  \u003c/tbody\u003e\n",
              "\u003c/table\u003e\n",
              "\u003c/div\u003e"
            ],
            "text/plain": [
              "         Cost Item Purchased   Name Location\n",
              "Store 1  24.5       Dog Food  Chris     None\n",
              "Store 1   4.5   Kitty Litter  Kevyn     None\n",
              "Store 2   7.0      Bird Seed  Vinod     None"
            ]
          },
          "metadata": {
            "tags": []
          },
          "execution_count": 74
        }
      ]
    },
    {
      "metadata": {
        "id": "rQE1pU3AF1iV",
        "colab_type": "code",
        "colab": {
          "resources": {
            "http://localhost:8080/nbextensions/google.colab/files.js": {
              "data": "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\u003d",
              "ok": true,
              "headers": [
                [
                  "content-type",
                  "application/javascript"
                ]
              ],
              "status": 200,
              "status_text": ""
            }
          },
          "base_uri": "https://localhost:8080/",
          "height": 71
        },
        "outputId": "c289c215-a08b-4fa4-d766-ba61429dd902",
        "executionInfo": {
          "status": "ok",
          "timestamp": 1555014607512,
          "user_tz": 300,
          "elapsed": 5376,
          "user": {
            "displayName": "David Tan",
            "photoUrl": "",
            "userId": "15726769250755126620"
          }
        },
        "pycharm": {}
      },
      "cell_type": "code",
      "source": [
        "import numpy as np\n",
        "import pandas as pd\n",
        "from google.colab import files\n",
        "uploaded \u003d files.upload()"
      ],
      "execution_count": 2,
      "outputs": [
        {
          "output_type": "display_data",
          "data": {
            "text/html": [
              "\n",
              "     \u003cinput type\u003d\"file\" id\u003d\"files-bd677091-134e-4af1-9523-b4ed76f0b54c\" name\u003d\"files[]\" multiple disabled /\u003e\n",
              "     \u003coutput id\u003d\"result-bd677091-134e-4af1-9523-b4ed76f0b54c\"\u003e\n",
              "      Upload widget is only available when the cell has been executed in the\n",
              "      current browser session. Please rerun this cell to enable.\n",
              "      \u003c/output\u003e\n",
              "      \u003cscript src\u003d\"/nbextensions/google.colab/files.js\"\u003e\u003c/script\u003e "
            ],
            "text/plain": [
              "\u003cIPython.core.display.HTML object\u003e"
            ]
          },
          "metadata": {
            "tags": []
          }
        },
        {
          "output_type": "stream",
          "text": [
            "Saving olympics.csv to olympics.csv\n"
          ],
          "name": "stdout"
        }
      ]
    },
    {
      "metadata": {
        "id": "Q-MrLdRCBZwj",
        "colab_type": "code",
        "outputId": "e485d054-d58b-474c-abee-3b397d16b221",
        "executionInfo": {
          "status": "ok",
          "timestamp": 1555014617535,
          "user_tz": 300,
          "elapsed": 1282,
          "user": {
            "displayName": "David Tan",
            "photoUrl": "",
            "userId": "15726769250755126620"
          }
        },
        "colab": {
          "base_uri": "https://localhost:8080/",
          "height": 2550
        },
        "pycharm": {}
      },
      "cell_type": "code",
      "source": [
        "!cat olympics.csv"
      ],
      "execution_count": 3,
      "outputs": [
        {
          "output_type": "stream",
          "text": [
            "0,1,2,3,4,5,6,7,8,9,10,11,12,13,14,15\n",
            ",№ Summer,01 !,02 !,03 !,Total,№ Winter,01 !,02 !,03 !,Total,№ Games,01 !,02 !,03 !,Combined total\n",
            "Afghanistan (AFG),13,0,0,2,2,0,0,0,0,0,13,0,0,2,2\n",
            "Algeria (ALG),12,5,2,8,15,3,0,0,0,0,15,5,2,8,15\n",
            "Argentina (ARG),23,18,24,28,70,18,0,0,0,0,41,18,24,28,70\n",
            "Armenia (ARM),5,1,2,9,12,6,0,0,0,0,11,1,2,9,12\n",
            "Australasia (ANZ) [ANZ],2,3,4,5,12,0,0,0,0,0,2,3,4,5,12\n",
            "Australia (AUS) [AUS] [Z],25,139,152,177,468,18,5,3,4,12,43,144,155,181,480\n",
            "Austria (AUT),26,18,33,35,86,22,59,78,81,218,48,77,111,116,304\n",
            "Azerbaijan (AZE),5,6,5,15,26,5,0,0,0,0,10,6,5,15,26\n",
            "Bahamas (BAH),15,5,2,5,12,0,0,0,0,0,15,5,2,5,12\n",
            "Bahrain (BRN),8,0,0,1,1,0,0,0,0,0,8,0,0,1,1\n",
            "Barbados (BAR) [BAR],11,0,0,1,1,0,0,0,0,0,11,0,0,1,1\n",
            "Belarus (BLR),5,12,24,39,75,6,6,4,5,15,11,18,28,44,90\n",
            "Belgium (BEL),25,37,52,53,142,20,1,1,3,5,45,38,53,56,147\n",
            "Bermuda (BER),17,0,0,1,1,7,0,0,0,0,24,0,0,1,1\n",
            "Bohemia (BOH) [BOH] [Z],3,0,1,3,4,0,0,0,0,0,3,0,1,3,4\n",
            "Botswana (BOT),9,0,1,0,1,0,0,0,0,0,9,0,1,0,1\n",
            "Brazil (BRA),21,23,30,55,108,7,0,0,0,0,28,23,30,55,108\n",
            "British West Indies (BWI) [BWI],1,0,0,2,2,0,0,0,0,0,1,0,0,2,2\n",
            "Bulgaria (BUL) [H],19,51,85,78,214,19,1,2,3,6,38,52,87,81,220\n",
            "Burundi (BDI),5,1,0,0,1,0,0,0,0,0,5,1,0,0,1\n",
            "Cameroon (CMR),13,3,1,1,5,1,0,0,0,0,14,3,1,1,5\n",
            "Canada (CAN),25,59,99,121,279,22,62,56,52,170,47,121,155,173,449\n",
            "Chile (CHI) [I],22,2,7,4,13,16,0,0,0,0,38,2,7,4,13\n",
            "China (CHN) [CHN],9,201,146,126,473,10,12,22,19,53,19,213,168,145,526\n",
            "Colombia (COL),18,2,6,11,19,1,0,0,0,0,19,2,6,11,19\n",
            "Costa Rica (CRC),14,1,1,2,4,6,0,0,0,0,20,1,1,2,4\n",
            "Ivory Coast (CIV) [CIV],12,0,1,0,1,0,0,0,0,0,12,0,1,0,1\n",
            "Croatia (CRO),6,6,7,10,23,7,4,6,1,11,13,10,13,11,34\n",
            "Cuba (CUB) [Z],19,72,67,70,209,0,0,0,0,0,19,72,67,70,209\n",
            "Cyprus (CYP),9,0,1,0,1,10,0,0,0,0,19,0,1,0,1\n",
            "Czech Republic (CZE) [CZE],5,14,15,15,44,6,7,9,8,24,11,21,24,23,68\n",
            "Czechoslovakia (TCH) [TCH],16,49,49,45,143,16,2,8,15,25,32,51,57,60,168\n",
            "Denmark (DEN) [Z],26,43,68,68,179,13,0,1,0,1,39,43,69,68,180\n",
            "Djibouti (DJI) [B],7,0,0,1,1,0,0,0,0,0,7,0,0,1,1\n",
            "Dominican Republic (DOM),13,3,2,1,6,0,0,0,0,0,13,3,2,1,6\n",
            "Ecuador (ECU),13,1,1,0,2,0,0,0,0,0,13,1,1,0,2\n",
            "Egypt (EGY) [EGY] [Z],21,7,9,10,26,1,0,0,0,0,22,7,9,10,26\n",
            "Eritrea (ERI),4,0,0,1,1,0,0,0,0,0,4,0,0,1,1\n",
            "Estonia (EST),11,9,9,15,33,9,4,2,1,7,20,13,11,16,40\n",
            "Ethiopia (ETH),12,21,7,17,45,2,0,0,0,0,14,21,7,17,45\n",
            "Finland (FIN),24,101,84,117,302,22,42,62,57,161,46,143,146,174,463\n",
            "France (FRA) [O] [P] [Z],27,202,223,246,671,22,31,31,47,109,49,233,254,293,780\n",
            "Gabon (GAB),9,0,1,0,1,0,0,0,0,0,9,0,1,0,1\n",
            "Georgia (GEO),5,6,5,14,25,6,0,0,0,0,11,6,5,14,25\n",
            "Germany (GER) [GER] [Z],15,174,182,217,573,11,78,78,53,209,26,252,260,270,782\n",
            "United Team of Germany (EUA) [EUA],3,28,54,36,118,3,8,6,5,19,6,36,60,41,137\n",
            "East Germany (GDR) [GDR],5,153,129,127,409,6,39,36,35,110,11,192,165,162,519\n",
            "West Germany (FRG) [FRG],5,56,67,81,204,6,11,15,13,39,11,67,82,94,243\n",
            "Ghana (GHA) [GHA],13,0,1,3,4,1,0,0,0,0,14,0,1,3,4\n",
            "Great Britain (GBR) [GBR] [Z],27,236,272,272,780,22,10,4,12,26,49,246,276,284,806\n",
            "Greece (GRE) [Z],27,30,42,39,111,18,0,0,0,0,45,30,42,39,111\n",
            "Grenada (GRN),8,1,0,0,1,0,0,0,0,0,8,1,0,0,1\n",
            "Guatemala (GUA),13,0,1,0,1,1,0,0,0,0,14,0,1,0,1\n",
            "Guyana (GUY) [GUY],16,0,0,1,1,0,0,0,0,0,16,0,0,1,1\n",
            "Haiti (HAI) [J],14,0,1,1,2,0,0,0,0,0,14,0,1,1,2\n",
            "Hong Kong (HKG) [HKG],15,1,1,1,3,4,0,0,0,0,19,1,1,1,3\n",
            "Hungary (HUN),25,167,144,165,476,22,0,2,4,6,47,167,146,169,482\n",
            "Iceland (ISL),19,0,2,2,4,17,0,0,0,0,36,0,2,2,4\n",
            "India (IND) [F],23,9,6,11,26,9,0,0,0,0,32,9,6,11,26\n",
            "Indonesia (INA),14,6,10,11,27,0,0,0,0,0,14,6,10,11,27\n",
            "Iran (IRI) [K],15,15,20,25,60,10,0,0,0,0,25,15,20,25,60\n",
            "Iraq (IRQ),13,0,0,1,1,0,0,0,0,0,13,0,0,1,1\n",
            "Ireland (IRL),20,9,8,12,29,6,0,0,0,0,26,9,8,12,29\n",
            "Israel (ISR),15,1,1,5,7,6,0,0,0,0,21,1,1,5,7\n",
            "Italy (ITA) [M] [S],26,198,166,185,549,22,37,34,43,114,48,235,200,228,663\n",
            "Jamaica (JAM) [JAM],16,17,30,20,67,7,0,0,0,0,23,17,30,20,67\n",
            "Japan (JPN),21,130,126,142,398,20,10,17,18,45,41,140,143,160,443\n",
            "Kazakhstan (KAZ),5,16,17,19,52,6,1,3,3,7,11,17,20,22,59\n",
            "Kenya (KEN),13,25,32,29,86,3,0,0,0,0,16,25,32,29,86\n",
            "North Korea (PRK),9,14,12,21,47,8,0,1,1,2,17,14,13,22,49\n",
            "South Korea (KOR),16,81,82,80,243,17,26,17,10,53,33,107,99,90,296\n",
            "Kuwait (KUW),12,0,0,2,2,0,0,0,0,0,12,0,0,2,2\n",
            "Kyrgyzstan (KGZ),5,0,1,2,3,6,0,0,0,0,11,0,1,2,3\n",
            "Latvia (LAT),10,3,11,5,19,10,0,4,3,7,20,3,15,8,26\n",
            "Lebanon (LIB),16,0,2,2,4,16,0,0,0,0,32,0,2,2,4\n",
            "Liechtenstein (LIE),16,0,0,0,0,18,2,2,5,9,34,2,2,5,9\n",
            "Lithuania (LTU),8,6,5,10,21,8,0,0,0,0,16,6,5,10,21\n",
            "Luxembourg (LUX) [O],22,1,1,0,2,8,0,2,0,2,30,1,3,0,4\n",
            "Macedonia (MKD),5,0,0,1,1,5,0,0,0,0,10,0,0,1,1\n",
            "Malaysia (MAS) [MAS],12,0,3,3,6,0,0,0,0,0,12,0,3,3,6\n",
            "Mauritius (MRI),8,0,0,1,1,0,0,0,0,0,8,0,0,1,1\n",
            "Mexico (MEX),22,13,21,28,62,8,0,0,0,0,30,13,21,28,62\n",
            "Moldova (MDA),5,0,2,5,7,6,0,0,0,0,11,0,2,5,7\n",
            "Mongolia (MGL),12,2,9,13,24,13,0,0,0,0,25,2,9,13,24\n",
            "Montenegro (MNE),2,0,1,0,1,2,0,0,0,0,4,0,1,0,1\n",
            "Morocco (MAR),13,6,5,11,22,6,0,0,0,0,19,6,5,11,22\n",
            "Mozambique (MOZ),9,1,0,1,2,0,0,0,0,0,9,1,0,1,2\n",
            "Namibia (NAM),6,0,4,0,4,0,0,0,0,0,6,0,4,0,4\n",
            "Netherlands (NED) [Z],25,77,85,104,266,20,37,38,35,110,45,114,123,139,376\n",
            "Netherlands Antilles (AHO) [AHO] [I],13,0,1,0,1,2,0,0,0,0,15,0,1,0,1\n",
            "New Zealand (NZL) [NZL],22,42,18,39,99,15,0,1,0,1,37,42,19,39,100\n",
            "Niger (NIG),11,0,0,1,1,0,0,0,0,0,11,0,0,1,1\n",
            "Nigeria (NGR),15,3,8,12,23,0,0,0,0,0,15,3,8,12,23\n",
            "Norway (NOR) [Q],24,56,49,43,148,22,118,111,100,329,46,174,160,143,477\n",
            "Pakistan (PAK),16,3,3,4,10,2,0,0,0,0,18,3,3,4,10\n",
            "Panama (PAN),16,1,0,2,3,0,0,0,0,0,16,1,0,2,3\n",
            "Paraguay (PAR),11,0,1,0,1,1,0,0,0,0,12,0,1,0,1\n",
            "Peru (PER) [L],17,1,3,0,4,2,0,0,0,0,19,1,3,0,4\n",
            "Philippines (PHI),20,0,2,7,9,4,0,0,0,0,24,0,2,7,9\n",
            "Poland (POL),20,64,82,125,271,22,6,7,7,20,42,70,89,132,291\n",
            "Portugal (POR),23,4,8,11,23,7,0,0,0,0,30,4,8,11,23\n",
            "Puerto Rico (PUR),17,0,2,6,8,6,0,0,0,0,23,0,2,6,8\n",
            "Qatar (QAT),8,0,0,4,4,0,0,0,0,0,8,0,0,4,4\n",
            "Romania (ROU),20,88,94,119,301,20,0,0,1,1,40,88,94,120,302\n",
            "Russia (RUS) [RUS],5,132,121,142,395,6,49,40,35,124,11,181,161,177,519\n",
            "Russian Empire (RU1) [RU1],3,1,4,3,8,0,0,0,0,0,3,1,4,3,8\n",
            "Soviet Union (URS) [URS],9,395,319,296,1010,9,78,57,59,194,18,473,376,355,1204\n",
            "Unified Team (EUN) [EUN],1,45,38,29,112,1,9,6,8,23,2,54,44,37,135\n",
            "Saudi Arabia (KSA),10,0,1,2,3,0,0,0,0,0,10,0,1,2,3\n",
            "Senegal (SEN),13,0,1,0,1,5,0,0,0,0,18,0,1,0,1\n",
            "Serbia (SRB) [SRB],3,1,2,4,7,2,0,0,0,0,5,1,2,4,7\n",
            "Serbia and Montenegro (SCG) [SCG],3,2,4,3,9,3,0,0,0,0,6,2,4,3,9\n",
            "Singapore (SIN),15,0,2,2,4,0,0,0,0,0,15,0,2,2,4\n",
            "Slovakia (SVK) [SVK],5,7,9,8,24,6,2,2,1,5,11,9,11,9,29\n",
            "Slovenia (SLO),6,4,6,9,19,7,2,4,9,15,13,6,10,18,34\n",
            "South Africa (RSA),18,23,26,27,76,6,0,0,0,0,24,23,26,27,76\n",
            "Spain (ESP) [Z],22,37,59,35,131,19,1,0,1,2,41,38,59,36,133\n",
            "Sri Lanka (SRI) [SRI],16,0,2,0,2,0,0,0,0,0,16,0,2,0,2\n",
            "Sudan (SUD),11,0,1,0,1,0,0,0,0,0,11,0,1,0,1\n",
            "Suriname (SUR) [E],11,1,0,1,2,0,0,0,0,0,11,1,0,1,2\n",
            "Sweden (SWE) [Z],26,143,164,176,483,22,50,40,54,144,48,193,204,230,627\n",
            "Switzerland (SUI),27,47,73,65,185,22,50,40,48,138,49,97,113,113,323\n",
            "Syria (SYR),12,1,1,1,3,0,0,0,0,0,12,1,1,1,3\n",
            "Chinese Taipei (TPE) [TPE] [TPE2],13,2,7,12,21,11,0,0,0,0,24,2,7,12,21\n",
            "Tajikistan (TJK),5,0,1,2,3,4,0,0,0,0,9,0,1,2,3\n",
            "Tanzania (TAN) [TAN],12,0,2,0,2,0,0,0,0,0,12,0,2,0,2\n",
            "Thailand (THA),15,7,6,11,24,3,0,0,0,0,18,7,6,11,24\n",
            "Togo (TOG),9,0,0,1,1,1,0,0,0,0,10,0,0,1,1\n",
            "Tonga (TGA),8,0,1,0,1,1,0,0,0,0,9,0,1,0,1\n",
            "Trinidad and Tobago (TRI) [TRI],16,2,5,11,18,3,0,0,0,0,19,2,5,11,18\n",
            "Tunisia (TUN),13,3,3,4,10,0,0,0,0,0,13,3,3,4,10\n",
            "Turkey (TUR),21,39,25,24,88,16,0,0,0,0,37,39,25,24,88\n",
            "Uganda (UGA),14,2,3,2,7,0,0,0,0,0,14,2,3,2,7\n",
            "Ukraine (UKR),5,33,27,55,115,6,2,1,4,7,11,35,28,59,122\n",
            "United Arab Emirates (UAE),8,1,0,0,1,0,0,0,0,0,8,1,0,0,1\n",
            "United States (USA) [P] [Q] [R] [Z],26,976,757,666,2399,22,96,102,84,282,48,1072,859,750,2681\n",
            "Uruguay (URU),20,2,2,6,10,1,0,0,0,0,21,2,2,6,10\n",
            "Uzbekistan (UZB),5,5,5,10,20,6,1,0,0,1,11,6,5,10,21\n",
            "Venezuela (VEN),17,2,2,8,12,4,0,0,0,0,21,2,2,8,12\n",
            "Vietnam (VIE),14,0,2,0,2,0,0,0,0,0,14,0,2,0,2\n",
            "Virgin Islands (ISV),11,0,1,0,1,7,0,0,0,0,18,0,1,0,1\n",
            "Yugoslavia (YUG) [YUG],16,26,29,28,83,14,0,3,1,4,30,26,32,29,87\n",
            "Independent Olympic Participants (IOP) [IOP],1,0,1,2,3,0,0,0,0,0,1,0,1,2,3\n",
            "Zambia (ZAM) [ZAM],12,0,1,1,2,0,0,0,0,0,12,0,1,1,2\n",
            "Zimbabwe (ZIM) [ZIM],12,3,4,1,8,1,0,0,0,0,13,3,4,1,8\n",
            "Mixed team (ZZX) [ZZX],3,8,5,4,17,0,0,0,0,0,3,8,5,4,17\n",
            "Totals,27,4809,4775,5130,14714,22,959,958,948,2865,49,5768,5733,6078,17579\n"
          ],
          "name": "stdout"
        }
      ]
    },
    {
      "metadata": {
        "id": "8vIOaelJBZwl",
        "colab_type": "code",
        "outputId": "b85eaaf5-b870-4d24-bb89-dab071442c6f",
        "executionInfo": {
          "status": "ok",
          "timestamp": 1555014627761,
          "user_tz": 300,
          "elapsed": 291,
          "user": {
            "displayName": "David Tan",
            "photoUrl": "",
            "userId": "15726769250755126620"
          }
        },
        "colab": {
          "base_uri": "https://localhost:8080/",
          "height": 204
        },
        "pycharm": {}
      },
      "cell_type": "code",
      "source": [
        "df \u003d pd.read_csv(\u0027olympics.csv\u0027)\n",
        "df.head()"
      ],
      "execution_count": 4,
      "outputs": [
        {
          "output_type": "execute_result",
          "data": {
            "text/html": [
              "\u003cdiv\u003e\n",
              "\u003cstyle scoped\u003e\n",
              "    .dataframe tbody tr th:only-of-type {\n",
              "        vertical-align: middle;\n",
              "    }\n",
              "\n",
              "    .dataframe tbody tr th {\n",
              "        vertical-align: top;\n",
              "    }\n",
              "\n",
              "    .dataframe thead th {\n",
              "        text-align: right;\n",
              "    }\n",
              "\u003c/style\u003e\n",
              "\u003ctable border\u003d\"1\" class\u003d\"dataframe\"\u003e\n",
              "  \u003cthead\u003e\n",
              "    \u003ctr style\u003d\"text-align: right;\"\u003e\n",
              "      \u003cth\u003e\u003c/th\u003e\n",
              "      \u003cth\u003e0\u003c/th\u003e\n",
              "      \u003cth\u003e1\u003c/th\u003e\n",
              "      \u003cth\u003e2\u003c/th\u003e\n",
              "      \u003cth\u003e3\u003c/th\u003e\n",
              "      \u003cth\u003e4\u003c/th\u003e\n",
              "      \u003cth\u003e5\u003c/th\u003e\n",
              "      \u003cth\u003e6\u003c/th\u003e\n",
              "      \u003cth\u003e7\u003c/th\u003e\n",
              "      \u003cth\u003e8\u003c/th\u003e\n",
              "      \u003cth\u003e9\u003c/th\u003e\n",
              "      \u003cth\u003e10\u003c/th\u003e\n",
              "      \u003cth\u003e11\u003c/th\u003e\n",
              "      \u003cth\u003e12\u003c/th\u003e\n",
              "      \u003cth\u003e13\u003c/th\u003e\n",
              "      \u003cth\u003e14\u003c/th\u003e\n",
              "      \u003cth\u003e15\u003c/th\u003e\n",
              "    \u003c/tr\u003e\n",
              "  \u003c/thead\u003e\n",
              "  \u003ctbody\u003e\n",
              "    \u003ctr\u003e\n",
              "      \u003cth\u003e0\u003c/th\u003e\n",
              "      \u003ctd\u003eNaN\u003c/td\u003e\n",
              "      \u003ctd\u003e№ Summer\u003c/td\u003e\n",
              "      \u003ctd\u003e01 !\u003c/td\u003e\n",
              "      \u003ctd\u003e02 !\u003c/td\u003e\n",
              "      \u003ctd\u003e03 !\u003c/td\u003e\n",
              "      \u003ctd\u003eTotal\u003c/td\u003e\n",
              "      \u003ctd\u003e№ Winter\u003c/td\u003e\n",
              "      \u003ctd\u003e01 !\u003c/td\u003e\n",
              "      \u003ctd\u003e02 !\u003c/td\u003e\n",
              "      \u003ctd\u003e03 !\u003c/td\u003e\n",
              "      \u003ctd\u003eTotal\u003c/td\u003e\n",
              "      \u003ctd\u003e№ Games\u003c/td\u003e\n",
              "      \u003ctd\u003e01 !\u003c/td\u003e\n",
              "      \u003ctd\u003e02 !\u003c/td\u003e\n",
              "      \u003ctd\u003e03 !\u003c/td\u003e\n",
              "      \u003ctd\u003eCombined total\u003c/td\u003e\n",
              "    \u003c/tr\u003e\n",
              "    \u003ctr\u003e\n",
              "      \u003cth\u003e1\u003c/th\u003e\n",
              "      \u003ctd\u003eAfghanistan (AFG)\u003c/td\u003e\n",
              "      \u003ctd\u003e13\u003c/td\u003e\n",
              "      \u003ctd\u003e0\u003c/td\u003e\n",
              "      \u003ctd\u003e0\u003c/td\u003e\n",
              "      \u003ctd\u003e2\u003c/td\u003e\n",
              "      \u003ctd\u003e2\u003c/td\u003e\n",
              "      \u003ctd\u003e0\u003c/td\u003e\n",
              "      \u003ctd\u003e0\u003c/td\u003e\n",
              "      \u003ctd\u003e0\u003c/td\u003e\n",
              "      \u003ctd\u003e0\u003c/td\u003e\n",
              "      \u003ctd\u003e0\u003c/td\u003e\n",
              "      \u003ctd\u003e13\u003c/td\u003e\n",
              "      \u003ctd\u003e0\u003c/td\u003e\n",
              "      \u003ctd\u003e0\u003c/td\u003e\n",
              "      \u003ctd\u003e2\u003c/td\u003e\n",
              "      \u003ctd\u003e2\u003c/td\u003e\n",
              "    \u003c/tr\u003e\n",
              "    \u003ctr\u003e\n",
              "      \u003cth\u003e2\u003c/th\u003e\n",
              "      \u003ctd\u003eAlgeria (ALG)\u003c/td\u003e\n",
              "      \u003ctd\u003e12\u003c/td\u003e\n",
              "      \u003ctd\u003e5\u003c/td\u003e\n",
              "      \u003ctd\u003e2\u003c/td\u003e\n",
              "      \u003ctd\u003e8\u003c/td\u003e\n",
              "      \u003ctd\u003e15\u003c/td\u003e\n",
              "      \u003ctd\u003e3\u003c/td\u003e\n",
              "      \u003ctd\u003e0\u003c/td\u003e\n",
              "      \u003ctd\u003e0\u003c/td\u003e\n",
              "      \u003ctd\u003e0\u003c/td\u003e\n",
              "      \u003ctd\u003e0\u003c/td\u003e\n",
              "      \u003ctd\u003e15\u003c/td\u003e\n",
              "      \u003ctd\u003e5\u003c/td\u003e\n",
              "      \u003ctd\u003e2\u003c/td\u003e\n",
              "      \u003ctd\u003e8\u003c/td\u003e\n",
              "      \u003ctd\u003e15\u003c/td\u003e\n",
              "    \u003c/tr\u003e\n",
              "    \u003ctr\u003e\n",
              "      \u003cth\u003e3\u003c/th\u003e\n",
              "      \u003ctd\u003eArgentina (ARG)\u003c/td\u003e\n",
              "      \u003ctd\u003e23\u003c/td\u003e\n",
              "      \u003ctd\u003e18\u003c/td\u003e\n",
              "      \u003ctd\u003e24\u003c/td\u003e\n",
              "      \u003ctd\u003e28\u003c/td\u003e\n",
              "      \u003ctd\u003e70\u003c/td\u003e\n",
              "      \u003ctd\u003e18\u003c/td\u003e\n",
              "      \u003ctd\u003e0\u003c/td\u003e\n",
              "      \u003ctd\u003e0\u003c/td\u003e\n",
              "      \u003ctd\u003e0\u003c/td\u003e\n",
              "      \u003ctd\u003e0\u003c/td\u003e\n",
              "      \u003ctd\u003e41\u003c/td\u003e\n",
              "      \u003ctd\u003e18\u003c/td\u003e\n",
              "      \u003ctd\u003e24\u003c/td\u003e\n",
              "      \u003ctd\u003e28\u003c/td\u003e\n",
              "      \u003ctd\u003e70\u003c/td\u003e\n",
              "    \u003c/tr\u003e\n",
              "    \u003ctr\u003e\n",
              "      \u003cth\u003e4\u003c/th\u003e\n",
              "      \u003ctd\u003eArmenia (ARM)\u003c/td\u003e\n",
              "      \u003ctd\u003e5\u003c/td\u003e\n",
              "      \u003ctd\u003e1\u003c/td\u003e\n",
              "      \u003ctd\u003e2\u003c/td\u003e\n",
              "      \u003ctd\u003e9\u003c/td\u003e\n",
              "      \u003ctd\u003e12\u003c/td\u003e\n",
              "      \u003ctd\u003e6\u003c/td\u003e\n",
              "      \u003ctd\u003e0\u003c/td\u003e\n",
              "      \u003ctd\u003e0\u003c/td\u003e\n",
              "      \u003ctd\u003e0\u003c/td\u003e\n",
              "      \u003ctd\u003e0\u003c/td\u003e\n",
              "      \u003ctd\u003e11\u003c/td\u003e\n",
              "      \u003ctd\u003e1\u003c/td\u003e\n",
              "      \u003ctd\u003e2\u003c/td\u003e\n",
              "      \u003ctd\u003e9\u003c/td\u003e\n",
              "      \u003ctd\u003e12\u003c/td\u003e\n",
              "    \u003c/tr\u003e\n",
              "  \u003c/tbody\u003e\n",
              "\u003c/table\u003e\n",
              "\u003c/div\u003e"
            ],
            "text/plain": [
              "                   0         1     2     3     4      5         6     7     8  \\\n",
              "0                NaN  № Summer  01 !  02 !  03 !  Total  № Winter  01 !  02 !   \n",
              "1  Afghanistan (AFG)        13     0     0     2      2         0     0     0   \n",
              "2      Algeria (ALG)        12     5     2     8     15         3     0     0   \n",
              "3    Argentina (ARG)        23    18    24    28     70        18     0     0   \n",
              "4      Armenia (ARM)         5     1     2     9     12         6     0     0   \n",
              "\n",
              "      9     10       11    12    13    14              15  \n",
              "0  03 !  Total  № Games  01 !  02 !  03 !  Combined total  \n",
              "1     0      0       13     0     0     2               2  \n",
              "2     0      0       15     5     2     8              15  \n",
              "3     0      0       41    18    24    28              70  \n",
              "4     0      0       11     1     2     9              12  "
            ]
          },
          "metadata": {
            "tags": []
          },
          "execution_count": 4
        }
      ]
    },
    {
      "metadata": {
        "id": "sfqOd2BOBZwm",
        "colab_type": "code",
        "outputId": "e4f0b0b3-d290-4a48-c0ea-fd187d81bd64",
        "executionInfo": {
          "status": "ok",
          "timestamp": 1555014630775,
          "user_tz": 300,
          "elapsed": 379,
          "user": {
            "displayName": "David Tan",
            "photoUrl": "",
            "userId": "15726769250755126620"
          }
        },
        "colab": {
          "base_uri": "https://localhost:8080/",
          "height": 238
        },
        "pycharm": {}
      },
      "cell_type": "code",
      "source": [
        "df \u003d pd.read_csv(\u0027olympics.csv\u0027, index_col \u003d 0, skiprows\u003d1)\n",
        "df.head()\n",
        "\n"
      ],
      "execution_count": 5,
      "outputs": [
        {
          "output_type": "execute_result",
          "data": {
            "text/html": [
              "\u003cdiv\u003e\n",
              "\u003cstyle scoped\u003e\n",
              "    .dataframe tbody tr th:only-of-type {\n",
              "        vertical-align: middle;\n",
              "    }\n",
              "\n",
              "    .dataframe tbody tr th {\n",
              "        vertical-align: top;\n",
              "    }\n",
              "\n",
              "    .dataframe thead th {\n",
              "        text-align: right;\n",
              "    }\n",
              "\u003c/style\u003e\n",
              "\u003ctable border\u003d\"1\" class\u003d\"dataframe\"\u003e\n",
              "  \u003cthead\u003e\n",
              "    \u003ctr style\u003d\"text-align: right;\"\u003e\n",
              "      \u003cth\u003e\u003c/th\u003e\n",
              "      \u003cth\u003e№ Summer\u003c/th\u003e\n",
              "      \u003cth\u003e01 !\u003c/th\u003e\n",
              "      \u003cth\u003e02 !\u003c/th\u003e\n",
              "      \u003cth\u003e03 !\u003c/th\u003e\n",
              "      \u003cth\u003eTotal\u003c/th\u003e\n",
              "      \u003cth\u003e№ Winter\u003c/th\u003e\n",
              "      \u003cth\u003e01 !.1\u003c/th\u003e\n",
              "      \u003cth\u003e02 !.1\u003c/th\u003e\n",
              "      \u003cth\u003e03 !.1\u003c/th\u003e\n",
              "      \u003cth\u003eTotal.1\u003c/th\u003e\n",
              "      \u003cth\u003e№ Games\u003c/th\u003e\n",
              "      \u003cth\u003e01 !.2\u003c/th\u003e\n",
              "      \u003cth\u003e02 !.2\u003c/th\u003e\n",
              "      \u003cth\u003e03 !.2\u003c/th\u003e\n",
              "      \u003cth\u003eCombined total\u003c/th\u003e\n",
              "    \u003c/tr\u003e\n",
              "  \u003c/thead\u003e\n",
              "  \u003ctbody\u003e\n",
              "    \u003ctr\u003e\n",
              "      \u003cth\u003eAfghanistan (AFG)\u003c/th\u003e\n",
              "      \u003ctd\u003e13\u003c/td\u003e\n",
              "      \u003ctd\u003e0\u003c/td\u003e\n",
              "      \u003ctd\u003e0\u003c/td\u003e\n",
              "      \u003ctd\u003e2\u003c/td\u003e\n",
              "      \u003ctd\u003e2\u003c/td\u003e\n",
              "      \u003ctd\u003e0\u003c/td\u003e\n",
              "      \u003ctd\u003e0\u003c/td\u003e\n",
              "      \u003ctd\u003e0\u003c/td\u003e\n",
              "      \u003ctd\u003e0\u003c/td\u003e\n",
              "      \u003ctd\u003e0\u003c/td\u003e\n",
              "      \u003ctd\u003e13\u003c/td\u003e\n",
              "      \u003ctd\u003e0\u003c/td\u003e\n",
              "      \u003ctd\u003e0\u003c/td\u003e\n",
              "      \u003ctd\u003e2\u003c/td\u003e\n",
              "      \u003ctd\u003e2\u003c/td\u003e\n",
              "    \u003c/tr\u003e\n",
              "    \u003ctr\u003e\n",
              "      \u003cth\u003eAlgeria (ALG)\u003c/th\u003e\n",
              "      \u003ctd\u003e12\u003c/td\u003e\n",
              "      \u003ctd\u003e5\u003c/td\u003e\n",
              "      \u003ctd\u003e2\u003c/td\u003e\n",
              "      \u003ctd\u003e8\u003c/td\u003e\n",
              "      \u003ctd\u003e15\u003c/td\u003e\n",
              "      \u003ctd\u003e3\u003c/td\u003e\n",
              "      \u003ctd\u003e0\u003c/td\u003e\n",
              "      \u003ctd\u003e0\u003c/td\u003e\n",
              "      \u003ctd\u003e0\u003c/td\u003e\n",
              "      \u003ctd\u003e0\u003c/td\u003e\n",
              "      \u003ctd\u003e15\u003c/td\u003e\n",
              "      \u003ctd\u003e5\u003c/td\u003e\n",
              "      \u003ctd\u003e2\u003c/td\u003e\n",
              "      \u003ctd\u003e8\u003c/td\u003e\n",
              "      \u003ctd\u003e15\u003c/td\u003e\n",
              "    \u003c/tr\u003e\n",
              "    \u003ctr\u003e\n",
              "      \u003cth\u003eArgentina (ARG)\u003c/th\u003e\n",
              "      \u003ctd\u003e23\u003c/td\u003e\n",
              "      \u003ctd\u003e18\u003c/td\u003e\n",
              "      \u003ctd\u003e24\u003c/td\u003e\n",
              "      \u003ctd\u003e28\u003c/td\u003e\n",
              "      \u003ctd\u003e70\u003c/td\u003e\n",
              "      \u003ctd\u003e18\u003c/td\u003e\n",
              "      \u003ctd\u003e0\u003c/td\u003e\n",
              "      \u003ctd\u003e0\u003c/td\u003e\n",
              "      \u003ctd\u003e0\u003c/td\u003e\n",
              "      \u003ctd\u003e0\u003c/td\u003e\n",
              "      \u003ctd\u003e41\u003c/td\u003e\n",
              "      \u003ctd\u003e18\u003c/td\u003e\n",
              "      \u003ctd\u003e24\u003c/td\u003e\n",
              "      \u003ctd\u003e28\u003c/td\u003e\n",
              "      \u003ctd\u003e70\u003c/td\u003e\n",
              "    \u003c/tr\u003e\n",
              "    \u003ctr\u003e\n",
              "      \u003cth\u003eArmenia (ARM)\u003c/th\u003e\n",
              "      \u003ctd\u003e5\u003c/td\u003e\n",
              "      \u003ctd\u003e1\u003c/td\u003e\n",
              "      \u003ctd\u003e2\u003c/td\u003e\n",
              "      \u003ctd\u003e9\u003c/td\u003e\n",
              "      \u003ctd\u003e12\u003c/td\u003e\n",
              "      \u003ctd\u003e6\u003c/td\u003e\n",
              "      \u003ctd\u003e0\u003c/td\u003e\n",
              "      \u003ctd\u003e0\u003c/td\u003e\n",
              "      \u003ctd\u003e0\u003c/td\u003e\n",
              "      \u003ctd\u003e0\u003c/td\u003e\n",
              "      \u003ctd\u003e11\u003c/td\u003e\n",
              "      \u003ctd\u003e1\u003c/td\u003e\n",
              "      \u003ctd\u003e2\u003c/td\u003e\n",
              "      \u003ctd\u003e9\u003c/td\u003e\n",
              "      \u003ctd\u003e12\u003c/td\u003e\n",
              "    \u003c/tr\u003e\n",
              "    \u003ctr\u003e\n",
              "      \u003cth\u003eAustralasia (ANZ) [ANZ]\u003c/th\u003e\n",
              "      \u003ctd\u003e2\u003c/td\u003e\n",
              "      \u003ctd\u003e3\u003c/td\u003e\n",
              "      \u003ctd\u003e4\u003c/td\u003e\n",
              "      \u003ctd\u003e5\u003c/td\u003e\n",
              "      \u003ctd\u003e12\u003c/td\u003e\n",
              "      \u003ctd\u003e0\u003c/td\u003e\n",
              "      \u003ctd\u003e0\u003c/td\u003e\n",
              "      \u003ctd\u003e0\u003c/td\u003e\n",
              "      \u003ctd\u003e0\u003c/td\u003e\n",
              "      \u003ctd\u003e0\u003c/td\u003e\n",
              "      \u003ctd\u003e2\u003c/td\u003e\n",
              "      \u003ctd\u003e3\u003c/td\u003e\n",
              "      \u003ctd\u003e4\u003c/td\u003e\n",
              "      \u003ctd\u003e5\u003c/td\u003e\n",
              "      \u003ctd\u003e12\u003c/td\u003e\n",
              "    \u003c/tr\u003e\n",
              "  \u003c/tbody\u003e\n",
              "\u003c/table\u003e\n",
              "\u003c/div\u003e"
            ],
            "text/plain": [
              "                         № Summer  01 !  02 !  03 !  Total  № Winter  01 !.1  \\\n",
              "Afghanistan (AFG)              13     0     0     2      2         0       0   \n",
              "Algeria (ALG)                  12     5     2     8     15         3       0   \n",
              "Argentina (ARG)                23    18    24    28     70        18       0   \n",
              "Armenia (ARM)                   5     1     2     9     12         6       0   \n",
              "Australasia (ANZ) [ANZ]         2     3     4     5     12         0       0   \n",
              "\n",
              "                         02 !.1  03 !.1  Total.1  № Games  01 !.2  02 !.2  \\\n",
              "Afghanistan (AFG)             0       0        0       13       0       0   \n",
              "Algeria (ALG)                 0       0        0       15       5       2   \n",
              "Argentina (ARG)               0       0        0       41      18      24   \n",
              "Armenia (ARM)                 0       0        0       11       1       2   \n",
              "Australasia (ANZ) [ANZ]       0       0        0        2       3       4   \n",
              "\n",
              "                         03 !.2  Combined total  \n",
              "Afghanistan (AFG)             2               2  \n",
              "Algeria (ALG)                 8              15  \n",
              "Argentina (ARG)              28              70  \n",
              "Armenia (ARM)                 9              12  \n",
              "Australasia (ANZ) [ANZ]       5              12  "
            ]
          },
          "metadata": {
            "tags": []
          },
          "execution_count": 5
        }
      ]
    },
    {
      "metadata": {
        "id": "koEQyis2BZwp",
        "colab_type": "code",
        "outputId": "a2fd4aa0-0b05-424a-d818-d6b5baf3e74f",
        "executionInfo": {
          "status": "ok",
          "timestamp": 1555005380034,
          "user_tz": 300,
          "elapsed": 166297,
          "user": {
            "displayName": "David Tan",
            "photoUrl": "",
            "userId": "15726769250755126620"
          }
        },
        "colab": {
          "base_uri": "https://localhost:8080/",
          "height": 85
        },
        "pycharm": {}
      },
      "cell_type": "code",
      "source": [
        "df.columns"
      ],
      "execution_count": 0,
      "outputs": [
        {
          "output_type": "execute_result",
          "data": {
            "text/plain": [
              "Index([\u0027№ Summer\u0027, \u002701 !\u0027, \u002702 !\u0027, \u002703 !\u0027, \u0027Total\u0027, \u0027№ Winter\u0027, \u002701 !.1\u0027,\n",
              "       \u002702 !.1\u0027, \u002703 !.1\u0027, \u0027Total.1\u0027, \u0027№ Games\u0027, \u002701 !.2\u0027, \u002702 !.2\u0027, \u002703 !.2\u0027,\n",
              "       \u0027Combined total\u0027],\n",
              "      dtype\u003d\u0027object\u0027)"
            ]
          },
          "metadata": {
            "tags": []
          },
          "execution_count": 78
        }
      ]
    },
    {
      "metadata": {
        "id": "81kWyC8QBZwt",
        "colab_type": "code",
        "outputId": "9997de8f-7a13-4bb0-89c5-d531912931df",
        "executionInfo": {
          "status": "ok",
          "timestamp": 1555005380448,
          "user_tz": 300,
          "elapsed": 166705,
          "user": {
            "displayName": "David Tan",
            "photoUrl": "",
            "userId": "15726769250755126620"
          }
        },
        "colab": {
          "base_uri": "https://localhost:8080/",
          "height": 258
        },
        "pycharm": {}
      },
      "cell_type": "code",
      "source": [
        "for col in df.columns:\n",
        "    if col[:2]\u003d\u003d\u002701\u0027:\n",
        "        df.rename(columns\u003d{col:\u0027Gold\u0027 + col[4:]}, inplace\u003dTrue)\n",
        "    if col[:2]\u003d\u003d\u002702\u0027:\n",
        "        df.rename(columns\u003d{col:\u0027Silver\u0027 + col[4:]}, inplace\u003dTrue)\n",
        "    if col[:2]\u003d\u003d\u002703\u0027:\n",
        "        df.rename(columns\u003d{col:\u0027Bronze\u0027 + col[4:]}, inplace\u003dTrue)\n",
        "    if col[:1]\u003d\u003d\u0027№\u0027:\n",
        "        df.rename(columns\u003d{col:\u0027#\u0027 + col[1:]}, inplace\u003dTrue) \n",
        "\n",
        "df.head()"
      ],
      "execution_count": 0,
      "outputs": [
        {
          "output_type": "execute_result",
          "data": {
            "text/html": [
              "\u003cdiv\u003e\n",
              "\u003cstyle scoped\u003e\n",
              "    .dataframe tbody tr th:only-of-type {\n",
              "        vertical-align: middle;\n",
              "    }\n",
              "\n",
              "    .dataframe tbody tr th {\n",
              "        vertical-align: top;\n",
              "    }\n",
              "\n",
              "    .dataframe thead th {\n",
              "        text-align: right;\n",
              "    }\n",
              "\u003c/style\u003e\n",
              "\u003ctable border\u003d\"1\" class\u003d\"dataframe\"\u003e\n",
              "  \u003cthead\u003e\n",
              "    \u003ctr style\u003d\"text-align: right;\"\u003e\n",
              "      \u003cth\u003e\u003c/th\u003e\n",
              "      \u003cth\u003e# Summer\u003c/th\u003e\n",
              "      \u003cth\u003eGold\u003c/th\u003e\n",
              "      \u003cth\u003eSilver\u003c/th\u003e\n",
              "      \u003cth\u003eBronze\u003c/th\u003e\n",
              "      \u003cth\u003eTotal\u003c/th\u003e\n",
              "      \u003cth\u003e# Winter\u003c/th\u003e\n",
              "      \u003cth\u003eGold.1\u003c/th\u003e\n",
              "      \u003cth\u003eSilver.1\u003c/th\u003e\n",
              "      \u003cth\u003eBronze.1\u003c/th\u003e\n",
              "      \u003cth\u003eTotal.1\u003c/th\u003e\n",
              "      \u003cth\u003e# Games\u003c/th\u003e\n",
              "      \u003cth\u003eGold.2\u003c/th\u003e\n",
              "      \u003cth\u003eSilver.2\u003c/th\u003e\n",
              "      \u003cth\u003eBronze.2\u003c/th\u003e\n",
              "      \u003cth\u003eCombined total\u003c/th\u003e\n",
              "    \u003c/tr\u003e\n",
              "  \u003c/thead\u003e\n",
              "  \u003ctbody\u003e\n",
              "    \u003ctr\u003e\n",
              "      \u003cth\u003eAfghanistan (AFG)\u003c/th\u003e\n",
              "      \u003ctd\u003e13\u003c/td\u003e\n",
              "      \u003ctd\u003e0\u003c/td\u003e\n",
              "      \u003ctd\u003e0\u003c/td\u003e\n",
              "      \u003ctd\u003e2\u003c/td\u003e\n",
              "      \u003ctd\u003e2\u003c/td\u003e\n",
              "      \u003ctd\u003e0\u003c/td\u003e\n",
              "      \u003ctd\u003e0\u003c/td\u003e\n",
              "      \u003ctd\u003e0\u003c/td\u003e\n",
              "      \u003ctd\u003e0\u003c/td\u003e\n",
              "      \u003ctd\u003e0\u003c/td\u003e\n",
              "      \u003ctd\u003e13\u003c/td\u003e\n",
              "      \u003ctd\u003e0\u003c/td\u003e\n",
              "      \u003ctd\u003e0\u003c/td\u003e\n",
              "      \u003ctd\u003e2\u003c/td\u003e\n",
              "      \u003ctd\u003e2\u003c/td\u003e\n",
              "    \u003c/tr\u003e\n",
              "    \u003ctr\u003e\n",
              "      \u003cth\u003eAlgeria (ALG)\u003c/th\u003e\n",
              "      \u003ctd\u003e12\u003c/td\u003e\n",
              "      \u003ctd\u003e5\u003c/td\u003e\n",
              "      \u003ctd\u003e2\u003c/td\u003e\n",
              "      \u003ctd\u003e8\u003c/td\u003e\n",
              "      \u003ctd\u003e15\u003c/td\u003e\n",
              "      \u003ctd\u003e3\u003c/td\u003e\n",
              "      \u003ctd\u003e0\u003c/td\u003e\n",
              "      \u003ctd\u003e0\u003c/td\u003e\n",
              "      \u003ctd\u003e0\u003c/td\u003e\n",
              "      \u003ctd\u003e0\u003c/td\u003e\n",
              "      \u003ctd\u003e15\u003c/td\u003e\n",
              "      \u003ctd\u003e5\u003c/td\u003e\n",
              "      \u003ctd\u003e2\u003c/td\u003e\n",
              "      \u003ctd\u003e8\u003c/td\u003e\n",
              "      \u003ctd\u003e15\u003c/td\u003e\n",
              "    \u003c/tr\u003e\n",
              "    \u003ctr\u003e\n",
              "      \u003cth\u003eArgentina (ARG)\u003c/th\u003e\n",
              "      \u003ctd\u003e23\u003c/td\u003e\n",
              "      \u003ctd\u003e18\u003c/td\u003e\n",
              "      \u003ctd\u003e24\u003c/td\u003e\n",
              "      \u003ctd\u003e28\u003c/td\u003e\n",
              "      \u003ctd\u003e70\u003c/td\u003e\n",
              "      \u003ctd\u003e18\u003c/td\u003e\n",
              "      \u003ctd\u003e0\u003c/td\u003e\n",
              "      \u003ctd\u003e0\u003c/td\u003e\n",
              "      \u003ctd\u003e0\u003c/td\u003e\n",
              "      \u003ctd\u003e0\u003c/td\u003e\n",
              "      \u003ctd\u003e41\u003c/td\u003e\n",
              "      \u003ctd\u003e18\u003c/td\u003e\n",
              "      \u003ctd\u003e24\u003c/td\u003e\n",
              "      \u003ctd\u003e28\u003c/td\u003e\n",
              "      \u003ctd\u003e70\u003c/td\u003e\n",
              "    \u003c/tr\u003e\n",
              "    \u003ctr\u003e\n",
              "      \u003cth\u003eArmenia (ARM)\u003c/th\u003e\n",
              "      \u003ctd\u003e5\u003c/td\u003e\n",
              "      \u003ctd\u003e1\u003c/td\u003e\n",
              "      \u003ctd\u003e2\u003c/td\u003e\n",
              "      \u003ctd\u003e9\u003c/td\u003e\n",
              "      \u003ctd\u003e12\u003c/td\u003e\n",
              "      \u003ctd\u003e6\u003c/td\u003e\n",
              "      \u003ctd\u003e0\u003c/td\u003e\n",
              "      \u003ctd\u003e0\u003c/td\u003e\n",
              "      \u003ctd\u003e0\u003c/td\u003e\n",
              "      \u003ctd\u003e0\u003c/td\u003e\n",
              "      \u003ctd\u003e11\u003c/td\u003e\n",
              "      \u003ctd\u003e1\u003c/td\u003e\n",
              "      \u003ctd\u003e2\u003c/td\u003e\n",
              "      \u003ctd\u003e9\u003c/td\u003e\n",
              "      \u003ctd\u003e12\u003c/td\u003e\n",
              "    \u003c/tr\u003e\n",
              "    \u003ctr\u003e\n",
              "      \u003cth\u003eAustralasia (ANZ) [ANZ]\u003c/th\u003e\n",
              "      \u003ctd\u003e2\u003c/td\u003e\n",
              "      \u003ctd\u003e3\u003c/td\u003e\n",
              "      \u003ctd\u003e4\u003c/td\u003e\n",
              "      \u003ctd\u003e5\u003c/td\u003e\n",
              "      \u003ctd\u003e12\u003c/td\u003e\n",
              "      \u003ctd\u003e0\u003c/td\u003e\n",
              "      \u003ctd\u003e0\u003c/td\u003e\n",
              "      \u003ctd\u003e0\u003c/td\u003e\n",
              "      \u003ctd\u003e0\u003c/td\u003e\n",
              "      \u003ctd\u003e0\u003c/td\u003e\n",
              "      \u003ctd\u003e2\u003c/td\u003e\n",
              "      \u003ctd\u003e3\u003c/td\u003e\n",
              "      \u003ctd\u003e4\u003c/td\u003e\n",
              "      \u003ctd\u003e5\u003c/td\u003e\n",
              "      \u003ctd\u003e12\u003c/td\u003e\n",
              "    \u003c/tr\u003e\n",
              "  \u003c/tbody\u003e\n",
              "\u003c/table\u003e\n",
              "\u003c/div\u003e"
            ],
            "text/plain": [
              "                         # Summer  Gold  Silver  Bronze  Total  # Winter  \\\n",
              "Afghanistan (AFG)              13     0       0       2      2         0   \n",
              "Algeria (ALG)                  12     5       2       8     15         3   \n",
              "Argentina (ARG)                23    18      24      28     70        18   \n",
              "Armenia (ARM)                   5     1       2       9     12         6   \n",
              "Australasia (ANZ) [ANZ]         2     3       4       5     12         0   \n",
              "\n",
              "                         Gold.1  Silver.1  Bronze.1  Total.1  # Games  Gold.2  \\\n",
              "Afghanistan (AFG)             0         0         0        0       13       0   \n",
              "Algeria (ALG)                 0         0         0        0       15       5   \n",
              "Argentina (ARG)               0         0         0        0       41      18   \n",
              "Armenia (ARM)                 0         0         0        0       11       1   \n",
              "Australasia (ANZ) [ANZ]       0         0         0        0        2       3   \n",
              "\n",
              "                         Silver.2  Bronze.2  Combined total  \n",
              "Afghanistan (AFG)               0         2               2  \n",
              "Algeria (ALG)                   2         8              15  \n",
              "Argentina (ARG)                24        28              70  \n",
              "Armenia (ARM)                   2         9              12  \n",
              "Australasia (ANZ) [ANZ]         4         5              12  "
            ]
          },
          "metadata": {
            "tags": []
          },
          "execution_count": 79
        }
      ]
    },
    {
      "metadata": {
        "id": "DQe7J_fPBZwu",
        "colab_type": "text",
        "pycharm": {}
      },
      "cell_type": "markdown",
      "source": [
        "# Querying a DataFrame"
      ]
    },
    {
      "metadata": {
        "id": "sjk9-npaBZwv",
        "colab_type": "code",
        "outputId": "a74600ca-54c6-42cf-a874-69ff9f169fb8",
        "executionInfo": {
          "status": "ok",
          "timestamp": 1555005380449,
          "user_tz": 300,
          "elapsed": 166698,
          "user": {
            "displayName": "David Tan",
            "photoUrl": "",
            "userId": "15726769250755126620"
          }
        },
        "colab": {
          "base_uri": "https://localhost:8080/",
          "height": 1091
        },
        "pycharm": {}
      },
      "cell_type": "code",
      "source": [
        "df[\u0027Gold\u0027] \u003e 0"
      ],
      "execution_count": 0,
      "outputs": [
        {
          "output_type": "execute_result",
          "data": {
            "text/plain": [
              "Afghanistan (AFG)                               False\n",
              "Algeria (ALG)                                    True\n",
              "Argentina (ARG)                                  True\n",
              "Armenia (ARM)                                    True\n",
              "Australasia (ANZ) [ANZ]                          True\n",
              "Australia (AUS) [AUS] [Z]                        True\n",
              "Austria (AUT)                                    True\n",
              "Azerbaijan (AZE)                                 True\n",
              "Bahamas (BAH)                                    True\n",
              "Bahrain (BRN)                                   False\n",
              "Barbados (BAR) [BAR]                            False\n",
              "Belarus (BLR)                                    True\n",
              "Belgium (BEL)                                    True\n",
              "Bermuda (BER)                                   False\n",
              "Bohemia (BOH) [BOH] [Z]                         False\n",
              "Botswana (BOT)                                  False\n",
              "Brazil (BRA)                                     True\n",
              "British West Indies (BWI) [BWI]                 False\n",
              "Bulgaria (BUL) [H]                               True\n",
              "Burundi (BDI)                                    True\n",
              "Cameroon (CMR)                                   True\n",
              "Canada (CAN)                                     True\n",
              "Chile (CHI) [I]                                  True\n",
              "China (CHN) [CHN]                                True\n",
              "Colombia (COL)                                   True\n",
              "Costa Rica (CRC)                                 True\n",
              "Ivory Coast (CIV) [CIV]                         False\n",
              "Croatia (CRO)                                    True\n",
              "Cuba (CUB) [Z]                                   True\n",
              "Cyprus (CYP)                                    False\n",
              "                                                ...  \n",
              "Sri Lanka (SRI) [SRI]                           False\n",
              "Sudan (SUD)                                     False\n",
              "Suriname (SUR) [E]                               True\n",
              "Sweden (SWE) [Z]                                 True\n",
              "Switzerland (SUI)                                True\n",
              "Syria (SYR)                                      True\n",
              "Chinese Taipei (TPE) [TPE] [TPE2]                True\n",
              "Tajikistan (TJK)                                False\n",
              "Tanzania (TAN) [TAN]                            False\n",
              "Thailand (THA)                                   True\n",
              "Togo (TOG)                                      False\n",
              "Tonga (TGA)                                     False\n",
              "Trinidad and Tobago (TRI) [TRI]                  True\n",
              "Tunisia (TUN)                                    True\n",
              "Turkey (TUR)                                     True\n",
              "Uganda (UGA)                                     True\n",
              "Ukraine (UKR)                                    True\n",
              "United Arab Emirates (UAE)                       True\n",
              "United States (USA) [P] [Q] [R] [Z]              True\n",
              "Uruguay (URU)                                    True\n",
              "Uzbekistan (UZB)                                 True\n",
              "Venezuela (VEN)                                  True\n",
              "Vietnam (VIE)                                   False\n",
              "Virgin Islands (ISV)                            False\n",
              "Yugoslavia (YUG) [YUG]                           True\n",
              "Independent Olympic Participants (IOP) [IOP]    False\n",
              "Zambia (ZAM) [ZAM]                              False\n",
              "Zimbabwe (ZIM) [ZIM]                             True\n",
              "Mixed team (ZZX) [ZZX]                           True\n",
              "Totals                                           True\n",
              "Name: Gold, Length: 147, dtype: bool"
            ]
          },
          "metadata": {
            "tags": []
          },
          "execution_count": 80
        }
      ]
    },
    {
      "metadata": {
        "id": "cj1_u3r_BZwx",
        "colab_type": "code",
        "outputId": "681ac19a-e370-4791-99a7-65e6b3c9481d",
        "executionInfo": {
          "status": "ok",
          "timestamp": 1555005380450,
          "user_tz": 300,
          "elapsed": 166691,
          "user": {
            "displayName": "David Tan",
            "photoUrl": "",
            "userId": "15726769250755126620"
          }
        },
        "colab": {
          "base_uri": "https://localhost:8080/",
          "height": 258
        },
        "pycharm": {}
      },
      "cell_type": "code",
      "source": [
        "only_gold \u003d df.where(df[\u0027Gold\u0027] \u003e 0)\n",
        "only_gold.head()"
      ],
      "execution_count": 0,
      "outputs": [
        {
          "output_type": "execute_result",
          "data": {
            "text/html": [
              "\u003cdiv\u003e\n",
              "\u003cstyle scoped\u003e\n",
              "    .dataframe tbody tr th:only-of-type {\n",
              "        vertical-align: middle;\n",
              "    }\n",
              "\n",
              "    .dataframe tbody tr th {\n",
              "        vertical-align: top;\n",
              "    }\n",
              "\n",
              "    .dataframe thead th {\n",
              "        text-align: right;\n",
              "    }\n",
              "\u003c/style\u003e\n",
              "\u003ctable border\u003d\"1\" class\u003d\"dataframe\"\u003e\n",
              "  \u003cthead\u003e\n",
              "    \u003ctr style\u003d\"text-align: right;\"\u003e\n",
              "      \u003cth\u003e\u003c/th\u003e\n",
              "      \u003cth\u003e# Summer\u003c/th\u003e\n",
              "      \u003cth\u003eGold\u003c/th\u003e\n",
              "      \u003cth\u003eSilver\u003c/th\u003e\n",
              "      \u003cth\u003eBronze\u003c/th\u003e\n",
              "      \u003cth\u003eTotal\u003c/th\u003e\n",
              "      \u003cth\u003e# Winter\u003c/th\u003e\n",
              "      \u003cth\u003eGold.1\u003c/th\u003e\n",
              "      \u003cth\u003eSilver.1\u003c/th\u003e\n",
              "      \u003cth\u003eBronze.1\u003c/th\u003e\n",
              "      \u003cth\u003eTotal.1\u003c/th\u003e\n",
              "      \u003cth\u003e# Games\u003c/th\u003e\n",
              "      \u003cth\u003eGold.2\u003c/th\u003e\n",
              "      \u003cth\u003eSilver.2\u003c/th\u003e\n",
              "      \u003cth\u003eBronze.2\u003c/th\u003e\n",
              "      \u003cth\u003eCombined total\u003c/th\u003e\n",
              "    \u003c/tr\u003e\n",
              "  \u003c/thead\u003e\n",
              "  \u003ctbody\u003e\n",
              "    \u003ctr\u003e\n",
              "      \u003cth\u003eAfghanistan (AFG)\u003c/th\u003e\n",
              "      \u003ctd\u003eNaN\u003c/td\u003e\n",
              "      \u003ctd\u003eNaN\u003c/td\u003e\n",
              "      \u003ctd\u003eNaN\u003c/td\u003e\n",
              "      \u003ctd\u003eNaN\u003c/td\u003e\n",
              "      \u003ctd\u003eNaN\u003c/td\u003e\n",
              "      \u003ctd\u003eNaN\u003c/td\u003e\n",
              "      \u003ctd\u003eNaN\u003c/td\u003e\n",
              "      \u003ctd\u003eNaN\u003c/td\u003e\n",
              "      \u003ctd\u003eNaN\u003c/td\u003e\n",
              "      \u003ctd\u003eNaN\u003c/td\u003e\n",
              "      \u003ctd\u003eNaN\u003c/td\u003e\n",
              "      \u003ctd\u003eNaN\u003c/td\u003e\n",
              "      \u003ctd\u003eNaN\u003c/td\u003e\n",
              "      \u003ctd\u003eNaN\u003c/td\u003e\n",
              "      \u003ctd\u003eNaN\u003c/td\u003e\n",
              "    \u003c/tr\u003e\n",
              "    \u003ctr\u003e\n",
              "      \u003cth\u003eAlgeria (ALG)\u003c/th\u003e\n",
              "      \u003ctd\u003e12.0\u003c/td\u003e\n",
              "      \u003ctd\u003e5.0\u003c/td\u003e\n",
              "      \u003ctd\u003e2.0\u003c/td\u003e\n",
              "      \u003ctd\u003e8.0\u003c/td\u003e\n",
              "      \u003ctd\u003e15.0\u003c/td\u003e\n",
              "      \u003ctd\u003e3.0\u003c/td\u003e\n",
              "      \u003ctd\u003e0.0\u003c/td\u003e\n",
              "      \u003ctd\u003e0.0\u003c/td\u003e\n",
              "      \u003ctd\u003e0.0\u003c/td\u003e\n",
              "      \u003ctd\u003e0.0\u003c/td\u003e\n",
              "      \u003ctd\u003e15.0\u003c/td\u003e\n",
              "      \u003ctd\u003e5.0\u003c/td\u003e\n",
              "      \u003ctd\u003e2.0\u003c/td\u003e\n",
              "      \u003ctd\u003e8.0\u003c/td\u003e\n",
              "      \u003ctd\u003e15.0\u003c/td\u003e\n",
              "    \u003c/tr\u003e\n",
              "    \u003ctr\u003e\n",
              "      \u003cth\u003eArgentina (ARG)\u003c/th\u003e\n",
              "      \u003ctd\u003e23.0\u003c/td\u003e\n",
              "      \u003ctd\u003e18.0\u003c/td\u003e\n",
              "      \u003ctd\u003e24.0\u003c/td\u003e\n",
              "      \u003ctd\u003e28.0\u003c/td\u003e\n",
              "      \u003ctd\u003e70.0\u003c/td\u003e\n",
              "      \u003ctd\u003e18.0\u003c/td\u003e\n",
              "      \u003ctd\u003e0.0\u003c/td\u003e\n",
              "      \u003ctd\u003e0.0\u003c/td\u003e\n",
              "      \u003ctd\u003e0.0\u003c/td\u003e\n",
              "      \u003ctd\u003e0.0\u003c/td\u003e\n",
              "      \u003ctd\u003e41.0\u003c/td\u003e\n",
              "      \u003ctd\u003e18.0\u003c/td\u003e\n",
              "      \u003ctd\u003e24.0\u003c/td\u003e\n",
              "      \u003ctd\u003e28.0\u003c/td\u003e\n",
              "      \u003ctd\u003e70.0\u003c/td\u003e\n",
              "    \u003c/tr\u003e\n",
              "    \u003ctr\u003e\n",
              "      \u003cth\u003eArmenia (ARM)\u003c/th\u003e\n",
              "      \u003ctd\u003e5.0\u003c/td\u003e\n",
              "      \u003ctd\u003e1.0\u003c/td\u003e\n",
              "      \u003ctd\u003e2.0\u003c/td\u003e\n",
              "      \u003ctd\u003e9.0\u003c/td\u003e\n",
              "      \u003ctd\u003e12.0\u003c/td\u003e\n",
              "      \u003ctd\u003e6.0\u003c/td\u003e\n",
              "      \u003ctd\u003e0.0\u003c/td\u003e\n",
              "      \u003ctd\u003e0.0\u003c/td\u003e\n",
              "      \u003ctd\u003e0.0\u003c/td\u003e\n",
              "      \u003ctd\u003e0.0\u003c/td\u003e\n",
              "      \u003ctd\u003e11.0\u003c/td\u003e\n",
              "      \u003ctd\u003e1.0\u003c/td\u003e\n",
              "      \u003ctd\u003e2.0\u003c/td\u003e\n",
              "      \u003ctd\u003e9.0\u003c/td\u003e\n",
              "      \u003ctd\u003e12.0\u003c/td\u003e\n",
              "    \u003c/tr\u003e\n",
              "    \u003ctr\u003e\n",
              "      \u003cth\u003eAustralasia (ANZ) [ANZ]\u003c/th\u003e\n",
              "      \u003ctd\u003e2.0\u003c/td\u003e\n",
              "      \u003ctd\u003e3.0\u003c/td\u003e\n",
              "      \u003ctd\u003e4.0\u003c/td\u003e\n",
              "      \u003ctd\u003e5.0\u003c/td\u003e\n",
              "      \u003ctd\u003e12.0\u003c/td\u003e\n",
              "      \u003ctd\u003e0.0\u003c/td\u003e\n",
              "      \u003ctd\u003e0.0\u003c/td\u003e\n",
              "      \u003ctd\u003e0.0\u003c/td\u003e\n",
              "      \u003ctd\u003e0.0\u003c/td\u003e\n",
              "      \u003ctd\u003e0.0\u003c/td\u003e\n",
              "      \u003ctd\u003e2.0\u003c/td\u003e\n",
              "      \u003ctd\u003e3.0\u003c/td\u003e\n",
              "      \u003ctd\u003e4.0\u003c/td\u003e\n",
              "      \u003ctd\u003e5.0\u003c/td\u003e\n",
              "      \u003ctd\u003e12.0\u003c/td\u003e\n",
              "    \u003c/tr\u003e\n",
              "  \u003c/tbody\u003e\n",
              "\u003c/table\u003e\n",
              "\u003c/div\u003e"
            ],
            "text/plain": [
              "                         # Summer  Gold  Silver  Bronze  Total  # Winter  \\\n",
              "Afghanistan (AFG)             NaN   NaN     NaN     NaN    NaN       NaN   \n",
              "Algeria (ALG)                12.0   5.0     2.0     8.0   15.0       3.0   \n",
              "Argentina (ARG)              23.0  18.0    24.0    28.0   70.0      18.0   \n",
              "Armenia (ARM)                 5.0   1.0     2.0     9.0   12.0       6.0   \n",
              "Australasia (ANZ) [ANZ]       2.0   3.0     4.0     5.0   12.0       0.0   \n",
              "\n",
              "                         Gold.1  Silver.1  Bronze.1  Total.1  # Games  Gold.2  \\\n",
              "Afghanistan (AFG)           NaN       NaN       NaN      NaN      NaN     NaN   \n",
              "Algeria (ALG)               0.0       0.0       0.0      0.0     15.0     5.0   \n",
              "Argentina (ARG)             0.0       0.0       0.0      0.0     41.0    18.0   \n",
              "Armenia (ARM)               0.0       0.0       0.0      0.0     11.0     1.0   \n",
              "Australasia (ANZ) [ANZ]     0.0       0.0       0.0      0.0      2.0     3.0   \n",
              "\n",
              "                         Silver.2  Bronze.2  Combined total  \n",
              "Afghanistan (AFG)             NaN       NaN             NaN  \n",
              "Algeria (ALG)                 2.0       8.0            15.0  \n",
              "Argentina (ARG)              24.0      28.0            70.0  \n",
              "Armenia (ARM)                 2.0       9.0            12.0  \n",
              "Australasia (ANZ) [ANZ]       4.0       5.0            12.0  "
            ]
          },
          "metadata": {
            "tags": []
          },
          "execution_count": 81
        }
      ]
    },
    {
      "metadata": {
        "id": "5mC9NtQyBZwz",
        "colab_type": "code",
        "outputId": "7e0a7c64-0e9d-4928-d0b0-0a3cd1f0ecd1",
        "executionInfo": {
          "status": "ok",
          "timestamp": 1555005380451,
          "user_tz": 300,
          "elapsed": 166685,
          "user": {
            "displayName": "David Tan",
            "photoUrl": "",
            "userId": "15726769250755126620"
          }
        },
        "colab": {
          "base_uri": "https://localhost:8080/",
          "height": 54
        },
        "pycharm": {}
      },
      "cell_type": "code",
      "source": [
        "only_gold[\u0027Gold\u0027].count()"
      ],
      "execution_count": 0,
      "outputs": [
        {
          "output_type": "execute_result",
          "data": {
            "text/plain": [
              "100"
            ]
          },
          "metadata": {
            "tags": []
          },
          "execution_count": 82
        }
      ]
    },
    {
      "metadata": {
        "id": "sK58ZnicBZw2",
        "colab_type": "code",
        "outputId": "38387015-a18e-4c5e-de04-f7adc308b03e",
        "executionInfo": {
          "status": "ok",
          "timestamp": 1555005380452,
          "user_tz": 300,
          "elapsed": 166681,
          "user": {
            "displayName": "David Tan",
            "photoUrl": "",
            "userId": "15726769250755126620"
          }
        },
        "colab": {
          "base_uri": "https://localhost:8080/",
          "height": 54
        },
        "pycharm": {}
      },
      "cell_type": "code",
      "source": [
        "df[\u0027Gold\u0027].count()"
      ],
      "execution_count": 0,
      "outputs": [
        {
          "output_type": "execute_result",
          "data": {
            "text/plain": [
              "147"
            ]
          },
          "metadata": {
            "tags": []
          },
          "execution_count": 83
        }
      ]
    },
    {
      "metadata": {
        "id": "5v7SB_yVBZw3",
        "colab_type": "code",
        "outputId": "71e445c3-50cb-4549-de16-ed11de1893bf",
        "executionInfo": {
          "status": "ok",
          "timestamp": 1555005380453,
          "user_tz": 300,
          "elapsed": 166677,
          "user": {
            "displayName": "David Tan",
            "photoUrl": "",
            "userId": "15726769250755126620"
          }
        },
        "colab": {
          "base_uri": "https://localhost:8080/",
          "height": 275
        },
        "pycharm": {}
      },
      "cell_type": "code",
      "source": [
        "only_gold \u003d only_gold.dropna()\n",
        "only_gold.head()"
      ],
      "execution_count": 0,
      "outputs": [
        {
          "output_type": "execute_result",
          "data": {
            "text/html": [
              "\u003cdiv\u003e\n",
              "\u003cstyle scoped\u003e\n",
              "    .dataframe tbody tr th:only-of-type {\n",
              "        vertical-align: middle;\n",
              "    }\n",
              "\n",
              "    .dataframe tbody tr th {\n",
              "        vertical-align: top;\n",
              "    }\n",
              "\n",
              "    .dataframe thead th {\n",
              "        text-align: right;\n",
              "    }\n",
              "\u003c/style\u003e\n",
              "\u003ctable border\u003d\"1\" class\u003d\"dataframe\"\u003e\n",
              "  \u003cthead\u003e\n",
              "    \u003ctr style\u003d\"text-align: right;\"\u003e\n",
              "      \u003cth\u003e\u003c/th\u003e\n",
              "      \u003cth\u003e# Summer\u003c/th\u003e\n",
              "      \u003cth\u003eGold\u003c/th\u003e\n",
              "      \u003cth\u003eSilver\u003c/th\u003e\n",
              "      \u003cth\u003eBronze\u003c/th\u003e\n",
              "      \u003cth\u003eTotal\u003c/th\u003e\n",
              "      \u003cth\u003e# Winter\u003c/th\u003e\n",
              "      \u003cth\u003eGold.1\u003c/th\u003e\n",
              "      \u003cth\u003eSilver.1\u003c/th\u003e\n",
              "      \u003cth\u003eBronze.1\u003c/th\u003e\n",
              "      \u003cth\u003eTotal.1\u003c/th\u003e\n",
              "      \u003cth\u003e# Games\u003c/th\u003e\n",
              "      \u003cth\u003eGold.2\u003c/th\u003e\n",
              "      \u003cth\u003eSilver.2\u003c/th\u003e\n",
              "      \u003cth\u003eBronze.2\u003c/th\u003e\n",
              "      \u003cth\u003eCombined total\u003c/th\u003e\n",
              "    \u003c/tr\u003e\n",
              "  \u003c/thead\u003e\n",
              "  \u003ctbody\u003e\n",
              "    \u003ctr\u003e\n",
              "      \u003cth\u003eAlgeria (ALG)\u003c/th\u003e\n",
              "      \u003ctd\u003e12.0\u003c/td\u003e\n",
              "      \u003ctd\u003e5.0\u003c/td\u003e\n",
              "      \u003ctd\u003e2.0\u003c/td\u003e\n",
              "      \u003ctd\u003e8.0\u003c/td\u003e\n",
              "      \u003ctd\u003e15.0\u003c/td\u003e\n",
              "      \u003ctd\u003e3.0\u003c/td\u003e\n",
              "      \u003ctd\u003e0.0\u003c/td\u003e\n",
              "      \u003ctd\u003e0.0\u003c/td\u003e\n",
              "      \u003ctd\u003e0.0\u003c/td\u003e\n",
              "      \u003ctd\u003e0.0\u003c/td\u003e\n",
              "      \u003ctd\u003e15.0\u003c/td\u003e\n",
              "      \u003ctd\u003e5.0\u003c/td\u003e\n",
              "      \u003ctd\u003e2.0\u003c/td\u003e\n",
              "      \u003ctd\u003e8.0\u003c/td\u003e\n",
              "      \u003ctd\u003e15.0\u003c/td\u003e\n",
              "    \u003c/tr\u003e\n",
              "    \u003ctr\u003e\n",
              "      \u003cth\u003eArgentina (ARG)\u003c/th\u003e\n",
              "      \u003ctd\u003e23.0\u003c/td\u003e\n",
              "      \u003ctd\u003e18.0\u003c/td\u003e\n",
              "      \u003ctd\u003e24.0\u003c/td\u003e\n",
              "      \u003ctd\u003e28.0\u003c/td\u003e\n",
              "      \u003ctd\u003e70.0\u003c/td\u003e\n",
              "      \u003ctd\u003e18.0\u003c/td\u003e\n",
              "      \u003ctd\u003e0.0\u003c/td\u003e\n",
              "      \u003ctd\u003e0.0\u003c/td\u003e\n",
              "      \u003ctd\u003e0.0\u003c/td\u003e\n",
              "      \u003ctd\u003e0.0\u003c/td\u003e\n",
              "      \u003ctd\u003e41.0\u003c/td\u003e\n",
              "      \u003ctd\u003e18.0\u003c/td\u003e\n",
              "      \u003ctd\u003e24.0\u003c/td\u003e\n",
              "      \u003ctd\u003e28.0\u003c/td\u003e\n",
              "      \u003ctd\u003e70.0\u003c/td\u003e\n",
              "    \u003c/tr\u003e\n",
              "    \u003ctr\u003e\n",
              "      \u003cth\u003eArmenia (ARM)\u003c/th\u003e\n",
              "      \u003ctd\u003e5.0\u003c/td\u003e\n",
              "      \u003ctd\u003e1.0\u003c/td\u003e\n",
              "      \u003ctd\u003e2.0\u003c/td\u003e\n",
              "      \u003ctd\u003e9.0\u003c/td\u003e\n",
              "      \u003ctd\u003e12.0\u003c/td\u003e\n",
              "      \u003ctd\u003e6.0\u003c/td\u003e\n",
              "      \u003ctd\u003e0.0\u003c/td\u003e\n",
              "      \u003ctd\u003e0.0\u003c/td\u003e\n",
              "      \u003ctd\u003e0.0\u003c/td\u003e\n",
              "      \u003ctd\u003e0.0\u003c/td\u003e\n",
              "      \u003ctd\u003e11.0\u003c/td\u003e\n",
              "      \u003ctd\u003e1.0\u003c/td\u003e\n",
              "      \u003ctd\u003e2.0\u003c/td\u003e\n",
              "      \u003ctd\u003e9.0\u003c/td\u003e\n",
              "      \u003ctd\u003e12.0\u003c/td\u003e\n",
              "    \u003c/tr\u003e\n",
              "    \u003ctr\u003e\n",
              "      \u003cth\u003eAustralasia (ANZ) [ANZ]\u003c/th\u003e\n",
              "      \u003ctd\u003e2.0\u003c/td\u003e\n",
              "      \u003ctd\u003e3.0\u003c/td\u003e\n",
              "      \u003ctd\u003e4.0\u003c/td\u003e\n",
              "      \u003ctd\u003e5.0\u003c/td\u003e\n",
              "      \u003ctd\u003e12.0\u003c/td\u003e\n",
              "      \u003ctd\u003e0.0\u003c/td\u003e\n",
              "      \u003ctd\u003e0.0\u003c/td\u003e\n",
              "      \u003ctd\u003e0.0\u003c/td\u003e\n",
              "      \u003ctd\u003e0.0\u003c/td\u003e\n",
              "      \u003ctd\u003e0.0\u003c/td\u003e\n",
              "      \u003ctd\u003e2.0\u003c/td\u003e\n",
              "      \u003ctd\u003e3.0\u003c/td\u003e\n",
              "      \u003ctd\u003e4.0\u003c/td\u003e\n",
              "      \u003ctd\u003e5.0\u003c/td\u003e\n",
              "      \u003ctd\u003e12.0\u003c/td\u003e\n",
              "    \u003c/tr\u003e\n",
              "    \u003ctr\u003e\n",
              "      \u003cth\u003eAustralia (AUS) [AUS] [Z]\u003c/th\u003e\n",
              "      \u003ctd\u003e25.0\u003c/td\u003e\n",
              "      \u003ctd\u003e139.0\u003c/td\u003e\n",
              "      \u003ctd\u003e152.0\u003c/td\u003e\n",
              "      \u003ctd\u003e177.0\u003c/td\u003e\n",
              "      \u003ctd\u003e468.0\u003c/td\u003e\n",
              "      \u003ctd\u003e18.0\u003c/td\u003e\n",
              "      \u003ctd\u003e5.0\u003c/td\u003e\n",
              "      \u003ctd\u003e3.0\u003c/td\u003e\n",
              "      \u003ctd\u003e4.0\u003c/td\u003e\n",
              "      \u003ctd\u003e12.0\u003c/td\u003e\n",
              "      \u003ctd\u003e43.0\u003c/td\u003e\n",
              "      \u003ctd\u003e144.0\u003c/td\u003e\n",
              "      \u003ctd\u003e155.0\u003c/td\u003e\n",
              "      \u003ctd\u003e181.0\u003c/td\u003e\n",
              "      \u003ctd\u003e480.0\u003c/td\u003e\n",
              "    \u003c/tr\u003e\n",
              "  \u003c/tbody\u003e\n",
              "\u003c/table\u003e\n",
              "\u003c/div\u003e"
            ],
            "text/plain": [
              "                           # Summer   Gold  Silver  Bronze  Total  # Winter  \\\n",
              "Algeria (ALG)                  12.0    5.0     2.0     8.0   15.0       3.0   \n",
              "Argentina (ARG)                23.0   18.0    24.0    28.0   70.0      18.0   \n",
              "Armenia (ARM)                   5.0    1.0     2.0     9.0   12.0       6.0   \n",
              "Australasia (ANZ) [ANZ]         2.0    3.0     4.0     5.0   12.0       0.0   \n",
              "Australia (AUS) [AUS] [Z]      25.0  139.0   152.0   177.0  468.0      18.0   \n",
              "\n",
              "                           Gold.1  Silver.1  Bronze.1  Total.1  # Games  \\\n",
              "Algeria (ALG)                 0.0       0.0       0.0      0.0     15.0   \n",
              "Argentina (ARG)               0.0       0.0       0.0      0.0     41.0   \n",
              "Armenia (ARM)                 0.0       0.0       0.0      0.0     11.0   \n",
              "Australasia (ANZ) [ANZ]       0.0       0.0       0.0      0.0      2.0   \n",
              "Australia (AUS) [AUS] [Z]     5.0       3.0       4.0     12.0     43.0   \n",
              "\n",
              "                           Gold.2  Silver.2  Bronze.2  Combined total  \n",
              "Algeria (ALG)                 5.0       2.0       8.0            15.0  \n",
              "Argentina (ARG)              18.0      24.0      28.0            70.0  \n",
              "Armenia (ARM)                 1.0       2.0       9.0            12.0  \n",
              "Australasia (ANZ) [ANZ]       3.0       4.0       5.0            12.0  \n",
              "Australia (AUS) [AUS] [Z]   144.0     155.0     181.0           480.0  "
            ]
          },
          "metadata": {
            "tags": []
          },
          "execution_count": 84
        }
      ]
    },
    {
      "metadata": {
        "id": "7tbuIyGnBZw5",
        "colab_type": "code",
        "outputId": "2c5955be-7369-4b4b-e888-6ba4df8e7197",
        "executionInfo": {
          "status": "ok",
          "timestamp": 1555005380454,
          "user_tz": 300,
          "elapsed": 166672,
          "user": {
            "displayName": "David Tan",
            "photoUrl": "",
            "userId": "15726769250755126620"
          }
        },
        "colab": {
          "base_uri": "https://localhost:8080/",
          "height": 275
        },
        "pycharm": {}
      },
      "cell_type": "code",
      "source": [
        "only_gold \u003d df[df[\u0027Gold\u0027] \u003e 0]\n",
        "only_gold.head()"
      ],
      "execution_count": 0,
      "outputs": [
        {
          "output_type": "execute_result",
          "data": {
            "text/html": [
              "\u003cdiv\u003e\n",
              "\u003cstyle scoped\u003e\n",
              "    .dataframe tbody tr th:only-of-type {\n",
              "        vertical-align: middle;\n",
              "    }\n",
              "\n",
              "    .dataframe tbody tr th {\n",
              "        vertical-align: top;\n",
              "    }\n",
              "\n",
              "    .dataframe thead th {\n",
              "        text-align: right;\n",
              "    }\n",
              "\u003c/style\u003e\n",
              "\u003ctable border\u003d\"1\" class\u003d\"dataframe\"\u003e\n",
              "  \u003cthead\u003e\n",
              "    \u003ctr style\u003d\"text-align: right;\"\u003e\n",
              "      \u003cth\u003e\u003c/th\u003e\n",
              "      \u003cth\u003e# Summer\u003c/th\u003e\n",
              "      \u003cth\u003eGold\u003c/th\u003e\n",
              "      \u003cth\u003eSilver\u003c/th\u003e\n",
              "      \u003cth\u003eBronze\u003c/th\u003e\n",
              "      \u003cth\u003eTotal\u003c/th\u003e\n",
              "      \u003cth\u003e# Winter\u003c/th\u003e\n",
              "      \u003cth\u003eGold.1\u003c/th\u003e\n",
              "      \u003cth\u003eSilver.1\u003c/th\u003e\n",
              "      \u003cth\u003eBronze.1\u003c/th\u003e\n",
              "      \u003cth\u003eTotal.1\u003c/th\u003e\n",
              "      \u003cth\u003e# Games\u003c/th\u003e\n",
              "      \u003cth\u003eGold.2\u003c/th\u003e\n",
              "      \u003cth\u003eSilver.2\u003c/th\u003e\n",
              "      \u003cth\u003eBronze.2\u003c/th\u003e\n",
              "      \u003cth\u003eCombined total\u003c/th\u003e\n",
              "    \u003c/tr\u003e\n",
              "  \u003c/thead\u003e\n",
              "  \u003ctbody\u003e\n",
              "    \u003ctr\u003e\n",
              "      \u003cth\u003eAlgeria (ALG)\u003c/th\u003e\n",
              "      \u003ctd\u003e12\u003c/td\u003e\n",
              "      \u003ctd\u003e5\u003c/td\u003e\n",
              "      \u003ctd\u003e2\u003c/td\u003e\n",
              "      \u003ctd\u003e8\u003c/td\u003e\n",
              "      \u003ctd\u003e15\u003c/td\u003e\n",
              "      \u003ctd\u003e3\u003c/td\u003e\n",
              "      \u003ctd\u003e0\u003c/td\u003e\n",
              "      \u003ctd\u003e0\u003c/td\u003e\n",
              "      \u003ctd\u003e0\u003c/td\u003e\n",
              "      \u003ctd\u003e0\u003c/td\u003e\n",
              "      \u003ctd\u003e15\u003c/td\u003e\n",
              "      \u003ctd\u003e5\u003c/td\u003e\n",
              "      \u003ctd\u003e2\u003c/td\u003e\n",
              "      \u003ctd\u003e8\u003c/td\u003e\n",
              "      \u003ctd\u003e15\u003c/td\u003e\n",
              "    \u003c/tr\u003e\n",
              "    \u003ctr\u003e\n",
              "      \u003cth\u003eArgentina (ARG)\u003c/th\u003e\n",
              "      \u003ctd\u003e23\u003c/td\u003e\n",
              "      \u003ctd\u003e18\u003c/td\u003e\n",
              "      \u003ctd\u003e24\u003c/td\u003e\n",
              "      \u003ctd\u003e28\u003c/td\u003e\n",
              "      \u003ctd\u003e70\u003c/td\u003e\n",
              "      \u003ctd\u003e18\u003c/td\u003e\n",
              "      \u003ctd\u003e0\u003c/td\u003e\n",
              "      \u003ctd\u003e0\u003c/td\u003e\n",
              "      \u003ctd\u003e0\u003c/td\u003e\n",
              "      \u003ctd\u003e0\u003c/td\u003e\n",
              "      \u003ctd\u003e41\u003c/td\u003e\n",
              "      \u003ctd\u003e18\u003c/td\u003e\n",
              "      \u003ctd\u003e24\u003c/td\u003e\n",
              "      \u003ctd\u003e28\u003c/td\u003e\n",
              "      \u003ctd\u003e70\u003c/td\u003e\n",
              "    \u003c/tr\u003e\n",
              "    \u003ctr\u003e\n",
              "      \u003cth\u003eArmenia (ARM)\u003c/th\u003e\n",
              "      \u003ctd\u003e5\u003c/td\u003e\n",
              "      \u003ctd\u003e1\u003c/td\u003e\n",
              "      \u003ctd\u003e2\u003c/td\u003e\n",
              "      \u003ctd\u003e9\u003c/td\u003e\n",
              "      \u003ctd\u003e12\u003c/td\u003e\n",
              "      \u003ctd\u003e6\u003c/td\u003e\n",
              "      \u003ctd\u003e0\u003c/td\u003e\n",
              "      \u003ctd\u003e0\u003c/td\u003e\n",
              "      \u003ctd\u003e0\u003c/td\u003e\n",
              "      \u003ctd\u003e0\u003c/td\u003e\n",
              "      \u003ctd\u003e11\u003c/td\u003e\n",
              "      \u003ctd\u003e1\u003c/td\u003e\n",
              "      \u003ctd\u003e2\u003c/td\u003e\n",
              "      \u003ctd\u003e9\u003c/td\u003e\n",
              "      \u003ctd\u003e12\u003c/td\u003e\n",
              "    \u003c/tr\u003e\n",
              "    \u003ctr\u003e\n",
              "      \u003cth\u003eAustralasia (ANZ) [ANZ]\u003c/th\u003e\n",
              "      \u003ctd\u003e2\u003c/td\u003e\n",
              "      \u003ctd\u003e3\u003c/td\u003e\n",
              "      \u003ctd\u003e4\u003c/td\u003e\n",
              "      \u003ctd\u003e5\u003c/td\u003e\n",
              "      \u003ctd\u003e12\u003c/td\u003e\n",
              "      \u003ctd\u003e0\u003c/td\u003e\n",
              "      \u003ctd\u003e0\u003c/td\u003e\n",
              "      \u003ctd\u003e0\u003c/td\u003e\n",
              "      \u003ctd\u003e0\u003c/td\u003e\n",
              "      \u003ctd\u003e0\u003c/td\u003e\n",
              "      \u003ctd\u003e2\u003c/td\u003e\n",
              "      \u003ctd\u003e3\u003c/td\u003e\n",
              "      \u003ctd\u003e4\u003c/td\u003e\n",
              "      \u003ctd\u003e5\u003c/td\u003e\n",
              "      \u003ctd\u003e12\u003c/td\u003e\n",
              "    \u003c/tr\u003e\n",
              "    \u003ctr\u003e\n",
              "      \u003cth\u003eAustralia (AUS) [AUS] [Z]\u003c/th\u003e\n",
              "      \u003ctd\u003e25\u003c/td\u003e\n",
              "      \u003ctd\u003e139\u003c/td\u003e\n",
              "      \u003ctd\u003e152\u003c/td\u003e\n",
              "      \u003ctd\u003e177\u003c/td\u003e\n",
              "      \u003ctd\u003e468\u003c/td\u003e\n",
              "      \u003ctd\u003e18\u003c/td\u003e\n",
              "      \u003ctd\u003e5\u003c/td\u003e\n",
              "      \u003ctd\u003e3\u003c/td\u003e\n",
              "      \u003ctd\u003e4\u003c/td\u003e\n",
              "      \u003ctd\u003e12\u003c/td\u003e\n",
              "      \u003ctd\u003e43\u003c/td\u003e\n",
              "      \u003ctd\u003e144\u003c/td\u003e\n",
              "      \u003ctd\u003e155\u003c/td\u003e\n",
              "      \u003ctd\u003e181\u003c/td\u003e\n",
              "      \u003ctd\u003e480\u003c/td\u003e\n",
              "    \u003c/tr\u003e\n",
              "  \u003c/tbody\u003e\n",
              "\u003c/table\u003e\n",
              "\u003c/div\u003e"
            ],
            "text/plain": [
              "                           # Summer  Gold  Silver  Bronze  Total  # Winter  \\\n",
              "Algeria (ALG)                    12     5       2       8     15         3   \n",
              "Argentina (ARG)                  23    18      24      28     70        18   \n",
              "Armenia (ARM)                     5     1       2       9     12         6   \n",
              "Australasia (ANZ) [ANZ]           2     3       4       5     12         0   \n",
              "Australia (AUS) [AUS] [Z]        25   139     152     177    468        18   \n",
              "\n",
              "                           Gold.1  Silver.1  Bronze.1  Total.1  # Games  \\\n",
              "Algeria (ALG)                   0         0         0        0       15   \n",
              "Argentina (ARG)                 0         0         0        0       41   \n",
              "Armenia (ARM)                   0         0         0        0       11   \n",
              "Australasia (ANZ) [ANZ]         0         0         0        0        2   \n",
              "Australia (AUS) [AUS] [Z]       5         3         4       12       43   \n",
              "\n",
              "                           Gold.2  Silver.2  Bronze.2  Combined total  \n",
              "Algeria (ALG)                   5         2         8              15  \n",
              "Argentina (ARG)                18        24        28              70  \n",
              "Armenia (ARM)                   1         2         9              12  \n",
              "Australasia (ANZ) [ANZ]         3         4         5              12  \n",
              "Australia (AUS) [AUS] [Z]     144       155       181             480  "
            ]
          },
          "metadata": {
            "tags": []
          },
          "execution_count": 85
        }
      ]
    },
    {
      "metadata": {
        "id": "dm2Dk3slBZw8",
        "colab_type": "code",
        "outputId": "d787247b-e900-4540-d514-13a0d107b0dd",
        "executionInfo": {
          "status": "ok",
          "timestamp": 1555005380454,
          "user_tz": 300,
          "elapsed": 166667,
          "user": {
            "displayName": "David Tan",
            "photoUrl": "",
            "userId": "15726769250755126620"
          }
        },
        "colab": {
          "base_uri": "https://localhost:8080/",
          "height": 54
        },
        "pycharm": {}
      },
      "cell_type": "code",
      "source": [
        "len(df[(df[\u0027Gold\u0027] \u003e 0) | (df[\u0027Gold.1\u0027] \u003e 0)])"
      ],
      "execution_count": 0,
      "outputs": [
        {
          "output_type": "execute_result",
          "data": {
            "text/plain": [
              "101"
            ]
          },
          "metadata": {
            "tags": []
          },
          "execution_count": 86
        }
      ]
    },
    {
      "metadata": {
        "id": "xJMsWGcbBZw9",
        "colab_type": "code",
        "outputId": "f636aec8-8531-471c-a850-7c2f19fbb608",
        "executionInfo": {
          "status": "ok",
          "timestamp": 1555005380455,
          "user_tz": 300,
          "elapsed": 166660,
          "user": {
            "displayName": "David Tan",
            "photoUrl": "",
            "userId": "15726769250755126620"
          }
        },
        "colab": {
          "base_uri": "https://localhost:8080/",
          "height": 117
        },
        "pycharm": {}
      },
      "cell_type": "code",
      "source": [
        "df[(df[\u0027Gold.1\u0027] \u003e 0) \u0026 (df[\u0027Gold\u0027] \u003d\u003d 0)]"
      ],
      "execution_count": 0,
      "outputs": [
        {
          "output_type": "execute_result",
          "data": {
            "text/html": [
              "\u003cdiv\u003e\n",
              "\u003cstyle scoped\u003e\n",
              "    .dataframe tbody tr th:only-of-type {\n",
              "        vertical-align: middle;\n",
              "    }\n",
              "\n",
              "    .dataframe tbody tr th {\n",
              "        vertical-align: top;\n",
              "    }\n",
              "\n",
              "    .dataframe thead th {\n",
              "        text-align: right;\n",
              "    }\n",
              "\u003c/style\u003e\n",
              "\u003ctable border\u003d\"1\" class\u003d\"dataframe\"\u003e\n",
              "  \u003cthead\u003e\n",
              "    \u003ctr style\u003d\"text-align: right;\"\u003e\n",
              "      \u003cth\u003e\u003c/th\u003e\n",
              "      \u003cth\u003e# Summer\u003c/th\u003e\n",
              "      \u003cth\u003eGold\u003c/th\u003e\n",
              "      \u003cth\u003eSilver\u003c/th\u003e\n",
              "      \u003cth\u003eBronze\u003c/th\u003e\n",
              "      \u003cth\u003eTotal\u003c/th\u003e\n",
              "      \u003cth\u003e# Winter\u003c/th\u003e\n",
              "      \u003cth\u003eGold.1\u003c/th\u003e\n",
              "      \u003cth\u003eSilver.1\u003c/th\u003e\n",
              "      \u003cth\u003eBronze.1\u003c/th\u003e\n",
              "      \u003cth\u003eTotal.1\u003c/th\u003e\n",
              "      \u003cth\u003e# Games\u003c/th\u003e\n",
              "      \u003cth\u003eGold.2\u003c/th\u003e\n",
              "      \u003cth\u003eSilver.2\u003c/th\u003e\n",
              "      \u003cth\u003eBronze.2\u003c/th\u003e\n",
              "      \u003cth\u003eCombined total\u003c/th\u003e\n",
              "    \u003c/tr\u003e\n",
              "  \u003c/thead\u003e\n",
              "  \u003ctbody\u003e\n",
              "    \u003ctr\u003e\n",
              "      \u003cth\u003eLiechtenstein (LIE)\u003c/th\u003e\n",
              "      \u003ctd\u003e16\u003c/td\u003e\n",
              "      \u003ctd\u003e0\u003c/td\u003e\n",
              "      \u003ctd\u003e0\u003c/td\u003e\n",
              "      \u003ctd\u003e0\u003c/td\u003e\n",
              "      \u003ctd\u003e0\u003c/td\u003e\n",
              "      \u003ctd\u003e18\u003c/td\u003e\n",
              "      \u003ctd\u003e2\u003c/td\u003e\n",
              "      \u003ctd\u003e2\u003c/td\u003e\n",
              "      \u003ctd\u003e5\u003c/td\u003e\n",
              "      \u003ctd\u003e9\u003c/td\u003e\n",
              "      \u003ctd\u003e34\u003c/td\u003e\n",
              "      \u003ctd\u003e2\u003c/td\u003e\n",
              "      \u003ctd\u003e2\u003c/td\u003e\n",
              "      \u003ctd\u003e5\u003c/td\u003e\n",
              "      \u003ctd\u003e9\u003c/td\u003e\n",
              "    \u003c/tr\u003e\n",
              "  \u003c/tbody\u003e\n",
              "\u003c/table\u003e\n",
              "\u003c/div\u003e"
            ],
            "text/plain": [
              "                     # Summer  Gold  Silver  Bronze  Total  # Winter  Gold.1  \\\n",
              "Liechtenstein (LIE)        16     0       0       0      0        18       2   \n",
              "\n",
              "                     Silver.1  Bronze.1  Total.1  # Games  Gold.2  Silver.2  \\\n",
              "Liechtenstein (LIE)         2         5        9       34       2         2   \n",
              "\n",
              "                     Bronze.2  Combined total  \n",
              "Liechtenstein (LIE)         5               9  "
            ]
          },
          "metadata": {
            "tags": []
          },
          "execution_count": 87
        }
      ]
    },
    {
      "metadata": {
        "id": "DWHvr9AsBZw_",
        "colab_type": "text",
        "pycharm": {}
      },
      "cell_type": "markdown",
      "source": [
        "# Indexing Dataframes"
      ]
    },
    {
      "metadata": {
        "id": "cUQn1RIYBZw_",
        "colab_type": "code",
        "outputId": "cc907951-d65a-4d23-f2fe-200a43a964cc",
        "executionInfo": {
          "status": "ok",
          "timestamp": 1555005380456,
          "user_tz": 300,
          "elapsed": 166655,
          "user": {
            "displayName": "David Tan",
            "photoUrl": "",
            "userId": "15726769250755126620"
          }
        },
        "colab": {
          "base_uri": "https://localhost:8080/",
          "height": 258
        },
        "pycharm": {}
      },
      "cell_type": "code",
      "source": [
        "df.head()"
      ],
      "execution_count": 0,
      "outputs": [
        {
          "output_type": "execute_result",
          "data": {
            "text/html": [
              "\u003cdiv\u003e\n",
              "\u003cstyle scoped\u003e\n",
              "    .dataframe tbody tr th:only-of-type {\n",
              "        vertical-align: middle;\n",
              "    }\n",
              "\n",
              "    .dataframe tbody tr th {\n",
              "        vertical-align: top;\n",
              "    }\n",
              "\n",
              "    .dataframe thead th {\n",
              "        text-align: right;\n",
              "    }\n",
              "\u003c/style\u003e\n",
              "\u003ctable border\u003d\"1\" class\u003d\"dataframe\"\u003e\n",
              "  \u003cthead\u003e\n",
              "    \u003ctr style\u003d\"text-align: right;\"\u003e\n",
              "      \u003cth\u003e\u003c/th\u003e\n",
              "      \u003cth\u003e# Summer\u003c/th\u003e\n",
              "      \u003cth\u003eGold\u003c/th\u003e\n",
              "      \u003cth\u003eSilver\u003c/th\u003e\n",
              "      \u003cth\u003eBronze\u003c/th\u003e\n",
              "      \u003cth\u003eTotal\u003c/th\u003e\n",
              "      \u003cth\u003e# Winter\u003c/th\u003e\n",
              "      \u003cth\u003eGold.1\u003c/th\u003e\n",
              "      \u003cth\u003eSilver.1\u003c/th\u003e\n",
              "      \u003cth\u003eBronze.1\u003c/th\u003e\n",
              "      \u003cth\u003eTotal.1\u003c/th\u003e\n",
              "      \u003cth\u003e# Games\u003c/th\u003e\n",
              "      \u003cth\u003eGold.2\u003c/th\u003e\n",
              "      \u003cth\u003eSilver.2\u003c/th\u003e\n",
              "      \u003cth\u003eBronze.2\u003c/th\u003e\n",
              "      \u003cth\u003eCombined total\u003c/th\u003e\n",
              "    \u003c/tr\u003e\n",
              "  \u003c/thead\u003e\n",
              "  \u003ctbody\u003e\n",
              "    \u003ctr\u003e\n",
              "      \u003cth\u003eAfghanistan (AFG)\u003c/th\u003e\n",
              "      \u003ctd\u003e13\u003c/td\u003e\n",
              "      \u003ctd\u003e0\u003c/td\u003e\n",
              "      \u003ctd\u003e0\u003c/td\u003e\n",
              "      \u003ctd\u003e2\u003c/td\u003e\n",
              "      \u003ctd\u003e2\u003c/td\u003e\n",
              "      \u003ctd\u003e0\u003c/td\u003e\n",
              "      \u003ctd\u003e0\u003c/td\u003e\n",
              "      \u003ctd\u003e0\u003c/td\u003e\n",
              "      \u003ctd\u003e0\u003c/td\u003e\n",
              "      \u003ctd\u003e0\u003c/td\u003e\n",
              "      \u003ctd\u003e13\u003c/td\u003e\n",
              "      \u003ctd\u003e0\u003c/td\u003e\n",
              "      \u003ctd\u003e0\u003c/td\u003e\n",
              "      \u003ctd\u003e2\u003c/td\u003e\n",
              "      \u003ctd\u003e2\u003c/td\u003e\n",
              "    \u003c/tr\u003e\n",
              "    \u003ctr\u003e\n",
              "      \u003cth\u003eAlgeria (ALG)\u003c/th\u003e\n",
              "      \u003ctd\u003e12\u003c/td\u003e\n",
              "      \u003ctd\u003e5\u003c/td\u003e\n",
              "      \u003ctd\u003e2\u003c/td\u003e\n",
              "      \u003ctd\u003e8\u003c/td\u003e\n",
              "      \u003ctd\u003e15\u003c/td\u003e\n",
              "      \u003ctd\u003e3\u003c/td\u003e\n",
              "      \u003ctd\u003e0\u003c/td\u003e\n",
              "      \u003ctd\u003e0\u003c/td\u003e\n",
              "      \u003ctd\u003e0\u003c/td\u003e\n",
              "      \u003ctd\u003e0\u003c/td\u003e\n",
              "      \u003ctd\u003e15\u003c/td\u003e\n",
              "      \u003ctd\u003e5\u003c/td\u003e\n",
              "      \u003ctd\u003e2\u003c/td\u003e\n",
              "      \u003ctd\u003e8\u003c/td\u003e\n",
              "      \u003ctd\u003e15\u003c/td\u003e\n",
              "    \u003c/tr\u003e\n",
              "    \u003ctr\u003e\n",
              "      \u003cth\u003eArgentina (ARG)\u003c/th\u003e\n",
              "      \u003ctd\u003e23\u003c/td\u003e\n",
              "      \u003ctd\u003e18\u003c/td\u003e\n",
              "      \u003ctd\u003e24\u003c/td\u003e\n",
              "      \u003ctd\u003e28\u003c/td\u003e\n",
              "      \u003ctd\u003e70\u003c/td\u003e\n",
              "      \u003ctd\u003e18\u003c/td\u003e\n",
              "      \u003ctd\u003e0\u003c/td\u003e\n",
              "      \u003ctd\u003e0\u003c/td\u003e\n",
              "      \u003ctd\u003e0\u003c/td\u003e\n",
              "      \u003ctd\u003e0\u003c/td\u003e\n",
              "      \u003ctd\u003e41\u003c/td\u003e\n",
              "      \u003ctd\u003e18\u003c/td\u003e\n",
              "      \u003ctd\u003e24\u003c/td\u003e\n",
              "      \u003ctd\u003e28\u003c/td\u003e\n",
              "      \u003ctd\u003e70\u003c/td\u003e\n",
              "    \u003c/tr\u003e\n",
              "    \u003ctr\u003e\n",
              "      \u003cth\u003eArmenia (ARM)\u003c/th\u003e\n",
              "      \u003ctd\u003e5\u003c/td\u003e\n",
              "      \u003ctd\u003e1\u003c/td\u003e\n",
              "      \u003ctd\u003e2\u003c/td\u003e\n",
              "      \u003ctd\u003e9\u003c/td\u003e\n",
              "      \u003ctd\u003e12\u003c/td\u003e\n",
              "      \u003ctd\u003e6\u003c/td\u003e\n",
              "      \u003ctd\u003e0\u003c/td\u003e\n",
              "      \u003ctd\u003e0\u003c/td\u003e\n",
              "      \u003ctd\u003e0\u003c/td\u003e\n",
              "      \u003ctd\u003e0\u003c/td\u003e\n",
              "      \u003ctd\u003e11\u003c/td\u003e\n",
              "      \u003ctd\u003e1\u003c/td\u003e\n",
              "      \u003ctd\u003e2\u003c/td\u003e\n",
              "      \u003ctd\u003e9\u003c/td\u003e\n",
              "      \u003ctd\u003e12\u003c/td\u003e\n",
              "    \u003c/tr\u003e\n",
              "    \u003ctr\u003e\n",
              "      \u003cth\u003eAustralasia (ANZ) [ANZ]\u003c/th\u003e\n",
              "      \u003ctd\u003e2\u003c/td\u003e\n",
              "      \u003ctd\u003e3\u003c/td\u003e\n",
              "      \u003ctd\u003e4\u003c/td\u003e\n",
              "      \u003ctd\u003e5\u003c/td\u003e\n",
              "      \u003ctd\u003e12\u003c/td\u003e\n",
              "      \u003ctd\u003e0\u003c/td\u003e\n",
              "      \u003ctd\u003e0\u003c/td\u003e\n",
              "      \u003ctd\u003e0\u003c/td\u003e\n",
              "      \u003ctd\u003e0\u003c/td\u003e\n",
              "      \u003ctd\u003e0\u003c/td\u003e\n",
              "      \u003ctd\u003e2\u003c/td\u003e\n",
              "      \u003ctd\u003e3\u003c/td\u003e\n",
              "      \u003ctd\u003e4\u003c/td\u003e\n",
              "      \u003ctd\u003e5\u003c/td\u003e\n",
              "      \u003ctd\u003e12\u003c/td\u003e\n",
              "    \u003c/tr\u003e\n",
              "  \u003c/tbody\u003e\n",
              "\u003c/table\u003e\n",
              "\u003c/div\u003e"
            ],
            "text/plain": [
              "                         # Summer  Gold  Silver  Bronze  Total  # Winter  \\\n",
              "Afghanistan (AFG)              13     0       0       2      2         0   \n",
              "Algeria (ALG)                  12     5       2       8     15         3   \n",
              "Argentina (ARG)                23    18      24      28     70        18   \n",
              "Armenia (ARM)                   5     1       2       9     12         6   \n",
              "Australasia (ANZ) [ANZ]         2     3       4       5     12         0   \n",
              "\n",
              "                         Gold.1  Silver.1  Bronze.1  Total.1  # Games  Gold.2  \\\n",
              "Afghanistan (AFG)             0         0         0        0       13       0   \n",
              "Algeria (ALG)                 0         0         0        0       15       5   \n",
              "Argentina (ARG)               0         0         0        0       41      18   \n",
              "Armenia (ARM)                 0         0         0        0       11       1   \n",
              "Australasia (ANZ) [ANZ]       0         0         0        0        2       3   \n",
              "\n",
              "                         Silver.2  Bronze.2  Combined total  \n",
              "Afghanistan (AFG)               0         2               2  \n",
              "Algeria (ALG)                   2         8              15  \n",
              "Argentina (ARG)                24        28              70  \n",
              "Armenia (ARM)                   2         9              12  \n",
              "Australasia (ANZ) [ANZ]         4         5              12  "
            ]
          },
          "metadata": {
            "tags": []
          },
          "execution_count": 88
        }
      ]
    },
    {
      "metadata": {
        "id": "SmioThqlBZxB",
        "colab_type": "code",
        "outputId": "ebd199a7-4ed8-449c-d780-13fe7ae0c15f",
        "executionInfo": {
          "status": "ok",
          "timestamp": 1555005380457,
          "user_tz": 300,
          "elapsed": 166650,
          "user": {
            "displayName": "David Tan",
            "photoUrl": "",
            "userId": "15726769250755126620"
          }
        },
        "colab": {
          "base_uri": "https://localhost:8080/",
          "height": 289
        },
        "pycharm": {}
      },
      "cell_type": "code",
      "source": [
        "df[\u0027country\u0027] \u003d df.index\n",
        "df \u003d df.set_index(\u0027Gold\u0027)\n",
        "df.head()"
      ],
      "execution_count": 0,
      "outputs": [
        {
          "output_type": "execute_result",
          "data": {
            "text/html": [
              "\u003cdiv\u003e\n",
              "\u003cstyle scoped\u003e\n",
              "    .dataframe tbody tr th:only-of-type {\n",
              "        vertical-align: middle;\n",
              "    }\n",
              "\n",
              "    .dataframe tbody tr th {\n",
              "        vertical-align: top;\n",
              "    }\n",
              "\n",
              "    .dataframe thead th {\n",
              "        text-align: right;\n",
              "    }\n",
              "\u003c/style\u003e\n",
              "\u003ctable border\u003d\"1\" class\u003d\"dataframe\"\u003e\n",
              "  \u003cthead\u003e\n",
              "    \u003ctr style\u003d\"text-align: right;\"\u003e\n",
              "      \u003cth\u003e\u003c/th\u003e\n",
              "      \u003cth\u003e# Summer\u003c/th\u003e\n",
              "      \u003cth\u003eSilver\u003c/th\u003e\n",
              "      \u003cth\u003eBronze\u003c/th\u003e\n",
              "      \u003cth\u003eTotal\u003c/th\u003e\n",
              "      \u003cth\u003e# Winter\u003c/th\u003e\n",
              "      \u003cth\u003eGold.1\u003c/th\u003e\n",
              "      \u003cth\u003eSilver.1\u003c/th\u003e\n",
              "      \u003cth\u003eBronze.1\u003c/th\u003e\n",
              "      \u003cth\u003eTotal.1\u003c/th\u003e\n",
              "      \u003cth\u003e# Games\u003c/th\u003e\n",
              "      \u003cth\u003eGold.2\u003c/th\u003e\n",
              "      \u003cth\u003eSilver.2\u003c/th\u003e\n",
              "      \u003cth\u003eBronze.2\u003c/th\u003e\n",
              "      \u003cth\u003eCombined total\u003c/th\u003e\n",
              "      \u003cth\u003ecountry\u003c/th\u003e\n",
              "    \u003c/tr\u003e\n",
              "    \u003ctr\u003e\n",
              "      \u003cth\u003eGold\u003c/th\u003e\n",
              "      \u003cth\u003e\u003c/th\u003e\n",
              "      \u003cth\u003e\u003c/th\u003e\n",
              "      \u003cth\u003e\u003c/th\u003e\n",
              "      \u003cth\u003e\u003c/th\u003e\n",
              "      \u003cth\u003e\u003c/th\u003e\n",
              "      \u003cth\u003e\u003c/th\u003e\n",
              "      \u003cth\u003e\u003c/th\u003e\n",
              "      \u003cth\u003e\u003c/th\u003e\n",
              "      \u003cth\u003e\u003c/th\u003e\n",
              "      \u003cth\u003e\u003c/th\u003e\n",
              "      \u003cth\u003e\u003c/th\u003e\n",
              "      \u003cth\u003e\u003c/th\u003e\n",
              "      \u003cth\u003e\u003c/th\u003e\n",
              "      \u003cth\u003e\u003c/th\u003e\n",
              "      \u003cth\u003e\u003c/th\u003e\n",
              "    \u003c/tr\u003e\n",
              "  \u003c/thead\u003e\n",
              "  \u003ctbody\u003e\n",
              "    \u003ctr\u003e\n",
              "      \u003cth\u003e0\u003c/th\u003e\n",
              "      \u003ctd\u003e13\u003c/td\u003e\n",
              "      \u003ctd\u003e0\u003c/td\u003e\n",
              "      \u003ctd\u003e2\u003c/td\u003e\n",
              "      \u003ctd\u003e2\u003c/td\u003e\n",
              "      \u003ctd\u003e0\u003c/td\u003e\n",
              "      \u003ctd\u003e0\u003c/td\u003e\n",
              "      \u003ctd\u003e0\u003c/td\u003e\n",
              "      \u003ctd\u003e0\u003c/td\u003e\n",
              "      \u003ctd\u003e0\u003c/td\u003e\n",
              "      \u003ctd\u003e13\u003c/td\u003e\n",
              "      \u003ctd\u003e0\u003c/td\u003e\n",
              "      \u003ctd\u003e0\u003c/td\u003e\n",
              "      \u003ctd\u003e2\u003c/td\u003e\n",
              "      \u003ctd\u003e2\u003c/td\u003e\n",
              "      \u003ctd\u003eAfghanistan (AFG)\u003c/td\u003e\n",
              "    \u003c/tr\u003e\n",
              "    \u003ctr\u003e\n",
              "      \u003cth\u003e5\u003c/th\u003e\n",
              "      \u003ctd\u003e12\u003c/td\u003e\n",
              "      \u003ctd\u003e2\u003c/td\u003e\n",
              "      \u003ctd\u003e8\u003c/td\u003e\n",
              "      \u003ctd\u003e15\u003c/td\u003e\n",
              "      \u003ctd\u003e3\u003c/td\u003e\n",
              "      \u003ctd\u003e0\u003c/td\u003e\n",
              "      \u003ctd\u003e0\u003c/td\u003e\n",
              "      \u003ctd\u003e0\u003c/td\u003e\n",
              "      \u003ctd\u003e0\u003c/td\u003e\n",
              "      \u003ctd\u003e15\u003c/td\u003e\n",
              "      \u003ctd\u003e5\u003c/td\u003e\n",
              "      \u003ctd\u003e2\u003c/td\u003e\n",
              "      \u003ctd\u003e8\u003c/td\u003e\n",
              "      \u003ctd\u003e15\u003c/td\u003e\n",
              "      \u003ctd\u003eAlgeria (ALG)\u003c/td\u003e\n",
              "    \u003c/tr\u003e\n",
              "    \u003ctr\u003e\n",
              "      \u003cth\u003e18\u003c/th\u003e\n",
              "      \u003ctd\u003e23\u003c/td\u003e\n",
              "      \u003ctd\u003e24\u003c/td\u003e\n",
              "      \u003ctd\u003e28\u003c/td\u003e\n",
              "      \u003ctd\u003e70\u003c/td\u003e\n",
              "      \u003ctd\u003e18\u003c/td\u003e\n",
              "      \u003ctd\u003e0\u003c/td\u003e\n",
              "      \u003ctd\u003e0\u003c/td\u003e\n",
              "      \u003ctd\u003e0\u003c/td\u003e\n",
              "      \u003ctd\u003e0\u003c/td\u003e\n",
              "      \u003ctd\u003e41\u003c/td\u003e\n",
              "      \u003ctd\u003e18\u003c/td\u003e\n",
              "      \u003ctd\u003e24\u003c/td\u003e\n",
              "      \u003ctd\u003e28\u003c/td\u003e\n",
              "      \u003ctd\u003e70\u003c/td\u003e\n",
              "      \u003ctd\u003eArgentina (ARG)\u003c/td\u003e\n",
              "    \u003c/tr\u003e\n",
              "    \u003ctr\u003e\n",
              "      \u003cth\u003e1\u003c/th\u003e\n",
              "      \u003ctd\u003e5\u003c/td\u003e\n",
              "      \u003ctd\u003e2\u003c/td\u003e\n",
              "      \u003ctd\u003e9\u003c/td\u003e\n",
              "      \u003ctd\u003e12\u003c/td\u003e\n",
              "      \u003ctd\u003e6\u003c/td\u003e\n",
              "      \u003ctd\u003e0\u003c/td\u003e\n",
              "      \u003ctd\u003e0\u003c/td\u003e\n",
              "      \u003ctd\u003e0\u003c/td\u003e\n",
              "      \u003ctd\u003e0\u003c/td\u003e\n",
              "      \u003ctd\u003e11\u003c/td\u003e\n",
              "      \u003ctd\u003e1\u003c/td\u003e\n",
              "      \u003ctd\u003e2\u003c/td\u003e\n",
              "      \u003ctd\u003e9\u003c/td\u003e\n",
              "      \u003ctd\u003e12\u003c/td\u003e\n",
              "      \u003ctd\u003eArmenia (ARM)\u003c/td\u003e\n",
              "    \u003c/tr\u003e\n",
              "    \u003ctr\u003e\n",
              "      \u003cth\u003e3\u003c/th\u003e\n",
              "      \u003ctd\u003e2\u003c/td\u003e\n",
              "      \u003ctd\u003e4\u003c/td\u003e\n",
              "      \u003ctd\u003e5\u003c/td\u003e\n",
              "      \u003ctd\u003e12\u003c/td\u003e\n",
              "      \u003ctd\u003e0\u003c/td\u003e\n",
              "      \u003ctd\u003e0\u003c/td\u003e\n",
              "      \u003ctd\u003e0\u003c/td\u003e\n",
              "      \u003ctd\u003e0\u003c/td\u003e\n",
              "      \u003ctd\u003e0\u003c/td\u003e\n",
              "      \u003ctd\u003e2\u003c/td\u003e\n",
              "      \u003ctd\u003e3\u003c/td\u003e\n",
              "      \u003ctd\u003e4\u003c/td\u003e\n",
              "      \u003ctd\u003e5\u003c/td\u003e\n",
              "      \u003ctd\u003e12\u003c/td\u003e\n",
              "      \u003ctd\u003eAustralasia (ANZ) [ANZ]\u003c/td\u003e\n",
              "    \u003c/tr\u003e\n",
              "  \u003c/tbody\u003e\n",
              "\u003c/table\u003e\n",
              "\u003c/div\u003e"
            ],
            "text/plain": [
              "      # Summer  Silver  Bronze  Total  # Winter  Gold.1  Silver.1  Bronze.1  \\\n",
              "Gold                                                                          \n",
              "0           13       0       2      2         0       0         0         0   \n",
              "5           12       2       8     15         3       0         0         0   \n",
              "18          23      24      28     70        18       0         0         0   \n",
              "1            5       2       9     12         6       0         0         0   \n",
              "3            2       4       5     12         0       0         0         0   \n",
              "\n",
              "      Total.1  # Games  Gold.2  Silver.2  Bronze.2  Combined total  \\\n",
              "Gold                                                                 \n",
              "0           0       13       0         0         2               2   \n",
              "5           0       15       5         2         8              15   \n",
              "18          0       41      18        24        28              70   \n",
              "1           0       11       1         2         9              12   \n",
              "3           0        2       3         4         5              12   \n",
              "\n",
              "                      country  \n",
              "Gold                           \n",
              "0           Afghanistan (AFG)  \n",
              "5               Algeria (ALG)  \n",
              "18            Argentina (ARG)  \n",
              "1               Armenia (ARM)  \n",
              "3     Australasia (ANZ) [ANZ]  "
            ]
          },
          "metadata": {
            "tags": []
          },
          "execution_count": 89
        }
      ]
    },
    {
      "metadata": {
        "id": "FWg3_hUxBZxE",
        "colab_type": "code",
        "outputId": "b3c58cfa-289c-4fbe-fcbc-8764e1fcfd58",
        "executionInfo": {
          "status": "ok",
          "timestamp": 1555005380459,
          "user_tz": 300,
          "elapsed": 166647,
          "user": {
            "displayName": "David Tan",
            "photoUrl": "",
            "userId": "15726769250755126620"
          }
        },
        "colab": {
          "base_uri": "https://localhost:8080/",
          "height": 258
        },
        "pycharm": {}
      },
      "cell_type": "code",
      "source": [
        "df \u003d df.reset_index()\n",
        "df.head()"
      ],
      "execution_count": 0,
      "outputs": [
        {
          "output_type": "execute_result",
          "data": {
            "text/html": [
              "\u003cdiv\u003e\n",
              "\u003cstyle scoped\u003e\n",
              "    .dataframe tbody tr th:only-of-type {\n",
              "        vertical-align: middle;\n",
              "    }\n",
              "\n",
              "    .dataframe tbody tr th {\n",
              "        vertical-align: top;\n",
              "    }\n",
              "\n",
              "    .dataframe thead th {\n",
              "        text-align: right;\n",
              "    }\n",
              "\u003c/style\u003e\n",
              "\u003ctable border\u003d\"1\" class\u003d\"dataframe\"\u003e\n",
              "  \u003cthead\u003e\n",
              "    \u003ctr style\u003d\"text-align: right;\"\u003e\n",
              "      \u003cth\u003e\u003c/th\u003e\n",
              "      \u003cth\u003eGold\u003c/th\u003e\n",
              "      \u003cth\u003e# Summer\u003c/th\u003e\n",
              "      \u003cth\u003eSilver\u003c/th\u003e\n",
              "      \u003cth\u003eBronze\u003c/th\u003e\n",
              "      \u003cth\u003eTotal\u003c/th\u003e\n",
              "      \u003cth\u003e# Winter\u003c/th\u003e\n",
              "      \u003cth\u003eGold.1\u003c/th\u003e\n",
              "      \u003cth\u003eSilver.1\u003c/th\u003e\n",
              "      \u003cth\u003eBronze.1\u003c/th\u003e\n",
              "      \u003cth\u003eTotal.1\u003c/th\u003e\n",
              "      \u003cth\u003e# Games\u003c/th\u003e\n",
              "      \u003cth\u003eGold.2\u003c/th\u003e\n",
              "      \u003cth\u003eSilver.2\u003c/th\u003e\n",
              "      \u003cth\u003eBronze.2\u003c/th\u003e\n",
              "      \u003cth\u003eCombined total\u003c/th\u003e\n",
              "      \u003cth\u003ecountry\u003c/th\u003e\n",
              "    \u003c/tr\u003e\n",
              "  \u003c/thead\u003e\n",
              "  \u003ctbody\u003e\n",
              "    \u003ctr\u003e\n",
              "      \u003cth\u003e0\u003c/th\u003e\n",
              "      \u003ctd\u003e0\u003c/td\u003e\n",
              "      \u003ctd\u003e13\u003c/td\u003e\n",
              "      \u003ctd\u003e0\u003c/td\u003e\n",
              "      \u003ctd\u003e2\u003c/td\u003e\n",
              "      \u003ctd\u003e2\u003c/td\u003e\n",
              "      \u003ctd\u003e0\u003c/td\u003e\n",
              "      \u003ctd\u003e0\u003c/td\u003e\n",
              "      \u003ctd\u003e0\u003c/td\u003e\n",
              "      \u003ctd\u003e0\u003c/td\u003e\n",
              "      \u003ctd\u003e0\u003c/td\u003e\n",
              "      \u003ctd\u003e13\u003c/td\u003e\n",
              "      \u003ctd\u003e0\u003c/td\u003e\n",
              "      \u003ctd\u003e0\u003c/td\u003e\n",
              "      \u003ctd\u003e2\u003c/td\u003e\n",
              "      \u003ctd\u003e2\u003c/td\u003e\n",
              "      \u003ctd\u003eAfghanistan (AFG)\u003c/td\u003e\n",
              "    \u003c/tr\u003e\n",
              "    \u003ctr\u003e\n",
              "      \u003cth\u003e1\u003c/th\u003e\n",
              "      \u003ctd\u003e5\u003c/td\u003e\n",
              "      \u003ctd\u003e12\u003c/td\u003e\n",
              "      \u003ctd\u003e2\u003c/td\u003e\n",
              "      \u003ctd\u003e8\u003c/td\u003e\n",
              "      \u003ctd\u003e15\u003c/td\u003e\n",
              "      \u003ctd\u003e3\u003c/td\u003e\n",
              "      \u003ctd\u003e0\u003c/td\u003e\n",
              "      \u003ctd\u003e0\u003c/td\u003e\n",
              "      \u003ctd\u003e0\u003c/td\u003e\n",
              "      \u003ctd\u003e0\u003c/td\u003e\n",
              "      \u003ctd\u003e15\u003c/td\u003e\n",
              "      \u003ctd\u003e5\u003c/td\u003e\n",
              "      \u003ctd\u003e2\u003c/td\u003e\n",
              "      \u003ctd\u003e8\u003c/td\u003e\n",
              "      \u003ctd\u003e15\u003c/td\u003e\n",
              "      \u003ctd\u003eAlgeria (ALG)\u003c/td\u003e\n",
              "    \u003c/tr\u003e\n",
              "    \u003ctr\u003e\n",
              "      \u003cth\u003e2\u003c/th\u003e\n",
              "      \u003ctd\u003e18\u003c/td\u003e\n",
              "      \u003ctd\u003e23\u003c/td\u003e\n",
              "      \u003ctd\u003e24\u003c/td\u003e\n",
              "      \u003ctd\u003e28\u003c/td\u003e\n",
              "      \u003ctd\u003e70\u003c/td\u003e\n",
              "      \u003ctd\u003e18\u003c/td\u003e\n",
              "      \u003ctd\u003e0\u003c/td\u003e\n",
              "      \u003ctd\u003e0\u003c/td\u003e\n",
              "      \u003ctd\u003e0\u003c/td\u003e\n",
              "      \u003ctd\u003e0\u003c/td\u003e\n",
              "      \u003ctd\u003e41\u003c/td\u003e\n",
              "      \u003ctd\u003e18\u003c/td\u003e\n",
              "      \u003ctd\u003e24\u003c/td\u003e\n",
              "      \u003ctd\u003e28\u003c/td\u003e\n",
              "      \u003ctd\u003e70\u003c/td\u003e\n",
              "      \u003ctd\u003eArgentina (ARG)\u003c/td\u003e\n",
              "    \u003c/tr\u003e\n",
              "    \u003ctr\u003e\n",
              "      \u003cth\u003e3\u003c/th\u003e\n",
              "      \u003ctd\u003e1\u003c/td\u003e\n",
              "      \u003ctd\u003e5\u003c/td\u003e\n",
              "      \u003ctd\u003e2\u003c/td\u003e\n",
              "      \u003ctd\u003e9\u003c/td\u003e\n",
              "      \u003ctd\u003e12\u003c/td\u003e\n",
              "      \u003ctd\u003e6\u003c/td\u003e\n",
              "      \u003ctd\u003e0\u003c/td\u003e\n",
              "      \u003ctd\u003e0\u003c/td\u003e\n",
              "      \u003ctd\u003e0\u003c/td\u003e\n",
              "      \u003ctd\u003e0\u003c/td\u003e\n",
              "      \u003ctd\u003e11\u003c/td\u003e\n",
              "      \u003ctd\u003e1\u003c/td\u003e\n",
              "      \u003ctd\u003e2\u003c/td\u003e\n",
              "      \u003ctd\u003e9\u003c/td\u003e\n",
              "      \u003ctd\u003e12\u003c/td\u003e\n",
              "      \u003ctd\u003eArmenia (ARM)\u003c/td\u003e\n",
              "    \u003c/tr\u003e\n",
              "    \u003ctr\u003e\n",
              "      \u003cth\u003e4\u003c/th\u003e\n",
              "      \u003ctd\u003e3\u003c/td\u003e\n",
              "      \u003ctd\u003e2\u003c/td\u003e\n",
              "      \u003ctd\u003e4\u003c/td\u003e\n",
              "      \u003ctd\u003e5\u003c/td\u003e\n",
              "      \u003ctd\u003e12\u003c/td\u003e\n",
              "      \u003ctd\u003e0\u003c/td\u003e\n",
              "      \u003ctd\u003e0\u003c/td\u003e\n",
              "      \u003ctd\u003e0\u003c/td\u003e\n",
              "      \u003ctd\u003e0\u003c/td\u003e\n",
              "      \u003ctd\u003e0\u003c/td\u003e\n",
              "      \u003ctd\u003e2\u003c/td\u003e\n",
              "      \u003ctd\u003e3\u003c/td\u003e\n",
              "      \u003ctd\u003e4\u003c/td\u003e\n",
              "      \u003ctd\u003e5\u003c/td\u003e\n",
              "      \u003ctd\u003e12\u003c/td\u003e\n",
              "      \u003ctd\u003eAustralasia (ANZ) [ANZ]\u003c/td\u003e\n",
              "    \u003c/tr\u003e\n",
              "  \u003c/tbody\u003e\n",
              "\u003c/table\u003e\n",
              "\u003c/div\u003e"
            ],
            "text/plain": [
              "   Gold  # Summer  Silver  Bronze  Total  # Winter  Gold.1  Silver.1  \\\n",
              "0     0        13       0       2      2         0       0         0   \n",
              "1     5        12       2       8     15         3       0         0   \n",
              "2    18        23      24      28     70        18       0         0   \n",
              "3     1         5       2       9     12         6       0         0   \n",
              "4     3         2       4       5     12         0       0         0   \n",
              "\n",
              "   Bronze.1  Total.1  # Games  Gold.2  Silver.2  Bronze.2  Combined total  \\\n",
              "0         0        0       13       0         0         2               2   \n",
              "1         0        0       15       5         2         8              15   \n",
              "2         0        0       41      18        24        28              70   \n",
              "3         0        0       11       1         2         9              12   \n",
              "4         0        0        2       3         4         5              12   \n",
              "\n",
              "                   country  \n",
              "0        Afghanistan (AFG)  \n",
              "1            Algeria (ALG)  \n",
              "2          Argentina (ARG)  \n",
              "3            Armenia (ARM)  \n",
              "4  Australasia (ANZ) [ANZ]  "
            ]
          },
          "metadata": {
            "tags": []
          },
          "execution_count": 90
        }
      ]
    },
    {
      "metadata": {
        "id": "HoAi1R53i1t-",
        "colab_type": "code",
        "outputId": "851d18cc-eb4c-410f-e05d-ed9a9ad7f95a",
        "executionInfo": {
          "status": "ok",
          "timestamp": 1555005478435,
          "user_tz": 300,
          "elapsed": 20433,
          "user": {
            "displayName": "David Tan",
            "photoUrl": "",
            "userId": "15726769250755126620"
          }
        },
        "colab": {
          "resources": {
            "http://localhost:8080/nbextensions/google.colab/files.js": {
              "data": "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\u003d",
              "ok": true,
              "headers": [
                [
                  "content-type",
                  "application/javascript"
                ]
              ],
              "status": 200,
              "status_text": ""
            }
          },
          "base_uri": "https://localhost:8080/",
          "height": 71
        },
        "pycharm": {}
      },
      "cell_type": "code",
      "source": [
        "import numpy as np\n",
        "import pandas as pd\n",
        "from google.colab import files\n",
        "uploaded \u003d files.upload()"
      ],
      "execution_count": 0,
      "outputs": [
        {
          "output_type": "display_data",
          "data": {
            "text/html": [
              "\n",
              "     \u003cinput type\u003d\"file\" id\u003d\"files-4598eb15-b34c-492e-b36d-1d388ba8fcb2\" name\u003d\"files[]\" multiple disabled /\u003e\n",
              "     \u003coutput id\u003d\"result-4598eb15-b34c-492e-b36d-1d388ba8fcb2\"\u003e\n",
              "      Upload widget is only available when the cell has been executed in the\n",
              "      current browser session. Please rerun this cell to enable.\n",
              "      \u003c/output\u003e\n",
              "      \u003cscript src\u003d\"/nbextensions/google.colab/files.js\"\u003e\u003c/script\u003e "
            ],
            "text/plain": [
              "\u003cIPython.core.display.HTML object\u003e"
            ]
          },
          "metadata": {
            "tags": []
          }
        },
        {
          "output_type": "stream",
          "text": [
            "Saving census.csv to census.csv\n"
          ],
          "name": "stdout"
        }
      ]
    },
    {
      "metadata": {
        "id": "GsOoyM9LBZxG",
        "colab_type": "code",
        "outputId": "5c580440-0a18-4139-cd9b-4d6d710c81b5",
        "executionInfo": {
          "status": "ok",
          "timestamp": 1555005489943,
          "user_tz": 300,
          "elapsed": 489,
          "user": {
            "displayName": "David Tan",
            "photoUrl": "",
            "userId": "15726769250755126620"
          }
        },
        "colab": {
          "base_uri": "https://localhost:8080/",
          "height": 321
        },
        "pycharm": {}
      },
      "cell_type": "code",
      "source": [
        "df \u003d pd.read_csv(\u0027census.csv\u0027)\n",
        "df.head()"
      ],
      "execution_count": 0,
      "outputs": [
        {
          "output_type": "execute_result",
          "data": {
            "text/html": [
              "\u003cdiv\u003e\n",
              "\u003cstyle scoped\u003e\n",
              "    .dataframe tbody tr th:only-of-type {\n",
              "        vertical-align: middle;\n",
              "    }\n",
              "\n",
              "    .dataframe tbody tr th {\n",
              "        vertical-align: top;\n",
              "    }\n",
              "\n",
              "    .dataframe thead th {\n",
              "        text-align: right;\n",
              "    }\n",
              "\u003c/style\u003e\n",
              "\u003ctable border\u003d\"1\" class\u003d\"dataframe\"\u003e\n",
              "  \u003cthead\u003e\n",
              "    \u003ctr style\u003d\"text-align: right;\"\u003e\n",
              "      \u003cth\u003e\u003c/th\u003e\n",
              "      \u003cth\u003eSUMLEV\u003c/th\u003e\n",
              "      \u003cth\u003eREGION\u003c/th\u003e\n",
              "      \u003cth\u003eDIVISION\u003c/th\u003e\n",
              "      \u003cth\u003eSTATE\u003c/th\u003e\n",
              "      \u003cth\u003eCOUNTY\u003c/th\u003e\n",
              "      \u003cth\u003eSTNAME\u003c/th\u003e\n",
              "      \u003cth\u003eCTYNAME\u003c/th\u003e\n",
              "      \u003cth\u003eCENSUS2010POP\u003c/th\u003e\n",
              "      \u003cth\u003eESTIMATESBASE2010\u003c/th\u003e\n",
              "      \u003cth\u003ePOPESTIMATE2010\u003c/th\u003e\n",
              "      \u003cth\u003e...\u003c/th\u003e\n",
              "      \u003cth\u003eRDOMESTICMIG2011\u003c/th\u003e\n",
              "      \u003cth\u003eRDOMESTICMIG2012\u003c/th\u003e\n",
              "      \u003cth\u003eRDOMESTICMIG2013\u003c/th\u003e\n",
              "      \u003cth\u003eRDOMESTICMIG2014\u003c/th\u003e\n",
              "      \u003cth\u003eRDOMESTICMIG2015\u003c/th\u003e\n",
              "      \u003cth\u003eRNETMIG2011\u003c/th\u003e\n",
              "      \u003cth\u003eRNETMIG2012\u003c/th\u003e\n",
              "      \u003cth\u003eRNETMIG2013\u003c/th\u003e\n",
              "      \u003cth\u003eRNETMIG2014\u003c/th\u003e\n",
              "      \u003cth\u003eRNETMIG2015\u003c/th\u003e\n",
              "    \u003c/tr\u003e\n",
              "  \u003c/thead\u003e\n",
              "  \u003ctbody\u003e\n",
              "    \u003ctr\u003e\n",
              "      \u003cth\u003e0\u003c/th\u003e\n",
              "      \u003ctd\u003e40\u003c/td\u003e\n",
              "      \u003ctd\u003e3\u003c/td\u003e\n",
              "      \u003ctd\u003e6\u003c/td\u003e\n",
              "      \u003ctd\u003e1\u003c/td\u003e\n",
              "      \u003ctd\u003e0\u003c/td\u003e\n",
              "      \u003ctd\u003eAlabama\u003c/td\u003e\n",
              "      \u003ctd\u003eAlabama\u003c/td\u003e\n",
              "      \u003ctd\u003e4779736\u003c/td\u003e\n",
              "      \u003ctd\u003e4780127\u003c/td\u003e\n",
              "      \u003ctd\u003e4785161\u003c/td\u003e\n",
              "      \u003ctd\u003e...\u003c/td\u003e\n",
              "      \u003ctd\u003e0.002295\u003c/td\u003e\n",
              "      \u003ctd\u003e-0.193196\u003c/td\u003e\n",
              "      \u003ctd\u003e0.381066\u003c/td\u003e\n",
              "      \u003ctd\u003e0.582002\u003c/td\u003e\n",
              "      \u003ctd\u003e-0.467369\u003c/td\u003e\n",
              "      \u003ctd\u003e1.030015\u003c/td\u003e\n",
              "      \u003ctd\u003e0.826644\u003c/td\u003e\n",
              "      \u003ctd\u003e1.383282\u003c/td\u003e\n",
              "      \u003ctd\u003e1.724718\u003c/td\u003e\n",
              "      \u003ctd\u003e0.712594\u003c/td\u003e\n",
              "    \u003c/tr\u003e\n",
              "    \u003ctr\u003e\n",
              "      \u003cth\u003e1\u003c/th\u003e\n",
              "      \u003ctd\u003e50\u003c/td\u003e\n",
              "      \u003ctd\u003e3\u003c/td\u003e\n",
              "      \u003ctd\u003e6\u003c/td\u003e\n",
              "      \u003ctd\u003e1\u003c/td\u003e\n",
              "      \u003ctd\u003e1\u003c/td\u003e\n",
              "      \u003ctd\u003eAlabama\u003c/td\u003e\n",
              "      \u003ctd\u003eAutauga County\u003c/td\u003e\n",
              "      \u003ctd\u003e54571\u003c/td\u003e\n",
              "      \u003ctd\u003e54571\u003c/td\u003e\n",
              "      \u003ctd\u003e54660\u003c/td\u003e\n",
              "      \u003ctd\u003e...\u003c/td\u003e\n",
              "      \u003ctd\u003e7.242091\u003c/td\u003e\n",
              "      \u003ctd\u003e-2.915927\u003c/td\u003e\n",
              "      \u003ctd\u003e-3.012349\u003c/td\u003e\n",
              "      \u003ctd\u003e2.265971\u003c/td\u003e\n",
              "      \u003ctd\u003e-2.530799\u003c/td\u003e\n",
              "      \u003ctd\u003e7.606016\u003c/td\u003e\n",
              "      \u003ctd\u003e-2.626146\u003c/td\u003e\n",
              "      \u003ctd\u003e-2.722002\u003c/td\u003e\n",
              "      \u003ctd\u003e2.592270\u003c/td\u003e\n",
              "      \u003ctd\u003e-2.187333\u003c/td\u003e\n",
              "    \u003c/tr\u003e\n",
              "    \u003ctr\u003e\n",
              "      \u003cth\u003e2\u003c/th\u003e\n",
              "      \u003ctd\u003e50\u003c/td\u003e\n",
              "      \u003ctd\u003e3\u003c/td\u003e\n",
              "      \u003ctd\u003e6\u003c/td\u003e\n",
              "      \u003ctd\u003e1\u003c/td\u003e\n",
              "      \u003ctd\u003e3\u003c/td\u003e\n",
              "      \u003ctd\u003eAlabama\u003c/td\u003e\n",
              "      \u003ctd\u003eBaldwin County\u003c/td\u003e\n",
              "      \u003ctd\u003e182265\u003c/td\u003e\n",
              "      \u003ctd\u003e182265\u003c/td\u003e\n",
              "      \u003ctd\u003e183193\u003c/td\u003e\n",
              "      \u003ctd\u003e...\u003c/td\u003e\n",
              "      \u003ctd\u003e14.832960\u003c/td\u003e\n",
              "      \u003ctd\u003e17.647293\u003c/td\u003e\n",
              "      \u003ctd\u003e21.845705\u003c/td\u003e\n",
              "      \u003ctd\u003e19.243287\u003c/td\u003e\n",
              "      \u003ctd\u003e17.197872\u003c/td\u003e\n",
              "      \u003ctd\u003e15.844176\u003c/td\u003e\n",
              "      \u003ctd\u003e18.559627\u003c/td\u003e\n",
              "      \u003ctd\u003e22.727626\u003c/td\u003e\n",
              "      \u003ctd\u003e20.317142\u003c/td\u003e\n",
              "      \u003ctd\u003e18.293499\u003c/td\u003e\n",
              "    \u003c/tr\u003e\n",
              "    \u003ctr\u003e\n",
              "      \u003cth\u003e3\u003c/th\u003e\n",
              "      \u003ctd\u003e50\u003c/td\u003e\n",
              "      \u003ctd\u003e3\u003c/td\u003e\n",
              "      \u003ctd\u003e6\u003c/td\u003e\n",
              "      \u003ctd\u003e1\u003c/td\u003e\n",
              "      \u003ctd\u003e5\u003c/td\u003e\n",
              "      \u003ctd\u003eAlabama\u003c/td\u003e\n",
              "      \u003ctd\u003eBarbour County\u003c/td\u003e\n",
              "      \u003ctd\u003e27457\u003c/td\u003e\n",
              "      \u003ctd\u003e27457\u003c/td\u003e\n",
              "      \u003ctd\u003e27341\u003c/td\u003e\n",
              "      \u003ctd\u003e...\u003c/td\u003e\n",
              "      \u003ctd\u003e-4.728132\u003c/td\u003e\n",
              "      \u003ctd\u003e-2.500690\u003c/td\u003e\n",
              "      \u003ctd\u003e-7.056824\u003c/td\u003e\n",
              "      \u003ctd\u003e-3.904217\u003c/td\u003e\n",
              "      \u003ctd\u003e-10.543299\u003c/td\u003e\n",
              "      \u003ctd\u003e-4.874741\u003c/td\u003e\n",
              "      \u003ctd\u003e-2.758113\u003c/td\u003e\n",
              "      \u003ctd\u003e-7.167664\u003c/td\u003e\n",
              "      \u003ctd\u003e-3.978583\u003c/td\u003e\n",
              "      \u003ctd\u003e-10.543299\u003c/td\u003e\n",
              "    \u003c/tr\u003e\n",
              "    \u003ctr\u003e\n",
              "      \u003cth\u003e4\u003c/th\u003e\n",
              "      \u003ctd\u003e50\u003c/td\u003e\n",
              "      \u003ctd\u003e3\u003c/td\u003e\n",
              "      \u003ctd\u003e6\u003c/td\u003e\n",
              "      \u003ctd\u003e1\u003c/td\u003e\n",
              "      \u003ctd\u003e7\u003c/td\u003e\n",
              "      \u003ctd\u003eAlabama\u003c/td\u003e\n",
              "      \u003ctd\u003eBibb County\u003c/td\u003e\n",
              "      \u003ctd\u003e22915\u003c/td\u003e\n",
              "      \u003ctd\u003e22919\u003c/td\u003e\n",
              "      \u003ctd\u003e22861\u003c/td\u003e\n",
              "      \u003ctd\u003e...\u003c/td\u003e\n",
              "      \u003ctd\u003e-5.527043\u003c/td\u003e\n",
              "      \u003ctd\u003e-5.068871\u003c/td\u003e\n",
              "      \u003ctd\u003e-6.201001\u003c/td\u003e\n",
              "      \u003ctd\u003e-0.177537\u003c/td\u003e\n",
              "      \u003ctd\u003e0.177258\u003c/td\u003e\n",
              "      \u003ctd\u003e-5.088389\u003c/td\u003e\n",
              "      \u003ctd\u003e-4.363636\u003c/td\u003e\n",
              "      \u003ctd\u003e-5.403729\u003c/td\u003e\n",
              "      \u003ctd\u003e0.754533\u003c/td\u003e\n",
              "      \u003ctd\u003e1.107861\u003c/td\u003e\n",
              "    \u003c/tr\u003e\n",
              "  \u003c/tbody\u003e\n",
              "\u003c/table\u003e\n",
              "\u003cp\u003e5 rows × 100 columns\u003c/p\u003e\n",
              "\u003c/div\u003e"
            ],
            "text/plain": [
              "   SUMLEV  REGION  DIVISION  STATE  COUNTY   STNAME         CTYNAME  \\\n",
              "0      40       3         6      1       0  Alabama         Alabama   \n",
              "1      50       3         6      1       1  Alabama  Autauga County   \n",
              "2      50       3         6      1       3  Alabama  Baldwin County   \n",
              "3      50       3         6      1       5  Alabama  Barbour County   \n",
              "4      50       3         6      1       7  Alabama     Bibb County   \n",
              "\n",
              "   CENSUS2010POP  ESTIMATESBASE2010  POPESTIMATE2010     ...       \\\n",
              "0        4779736            4780127          4785161     ...        \n",
              "1          54571              54571            54660     ...        \n",
              "2         182265             182265           183193     ...        \n",
              "3          27457              27457            27341     ...        \n",
              "4          22915              22919            22861     ...        \n",
              "\n",
              "   RDOMESTICMIG2011  RDOMESTICMIG2012  RDOMESTICMIG2013  RDOMESTICMIG2014  \\\n",
              "0          0.002295         -0.193196          0.381066          0.582002   \n",
              "1          7.242091         -2.915927         -3.012349          2.265971   \n",
              "2         14.832960         17.647293         21.845705         19.243287   \n",
              "3         -4.728132         -2.500690         -7.056824         -3.904217   \n",
              "4         -5.527043         -5.068871         -6.201001         -0.177537   \n",
              "\n",
              "   RDOMESTICMIG2015  RNETMIG2011  RNETMIG2012  RNETMIG2013  RNETMIG2014  \\\n",
              "0         -0.467369     1.030015     0.826644     1.383282     1.724718   \n",
              "1         -2.530799     7.606016    -2.626146    -2.722002     2.592270   \n",
              "2         17.197872    15.844176    18.559627    22.727626    20.317142   \n",
              "3        -10.543299    -4.874741    -2.758113    -7.167664    -3.978583   \n",
              "4          0.177258    -5.088389    -4.363636    -5.403729     0.754533   \n",
              "\n",
              "   RNETMIG2015  \n",
              "0     0.712594  \n",
              "1    -2.187333  \n",
              "2    18.293499  \n",
              "3   -10.543299  \n",
              "4     1.107861  \n",
              "\n",
              "[5 rows x 100 columns]"
            ]
          },
          "metadata": {
            "tags": []
          },
          "execution_count": 93
        }
      ]
    },
    {
      "metadata": {
        "id": "Ag2-HfbQBZxI",
        "colab_type": "code",
        "outputId": "3a4a15b4-3efb-4948-cef4-dadf208b8297",
        "executionInfo": {
          "status": "ok",
          "timestamp": 1555005495280,
          "user_tz": 300,
          "elapsed": 446,
          "user": {
            "displayName": "David Tan",
            "photoUrl": "",
            "userId": "15726769250755126620"
          }
        },
        "colab": {
          "base_uri": "https://localhost:8080/",
          "height": 34
        },
        "pycharm": {}
      },
      "cell_type": "code",
      "source": [
        "df[\u0027SUMLEV\u0027].unique()"
      ],
      "execution_count": 0,
      "outputs": [
        {
          "output_type": "execute_result",
          "data": {
            "text/plain": [
              "array([40, 50])"
            ]
          },
          "metadata": {
            "tags": []
          },
          "execution_count": 94
        }
      ]
    },
    {
      "metadata": {
        "id": "A5AyeZM3BZxN",
        "colab_type": "code",
        "outputId": "db1571d3-7f7c-40fc-f82f-42c0cf2a2eae",
        "executionInfo": {
          "status": "ok",
          "timestamp": 1555005497729,
          "user_tz": 300,
          "elapsed": 1001,
          "user": {
            "displayName": "David Tan",
            "photoUrl": "",
            "userId": "15726769250755126620"
          }
        },
        "colab": {
          "base_uri": "https://localhost:8080/",
          "height": 338
        },
        "pycharm": {}
      },
      "cell_type": "code",
      "source": [
        "df\u003ddf[df[\u0027SUMLEV\u0027] \u003d\u003d 50]\n",
        "df.head()"
      ],
      "execution_count": 0,
      "outputs": [
        {
          "output_type": "execute_result",
          "data": {
            "text/html": [
              "\u003cdiv\u003e\n",
              "\u003cstyle scoped\u003e\n",
              "    .dataframe tbody tr th:only-of-type {\n",
              "        vertical-align: middle;\n",
              "    }\n",
              "\n",
              "    .dataframe tbody tr th {\n",
              "        vertical-align: top;\n",
              "    }\n",
              "\n",
              "    .dataframe thead th {\n",
              "        text-align: right;\n",
              "    }\n",
              "\u003c/style\u003e\n",
              "\u003ctable border\u003d\"1\" class\u003d\"dataframe\"\u003e\n",
              "  \u003cthead\u003e\n",
              "    \u003ctr style\u003d\"text-align: right;\"\u003e\n",
              "      \u003cth\u003e\u003c/th\u003e\n",
              "      \u003cth\u003eSUMLEV\u003c/th\u003e\n",
              "      \u003cth\u003eREGION\u003c/th\u003e\n",
              "      \u003cth\u003eDIVISION\u003c/th\u003e\n",
              "      \u003cth\u003eSTATE\u003c/th\u003e\n",
              "      \u003cth\u003eCOUNTY\u003c/th\u003e\n",
              "      \u003cth\u003eSTNAME\u003c/th\u003e\n",
              "      \u003cth\u003eCTYNAME\u003c/th\u003e\n",
              "      \u003cth\u003eCENSUS2010POP\u003c/th\u003e\n",
              "      \u003cth\u003eESTIMATESBASE2010\u003c/th\u003e\n",
              "      \u003cth\u003ePOPESTIMATE2010\u003c/th\u003e\n",
              "      \u003cth\u003e...\u003c/th\u003e\n",
              "      \u003cth\u003eRDOMESTICMIG2011\u003c/th\u003e\n",
              "      \u003cth\u003eRDOMESTICMIG2012\u003c/th\u003e\n",
              "      \u003cth\u003eRDOMESTICMIG2013\u003c/th\u003e\n",
              "      \u003cth\u003eRDOMESTICMIG2014\u003c/th\u003e\n",
              "      \u003cth\u003eRDOMESTICMIG2015\u003c/th\u003e\n",
              "      \u003cth\u003eRNETMIG2011\u003c/th\u003e\n",
              "      \u003cth\u003eRNETMIG2012\u003c/th\u003e\n",
              "      \u003cth\u003eRNETMIG2013\u003c/th\u003e\n",
              "      \u003cth\u003eRNETMIG2014\u003c/th\u003e\n",
              "      \u003cth\u003eRNETMIG2015\u003c/th\u003e\n",
              "    \u003c/tr\u003e\n",
              "  \u003c/thead\u003e\n",
              "  \u003ctbody\u003e\n",
              "    \u003ctr\u003e\n",
              "      \u003cth\u003e1\u003c/th\u003e\n",
              "      \u003ctd\u003e50\u003c/td\u003e\n",
              "      \u003ctd\u003e3\u003c/td\u003e\n",
              "      \u003ctd\u003e6\u003c/td\u003e\n",
              "      \u003ctd\u003e1\u003c/td\u003e\n",
              "      \u003ctd\u003e1\u003c/td\u003e\n",
              "      \u003ctd\u003eAlabama\u003c/td\u003e\n",
              "      \u003ctd\u003eAutauga County\u003c/td\u003e\n",
              "      \u003ctd\u003e54571\u003c/td\u003e\n",
              "      \u003ctd\u003e54571\u003c/td\u003e\n",
              "      \u003ctd\u003e54660\u003c/td\u003e\n",
              "      \u003ctd\u003e...\u003c/td\u003e\n",
              "      \u003ctd\u003e7.242091\u003c/td\u003e\n",
              "      \u003ctd\u003e-2.915927\u003c/td\u003e\n",
              "      \u003ctd\u003e-3.012349\u003c/td\u003e\n",
              "      \u003ctd\u003e2.265971\u003c/td\u003e\n",
              "      \u003ctd\u003e-2.530799\u003c/td\u003e\n",
              "      \u003ctd\u003e7.606016\u003c/td\u003e\n",
              "      \u003ctd\u003e-2.626146\u003c/td\u003e\n",
              "      \u003ctd\u003e-2.722002\u003c/td\u003e\n",
              "      \u003ctd\u003e2.592270\u003c/td\u003e\n",
              "      \u003ctd\u003e-2.187333\u003c/td\u003e\n",
              "    \u003c/tr\u003e\n",
              "    \u003ctr\u003e\n",
              "      \u003cth\u003e2\u003c/th\u003e\n",
              "      \u003ctd\u003e50\u003c/td\u003e\n",
              "      \u003ctd\u003e3\u003c/td\u003e\n",
              "      \u003ctd\u003e6\u003c/td\u003e\n",
              "      \u003ctd\u003e1\u003c/td\u003e\n",
              "      \u003ctd\u003e3\u003c/td\u003e\n",
              "      \u003ctd\u003eAlabama\u003c/td\u003e\n",
              "      \u003ctd\u003eBaldwin County\u003c/td\u003e\n",
              "      \u003ctd\u003e182265\u003c/td\u003e\n",
              "      \u003ctd\u003e182265\u003c/td\u003e\n",
              "      \u003ctd\u003e183193\u003c/td\u003e\n",
              "      \u003ctd\u003e...\u003c/td\u003e\n",
              "      \u003ctd\u003e14.832960\u003c/td\u003e\n",
              "      \u003ctd\u003e17.647293\u003c/td\u003e\n",
              "      \u003ctd\u003e21.845705\u003c/td\u003e\n",
              "      \u003ctd\u003e19.243287\u003c/td\u003e\n",
              "      \u003ctd\u003e17.197872\u003c/td\u003e\n",
              "      \u003ctd\u003e15.844176\u003c/td\u003e\n",
              "      \u003ctd\u003e18.559627\u003c/td\u003e\n",
              "      \u003ctd\u003e22.727626\u003c/td\u003e\n",
              "      \u003ctd\u003e20.317142\u003c/td\u003e\n",
              "      \u003ctd\u003e18.293499\u003c/td\u003e\n",
              "    \u003c/tr\u003e\n",
              "    \u003ctr\u003e\n",
              "      \u003cth\u003e3\u003c/th\u003e\n",
              "      \u003ctd\u003e50\u003c/td\u003e\n",
              "      \u003ctd\u003e3\u003c/td\u003e\n",
              "      \u003ctd\u003e6\u003c/td\u003e\n",
              "      \u003ctd\u003e1\u003c/td\u003e\n",
              "      \u003ctd\u003e5\u003c/td\u003e\n",
              "      \u003ctd\u003eAlabama\u003c/td\u003e\n",
              "      \u003ctd\u003eBarbour County\u003c/td\u003e\n",
              "      \u003ctd\u003e27457\u003c/td\u003e\n",
              "      \u003ctd\u003e27457\u003c/td\u003e\n",
              "      \u003ctd\u003e27341\u003c/td\u003e\n",
              "      \u003ctd\u003e...\u003c/td\u003e\n",
              "      \u003ctd\u003e-4.728132\u003c/td\u003e\n",
              "      \u003ctd\u003e-2.500690\u003c/td\u003e\n",
              "      \u003ctd\u003e-7.056824\u003c/td\u003e\n",
              "      \u003ctd\u003e-3.904217\u003c/td\u003e\n",
              "      \u003ctd\u003e-10.543299\u003c/td\u003e\n",
              "      \u003ctd\u003e-4.874741\u003c/td\u003e\n",
              "      \u003ctd\u003e-2.758113\u003c/td\u003e\n",
              "      \u003ctd\u003e-7.167664\u003c/td\u003e\n",
              "      \u003ctd\u003e-3.978583\u003c/td\u003e\n",
              "      \u003ctd\u003e-10.543299\u003c/td\u003e\n",
              "    \u003c/tr\u003e\n",
              "    \u003ctr\u003e\n",
              "      \u003cth\u003e4\u003c/th\u003e\n",
              "      \u003ctd\u003e50\u003c/td\u003e\n",
              "      \u003ctd\u003e3\u003c/td\u003e\n",
              "      \u003ctd\u003e6\u003c/td\u003e\n",
              "      \u003ctd\u003e1\u003c/td\u003e\n",
              "      \u003ctd\u003e7\u003c/td\u003e\n",
              "      \u003ctd\u003eAlabama\u003c/td\u003e\n",
              "      \u003ctd\u003eBibb County\u003c/td\u003e\n",
              "      \u003ctd\u003e22915\u003c/td\u003e\n",
              "      \u003ctd\u003e22919\u003c/td\u003e\n",
              "      \u003ctd\u003e22861\u003c/td\u003e\n",
              "      \u003ctd\u003e...\u003c/td\u003e\n",
              "      \u003ctd\u003e-5.527043\u003c/td\u003e\n",
              "      \u003ctd\u003e-5.068871\u003c/td\u003e\n",
              "      \u003ctd\u003e-6.201001\u003c/td\u003e\n",
              "      \u003ctd\u003e-0.177537\u003c/td\u003e\n",
              "      \u003ctd\u003e0.177258\u003c/td\u003e\n",
              "      \u003ctd\u003e-5.088389\u003c/td\u003e\n",
              "      \u003ctd\u003e-4.363636\u003c/td\u003e\n",
              "      \u003ctd\u003e-5.403729\u003c/td\u003e\n",
              "      \u003ctd\u003e0.754533\u003c/td\u003e\n",
              "      \u003ctd\u003e1.107861\u003c/td\u003e\n",
              "    \u003c/tr\u003e\n",
              "    \u003ctr\u003e\n",
              "      \u003cth\u003e5\u003c/th\u003e\n",
              "      \u003ctd\u003e50\u003c/td\u003e\n",
              "      \u003ctd\u003e3\u003c/td\u003e\n",
              "      \u003ctd\u003e6\u003c/td\u003e\n",
              "      \u003ctd\u003e1\u003c/td\u003e\n",
              "      \u003ctd\u003e9\u003c/td\u003e\n",
              "      \u003ctd\u003eAlabama\u003c/td\u003e\n",
              "      \u003ctd\u003eBlount County\u003c/td\u003e\n",
              "      \u003ctd\u003e57322\u003c/td\u003e\n",
              "      \u003ctd\u003e57322\u003c/td\u003e\n",
              "      \u003ctd\u003e57373\u003c/td\u003e\n",
              "      \u003ctd\u003e...\u003c/td\u003e\n",
              "      \u003ctd\u003e1.807375\u003c/td\u003e\n",
              "      \u003ctd\u003e-1.177622\u003c/td\u003e\n",
              "      \u003ctd\u003e-1.748766\u003c/td\u003e\n",
              "      \u003ctd\u003e-2.062535\u003c/td\u003e\n",
              "      \u003ctd\u003e-1.369970\u003c/td\u003e\n",
              "      \u003ctd\u003e1.859511\u003c/td\u003e\n",
              "      \u003ctd\u003e-0.848580\u003c/td\u003e\n",
              "      \u003ctd\u003e-1.402476\u003c/td\u003e\n",
              "      \u003ctd\u003e-1.577232\u003c/td\u003e\n",
              "      \u003ctd\u003e-0.884411\u003c/td\u003e\n",
              "    \u003c/tr\u003e\n",
              "  \u003c/tbody\u003e\n",
              "\u003c/table\u003e\n",
              "\u003cp\u003e5 rows × 100 columns\u003c/p\u003e\n",
              "\u003c/div\u003e"
            ],
            "text/plain": [
              "   SUMLEV  REGION  DIVISION  STATE  COUNTY   STNAME         CTYNAME  \\\n",
              "1      50       3         6      1       1  Alabama  Autauga County   \n",
              "2      50       3         6      1       3  Alabama  Baldwin County   \n",
              "3      50       3         6      1       5  Alabama  Barbour County   \n",
              "4      50       3         6      1       7  Alabama     Bibb County   \n",
              "5      50       3         6      1       9  Alabama   Blount County   \n",
              "\n",
              "   CENSUS2010POP  ESTIMATESBASE2010  POPESTIMATE2010     ...       \\\n",
              "1          54571              54571            54660     ...        \n",
              "2         182265             182265           183193     ...        \n",
              "3          27457              27457            27341     ...        \n",
              "4          22915              22919            22861     ...        \n",
              "5          57322              57322            57373     ...        \n",
              "\n",
              "   RDOMESTICMIG2011  RDOMESTICMIG2012  RDOMESTICMIG2013  RDOMESTICMIG2014  \\\n",
              "1          7.242091         -2.915927         -3.012349          2.265971   \n",
              "2         14.832960         17.647293         21.845705         19.243287   \n",
              "3         -4.728132         -2.500690         -7.056824         -3.904217   \n",
              "4         -5.527043         -5.068871         -6.201001         -0.177537   \n",
              "5          1.807375         -1.177622         -1.748766         -2.062535   \n",
              "\n",
              "   RDOMESTICMIG2015  RNETMIG2011  RNETMIG2012  RNETMIG2013  RNETMIG2014  \\\n",
              "1         -2.530799     7.606016    -2.626146    -2.722002     2.592270   \n",
              "2         17.197872    15.844176    18.559627    22.727626    20.317142   \n",
              "3        -10.543299    -4.874741    -2.758113    -7.167664    -3.978583   \n",
              "4          0.177258    -5.088389    -4.363636    -5.403729     0.754533   \n",
              "5         -1.369970     1.859511    -0.848580    -1.402476    -1.577232   \n",
              "\n",
              "   RNETMIG2015  \n",
              "1    -2.187333  \n",
              "2    18.293499  \n",
              "3   -10.543299  \n",
              "4     1.107861  \n",
              "5    -0.884411  \n",
              "\n",
              "[5 rows x 100 columns]"
            ]
          },
          "metadata": {
            "tags": []
          },
          "execution_count": 95
        }
      ]
    },
    {
      "metadata": {
        "id": "1fI-Tyg2BZxP",
        "colab_type": "code",
        "outputId": "aeac0821-5aff-4985-d288-b2f09d6b0efb",
        "executionInfo": {
          "status": "ok",
          "timestamp": 1555005501756,
          "user_tz": 300,
          "elapsed": 684,
          "user": {
            "displayName": "David Tan",
            "photoUrl": "",
            "userId": "15726769250755126620"
          }
        },
        "colab": {
          "base_uri": "https://localhost:8080/",
          "height": 309
        },
        "pycharm": {}
      },
      "cell_type": "code",
      "source": [
        "columns_to_keep \u003d [\u0027STNAME\u0027,\n",
        "                   \u0027CTYNAME\u0027,\n",
        "                   \u0027BIRTHS2010\u0027,\n",
        "                   \u0027BIRTHS2011\u0027,\n",
        "                   \u0027BIRTHS2012\u0027,\n",
        "                   \u0027BIRTHS2013\u0027,\n",
        "                   \u0027BIRTHS2014\u0027,\n",
        "                   \u0027BIRTHS2015\u0027,\n",
        "                   \u0027POPESTIMATE2010\u0027,\n",
        "                   \u0027POPESTIMATE2011\u0027,\n",
        "                   \u0027POPESTIMATE2012\u0027,\n",
        "                   \u0027POPESTIMATE2013\u0027,\n",
        "                   \u0027POPESTIMATE2014\u0027,\n",
        "                   \u0027POPESTIMATE2015\u0027]\n",
        "df \u003d df[columns_to_keep]\n",
        "df.head()"
      ],
      "execution_count": 0,
      "outputs": [
        {
          "output_type": "execute_result",
          "data": {
            "text/html": [
              "\u003cdiv\u003e\n",
              "\u003cstyle scoped\u003e\n",
              "    .dataframe tbody tr th:only-of-type {\n",
              "        vertical-align: middle;\n",
              "    }\n",
              "\n",
              "    .dataframe tbody tr th {\n",
              "        vertical-align: top;\n",
              "    }\n",
              "\n",
              "    .dataframe thead th {\n",
              "        text-align: right;\n",
              "    }\n",
              "\u003c/style\u003e\n",
              "\u003ctable border\u003d\"1\" class\u003d\"dataframe\"\u003e\n",
              "  \u003cthead\u003e\n",
              "    \u003ctr style\u003d\"text-align: right;\"\u003e\n",
              "      \u003cth\u003e\u003c/th\u003e\n",
              "      \u003cth\u003eSTNAME\u003c/th\u003e\n",
              "      \u003cth\u003eCTYNAME\u003c/th\u003e\n",
              "      \u003cth\u003eBIRTHS2010\u003c/th\u003e\n",
              "      \u003cth\u003eBIRTHS2011\u003c/th\u003e\n",
              "      \u003cth\u003eBIRTHS2012\u003c/th\u003e\n",
              "      \u003cth\u003eBIRTHS2013\u003c/th\u003e\n",
              "      \u003cth\u003eBIRTHS2014\u003c/th\u003e\n",
              "      \u003cth\u003eBIRTHS2015\u003c/th\u003e\n",
              "      \u003cth\u003ePOPESTIMATE2010\u003c/th\u003e\n",
              "      \u003cth\u003ePOPESTIMATE2011\u003c/th\u003e\n",
              "      \u003cth\u003ePOPESTIMATE2012\u003c/th\u003e\n",
              "      \u003cth\u003ePOPESTIMATE2013\u003c/th\u003e\n",
              "      \u003cth\u003ePOPESTIMATE2014\u003c/th\u003e\n",
              "      \u003cth\u003ePOPESTIMATE2015\u003c/th\u003e\n",
              "    \u003c/tr\u003e\n",
              "  \u003c/thead\u003e\n",
              "  \u003ctbody\u003e\n",
              "    \u003ctr\u003e\n",
              "      \u003cth\u003e1\u003c/th\u003e\n",
              "      \u003ctd\u003eAlabama\u003c/td\u003e\n",
              "      \u003ctd\u003eAutauga County\u003c/td\u003e\n",
              "      \u003ctd\u003e151\u003c/td\u003e\n",
              "      \u003ctd\u003e636\u003c/td\u003e\n",
              "      \u003ctd\u003e615\u003c/td\u003e\n",
              "      \u003ctd\u003e574\u003c/td\u003e\n",
              "      \u003ctd\u003e623\u003c/td\u003e\n",
              "      \u003ctd\u003e600\u003c/td\u003e\n",
              "      \u003ctd\u003e54660\u003c/td\u003e\n",
              "      \u003ctd\u003e55253\u003c/td\u003e\n",
              "      \u003ctd\u003e55175\u003c/td\u003e\n",
              "      \u003ctd\u003e55038\u003c/td\u003e\n",
              "      \u003ctd\u003e55290\u003c/td\u003e\n",
              "      \u003ctd\u003e55347\u003c/td\u003e\n",
              "    \u003c/tr\u003e\n",
              "    \u003ctr\u003e\n",
              "      \u003cth\u003e2\u003c/th\u003e\n",
              "      \u003ctd\u003eAlabama\u003c/td\u003e\n",
              "      \u003ctd\u003eBaldwin County\u003c/td\u003e\n",
              "      \u003ctd\u003e517\u003c/td\u003e\n",
              "      \u003ctd\u003e2187\u003c/td\u003e\n",
              "      \u003ctd\u003e2092\u003c/td\u003e\n",
              "      \u003ctd\u003e2160\u003c/td\u003e\n",
              "      \u003ctd\u003e2186\u003c/td\u003e\n",
              "      \u003ctd\u003e2240\u003c/td\u003e\n",
              "      \u003ctd\u003e183193\u003c/td\u003e\n",
              "      \u003ctd\u003e186659\u003c/td\u003e\n",
              "      \u003ctd\u003e190396\u003c/td\u003e\n",
              "      \u003ctd\u003e195126\u003c/td\u003e\n",
              "      \u003ctd\u003e199713\u003c/td\u003e\n",
              "      \u003ctd\u003e203709\u003c/td\u003e\n",
              "    \u003c/tr\u003e\n",
              "    \u003ctr\u003e\n",
              "      \u003cth\u003e3\u003c/th\u003e\n",
              "      \u003ctd\u003eAlabama\u003c/td\u003e\n",
              "      \u003ctd\u003eBarbour County\u003c/td\u003e\n",
              "      \u003ctd\u003e70\u003c/td\u003e\n",
              "      \u003ctd\u003e335\u003c/td\u003e\n",
              "      \u003ctd\u003e300\u003c/td\u003e\n",
              "      \u003ctd\u003e283\u003c/td\u003e\n",
              "      \u003ctd\u003e260\u003c/td\u003e\n",
              "      \u003ctd\u003e269\u003c/td\u003e\n",
              "      \u003ctd\u003e27341\u003c/td\u003e\n",
              "      \u003ctd\u003e27226\u003c/td\u003e\n",
              "      \u003ctd\u003e27159\u003c/td\u003e\n",
              "      \u003ctd\u003e26973\u003c/td\u003e\n",
              "      \u003ctd\u003e26815\u003c/td\u003e\n",
              "      \u003ctd\u003e26489\u003c/td\u003e\n",
              "    \u003c/tr\u003e\n",
              "    \u003ctr\u003e\n",
              "      \u003cth\u003e4\u003c/th\u003e\n",
              "      \u003ctd\u003eAlabama\u003c/td\u003e\n",
              "      \u003ctd\u003eBibb County\u003c/td\u003e\n",
              "      \u003ctd\u003e44\u003c/td\u003e\n",
              "      \u003ctd\u003e266\u003c/td\u003e\n",
              "      \u003ctd\u003e245\u003c/td\u003e\n",
              "      \u003ctd\u003e259\u003c/td\u003e\n",
              "      \u003ctd\u003e247\u003c/td\u003e\n",
              "      \u003ctd\u003e253\u003c/td\u003e\n",
              "      \u003ctd\u003e22861\u003c/td\u003e\n",
              "      \u003ctd\u003e22733\u003c/td\u003e\n",
              "      \u003ctd\u003e22642\u003c/td\u003e\n",
              "      \u003ctd\u003e22512\u003c/td\u003e\n",
              "      \u003ctd\u003e22549\u003c/td\u003e\n",
              "      \u003ctd\u003e22583\u003c/td\u003e\n",
              "    \u003c/tr\u003e\n",
              "    \u003ctr\u003e\n",
              "      \u003cth\u003e5\u003c/th\u003e\n",
              "      \u003ctd\u003eAlabama\u003c/td\u003e\n",
              "      \u003ctd\u003eBlount County\u003c/td\u003e\n",
              "      \u003ctd\u003e183\u003c/td\u003e\n",
              "      \u003ctd\u003e744\u003c/td\u003e\n",
              "      \u003ctd\u003e710\u003c/td\u003e\n",
              "      \u003ctd\u003e646\u003c/td\u003e\n",
              "      \u003ctd\u003e618\u003c/td\u003e\n",
              "      \u003ctd\u003e603\u003c/td\u003e\n",
              "      \u003ctd\u003e57373\u003c/td\u003e\n",
              "      \u003ctd\u003e57711\u003c/td\u003e\n",
              "      \u003ctd\u003e57776\u003c/td\u003e\n",
              "      \u003ctd\u003e57734\u003c/td\u003e\n",
              "      \u003ctd\u003e57658\u003c/td\u003e\n",
              "      \u003ctd\u003e57673\u003c/td\u003e\n",
              "    \u003c/tr\u003e\n",
              "  \u003c/tbody\u003e\n",
              "\u003c/table\u003e\n",
              "\u003c/div\u003e"
            ],
            "text/plain": [
              "    STNAME         CTYNAME  BIRTHS2010  BIRTHS2011  BIRTHS2012  BIRTHS2013  \\\n",
              "1  Alabama  Autauga County         151         636         615         574   \n",
              "2  Alabama  Baldwin County         517        2187        2092        2160   \n",
              "3  Alabama  Barbour County          70         335         300         283   \n",
              "4  Alabama     Bibb County          44         266         245         259   \n",
              "5  Alabama   Blount County         183         744         710         646   \n",
              "\n",
              "   BIRTHS2014  BIRTHS2015  POPESTIMATE2010  POPESTIMATE2011  POPESTIMATE2012  \\\n",
              "1         623         600            54660            55253            55175   \n",
              "2        2186        2240           183193           186659           190396   \n",
              "3         260         269            27341            27226            27159   \n",
              "4         247         253            22861            22733            22642   \n",
              "5         618         603            57373            57711            57776   \n",
              "\n",
              "   POPESTIMATE2013  POPESTIMATE2014  POPESTIMATE2015  \n",
              "1            55038            55290            55347  \n",
              "2           195126           199713           203709  \n",
              "3            26973            26815            26489  \n",
              "4            22512            22549            22583  \n",
              "5            57734            57658            57673  "
            ]
          },
          "metadata": {
            "tags": []
          },
          "execution_count": 96
        }
      ]
    },
    {
      "metadata": {
        "id": "PSP-yYh1BZxR",
        "colab_type": "code",
        "outputId": "c18da8d3-5902-4e13-a76e-5fb749718fa1",
        "executionInfo": {
          "status": "ok",
          "timestamp": 1555005505332,
          "user_tz": 300,
          "elapsed": 402,
          "user": {
            "displayName": "David Tan",
            "photoUrl": "",
            "userId": "15726769250755126620"
          }
        },
        "colab": {
          "base_uri": "https://localhost:8080/",
          "height": 340
        },
        "pycharm": {}
      },
      "cell_type": "code",
      "source": [
        "df \u003d df.set_index([\u0027STNAME\u0027, \u0027CTYNAME\u0027])\n",
        "df.head()"
      ],
      "execution_count": 0,
      "outputs": [
        {
          "output_type": "execute_result",
          "data": {
            "text/html": [
              "\u003cdiv\u003e\n",
              "\u003cstyle scoped\u003e\n",
              "    .dataframe tbody tr th:only-of-type {\n",
              "        vertical-align: middle;\n",
              "    }\n",
              "\n",
              "    .dataframe tbody tr th {\n",
              "        vertical-align: top;\n",
              "    }\n",
              "\n",
              "    .dataframe thead th {\n",
              "        text-align: right;\n",
              "    }\n",
              "\u003c/style\u003e\n",
              "\u003ctable border\u003d\"1\" class\u003d\"dataframe\"\u003e\n",
              "  \u003cthead\u003e\n",
              "    \u003ctr style\u003d\"text-align: right;\"\u003e\n",
              "      \u003cth\u003e\u003c/th\u003e\n",
              "      \u003cth\u003e\u003c/th\u003e\n",
              "      \u003cth\u003eBIRTHS2010\u003c/th\u003e\n",
              "      \u003cth\u003eBIRTHS2011\u003c/th\u003e\n",
              "      \u003cth\u003eBIRTHS2012\u003c/th\u003e\n",
              "      \u003cth\u003eBIRTHS2013\u003c/th\u003e\n",
              "      \u003cth\u003eBIRTHS2014\u003c/th\u003e\n",
              "      \u003cth\u003eBIRTHS2015\u003c/th\u003e\n",
              "      \u003cth\u003ePOPESTIMATE2010\u003c/th\u003e\n",
              "      \u003cth\u003ePOPESTIMATE2011\u003c/th\u003e\n",
              "      \u003cth\u003ePOPESTIMATE2012\u003c/th\u003e\n",
              "      \u003cth\u003ePOPESTIMATE2013\u003c/th\u003e\n",
              "      \u003cth\u003ePOPESTIMATE2014\u003c/th\u003e\n",
              "      \u003cth\u003ePOPESTIMATE2015\u003c/th\u003e\n",
              "    \u003c/tr\u003e\n",
              "    \u003ctr\u003e\n",
              "      \u003cth\u003eSTNAME\u003c/th\u003e\n",
              "      \u003cth\u003eCTYNAME\u003c/th\u003e\n",
              "      \u003cth\u003e\u003c/th\u003e\n",
              "      \u003cth\u003e\u003c/th\u003e\n",
              "      \u003cth\u003e\u003c/th\u003e\n",
              "      \u003cth\u003e\u003c/th\u003e\n",
              "      \u003cth\u003e\u003c/th\u003e\n",
              "      \u003cth\u003e\u003c/th\u003e\n",
              "      \u003cth\u003e\u003c/th\u003e\n",
              "      \u003cth\u003e\u003c/th\u003e\n",
              "      \u003cth\u003e\u003c/th\u003e\n",
              "      \u003cth\u003e\u003c/th\u003e\n",
              "      \u003cth\u003e\u003c/th\u003e\n",
              "      \u003cth\u003e\u003c/th\u003e\n",
              "    \u003c/tr\u003e\n",
              "  \u003c/thead\u003e\n",
              "  \u003ctbody\u003e\n",
              "    \u003ctr\u003e\n",
              "      \u003cth rowspan\u003d\"5\" valign\u003d\"top\"\u003eAlabama\u003c/th\u003e\n",
              "      \u003cth\u003eAutauga County\u003c/th\u003e\n",
              "      \u003ctd\u003e151\u003c/td\u003e\n",
              "      \u003ctd\u003e636\u003c/td\u003e\n",
              "      \u003ctd\u003e615\u003c/td\u003e\n",
              "      \u003ctd\u003e574\u003c/td\u003e\n",
              "      \u003ctd\u003e623\u003c/td\u003e\n",
              "      \u003ctd\u003e600\u003c/td\u003e\n",
              "      \u003ctd\u003e54660\u003c/td\u003e\n",
              "      \u003ctd\u003e55253\u003c/td\u003e\n",
              "      \u003ctd\u003e55175\u003c/td\u003e\n",
              "      \u003ctd\u003e55038\u003c/td\u003e\n",
              "      \u003ctd\u003e55290\u003c/td\u003e\n",
              "      \u003ctd\u003e55347\u003c/td\u003e\n",
              "    \u003c/tr\u003e\n",
              "    \u003ctr\u003e\n",
              "      \u003cth\u003eBaldwin County\u003c/th\u003e\n",
              "      \u003ctd\u003e517\u003c/td\u003e\n",
              "      \u003ctd\u003e2187\u003c/td\u003e\n",
              "      \u003ctd\u003e2092\u003c/td\u003e\n",
              "      \u003ctd\u003e2160\u003c/td\u003e\n",
              "      \u003ctd\u003e2186\u003c/td\u003e\n",
              "      \u003ctd\u003e2240\u003c/td\u003e\n",
              "      \u003ctd\u003e183193\u003c/td\u003e\n",
              "      \u003ctd\u003e186659\u003c/td\u003e\n",
              "      \u003ctd\u003e190396\u003c/td\u003e\n",
              "      \u003ctd\u003e195126\u003c/td\u003e\n",
              "      \u003ctd\u003e199713\u003c/td\u003e\n",
              "      \u003ctd\u003e203709\u003c/td\u003e\n",
              "    \u003c/tr\u003e\n",
              "    \u003ctr\u003e\n",
              "      \u003cth\u003eBarbour County\u003c/th\u003e\n",
              "      \u003ctd\u003e70\u003c/td\u003e\n",
              "      \u003ctd\u003e335\u003c/td\u003e\n",
              "      \u003ctd\u003e300\u003c/td\u003e\n",
              "      \u003ctd\u003e283\u003c/td\u003e\n",
              "      \u003ctd\u003e260\u003c/td\u003e\n",
              "      \u003ctd\u003e269\u003c/td\u003e\n",
              "      \u003ctd\u003e27341\u003c/td\u003e\n",
              "      \u003ctd\u003e27226\u003c/td\u003e\n",
              "      \u003ctd\u003e27159\u003c/td\u003e\n",
              "      \u003ctd\u003e26973\u003c/td\u003e\n",
              "      \u003ctd\u003e26815\u003c/td\u003e\n",
              "      \u003ctd\u003e26489\u003c/td\u003e\n",
              "    \u003c/tr\u003e\n",
              "    \u003ctr\u003e\n",
              "      \u003cth\u003eBibb County\u003c/th\u003e\n",
              "      \u003ctd\u003e44\u003c/td\u003e\n",
              "      \u003ctd\u003e266\u003c/td\u003e\n",
              "      \u003ctd\u003e245\u003c/td\u003e\n",
              "      \u003ctd\u003e259\u003c/td\u003e\n",
              "      \u003ctd\u003e247\u003c/td\u003e\n",
              "      \u003ctd\u003e253\u003c/td\u003e\n",
              "      \u003ctd\u003e22861\u003c/td\u003e\n",
              "      \u003ctd\u003e22733\u003c/td\u003e\n",
              "      \u003ctd\u003e22642\u003c/td\u003e\n",
              "      \u003ctd\u003e22512\u003c/td\u003e\n",
              "      \u003ctd\u003e22549\u003c/td\u003e\n",
              "      \u003ctd\u003e22583\u003c/td\u003e\n",
              "    \u003c/tr\u003e\n",
              "    \u003ctr\u003e\n",
              "      \u003cth\u003eBlount County\u003c/th\u003e\n",
              "      \u003ctd\u003e183\u003c/td\u003e\n",
              "      \u003ctd\u003e744\u003c/td\u003e\n",
              "      \u003ctd\u003e710\u003c/td\u003e\n",
              "      \u003ctd\u003e646\u003c/td\u003e\n",
              "      \u003ctd\u003e618\u003c/td\u003e\n",
              "      \u003ctd\u003e603\u003c/td\u003e\n",
              "      \u003ctd\u003e57373\u003c/td\u003e\n",
              "      \u003ctd\u003e57711\u003c/td\u003e\n",
              "      \u003ctd\u003e57776\u003c/td\u003e\n",
              "      \u003ctd\u003e57734\u003c/td\u003e\n",
              "      \u003ctd\u003e57658\u003c/td\u003e\n",
              "      \u003ctd\u003e57673\u003c/td\u003e\n",
              "    \u003c/tr\u003e\n",
              "  \u003c/tbody\u003e\n",
              "\u003c/table\u003e\n",
              "\u003c/div\u003e"
            ],
            "text/plain": [
              "                        BIRTHS2010  BIRTHS2011  BIRTHS2012  BIRTHS2013  \\\n",
              "STNAME  CTYNAME                                                          \n",
              "Alabama Autauga County         151         636         615         574   \n",
              "        Baldwin County         517        2187        2092        2160   \n",
              "        Barbour County          70         335         300         283   \n",
              "        Bibb County             44         266         245         259   \n",
              "        Blount County          183         744         710         646   \n",
              "\n",
              "                        BIRTHS2014  BIRTHS2015  POPESTIMATE2010  \\\n",
              "STNAME  CTYNAME                                                   \n",
              "Alabama Autauga County         623         600            54660   \n",
              "        Baldwin County        2186        2240           183193   \n",
              "        Barbour County         260         269            27341   \n",
              "        Bibb County            247         253            22861   \n",
              "        Blount County          618         603            57373   \n",
              "\n",
              "                        POPESTIMATE2011  POPESTIMATE2012  POPESTIMATE2013  \\\n",
              "STNAME  CTYNAME                                                             \n",
              "Alabama Autauga County            55253            55175            55038   \n",
              "        Baldwin County           186659           190396           195126   \n",
              "        Barbour County            27226            27159            26973   \n",
              "        Bibb County               22733            22642            22512   \n",
              "        Blount County             57711            57776            57734   \n",
              "\n",
              "                        POPESTIMATE2014  POPESTIMATE2015  \n",
              "STNAME  CTYNAME                                           \n",
              "Alabama Autauga County            55290            55347  \n",
              "        Baldwin County           199713           203709  \n",
              "        Barbour County            26815            26489  \n",
              "        Bibb County               22549            22583  \n",
              "        Blount County             57658            57673  "
            ]
          },
          "metadata": {
            "tags": []
          },
          "execution_count": 97
        }
      ]
    },
    {
      "metadata": {
        "id": "fGkZjsKbBZxS",
        "colab_type": "code",
        "outputId": "1c426863-c875-4519-aa21-a02f8f421679",
        "executionInfo": {
          "status": "ok",
          "timestamp": 1555005508253,
          "user_tz": 300,
          "elapsed": 346,
          "user": {
            "displayName": "David Tan",
            "photoUrl": "",
            "userId": "15726769250755126620"
          }
        },
        "colab": {
          "base_uri": "https://localhost:8080/",
          "height": 238
        },
        "pycharm": {}
      },
      "cell_type": "code",
      "source": [
        "df.loc[\u0027Michigan\u0027, \u0027Washtenaw County\u0027]"
      ],
      "execution_count": 0,
      "outputs": [
        {
          "output_type": "execute_result",
          "data": {
            "text/plain": [
              "BIRTHS2010            977\n",
              "BIRTHS2011           3826\n",
              "BIRTHS2012           3780\n",
              "BIRTHS2013           3662\n",
              "BIRTHS2014           3683\n",
              "BIRTHS2015           3709\n",
              "POPESTIMATE2010    345563\n",
              "POPESTIMATE2011    349048\n",
              "POPESTIMATE2012    351213\n",
              "POPESTIMATE2013    354289\n",
              "POPESTIMATE2014    357029\n",
              "POPESTIMATE2015    358880\n",
              "Name: (Michigan, Washtenaw County), dtype: int64"
            ]
          },
          "metadata": {
            "tags": []
          },
          "execution_count": 98
        }
      ]
    },
    {
      "metadata": {
        "id": "VVazBMt3BZxV",
        "colab_type": "code",
        "outputId": "43e64d7b-5b87-46de-c480-9ec0ae8eb4eb",
        "executionInfo": {
          "status": "ok",
          "timestamp": 1555005511208,
          "user_tz": 300,
          "elapsed": 755,
          "user": {
            "displayName": "David Tan",
            "photoUrl": "",
            "userId": "15726769250755126620"
          }
        },
        "colab": {
          "base_uri": "https://localhost:8080/",
          "height": 196
        },
        "pycharm": {}
      },
      "cell_type": "code",
      "source": [
        "df.loc[ [(\u0027Michigan\u0027, \u0027Washtenaw County\u0027),\n",
        "         (\u0027Michigan\u0027, \u0027Wayne County\u0027)] ]"
      ],
      "execution_count": 0,
      "outputs": [
        {
          "output_type": "execute_result",
          "data": {
            "text/html": [
              "\u003cdiv\u003e\n",
              "\u003cstyle scoped\u003e\n",
              "    .dataframe tbody tr th:only-of-type {\n",
              "        vertical-align: middle;\n",
              "    }\n",
              "\n",
              "    .dataframe tbody tr th {\n",
              "        vertical-align: top;\n",
              "    }\n",
              "\n",
              "    .dataframe thead th {\n",
              "        text-align: right;\n",
              "    }\n",
              "\u003c/style\u003e\n",
              "\u003ctable border\u003d\"1\" class\u003d\"dataframe\"\u003e\n",
              "  \u003cthead\u003e\n",
              "    \u003ctr style\u003d\"text-align: right;\"\u003e\n",
              "      \u003cth\u003e\u003c/th\u003e\n",
              "      \u003cth\u003e\u003c/th\u003e\n",
              "      \u003cth\u003eBIRTHS2010\u003c/th\u003e\n",
              "      \u003cth\u003eBIRTHS2011\u003c/th\u003e\n",
              "      \u003cth\u003eBIRTHS2012\u003c/th\u003e\n",
              "      \u003cth\u003eBIRTHS2013\u003c/th\u003e\n",
              "      \u003cth\u003eBIRTHS2014\u003c/th\u003e\n",
              "      \u003cth\u003eBIRTHS2015\u003c/th\u003e\n",
              "      \u003cth\u003ePOPESTIMATE2010\u003c/th\u003e\n",
              "      \u003cth\u003ePOPESTIMATE2011\u003c/th\u003e\n",
              "      \u003cth\u003ePOPESTIMATE2012\u003c/th\u003e\n",
              "      \u003cth\u003ePOPESTIMATE2013\u003c/th\u003e\n",
              "      \u003cth\u003ePOPESTIMATE2014\u003c/th\u003e\n",
              "      \u003cth\u003ePOPESTIMATE2015\u003c/th\u003e\n",
              "    \u003c/tr\u003e\n",
              "    \u003ctr\u003e\n",
              "      \u003cth\u003eSTNAME\u003c/th\u003e\n",
              "      \u003cth\u003eCTYNAME\u003c/th\u003e\n",
              "      \u003cth\u003e\u003c/th\u003e\n",
              "      \u003cth\u003e\u003c/th\u003e\n",
              "      \u003cth\u003e\u003c/th\u003e\n",
              "      \u003cth\u003e\u003c/th\u003e\n",
              "      \u003cth\u003e\u003c/th\u003e\n",
              "      \u003cth\u003e\u003c/th\u003e\n",
              "      \u003cth\u003e\u003c/th\u003e\n",
              "      \u003cth\u003e\u003c/th\u003e\n",
              "      \u003cth\u003e\u003c/th\u003e\n",
              "      \u003cth\u003e\u003c/th\u003e\n",
              "      \u003cth\u003e\u003c/th\u003e\n",
              "      \u003cth\u003e\u003c/th\u003e\n",
              "    \u003c/tr\u003e\n",
              "  \u003c/thead\u003e\n",
              "  \u003ctbody\u003e\n",
              "    \u003ctr\u003e\n",
              "      \u003cth rowspan\u003d\"2\" valign\u003d\"top\"\u003eMichigan\u003c/th\u003e\n",
              "      \u003cth\u003eWashtenaw County\u003c/th\u003e\n",
              "      \u003ctd\u003e977\u003c/td\u003e\n",
              "      \u003ctd\u003e3826\u003c/td\u003e\n",
              "      \u003ctd\u003e3780\u003c/td\u003e\n",
              "      \u003ctd\u003e3662\u003c/td\u003e\n",
              "      \u003ctd\u003e3683\u003c/td\u003e\n",
              "      \u003ctd\u003e3709\u003c/td\u003e\n",
              "      \u003ctd\u003e345563\u003c/td\u003e\n",
              "      \u003ctd\u003e349048\u003c/td\u003e\n",
              "      \u003ctd\u003e351213\u003c/td\u003e\n",
              "      \u003ctd\u003e354289\u003c/td\u003e\n",
              "      \u003ctd\u003e357029\u003c/td\u003e\n",
              "      \u003ctd\u003e358880\u003c/td\u003e\n",
              "    \u003c/tr\u003e\n",
              "    \u003ctr\u003e\n",
              "      \u003cth\u003eWayne County\u003c/th\u003e\n",
              "      \u003ctd\u003e5918\u003c/td\u003e\n",
              "      \u003ctd\u003e23819\u003c/td\u003e\n",
              "      \u003ctd\u003e23270\u003c/td\u003e\n",
              "      \u003ctd\u003e23377\u003c/td\u003e\n",
              "      \u003ctd\u003e23607\u003c/td\u003e\n",
              "      \u003ctd\u003e23586\u003c/td\u003e\n",
              "      \u003ctd\u003e1815199\u003c/td\u003e\n",
              "      \u003ctd\u003e1801273\u003c/td\u003e\n",
              "      \u003ctd\u003e1792514\u003c/td\u003e\n",
              "      \u003ctd\u003e1775713\u003c/td\u003e\n",
              "      \u003ctd\u003e1766008\u003c/td\u003e\n",
              "      \u003ctd\u003e1759335\u003c/td\u003e\n",
              "    \u003c/tr\u003e\n",
              "  \u003c/tbody\u003e\n",
              "\u003c/table\u003e\n",
              "\u003c/div\u003e"
            ],
            "text/plain": [
              "                           BIRTHS2010  BIRTHS2011  BIRTHS2012  BIRTHS2013  \\\n",
              "STNAME   CTYNAME                                                            \n",
              "Michigan Washtenaw County         977        3826        3780        3662   \n",
              "         Wayne County            5918       23819       23270       23377   \n",
              "\n",
              "                           BIRTHS2014  BIRTHS2015  POPESTIMATE2010  \\\n",
              "STNAME   CTYNAME                                                     \n",
              "Michigan Washtenaw County        3683        3709           345563   \n",
              "         Wayne County           23607       23586          1815199   \n",
              "\n",
              "                           POPESTIMATE2011  POPESTIMATE2012  POPESTIMATE2013  \\\n",
              "STNAME   CTYNAME                                                               \n",
              "Michigan Washtenaw County           349048           351213           354289   \n",
              "         Wayne County              1801273          1792514          1775713   \n",
              "\n",
              "                           POPESTIMATE2014  POPESTIMATE2015  \n",
              "STNAME   CTYNAME                                             \n",
              "Michigan Washtenaw County           357029           358880  \n",
              "         Wayne County              1766008          1759335  "
            ]
          },
          "metadata": {
            "tags": []
          },
          "execution_count": 99
        }
      ]
    },
    {
      "metadata": {
        "id": "XOhBM1PfBZxW",
        "colab_type": "text",
        "pycharm": {}
      },
      "cell_type": "markdown",
      "source": [
        "# Missing values"
      ]
    },
    {
      "metadata": {
        "id": "VSpEUSyJjSmc",
        "colab_type": "code",
        "outputId": "300d5d31-a665-4329-83d3-f3d327986722",
        "executionInfo": {
          "status": "ok",
          "timestamp": 1555005549996,
          "user_tz": 300,
          "elapsed": 6272,
          "user": {
            "displayName": "David Tan",
            "photoUrl": "",
            "userId": "15726769250755126620"
          }
        },
        "colab": {
          "resources": {
            "http://localhost:8080/nbextensions/google.colab/files.js": {
              "data": "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\u003d",
              "ok": true,
              "headers": [
                [
                  "content-type",
                  "application/javascript"
                ]
              ],
              "status": 200,
              "status_text": ""
            }
          },
          "base_uri": "https://localhost:8080/",
          "height": 71
        },
        "pycharm": {}
      },
      "cell_type": "code",
      "source": "import numpy as np\nimport pandas as pd\nfrom google.colab import files\nuploaded \u003d files.upload()",
      "execution_count": 0,
      "outputs": [
        {
          "output_type": "display_data",
          "data": {
            "text/html": [
              "\n",
              "     \u003cinput type\u003d\"file\" id\u003d\"files-501566cd-7f93-4c22-bb47-fd6c546723ab\" name\u003d\"files[]\" multiple disabled /\u003e\n",
              "     \u003coutput id\u003d\"result-501566cd-7f93-4c22-bb47-fd6c546723ab\"\u003e\n",
              "      Upload widget is only available when the cell has been executed in the\n",
              "      current browser session. Please rerun this cell to enable.\n",
              "      \u003c/output\u003e\n",
              "      \u003cscript src\u003d\"/nbextensions/google.colab/files.js\"\u003e\u003c/script\u003e "
            ],
            "text/plain": [
              "\u003cIPython.core.display.HTML object\u003e"
            ]
          },
          "metadata": {
            "tags": []
          }
        },
        {
          "output_type": "stream",
          "text": [
            "Saving log.csv to log.csv\n"
          ],
          "name": "stdout"
        }
      ]
    },
    {
      "metadata": {
        "id": "nc6agRD4BZxW",
        "colab_type": "code",
        "outputId": "f8aae6bf-4a29-4e30-cfd1-487fce551f29",
        "executionInfo": {
          "status": "ok",
          "timestamp": 1555005561073,
          "user_tz": 300,
          "elapsed": 264,
          "user": {
            "displayName": "David Tan",
            "photoUrl": "",
            "userId": "15726769250755126620"
          }
        },
        "colab": {
          "base_uri": "https://localhost:8080/",
          "height": 1072
        },
        "pycharm": {}
      },
      "cell_type": "code",
      "source": [
        "  df \u003d pd.read_csv(\u0027log.csv\u0027)\n",
        "df"
      ],
      "execution_count": 0,
      "outputs": [
        {
          "output_type": "execute_result",
          "data": {
            "text/html": [
              "\u003cdiv\u003e\n",
              "\u003cstyle scoped\u003e\n",
              "    .dataframe tbody tr th:only-of-type {\n",
              "        vertical-align: middle;\n",
              "    }\n",
              "\n",
              "    .dataframe tbody tr th {\n",
              "        vertical-align: top;\n",
              "    }\n",
              "\n",
              "    .dataframe thead th {\n",
              "        text-align: right;\n",
              "    }\n",
              "\u003c/style\u003e\n",
              "\u003ctable border\u003d\"1\" class\u003d\"dataframe\"\u003e\n",
              "  \u003cthead\u003e\n",
              "    \u003ctr style\u003d\"text-align: right;\"\u003e\n",
              "      \u003cth\u003e\u003c/th\u003e\n",
              "      \u003cth\u003etime\u003c/th\u003e\n",
              "      \u003cth\u003euser\u003c/th\u003e\n",
              "      \u003cth\u003evideo\u003c/th\u003e\n",
              "      \u003cth\u003eplayback position\u003c/th\u003e\n",
              "      \u003cth\u003epaused\u003c/th\u003e\n",
              "      \u003cth\u003evolume\u003c/th\u003e\n",
              "    \u003c/tr\u003e\n",
              "  \u003c/thead\u003e\n",
              "  \u003ctbody\u003e\n",
              "    \u003ctr\u003e\n",
              "      \u003cth\u003e0\u003c/th\u003e\n",
              "      \u003ctd\u003e1469974424\u003c/td\u003e\n",
              "      \u003ctd\u003echeryl\u003c/td\u003e\n",
              "      \u003ctd\u003eintro.html\u003c/td\u003e\n",
              "      \u003ctd\u003e5\u003c/td\u003e\n",
              "      \u003ctd\u003eFalse\u003c/td\u003e\n",
              "      \u003ctd\u003e10.0\u003c/td\u003e\n",
              "    \u003c/tr\u003e\n",
              "    \u003ctr\u003e\n",
              "      \u003cth\u003e1\u003c/th\u003e\n",
              "      \u003ctd\u003e1469974454\u003c/td\u003e\n",
              "      \u003ctd\u003echeryl\u003c/td\u003e\n",
              "      \u003ctd\u003eintro.html\u003c/td\u003e\n",
              "      \u003ctd\u003e6\u003c/td\u003e\n",
              "      \u003ctd\u003eNaN\u003c/td\u003e\n",
              "      \u003ctd\u003eNaN\u003c/td\u003e\n",
              "    \u003c/tr\u003e\n",
              "    \u003ctr\u003e\n",
              "      \u003cth\u003e2\u003c/th\u003e\n",
              "      \u003ctd\u003e1469974544\u003c/td\u003e\n",
              "      \u003ctd\u003echeryl\u003c/td\u003e\n",
              "      \u003ctd\u003eintro.html\u003c/td\u003e\n",
              "      \u003ctd\u003e9\u003c/td\u003e\n",
              "      \u003ctd\u003eNaN\u003c/td\u003e\n",
              "      \u003ctd\u003eNaN\u003c/td\u003e\n",
              "    \u003c/tr\u003e\n",
              "    \u003ctr\u003e\n",
              "      \u003cth\u003e3\u003c/th\u003e\n",
              "      \u003ctd\u003e1469974574\u003c/td\u003e\n",
              "      \u003ctd\u003echeryl\u003c/td\u003e\n",
              "      \u003ctd\u003eintro.html\u003c/td\u003e\n",
              "      \u003ctd\u003e10\u003c/td\u003e\n",
              "      \u003ctd\u003eNaN\u003c/td\u003e\n",
              "      \u003ctd\u003eNaN\u003c/td\u003e\n",
              "    \u003c/tr\u003e\n",
              "    \u003ctr\u003e\n",
              "      \u003cth\u003e4\u003c/th\u003e\n",
              "      \u003ctd\u003e1469977514\u003c/td\u003e\n",
              "      \u003ctd\u003ebob\u003c/td\u003e\n",
              "      \u003ctd\u003eintro.html\u003c/td\u003e\n",
              "      \u003ctd\u003e1\u003c/td\u003e\n",
              "      \u003ctd\u003eNaN\u003c/td\u003e\n",
              "      \u003ctd\u003eNaN\u003c/td\u003e\n",
              "    \u003c/tr\u003e\n",
              "    \u003ctr\u003e\n",
              "      \u003cth\u003e5\u003c/th\u003e\n",
              "      \u003ctd\u003e1469977544\u003c/td\u003e\n",
              "      \u003ctd\u003ebob\u003c/td\u003e\n",
              "      \u003ctd\u003eintro.html\u003c/td\u003e\n",
              "      \u003ctd\u003e1\u003c/td\u003e\n",
              "      \u003ctd\u003eNaN\u003c/td\u003e\n",
              "      \u003ctd\u003eNaN\u003c/td\u003e\n",
              "    \u003c/tr\u003e\n",
              "    \u003ctr\u003e\n",
              "      \u003cth\u003e6\u003c/th\u003e\n",
              "      \u003ctd\u003e1469977574\u003c/td\u003e\n",
              "      \u003ctd\u003ebob\u003c/td\u003e\n",
              "      \u003ctd\u003eintro.html\u003c/td\u003e\n",
              "      \u003ctd\u003e1\u003c/td\u003e\n",
              "      \u003ctd\u003eNaN\u003c/td\u003e\n",
              "      \u003ctd\u003eNaN\u003c/td\u003e\n",
              "    \u003c/tr\u003e\n",
              "    \u003ctr\u003e\n",
              "      \u003cth\u003e7\u003c/th\u003e\n",
              "      \u003ctd\u003e1469977604\u003c/td\u003e\n",
              "      \u003ctd\u003ebob\u003c/td\u003e\n",
              "      \u003ctd\u003eintro.html\u003c/td\u003e\n",
              "      \u003ctd\u003e1\u003c/td\u003e\n",
              "      \u003ctd\u003eNaN\u003c/td\u003e\n",
              "      \u003ctd\u003eNaN\u003c/td\u003e\n",
              "    \u003c/tr\u003e\n",
              "    \u003ctr\u003e\n",
              "      \u003cth\u003e8\u003c/th\u003e\n",
              "      \u003ctd\u003e1469974604\u003c/td\u003e\n",
              "      \u003ctd\u003echeryl\u003c/td\u003e\n",
              "      \u003ctd\u003eintro.html\u003c/td\u003e\n",
              "      \u003ctd\u003e11\u003c/td\u003e\n",
              "      \u003ctd\u003eNaN\u003c/td\u003e\n",
              "      \u003ctd\u003eNaN\u003c/td\u003e\n",
              "    \u003c/tr\u003e\n",
              "    \u003ctr\u003e\n",
              "      \u003cth\u003e9\u003c/th\u003e\n",
              "      \u003ctd\u003e1469974694\u003c/td\u003e\n",
              "      \u003ctd\u003echeryl\u003c/td\u003e\n",
              "      \u003ctd\u003eintro.html\u003c/td\u003e\n",
              "      \u003ctd\u003e14\u003c/td\u003e\n",
              "      \u003ctd\u003eNaN\u003c/td\u003e\n",
              "      \u003ctd\u003eNaN\u003c/td\u003e\n",
              "    \u003c/tr\u003e\n",
              "    \u003ctr\u003e\n",
              "      \u003cth\u003e10\u003c/th\u003e\n",
              "      \u003ctd\u003e1469974724\u003c/td\u003e\n",
              "      \u003ctd\u003echeryl\u003c/td\u003e\n",
              "      \u003ctd\u003eintro.html\u003c/td\u003e\n",
              "      \u003ctd\u003e15\u003c/td\u003e\n",
              "      \u003ctd\u003eNaN\u003c/td\u003e\n",
              "      \u003ctd\u003eNaN\u003c/td\u003e\n",
              "    \u003c/tr\u003e\n",
              "    \u003ctr\u003e\n",
              "      \u003cth\u003e11\u003c/th\u003e\n",
              "      \u003ctd\u003e1469974454\u003c/td\u003e\n",
              "      \u003ctd\u003esue\u003c/td\u003e\n",
              "      \u003ctd\u003eadvanced.html\u003c/td\u003e\n",
              "      \u003ctd\u003e24\u003c/td\u003e\n",
              "      \u003ctd\u003eNaN\u003c/td\u003e\n",
              "      \u003ctd\u003eNaN\u003c/td\u003e\n",
              "    \u003c/tr\u003e\n",
              "    \u003ctr\u003e\n",
              "      \u003cth\u003e12\u003c/th\u003e\n",
              "      \u003ctd\u003e1469974524\u003c/td\u003e\n",
              "      \u003ctd\u003esue\u003c/td\u003e\n",
              "      \u003ctd\u003eadvanced.html\u003c/td\u003e\n",
              "      \u003ctd\u003e25\u003c/td\u003e\n",
              "      \u003ctd\u003eNaN\u003c/td\u003e\n",
              "      \u003ctd\u003eNaN\u003c/td\u003e\n",
              "    \u003c/tr\u003e\n",
              "    \u003ctr\u003e\n",
              "      \u003cth\u003e13\u003c/th\u003e\n",
              "      \u003ctd\u003e1469974424\u003c/td\u003e\n",
              "      \u003ctd\u003esue\u003c/td\u003e\n",
              "      \u003ctd\u003eadvanced.html\u003c/td\u003e\n",
              "      \u003ctd\u003e23\u003c/td\u003e\n",
              "      \u003ctd\u003eFalse\u003c/td\u003e\n",
              "      \u003ctd\u003e10.0\u003c/td\u003e\n",
              "    \u003c/tr\u003e\n",
              "    \u003ctr\u003e\n",
              "      \u003cth\u003e14\u003c/th\u003e\n",
              "      \u003ctd\u003e1469974554\u003c/td\u003e\n",
              "      \u003ctd\u003esue\u003c/td\u003e\n",
              "      \u003ctd\u003eadvanced.html\u003c/td\u003e\n",
              "      \u003ctd\u003e26\u003c/td\u003e\n",
              "      \u003ctd\u003eNaN\u003c/td\u003e\n",
              "      \u003ctd\u003eNaN\u003c/td\u003e\n",
              "    \u003c/tr\u003e\n",
              "    \u003ctr\u003e\n",
              "      \u003cth\u003e15\u003c/th\u003e\n",
              "      \u003ctd\u003e1469974624\u003c/td\u003e\n",
              "      \u003ctd\u003esue\u003c/td\u003e\n",
              "      \u003ctd\u003eadvanced.html\u003c/td\u003e\n",
              "      \u003ctd\u003e27\u003c/td\u003e\n",
              "      \u003ctd\u003eNaN\u003c/td\u003e\n",
              "      \u003ctd\u003eNaN\u003c/td\u003e\n",
              "    \u003c/tr\u003e\n",
              "    \u003ctr\u003e\n",
              "      \u003cth\u003e16\u003c/th\u003e\n",
              "      \u003ctd\u003e1469974654\u003c/td\u003e\n",
              "      \u003ctd\u003esue\u003c/td\u003e\n",
              "      \u003ctd\u003eadvanced.html\u003c/td\u003e\n",
              "      \u003ctd\u003e28\u003c/td\u003e\n",
              "      \u003ctd\u003eNaN\u003c/td\u003e\n",
              "      \u003ctd\u003e5.0\u003c/td\u003e\n",
              "    \u003c/tr\u003e\n",
              "    \u003ctr\u003e\n",
              "      \u003cth\u003e17\u003c/th\u003e\n",
              "      \u003ctd\u003e1469974724\u003c/td\u003e\n",
              "      \u003ctd\u003esue\u003c/td\u003e\n",
              "      \u003ctd\u003eadvanced.html\u003c/td\u003e\n",
              "      \u003ctd\u003e29\u003c/td\u003e\n",
              "      \u003ctd\u003eNaN\u003c/td\u003e\n",
              "      \u003ctd\u003eNaN\u003c/td\u003e\n",
              "    \u003c/tr\u003e\n",
              "    \u003ctr\u003e\n",
              "      \u003cth\u003e18\u003c/th\u003e\n",
              "      \u003ctd\u003e1469974484\u003c/td\u003e\n",
              "      \u003ctd\u003echeryl\u003c/td\u003e\n",
              "      \u003ctd\u003eintro.html\u003c/td\u003e\n",
              "      \u003ctd\u003e7\u003c/td\u003e\n",
              "      \u003ctd\u003eNaN\u003c/td\u003e\n",
              "      \u003ctd\u003eNaN\u003c/td\u003e\n",
              "    \u003c/tr\u003e\n",
              "    \u003ctr\u003e\n",
              "      \u003cth\u003e19\u003c/th\u003e\n",
              "      \u003ctd\u003e1469974514\u003c/td\u003e\n",
              "      \u003ctd\u003echeryl\u003c/td\u003e\n",
              "      \u003ctd\u003eintro.html\u003c/td\u003e\n",
              "      \u003ctd\u003e8\u003c/td\u003e\n",
              "      \u003ctd\u003eNaN\u003c/td\u003e\n",
              "      \u003ctd\u003eNaN\u003c/td\u003e\n",
              "    \u003c/tr\u003e\n",
              "    \u003ctr\u003e\n",
              "      \u003cth\u003e20\u003c/th\u003e\n",
              "      \u003ctd\u003e1469974754\u003c/td\u003e\n",
              "      \u003ctd\u003esue\u003c/td\u003e\n",
              "      \u003ctd\u003eadvanced.html\u003c/td\u003e\n",
              "      \u003ctd\u003e30\u003c/td\u003e\n",
              "      \u003ctd\u003eNaN\u003c/td\u003e\n",
              "      \u003ctd\u003eNaN\u003c/td\u003e\n",
              "    \u003c/tr\u003e\n",
              "    \u003ctr\u003e\n",
              "      \u003cth\u003e21\u003c/th\u003e\n",
              "      \u003ctd\u003e1469974824\u003c/td\u003e\n",
              "      \u003ctd\u003esue\u003c/td\u003e\n",
              "      \u003ctd\u003eadvanced.html\u003c/td\u003e\n",
              "      \u003ctd\u003e31\u003c/td\u003e\n",
              "      \u003ctd\u003eNaN\u003c/td\u003e\n",
              "      \u003ctd\u003eNaN\u003c/td\u003e\n",
              "    \u003c/tr\u003e\n",
              "    \u003ctr\u003e\n",
              "      \u003cth\u003e22\u003c/th\u003e\n",
              "      \u003ctd\u003e1469974854\u003c/td\u003e\n",
              "      \u003ctd\u003esue\u003c/td\u003e\n",
              "      \u003ctd\u003eadvanced.html\u003c/td\u003e\n",
              "      \u003ctd\u003e32\u003c/td\u003e\n",
              "      \u003ctd\u003eNaN\u003c/td\u003e\n",
              "      \u003ctd\u003eNaN\u003c/td\u003e\n",
              "    \u003c/tr\u003e\n",
              "    \u003ctr\u003e\n",
              "      \u003cth\u003e23\u003c/th\u003e\n",
              "      \u003ctd\u003e1469974924\u003c/td\u003e\n",
              "      \u003ctd\u003esue\u003c/td\u003e\n",
              "      \u003ctd\u003eadvanced.html\u003c/td\u003e\n",
              "      \u003ctd\u003e33\u003c/td\u003e\n",
              "      \u003ctd\u003eNaN\u003c/td\u003e\n",
              "      \u003ctd\u003eNaN\u003c/td\u003e\n",
              "    \u003c/tr\u003e\n",
              "    \u003ctr\u003e\n",
              "      \u003cth\u003e24\u003c/th\u003e\n",
              "      \u003ctd\u003e1469977424\u003c/td\u003e\n",
              "      \u003ctd\u003ebob\u003c/td\u003e\n",
              "      \u003ctd\u003eintro.html\u003c/td\u003e\n",
              "      \u003ctd\u003e1\u003c/td\u003e\n",
              "      \u003ctd\u003eTrue\u003c/td\u003e\n",
              "      \u003ctd\u003e10.0\u003c/td\u003e\n",
              "    \u003c/tr\u003e\n",
              "    \u003ctr\u003e\n",
              "      \u003cth\u003e25\u003c/th\u003e\n",
              "      \u003ctd\u003e1469977454\u003c/td\u003e\n",
              "      \u003ctd\u003ebob\u003c/td\u003e\n",
              "      \u003ctd\u003eintro.html\u003c/td\u003e\n",
              "      \u003ctd\u003e1\u003c/td\u003e\n",
              "      \u003ctd\u003eNaN\u003c/td\u003e\n",
              "      \u003ctd\u003eNaN\u003c/td\u003e\n",
              "    \u003c/tr\u003e\n",
              "    \u003ctr\u003e\n",
              "      \u003cth\u003e26\u003c/th\u003e\n",
              "      \u003ctd\u003e1469977484\u003c/td\u003e\n",
              "      \u003ctd\u003ebob\u003c/td\u003e\n",
              "      \u003ctd\u003eintro.html\u003c/td\u003e\n",
              "      \u003ctd\u003e1\u003c/td\u003e\n",
              "      \u003ctd\u003eNaN\u003c/td\u003e\n",
              "      \u003ctd\u003eNaN\u003c/td\u003e\n",
              "    \u003c/tr\u003e\n",
              "    \u003ctr\u003e\n",
              "      \u003cth\u003e27\u003c/th\u003e\n",
              "      \u003ctd\u003e1469977634\u003c/td\u003e\n",
              "      \u003ctd\u003ebob\u003c/td\u003e\n",
              "      \u003ctd\u003eintro.html\u003c/td\u003e\n",
              "      \u003ctd\u003e1\u003c/td\u003e\n",
              "      \u003ctd\u003eNaN\u003c/td\u003e\n",
              "      \u003ctd\u003eNaN\u003c/td\u003e\n",
              "    \u003c/tr\u003e\n",
              "    \u003ctr\u003e\n",
              "      \u003cth\u003e28\u003c/th\u003e\n",
              "      \u003ctd\u003e1469977664\u003c/td\u003e\n",
              "      \u003ctd\u003ebob\u003c/td\u003e\n",
              "      \u003ctd\u003eintro.html\u003c/td\u003e\n",
              "      \u003ctd\u003e1\u003c/td\u003e\n",
              "      \u003ctd\u003eNaN\u003c/td\u003e\n",
              "      \u003ctd\u003eNaN\u003c/td\u003e\n",
              "    \u003c/tr\u003e\n",
              "    \u003ctr\u003e\n",
              "      \u003cth\u003e29\u003c/th\u003e\n",
              "      \u003ctd\u003e1469974634\u003c/td\u003e\n",
              "      \u003ctd\u003echeryl\u003c/td\u003e\n",
              "      \u003ctd\u003eintro.html\u003c/td\u003e\n",
              "      \u003ctd\u003e12\u003c/td\u003e\n",
              "      \u003ctd\u003eNaN\u003c/td\u003e\n",
              "      \u003ctd\u003eNaN\u003c/td\u003e\n",
              "    \u003c/tr\u003e\n",
              "    \u003ctr\u003e\n",
              "      \u003cth\u003e30\u003c/th\u003e\n",
              "      \u003ctd\u003e1469974664\u003c/td\u003e\n",
              "      \u003ctd\u003echeryl\u003c/td\u003e\n",
              "      \u003ctd\u003eintro.html\u003c/td\u003e\n",
              "      \u003ctd\u003e13\u003c/td\u003e\n",
              "      \u003ctd\u003eNaN\u003c/td\u003e\n",
              "      \u003ctd\u003eNaN\u003c/td\u003e\n",
              "    \u003c/tr\u003e\n",
              "    \u003ctr\u003e\n",
              "      \u003cth\u003e31\u003c/th\u003e\n",
              "      \u003ctd\u003e1469977694\u003c/td\u003e\n",
              "      \u003ctd\u003ebob\u003c/td\u003e\n",
              "      \u003ctd\u003eintro.html\u003c/td\u003e\n",
              "      \u003ctd\u003e1\u003c/td\u003e\n",
              "      \u003ctd\u003eNaN\u003c/td\u003e\n",
              "      \u003ctd\u003eNaN\u003c/td\u003e\n",
              "    \u003c/tr\u003e\n",
              "    \u003ctr\u003e\n",
              "      \u003cth\u003e32\u003c/th\u003e\n",
              "      \u003ctd\u003e1469977724\u003c/td\u003e\n",
              "      \u003ctd\u003ebob\u003c/td\u003e\n",
              "      \u003ctd\u003eintro.html\u003c/td\u003e\n",
              "      \u003ctd\u003e1\u003c/td\u003e\n",
              "      \u003ctd\u003eNaN\u003c/td\u003e\n",
              "      \u003ctd\u003eNaN\u003c/td\u003e\n",
              "    \u003c/tr\u003e\n",
              "  \u003c/tbody\u003e\n",
              "\u003c/table\u003e\n",
              "\u003c/div\u003e"
            ],
            "text/plain": [
              "          time    user          video  playback position paused  volume\n",
              "0   1469974424  cheryl     intro.html                  5  False    10.0\n",
              "1   1469974454  cheryl     intro.html                  6    NaN     NaN\n",
              "2   1469974544  cheryl     intro.html                  9    NaN     NaN\n",
              "3   1469974574  cheryl     intro.html                 10    NaN     NaN\n",
              "4   1469977514     bob     intro.html                  1    NaN     NaN\n",
              "5   1469977544     bob     intro.html                  1    NaN     NaN\n",
              "6   1469977574     bob     intro.html                  1    NaN     NaN\n",
              "7   1469977604     bob     intro.html                  1    NaN     NaN\n",
              "8   1469974604  cheryl     intro.html                 11    NaN     NaN\n",
              "9   1469974694  cheryl     intro.html                 14    NaN     NaN\n",
              "10  1469974724  cheryl     intro.html                 15    NaN     NaN\n",
              "11  1469974454     sue  advanced.html                 24    NaN     NaN\n",
              "12  1469974524     sue  advanced.html                 25    NaN     NaN\n",
              "13  1469974424     sue  advanced.html                 23  False    10.0\n",
              "14  1469974554     sue  advanced.html                 26    NaN     NaN\n",
              "15  1469974624     sue  advanced.html                 27    NaN     NaN\n",
              "16  1469974654     sue  advanced.html                 28    NaN     5.0\n",
              "17  1469974724     sue  advanced.html                 29    NaN     NaN\n",
              "18  1469974484  cheryl     intro.html                  7    NaN     NaN\n",
              "19  1469974514  cheryl     intro.html                  8    NaN     NaN\n",
              "20  1469974754     sue  advanced.html                 30    NaN     NaN\n",
              "21  1469974824     sue  advanced.html                 31    NaN     NaN\n",
              "22  1469974854     sue  advanced.html                 32    NaN     NaN\n",
              "23  1469974924     sue  advanced.html                 33    NaN     NaN\n",
              "24  1469977424     bob     intro.html                  1   True    10.0\n",
              "25  1469977454     bob     intro.html                  1    NaN     NaN\n",
              "26  1469977484     bob     intro.html                  1    NaN     NaN\n",
              "27  1469977634     bob     intro.html                  1    NaN     NaN\n",
              "28  1469977664     bob     intro.html                  1    NaN     NaN\n",
              "29  1469974634  cheryl     intro.html                 12    NaN     NaN\n",
              "30  1469974664  cheryl     intro.html                 13    NaN     NaN\n",
              "31  1469977694     bob     intro.html                  1    NaN     NaN\n",
              "32  1469977724     bob     intro.html                  1    NaN     NaN"
            ]
          },
          "metadata": {
            "tags": []
          },
          "execution_count": 101
        }
      ]
    },
    {
      "metadata": {
        "id": "a0LFAzokBZxX",
        "colab_type": "code",
        "colab": {},
        "pycharm": {}
      },
      "cell_type": "code",
      "source": [
        "df.fillna?"
      ],
      "execution_count": 0,
      "outputs": []
    },
    {
      "metadata": {
        "id": "eZiSDzKzBZxY",
        "colab_type": "code",
        "outputId": "a96839dc-2b31-4193-8591-23793d0a8f67",
        "executionInfo": {
          "status": "ok",
          "timestamp": 1555005573983,
          "user_tz": 300,
          "elapsed": 417,
          "user": {
            "displayName": "David Tan",
            "photoUrl": "",
            "userId": "15726769250755126620"
          }
        },
        "colab": {
          "base_uri": "https://localhost:8080/",
          "height": 1103
        },
        "pycharm": {}
      },
      "cell_type": "code",
      "source": [
        "df \u003d df.set_index(\u0027time\u0027)\n",
        "df \u003d df.sort_index()\n",
        "df"
      ],
      "execution_count": 0,
      "outputs": [
        {
          "output_type": "execute_result",
          "data": {
            "text/html": [
              "\u003cdiv\u003e\n",
              "\u003cstyle scoped\u003e\n",
              "    .dataframe tbody tr th:only-of-type {\n",
              "        vertical-align: middle;\n",
              "    }\n",
              "\n",
              "    .dataframe tbody tr th {\n",
              "        vertical-align: top;\n",
              "    }\n",
              "\n",
              "    .dataframe thead th {\n",
              "        text-align: right;\n",
              "    }\n",
              "\u003c/style\u003e\n",
              "\u003ctable border\u003d\"1\" class\u003d\"dataframe\"\u003e\n",
              "  \u003cthead\u003e\n",
              "    \u003ctr style\u003d\"text-align: right;\"\u003e\n",
              "      \u003cth\u003e\u003c/th\u003e\n",
              "      \u003cth\u003euser\u003c/th\u003e\n",
              "      \u003cth\u003evideo\u003c/th\u003e\n",
              "      \u003cth\u003eplayback position\u003c/th\u003e\n",
              "      \u003cth\u003epaused\u003c/th\u003e\n",
              "      \u003cth\u003evolume\u003c/th\u003e\n",
              "    \u003c/tr\u003e\n",
              "    \u003ctr\u003e\n",
              "      \u003cth\u003etime\u003c/th\u003e\n",
              "      \u003cth\u003e\u003c/th\u003e\n",
              "      \u003cth\u003e\u003c/th\u003e\n",
              "      \u003cth\u003e\u003c/th\u003e\n",
              "      \u003cth\u003e\u003c/th\u003e\n",
              "      \u003cth\u003e\u003c/th\u003e\n",
              "    \u003c/tr\u003e\n",
              "  \u003c/thead\u003e\n",
              "  \u003ctbody\u003e\n",
              "    \u003ctr\u003e\n",
              "      \u003cth\u003e1469974424\u003c/th\u003e\n",
              "      \u003ctd\u003echeryl\u003c/td\u003e\n",
              "      \u003ctd\u003eintro.html\u003c/td\u003e\n",
              "      \u003ctd\u003e5\u003c/td\u003e\n",
              "      \u003ctd\u003eFalse\u003c/td\u003e\n",
              "      \u003ctd\u003e10.0\u003c/td\u003e\n",
              "    \u003c/tr\u003e\n",
              "    \u003ctr\u003e\n",
              "      \u003cth\u003e1469974424\u003c/th\u003e\n",
              "      \u003ctd\u003esue\u003c/td\u003e\n",
              "      \u003ctd\u003eadvanced.html\u003c/td\u003e\n",
              "      \u003ctd\u003e23\u003c/td\u003e\n",
              "      \u003ctd\u003eFalse\u003c/td\u003e\n",
              "      \u003ctd\u003e10.0\u003c/td\u003e\n",
              "    \u003c/tr\u003e\n",
              "    \u003ctr\u003e\n",
              "      \u003cth\u003e1469974454\u003c/th\u003e\n",
              "      \u003ctd\u003echeryl\u003c/td\u003e\n",
              "      \u003ctd\u003eintro.html\u003c/td\u003e\n",
              "      \u003ctd\u003e6\u003c/td\u003e\n",
              "      \u003ctd\u003eNaN\u003c/td\u003e\n",
              "      \u003ctd\u003eNaN\u003c/td\u003e\n",
              "    \u003c/tr\u003e\n",
              "    \u003ctr\u003e\n",
              "      \u003cth\u003e1469974454\u003c/th\u003e\n",
              "      \u003ctd\u003esue\u003c/td\u003e\n",
              "      \u003ctd\u003eadvanced.html\u003c/td\u003e\n",
              "      \u003ctd\u003e24\u003c/td\u003e\n",
              "      \u003ctd\u003eNaN\u003c/td\u003e\n",
              "      \u003ctd\u003eNaN\u003c/td\u003e\n",
              "    \u003c/tr\u003e\n",
              "    \u003ctr\u003e\n",
              "      \u003cth\u003e1469974484\u003c/th\u003e\n",
              "      \u003ctd\u003echeryl\u003c/td\u003e\n",
              "      \u003ctd\u003eintro.html\u003c/td\u003e\n",
              "      \u003ctd\u003e7\u003c/td\u003e\n",
              "      \u003ctd\u003eNaN\u003c/td\u003e\n",
              "      \u003ctd\u003eNaN\u003c/td\u003e\n",
              "    \u003c/tr\u003e\n",
              "    \u003ctr\u003e\n",
              "      \u003cth\u003e1469974514\u003c/th\u003e\n",
              "      \u003ctd\u003echeryl\u003c/td\u003e\n",
              "      \u003ctd\u003eintro.html\u003c/td\u003e\n",
              "      \u003ctd\u003e8\u003c/td\u003e\n",
              "      \u003ctd\u003eNaN\u003c/td\u003e\n",
              "      \u003ctd\u003eNaN\u003c/td\u003e\n",
              "    \u003c/tr\u003e\n",
              "    \u003ctr\u003e\n",
              "      \u003cth\u003e1469974524\u003c/th\u003e\n",
              "      \u003ctd\u003esue\u003c/td\u003e\n",
              "      \u003ctd\u003eadvanced.html\u003c/td\u003e\n",
              "      \u003ctd\u003e25\u003c/td\u003e\n",
              "      \u003ctd\u003eNaN\u003c/td\u003e\n",
              "      \u003ctd\u003eNaN\u003c/td\u003e\n",
              "    \u003c/tr\u003e\n",
              "    \u003ctr\u003e\n",
              "      \u003cth\u003e1469974544\u003c/th\u003e\n",
              "      \u003ctd\u003echeryl\u003c/td\u003e\n",
              "      \u003ctd\u003eintro.html\u003c/td\u003e\n",
              "      \u003ctd\u003e9\u003c/td\u003e\n",
              "      \u003ctd\u003eNaN\u003c/td\u003e\n",
              "      \u003ctd\u003eNaN\u003c/td\u003e\n",
              "    \u003c/tr\u003e\n",
              "    \u003ctr\u003e\n",
              "      \u003cth\u003e1469974554\u003c/th\u003e\n",
              "      \u003ctd\u003esue\u003c/td\u003e\n",
              "      \u003ctd\u003eadvanced.html\u003c/td\u003e\n",
              "      \u003ctd\u003e26\u003c/td\u003e\n",
              "      \u003ctd\u003eNaN\u003c/td\u003e\n",
              "      \u003ctd\u003eNaN\u003c/td\u003e\n",
              "    \u003c/tr\u003e\n",
              "    \u003ctr\u003e\n",
              "      \u003cth\u003e1469974574\u003c/th\u003e\n",
              "      \u003ctd\u003echeryl\u003c/td\u003e\n",
              "      \u003ctd\u003eintro.html\u003c/td\u003e\n",
              "      \u003ctd\u003e10\u003c/td\u003e\n",
              "      \u003ctd\u003eNaN\u003c/td\u003e\n",
              "      \u003ctd\u003eNaN\u003c/td\u003e\n",
              "    \u003c/tr\u003e\n",
              "    \u003ctr\u003e\n",
              "      \u003cth\u003e1469974604\u003c/th\u003e\n",
              "      \u003ctd\u003echeryl\u003c/td\u003e\n",
              "      \u003ctd\u003eintro.html\u003c/td\u003e\n",
              "      \u003ctd\u003e11\u003c/td\u003e\n",
              "      \u003ctd\u003eNaN\u003c/td\u003e\n",
              "      \u003ctd\u003eNaN\u003c/td\u003e\n",
              "    \u003c/tr\u003e\n",
              "    \u003ctr\u003e\n",
              "      \u003cth\u003e1469974624\u003c/th\u003e\n",
              "      \u003ctd\u003esue\u003c/td\u003e\n",
              "      \u003ctd\u003eadvanced.html\u003c/td\u003e\n",
              "      \u003ctd\u003e27\u003c/td\u003e\n",
              "      \u003ctd\u003eNaN\u003c/td\u003e\n",
              "      \u003ctd\u003eNaN\u003c/td\u003e\n",
              "    \u003c/tr\u003e\n",
              "    \u003ctr\u003e\n",
              "      \u003cth\u003e1469974634\u003c/th\u003e\n",
              "      \u003ctd\u003echeryl\u003c/td\u003e\n",
              "      \u003ctd\u003eintro.html\u003c/td\u003e\n",
              "      \u003ctd\u003e12\u003c/td\u003e\n",
              "      \u003ctd\u003eNaN\u003c/td\u003e\n",
              "      \u003ctd\u003eNaN\u003c/td\u003e\n",
              "    \u003c/tr\u003e\n",
              "    \u003ctr\u003e\n",
              "      \u003cth\u003e1469974654\u003c/th\u003e\n",
              "      \u003ctd\u003esue\u003c/td\u003e\n",
              "      \u003ctd\u003eadvanced.html\u003c/td\u003e\n",
              "      \u003ctd\u003e28\u003c/td\u003e\n",
              "      \u003ctd\u003eNaN\u003c/td\u003e\n",
              "      \u003ctd\u003e5.0\u003c/td\u003e\n",
              "    \u003c/tr\u003e\n",
              "    \u003ctr\u003e\n",
              "      \u003cth\u003e1469974664\u003c/th\u003e\n",
              "      \u003ctd\u003echeryl\u003c/td\u003e\n",
              "      \u003ctd\u003eintro.html\u003c/td\u003e\n",
              "      \u003ctd\u003e13\u003c/td\u003e\n",
              "      \u003ctd\u003eNaN\u003c/td\u003e\n",
              "      \u003ctd\u003eNaN\u003c/td\u003e\n",
              "    \u003c/tr\u003e\n",
              "    \u003ctr\u003e\n",
              "      \u003cth\u003e1469974694\u003c/th\u003e\n",
              "      \u003ctd\u003echeryl\u003c/td\u003e\n",
              "      \u003ctd\u003eintro.html\u003c/td\u003e\n",
              "      \u003ctd\u003e14\u003c/td\u003e\n",
              "      \u003ctd\u003eNaN\u003c/td\u003e\n",
              "      \u003ctd\u003eNaN\u003c/td\u003e\n",
              "    \u003c/tr\u003e\n",
              "    \u003ctr\u003e\n",
              "      \u003cth\u003e1469974724\u003c/th\u003e\n",
              "      \u003ctd\u003echeryl\u003c/td\u003e\n",
              "      \u003ctd\u003eintro.html\u003c/td\u003e\n",
              "      \u003ctd\u003e15\u003c/td\u003e\n",
              "      \u003ctd\u003eNaN\u003c/td\u003e\n",
              "      \u003ctd\u003eNaN\u003c/td\u003e\n",
              "    \u003c/tr\u003e\n",
              "    \u003ctr\u003e\n",
              "      \u003cth\u003e1469974724\u003c/th\u003e\n",
              "      \u003ctd\u003esue\u003c/td\u003e\n",
              "      \u003ctd\u003eadvanced.html\u003c/td\u003e\n",
              "      \u003ctd\u003e29\u003c/td\u003e\n",
              "      \u003ctd\u003eNaN\u003c/td\u003e\n",
              "      \u003ctd\u003eNaN\u003c/td\u003e\n",
              "    \u003c/tr\u003e\n",
              "    \u003ctr\u003e\n",
              "      \u003cth\u003e1469974754\u003c/th\u003e\n",
              "      \u003ctd\u003esue\u003c/td\u003e\n",
              "      \u003ctd\u003eadvanced.html\u003c/td\u003e\n",
              "      \u003ctd\u003e30\u003c/td\u003e\n",
              "      \u003ctd\u003eNaN\u003c/td\u003e\n",
              "      \u003ctd\u003eNaN\u003c/td\u003e\n",
              "    \u003c/tr\u003e\n",
              "    \u003ctr\u003e\n",
              "      \u003cth\u003e1469974824\u003c/th\u003e\n",
              "      \u003ctd\u003esue\u003c/td\u003e\n",
              "      \u003ctd\u003eadvanced.html\u003c/td\u003e\n",
              "      \u003ctd\u003e31\u003c/td\u003e\n",
              "      \u003ctd\u003eNaN\u003c/td\u003e\n",
              "      \u003ctd\u003eNaN\u003c/td\u003e\n",
              "    \u003c/tr\u003e\n",
              "    \u003ctr\u003e\n",
              "      \u003cth\u003e1469974854\u003c/th\u003e\n",
              "      \u003ctd\u003esue\u003c/td\u003e\n",
              "      \u003ctd\u003eadvanced.html\u003c/td\u003e\n",
              "      \u003ctd\u003e32\u003c/td\u003e\n",
              "      \u003ctd\u003eNaN\u003c/td\u003e\n",
              "      \u003ctd\u003eNaN\u003c/td\u003e\n",
              "    \u003c/tr\u003e\n",
              "    \u003ctr\u003e\n",
              "      \u003cth\u003e1469974924\u003c/th\u003e\n",
              "      \u003ctd\u003esue\u003c/td\u003e\n",
              "      \u003ctd\u003eadvanced.html\u003c/td\u003e\n",
              "      \u003ctd\u003e33\u003c/td\u003e\n",
              "      \u003ctd\u003eNaN\u003c/td\u003e\n",
              "      \u003ctd\u003eNaN\u003c/td\u003e\n",
              "    \u003c/tr\u003e\n",
              "    \u003ctr\u003e\n",
              "      \u003cth\u003e1469977424\u003c/th\u003e\n",
              "      \u003ctd\u003ebob\u003c/td\u003e\n",
              "      \u003ctd\u003eintro.html\u003c/td\u003e\n",
              "      \u003ctd\u003e1\u003c/td\u003e\n",
              "      \u003ctd\u003eTrue\u003c/td\u003e\n",
              "      \u003ctd\u003e10.0\u003c/td\u003e\n",
              "    \u003c/tr\u003e\n",
              "    \u003ctr\u003e\n",
              "      \u003cth\u003e1469977454\u003c/th\u003e\n",
              "      \u003ctd\u003ebob\u003c/td\u003e\n",
              "      \u003ctd\u003eintro.html\u003c/td\u003e\n",
              "      \u003ctd\u003e1\u003c/td\u003e\n",
              "      \u003ctd\u003eNaN\u003c/td\u003e\n",
              "      \u003ctd\u003eNaN\u003c/td\u003e\n",
              "    \u003c/tr\u003e\n",
              "    \u003ctr\u003e\n",
              "      \u003cth\u003e1469977484\u003c/th\u003e\n",
              "      \u003ctd\u003ebob\u003c/td\u003e\n",
              "      \u003ctd\u003eintro.html\u003c/td\u003e\n",
              "      \u003ctd\u003e1\u003c/td\u003e\n",
              "      \u003ctd\u003eNaN\u003c/td\u003e\n",
              "      \u003ctd\u003eNaN\u003c/td\u003e\n",
              "    \u003c/tr\u003e\n",
              "    \u003ctr\u003e\n",
              "      \u003cth\u003e1469977514\u003c/th\u003e\n",
              "      \u003ctd\u003ebob\u003c/td\u003e\n",
              "      \u003ctd\u003eintro.html\u003c/td\u003e\n",
              "      \u003ctd\u003e1\u003c/td\u003e\n",
              "      \u003ctd\u003eNaN\u003c/td\u003e\n",
              "      \u003ctd\u003eNaN\u003c/td\u003e\n",
              "    \u003c/tr\u003e\n",
              "    \u003ctr\u003e\n",
              "      \u003cth\u003e1469977544\u003c/th\u003e\n",
              "      \u003ctd\u003ebob\u003c/td\u003e\n",
              "      \u003ctd\u003eintro.html\u003c/td\u003e\n",
              "      \u003ctd\u003e1\u003c/td\u003e\n",
              "      \u003ctd\u003eNaN\u003c/td\u003e\n",
              "      \u003ctd\u003eNaN\u003c/td\u003e\n",
              "    \u003c/tr\u003e\n",
              "    \u003ctr\u003e\n",
              "      \u003cth\u003e1469977574\u003c/th\u003e\n",
              "      \u003ctd\u003ebob\u003c/td\u003e\n",
              "      \u003ctd\u003eintro.html\u003c/td\u003e\n",
              "      \u003ctd\u003e1\u003c/td\u003e\n",
              "      \u003ctd\u003eNaN\u003c/td\u003e\n",
              "      \u003ctd\u003eNaN\u003c/td\u003e\n",
              "    \u003c/tr\u003e\n",
              "    \u003ctr\u003e\n",
              "      \u003cth\u003e1469977604\u003c/th\u003e\n",
              "      \u003ctd\u003ebob\u003c/td\u003e\n",
              "      \u003ctd\u003eintro.html\u003c/td\u003e\n",
              "      \u003ctd\u003e1\u003c/td\u003e\n",
              "      \u003ctd\u003eNaN\u003c/td\u003e\n",
              "      \u003ctd\u003eNaN\u003c/td\u003e\n",
              "    \u003c/tr\u003e\n",
              "    \u003ctr\u003e\n",
              "      \u003cth\u003e1469977634\u003c/th\u003e\n",
              "      \u003ctd\u003ebob\u003c/td\u003e\n",
              "      \u003ctd\u003eintro.html\u003c/td\u003e\n",
              "      \u003ctd\u003e1\u003c/td\u003e\n",
              "      \u003ctd\u003eNaN\u003c/td\u003e\n",
              "      \u003ctd\u003eNaN\u003c/td\u003e\n",
              "    \u003c/tr\u003e\n",
              "    \u003ctr\u003e\n",
              "      \u003cth\u003e1469977664\u003c/th\u003e\n",
              "      \u003ctd\u003ebob\u003c/td\u003e\n",
              "      \u003ctd\u003eintro.html\u003c/td\u003e\n",
              "      \u003ctd\u003e1\u003c/td\u003e\n",
              "      \u003ctd\u003eNaN\u003c/td\u003e\n",
              "      \u003ctd\u003eNaN\u003c/td\u003e\n",
              "    \u003c/tr\u003e\n",
              "    \u003ctr\u003e\n",
              "      \u003cth\u003e1469977694\u003c/th\u003e\n",
              "      \u003ctd\u003ebob\u003c/td\u003e\n",
              "      \u003ctd\u003eintro.html\u003c/td\u003e\n",
              "      \u003ctd\u003e1\u003c/td\u003e\n",
              "      \u003ctd\u003eNaN\u003c/td\u003e\n",
              "      \u003ctd\u003eNaN\u003c/td\u003e\n",
              "    \u003c/tr\u003e\n",
              "    \u003ctr\u003e\n",
              "      \u003cth\u003e1469977724\u003c/th\u003e\n",
              "      \u003ctd\u003ebob\u003c/td\u003e\n",
              "      \u003ctd\u003eintro.html\u003c/td\u003e\n",
              "      \u003ctd\u003e1\u003c/td\u003e\n",
              "      \u003ctd\u003eNaN\u003c/td\u003e\n",
              "      \u003ctd\u003eNaN\u003c/td\u003e\n",
              "    \u003c/tr\u003e\n",
              "  \u003c/tbody\u003e\n",
              "\u003c/table\u003e\n",
              "\u003c/div\u003e"
            ],
            "text/plain": [
              "              user          video  playback position paused  volume\n",
              "time                                                               \n",
              "1469974424  cheryl     intro.html                  5  False    10.0\n",
              "1469974424     sue  advanced.html                 23  False    10.0\n",
              "1469974454  cheryl     intro.html                  6    NaN     NaN\n",
              "1469974454     sue  advanced.html                 24    NaN     NaN\n",
              "1469974484  cheryl     intro.html                  7    NaN     NaN\n",
              "1469974514  cheryl     intro.html                  8    NaN     NaN\n",
              "1469974524     sue  advanced.html                 25    NaN     NaN\n",
              "1469974544  cheryl     intro.html                  9    NaN     NaN\n",
              "1469974554     sue  advanced.html                 26    NaN     NaN\n",
              "1469974574  cheryl     intro.html                 10    NaN     NaN\n",
              "1469974604  cheryl     intro.html                 11    NaN     NaN\n",
              "1469974624     sue  advanced.html                 27    NaN     NaN\n",
              "1469974634  cheryl     intro.html                 12    NaN     NaN\n",
              "1469974654     sue  advanced.html                 28    NaN     5.0\n",
              "1469974664  cheryl     intro.html                 13    NaN     NaN\n",
              "1469974694  cheryl     intro.html                 14    NaN     NaN\n",
              "1469974724  cheryl     intro.html                 15    NaN     NaN\n",
              "1469974724     sue  advanced.html                 29    NaN     NaN\n",
              "1469974754     sue  advanced.html                 30    NaN     NaN\n",
              "1469974824     sue  advanced.html                 31    NaN     NaN\n",
              "1469974854     sue  advanced.html                 32    NaN     NaN\n",
              "1469974924     sue  advanced.html                 33    NaN     NaN\n",
              "1469977424     bob     intro.html                  1   True    10.0\n",
              "1469977454     bob     intro.html                  1    NaN     NaN\n",
              "1469977484     bob     intro.html                  1    NaN     NaN\n",
              "1469977514     bob     intro.html                  1    NaN     NaN\n",
              "1469977544     bob     intro.html                  1    NaN     NaN\n",
              "1469977574     bob     intro.html                  1    NaN     NaN\n",
              "1469977604     bob     intro.html                  1    NaN     NaN\n",
              "1469977634     bob     intro.html                  1    NaN     NaN\n",
              "1469977664     bob     intro.html                  1    NaN     NaN\n",
              "1469977694     bob     intro.html                  1    NaN     NaN\n",
              "1469977724     bob     intro.html                  1    NaN     NaN"
            ]
          },
          "metadata": {
            "tags": []
          },
          "execution_count": 103
        }
      ]
    },
    {
      "metadata": {
        "id": "voyQXZglBZxZ",
        "colab_type": "code",
        "outputId": "d7958b5c-e647-48d4-9fc3-cf486be6c1a4",
        "executionInfo": {
          "status": "ok",
          "timestamp": 1555005578133,
          "user_tz": 300,
          "elapsed": 239,
          "user": {
            "displayName": "David Tan",
            "photoUrl": "",
            "userId": "15726769250755126620"
          }
        },
        "colab": {
          "base_uri": "https://localhost:8080/",
          "height": 1103
        },
        "pycharm": {}
      },
      "cell_type": "code",
      "source": [
        "df \u003d df.reset_index()\n",
        "df \u003d df.set_index([\u0027time\u0027, \u0027user\u0027])\n",
        "df"
      ],
      "execution_count": 0,
      "outputs": [
        {
          "output_type": "execute_result",
          "data": {
            "text/html": [
              "\u003cdiv\u003e\n",
              "\u003cstyle scoped\u003e\n",
              "    .dataframe tbody tr th:only-of-type {\n",
              "        vertical-align: middle;\n",
              "    }\n",
              "\n",
              "    .dataframe tbody tr th {\n",
              "        vertical-align: top;\n",
              "    }\n",
              "\n",
              "    .dataframe thead th {\n",
              "        text-align: right;\n",
              "    }\n",
              "\u003c/style\u003e\n",
              "\u003ctable border\u003d\"1\" class\u003d\"dataframe\"\u003e\n",
              "  \u003cthead\u003e\n",
              "    \u003ctr style\u003d\"text-align: right;\"\u003e\n",
              "      \u003cth\u003e\u003c/th\u003e\n",
              "      \u003cth\u003e\u003c/th\u003e\n",
              "      \u003cth\u003evideo\u003c/th\u003e\n",
              "      \u003cth\u003eplayback position\u003c/th\u003e\n",
              "      \u003cth\u003epaused\u003c/th\u003e\n",
              "      \u003cth\u003evolume\u003c/th\u003e\n",
              "    \u003c/tr\u003e\n",
              "    \u003ctr\u003e\n",
              "      \u003cth\u003etime\u003c/th\u003e\n",
              "      \u003cth\u003euser\u003c/th\u003e\n",
              "      \u003cth\u003e\u003c/th\u003e\n",
              "      \u003cth\u003e\u003c/th\u003e\n",
              "      \u003cth\u003e\u003c/th\u003e\n",
              "      \u003cth\u003e\u003c/th\u003e\n",
              "    \u003c/tr\u003e\n",
              "  \u003c/thead\u003e\n",
              "  \u003ctbody\u003e\n",
              "    \u003ctr\u003e\n",
              "      \u003cth rowspan\u003d\"2\" valign\u003d\"top\"\u003e1469974424\u003c/th\u003e\n",
              "      \u003cth\u003echeryl\u003c/th\u003e\n",
              "      \u003ctd\u003eintro.html\u003c/td\u003e\n",
              "      \u003ctd\u003e5\u003c/td\u003e\n",
              "      \u003ctd\u003eFalse\u003c/td\u003e\n",
              "      \u003ctd\u003e10.0\u003c/td\u003e\n",
              "    \u003c/tr\u003e\n",
              "    \u003ctr\u003e\n",
              "      \u003cth\u003esue\u003c/th\u003e\n",
              "      \u003ctd\u003eadvanced.html\u003c/td\u003e\n",
              "      \u003ctd\u003e23\u003c/td\u003e\n",
              "      \u003ctd\u003eFalse\u003c/td\u003e\n",
              "      \u003ctd\u003e10.0\u003c/td\u003e\n",
              "    \u003c/tr\u003e\n",
              "    \u003ctr\u003e\n",
              "      \u003cth rowspan\u003d\"2\" valign\u003d\"top\"\u003e1469974454\u003c/th\u003e\n",
              "      \u003cth\u003echeryl\u003c/th\u003e\n",
              "      \u003ctd\u003eintro.html\u003c/td\u003e\n",
              "      \u003ctd\u003e6\u003c/td\u003e\n",
              "      \u003ctd\u003eNaN\u003c/td\u003e\n",
              "      \u003ctd\u003eNaN\u003c/td\u003e\n",
              "    \u003c/tr\u003e\n",
              "    \u003ctr\u003e\n",
              "      \u003cth\u003esue\u003c/th\u003e\n",
              "      \u003ctd\u003eadvanced.html\u003c/td\u003e\n",
              "      \u003ctd\u003e24\u003c/td\u003e\n",
              "      \u003ctd\u003eNaN\u003c/td\u003e\n",
              "      \u003ctd\u003eNaN\u003c/td\u003e\n",
              "    \u003c/tr\u003e\n",
              "    \u003ctr\u003e\n",
              "      \u003cth\u003e1469974484\u003c/th\u003e\n",
              "      \u003cth\u003echeryl\u003c/th\u003e\n",
              "      \u003ctd\u003eintro.html\u003c/td\u003e\n",
              "      \u003ctd\u003e7\u003c/td\u003e\n",
              "      \u003ctd\u003eNaN\u003c/td\u003e\n",
              "      \u003ctd\u003eNaN\u003c/td\u003e\n",
              "    \u003c/tr\u003e\n",
              "    \u003ctr\u003e\n",
              "      \u003cth\u003e1469974514\u003c/th\u003e\n",
              "      \u003cth\u003echeryl\u003c/th\u003e\n",
              "      \u003ctd\u003eintro.html\u003c/td\u003e\n",
              "      \u003ctd\u003e8\u003c/td\u003e\n",
              "      \u003ctd\u003eNaN\u003c/td\u003e\n",
              "      \u003ctd\u003eNaN\u003c/td\u003e\n",
              "    \u003c/tr\u003e\n",
              "    \u003ctr\u003e\n",
              "      \u003cth\u003e1469974524\u003c/th\u003e\n",
              "      \u003cth\u003esue\u003c/th\u003e\n",
              "      \u003ctd\u003eadvanced.html\u003c/td\u003e\n",
              "      \u003ctd\u003e25\u003c/td\u003e\n",
              "      \u003ctd\u003eNaN\u003c/td\u003e\n",
              "      \u003ctd\u003eNaN\u003c/td\u003e\n",
              "    \u003c/tr\u003e\n",
              "    \u003ctr\u003e\n",
              "      \u003cth\u003e1469974544\u003c/th\u003e\n",
              "      \u003cth\u003echeryl\u003c/th\u003e\n",
              "      \u003ctd\u003eintro.html\u003c/td\u003e\n",
              "      \u003ctd\u003e9\u003c/td\u003e\n",
              "      \u003ctd\u003eNaN\u003c/td\u003e\n",
              "      \u003ctd\u003eNaN\u003c/td\u003e\n",
              "    \u003c/tr\u003e\n",
              "    \u003ctr\u003e\n",
              "      \u003cth\u003e1469974554\u003c/th\u003e\n",
              "      \u003cth\u003esue\u003c/th\u003e\n",
              "      \u003ctd\u003eadvanced.html\u003c/td\u003e\n",
              "      \u003ctd\u003e26\u003c/td\u003e\n",
              "      \u003ctd\u003eNaN\u003c/td\u003e\n",
              "      \u003ctd\u003eNaN\u003c/td\u003e\n",
              "    \u003c/tr\u003e\n",
              "    \u003ctr\u003e\n",
              "      \u003cth\u003e1469974574\u003c/th\u003e\n",
              "      \u003cth\u003echeryl\u003c/th\u003e\n",
              "      \u003ctd\u003eintro.html\u003c/td\u003e\n",
              "      \u003ctd\u003e10\u003c/td\u003e\n",
              "      \u003ctd\u003eNaN\u003c/td\u003e\n",
              "      \u003ctd\u003eNaN\u003c/td\u003e\n",
              "    \u003c/tr\u003e\n",
              "    \u003ctr\u003e\n",
              "      \u003cth\u003e1469974604\u003c/th\u003e\n",
              "      \u003cth\u003echeryl\u003c/th\u003e\n",
              "      \u003ctd\u003eintro.html\u003c/td\u003e\n",
              "      \u003ctd\u003e11\u003c/td\u003e\n",
              "      \u003ctd\u003eNaN\u003c/td\u003e\n",
              "      \u003ctd\u003eNaN\u003c/td\u003e\n",
              "    \u003c/tr\u003e\n",
              "    \u003ctr\u003e\n",
              "      \u003cth\u003e1469974624\u003c/th\u003e\n",
              "      \u003cth\u003esue\u003c/th\u003e\n",
              "      \u003ctd\u003eadvanced.html\u003c/td\u003e\n",
              "      \u003ctd\u003e27\u003c/td\u003e\n",
              "      \u003ctd\u003eNaN\u003c/td\u003e\n",
              "      \u003ctd\u003eNaN\u003c/td\u003e\n",
              "    \u003c/tr\u003e\n",
              "    \u003ctr\u003e\n",
              "      \u003cth\u003e1469974634\u003c/th\u003e\n",
              "      \u003cth\u003echeryl\u003c/th\u003e\n",
              "      \u003ctd\u003eintro.html\u003c/td\u003e\n",
              "      \u003ctd\u003e12\u003c/td\u003e\n",
              "      \u003ctd\u003eNaN\u003c/td\u003e\n",
              "      \u003ctd\u003eNaN\u003c/td\u003e\n",
              "    \u003c/tr\u003e\n",
              "    \u003ctr\u003e\n",
              "      \u003cth\u003e1469974654\u003c/th\u003e\n",
              "      \u003cth\u003esue\u003c/th\u003e\n",
              "      \u003ctd\u003eadvanced.html\u003c/td\u003e\n",
              "      \u003ctd\u003e28\u003c/td\u003e\n",
              "      \u003ctd\u003eNaN\u003c/td\u003e\n",
              "      \u003ctd\u003e5.0\u003c/td\u003e\n",
              "    \u003c/tr\u003e\n",
              "    \u003ctr\u003e\n",
              "      \u003cth\u003e1469974664\u003c/th\u003e\n",
              "      \u003cth\u003echeryl\u003c/th\u003e\n",
              "      \u003ctd\u003eintro.html\u003c/td\u003e\n",
              "      \u003ctd\u003e13\u003c/td\u003e\n",
              "      \u003ctd\u003eNaN\u003c/td\u003e\n",
              "      \u003ctd\u003eNaN\u003c/td\u003e\n",
              "    \u003c/tr\u003e\n",
              "    \u003ctr\u003e\n",
              "      \u003cth\u003e1469974694\u003c/th\u003e\n",
              "      \u003cth\u003echeryl\u003c/th\u003e\n",
              "      \u003ctd\u003eintro.html\u003c/td\u003e\n",
              "      \u003ctd\u003e14\u003c/td\u003e\n",
              "      \u003ctd\u003eNaN\u003c/td\u003e\n",
              "      \u003ctd\u003eNaN\u003c/td\u003e\n",
              "    \u003c/tr\u003e\n",
              "    \u003ctr\u003e\n",
              "      \u003cth rowspan\u003d\"2\" valign\u003d\"top\"\u003e1469974724\u003c/th\u003e\n",
              "      \u003cth\u003echeryl\u003c/th\u003e\n",
              "      \u003ctd\u003eintro.html\u003c/td\u003e\n",
              "      \u003ctd\u003e15\u003c/td\u003e\n",
              "      \u003ctd\u003eNaN\u003c/td\u003e\n",
              "      \u003ctd\u003eNaN\u003c/td\u003e\n",
              "    \u003c/tr\u003e\n",
              "    \u003ctr\u003e\n",
              "      \u003cth\u003esue\u003c/th\u003e\n",
              "      \u003ctd\u003eadvanced.html\u003c/td\u003e\n",
              "      \u003ctd\u003e29\u003c/td\u003e\n",
              "      \u003ctd\u003eNaN\u003c/td\u003e\n",
              "      \u003ctd\u003eNaN\u003c/td\u003e\n",
              "    \u003c/tr\u003e\n",
              "    \u003ctr\u003e\n",
              "      \u003cth\u003e1469974754\u003c/th\u003e\n",
              "      \u003cth\u003esue\u003c/th\u003e\n",
              "      \u003ctd\u003eadvanced.html\u003c/td\u003e\n",
              "      \u003ctd\u003e30\u003c/td\u003e\n",
              "      \u003ctd\u003eNaN\u003c/td\u003e\n",
              "      \u003ctd\u003eNaN\u003c/td\u003e\n",
              "    \u003c/tr\u003e\n",
              "    \u003ctr\u003e\n",
              "      \u003cth\u003e1469974824\u003c/th\u003e\n",
              "      \u003cth\u003esue\u003c/th\u003e\n",
              "      \u003ctd\u003eadvanced.html\u003c/td\u003e\n",
              "      \u003ctd\u003e31\u003c/td\u003e\n",
              "      \u003ctd\u003eNaN\u003c/td\u003e\n",
              "      \u003ctd\u003eNaN\u003c/td\u003e\n",
              "    \u003c/tr\u003e\n",
              "    \u003ctr\u003e\n",
              "      \u003cth\u003e1469974854\u003c/th\u003e\n",
              "      \u003cth\u003esue\u003c/th\u003e\n",
              "      \u003ctd\u003eadvanced.html\u003c/td\u003e\n",
              "      \u003ctd\u003e32\u003c/td\u003e\n",
              "      \u003ctd\u003eNaN\u003c/td\u003e\n",
              "      \u003ctd\u003eNaN\u003c/td\u003e\n",
              "    \u003c/tr\u003e\n",
              "    \u003ctr\u003e\n",
              "      \u003cth\u003e1469974924\u003c/th\u003e\n",
              "      \u003cth\u003esue\u003c/th\u003e\n",
              "      \u003ctd\u003eadvanced.html\u003c/td\u003e\n",
              "      \u003ctd\u003e33\u003c/td\u003e\n",
              "      \u003ctd\u003eNaN\u003c/td\u003e\n",
              "      \u003ctd\u003eNaN\u003c/td\u003e\n",
              "    \u003c/tr\u003e\n",
              "    \u003ctr\u003e\n",
              "      \u003cth\u003e1469977424\u003c/th\u003e\n",
              "      \u003cth\u003ebob\u003c/th\u003e\n",
              "      \u003ctd\u003eintro.html\u003c/td\u003e\n",
              "      \u003ctd\u003e1\u003c/td\u003e\n",
              "      \u003ctd\u003eTrue\u003c/td\u003e\n",
              "      \u003ctd\u003e10.0\u003c/td\u003e\n",
              "    \u003c/tr\u003e\n",
              "    \u003ctr\u003e\n",
              "      \u003cth\u003e1469977454\u003c/th\u003e\n",
              "      \u003cth\u003ebob\u003c/th\u003e\n",
              "      \u003ctd\u003eintro.html\u003c/td\u003e\n",
              "      \u003ctd\u003e1\u003c/td\u003e\n",
              "      \u003ctd\u003eNaN\u003c/td\u003e\n",
              "      \u003ctd\u003eNaN\u003c/td\u003e\n",
              "    \u003c/tr\u003e\n",
              "    \u003ctr\u003e\n",
              "      \u003cth\u003e1469977484\u003c/th\u003e\n",
              "      \u003cth\u003ebob\u003c/th\u003e\n",
              "      \u003ctd\u003eintro.html\u003c/td\u003e\n",
              "      \u003ctd\u003e1\u003c/td\u003e\n",
              "      \u003ctd\u003eNaN\u003c/td\u003e\n",
              "      \u003ctd\u003eNaN\u003c/td\u003e\n",
              "    \u003c/tr\u003e\n",
              "    \u003ctr\u003e\n",
              "      \u003cth\u003e1469977514\u003c/th\u003e\n",
              "      \u003cth\u003ebob\u003c/th\u003e\n",
              "      \u003ctd\u003eintro.html\u003c/td\u003e\n",
              "      \u003ctd\u003e1\u003c/td\u003e\n",
              "      \u003ctd\u003eNaN\u003c/td\u003e\n",
              "      \u003ctd\u003eNaN\u003c/td\u003e\n",
              "    \u003c/tr\u003e\n",
              "    \u003ctr\u003e\n",
              "      \u003cth\u003e1469977544\u003c/th\u003e\n",
              "      \u003cth\u003ebob\u003c/th\u003e\n",
              "      \u003ctd\u003eintro.html\u003c/td\u003e\n",
              "      \u003ctd\u003e1\u003c/td\u003e\n",
              "      \u003ctd\u003eNaN\u003c/td\u003e\n",
              "      \u003ctd\u003eNaN\u003c/td\u003e\n",
              "    \u003c/tr\u003e\n",
              "    \u003ctr\u003e\n",
              "      \u003cth\u003e1469977574\u003c/th\u003e\n",
              "      \u003cth\u003ebob\u003c/th\u003e\n",
              "      \u003ctd\u003eintro.html\u003c/td\u003e\n",
              "      \u003ctd\u003e1\u003c/td\u003e\n",
              "      \u003ctd\u003eNaN\u003c/td\u003e\n",
              "      \u003ctd\u003eNaN\u003c/td\u003e\n",
              "    \u003c/tr\u003e\n",
              "    \u003ctr\u003e\n",
              "      \u003cth\u003e1469977604\u003c/th\u003e\n",
              "      \u003cth\u003ebob\u003c/th\u003e\n",
              "      \u003ctd\u003eintro.html\u003c/td\u003e\n",
              "      \u003ctd\u003e1\u003c/td\u003e\n",
              "      \u003ctd\u003eNaN\u003c/td\u003e\n",
              "      \u003ctd\u003eNaN\u003c/td\u003e\n",
              "    \u003c/tr\u003e\n",
              "    \u003ctr\u003e\n",
              "      \u003cth\u003e1469977634\u003c/th\u003e\n",
              "      \u003cth\u003ebob\u003c/th\u003e\n",
              "      \u003ctd\u003eintro.html\u003c/td\u003e\n",
              "      \u003ctd\u003e1\u003c/td\u003e\n",
              "      \u003ctd\u003eNaN\u003c/td\u003e\n",
              "      \u003ctd\u003eNaN\u003c/td\u003e\n",
              "    \u003c/tr\u003e\n",
              "    \u003ctr\u003e\n",
              "      \u003cth\u003e1469977664\u003c/th\u003e\n",
              "      \u003cth\u003ebob\u003c/th\u003e\n",
              "      \u003ctd\u003eintro.html\u003c/td\u003e\n",
              "      \u003ctd\u003e1\u003c/td\u003e\n",
              "      \u003ctd\u003eNaN\u003c/td\u003e\n",
              "      \u003ctd\u003eNaN\u003c/td\u003e\n",
              "    \u003c/tr\u003e\n",
              "    \u003ctr\u003e\n",
              "      \u003cth\u003e1469977694\u003c/th\u003e\n",
              "      \u003cth\u003ebob\u003c/th\u003e\n",
              "      \u003ctd\u003eintro.html\u003c/td\u003e\n",
              "      \u003ctd\u003e1\u003c/td\u003e\n",
              "      \u003ctd\u003eNaN\u003c/td\u003e\n",
              "      \u003ctd\u003eNaN\u003c/td\u003e\n",
              "    \u003c/tr\u003e\n",
              "    \u003ctr\u003e\n",
              "      \u003cth\u003e1469977724\u003c/th\u003e\n",
              "      \u003cth\u003ebob\u003c/th\u003e\n",
              "      \u003ctd\u003eintro.html\u003c/td\u003e\n",
              "      \u003ctd\u003e1\u003c/td\u003e\n",
              "      \u003ctd\u003eNaN\u003c/td\u003e\n",
              "      \u003ctd\u003eNaN\u003c/td\u003e\n",
              "    \u003c/tr\u003e\n",
              "  \u003c/tbody\u003e\n",
              "\u003c/table\u003e\n",
              "\u003c/div\u003e"
            ],
            "text/plain": [
              "                           video  playback position paused  volume\n",
              "time       user                                                   \n",
              "1469974424 cheryl     intro.html                  5  False    10.0\n",
              "           sue     advanced.html                 23  False    10.0\n",
              "1469974454 cheryl     intro.html                  6    NaN     NaN\n",
              "           sue     advanced.html                 24    NaN     NaN\n",
              "1469974484 cheryl     intro.html                  7    NaN     NaN\n",
              "1469974514 cheryl     intro.html                  8    NaN     NaN\n",
              "1469974524 sue     advanced.html                 25    NaN     NaN\n",
              "1469974544 cheryl     intro.html                  9    NaN     NaN\n",
              "1469974554 sue     advanced.html                 26    NaN     NaN\n",
              "1469974574 cheryl     intro.html                 10    NaN     NaN\n",
              "1469974604 cheryl     intro.html                 11    NaN     NaN\n",
              "1469974624 sue     advanced.html                 27    NaN     NaN\n",
              "1469974634 cheryl     intro.html                 12    NaN     NaN\n",
              "1469974654 sue     advanced.html                 28    NaN     5.0\n",
              "1469974664 cheryl     intro.html                 13    NaN     NaN\n",
              "1469974694 cheryl     intro.html                 14    NaN     NaN\n",
              "1469974724 cheryl     intro.html                 15    NaN     NaN\n",
              "           sue     advanced.html                 29    NaN     NaN\n",
              "1469974754 sue     advanced.html                 30    NaN     NaN\n",
              "1469974824 sue     advanced.html                 31    NaN     NaN\n",
              "1469974854 sue     advanced.html                 32    NaN     NaN\n",
              "1469974924 sue     advanced.html                 33    NaN     NaN\n",
              "1469977424 bob        intro.html                  1   True    10.0\n",
              "1469977454 bob        intro.html                  1    NaN     NaN\n",
              "1469977484 bob        intro.html                  1    NaN     NaN\n",
              "1469977514 bob        intro.html                  1    NaN     NaN\n",
              "1469977544 bob        intro.html                  1    NaN     NaN\n",
              "1469977574 bob        intro.html                  1    NaN     NaN\n",
              "1469977604 bob        intro.html                  1    NaN     NaN\n",
              "1469977634 bob        intro.html                  1    NaN     NaN\n",
              "1469977664 bob        intro.html                  1    NaN     NaN\n",
              "1469977694 bob        intro.html                  1    NaN     NaN\n",
              "1469977724 bob        intro.html                  1    NaN     NaN"
            ]
          },
          "metadata": {
            "tags": []
          },
          "execution_count": 104
        }
      ]
    },
    {
      "metadata": {
        "id": "yRlsuPwoBZxa",
        "colab_type": "code",
        "outputId": "06769d93-5c15-42aa-d228-917e54b2ac24",
        "executionInfo": {
          "status": "ok",
          "timestamp": 1555005583355,
          "user_tz": 300,
          "elapsed": 318,
          "user": {
            "displayName": "David Tan",
            "photoUrl": "",
            "userId": "15726769250755126620"
          }
        },
        "colab": {
          "base_uri": "https://localhost:8080/",
          "height": 235
        },
        "pycharm": {}
      },
      "cell_type": "code",
      "source": [
        "df \u003d df.fillna(method\u003d\u0027ffill\u0027)\n",
        "df.head()"
      ],
      "execution_count": 0,
      "outputs": [
        {
          "output_type": "execute_result",
          "data": {
            "text/html": [
              "\u003cdiv\u003e\n",
              "\u003cstyle scoped\u003e\n",
              "    .dataframe tbody tr th:only-of-type {\n",
              "        vertical-align: middle;\n",
              "    }\n",
              "\n",
              "    .dataframe tbody tr th {\n",
              "        vertical-align: top;\n",
              "    }\n",
              "\n",
              "    .dataframe thead th {\n",
              "        text-align: right;\n",
              "    }\n",
              "\u003c/style\u003e\n",
              "\u003ctable border\u003d\"1\" class\u003d\"dataframe\"\u003e\n",
              "  \u003cthead\u003e\n",
              "    \u003ctr style\u003d\"text-align: right;\"\u003e\n",
              "      \u003cth\u003e\u003c/th\u003e\n",
              "      \u003cth\u003e\u003c/th\u003e\n",
              "      \u003cth\u003evideo\u003c/th\u003e\n",
              "      \u003cth\u003eplayback position\u003c/th\u003e\n",
              "      \u003cth\u003epaused\u003c/th\u003e\n",
              "      \u003cth\u003evolume\u003c/th\u003e\n",
              "    \u003c/tr\u003e\n",
              "    \u003ctr\u003e\n",
              "      \u003cth\u003etime\u003c/th\u003e\n",
              "      \u003cth\u003euser\u003c/th\u003e\n",
              "      \u003cth\u003e\u003c/th\u003e\n",
              "      \u003cth\u003e\u003c/th\u003e\n",
              "      \u003cth\u003e\u003c/th\u003e\n",
              "      \u003cth\u003e\u003c/th\u003e\n",
              "    \u003c/tr\u003e\n",
              "  \u003c/thead\u003e\n",
              "  \u003ctbody\u003e\n",
              "    \u003ctr\u003e\n",
              "      \u003cth rowspan\u003d\"2\" valign\u003d\"top\"\u003e1469974424\u003c/th\u003e\n",
              "      \u003cth\u003echeryl\u003c/th\u003e\n",
              "      \u003ctd\u003eintro.html\u003c/td\u003e\n",
              "      \u003ctd\u003e5\u003c/td\u003e\n",
              "      \u003ctd\u003eFalse\u003c/td\u003e\n",
              "      \u003ctd\u003e10.0\u003c/td\u003e\n",
              "    \u003c/tr\u003e\n",
              "    \u003ctr\u003e\n",
              "      \u003cth\u003esue\u003c/th\u003e\n",
              "      \u003ctd\u003eadvanced.html\u003c/td\u003e\n",
              "      \u003ctd\u003e23\u003c/td\u003e\n",
              "      \u003ctd\u003eFalse\u003c/td\u003e\n",
              "      \u003ctd\u003e10.0\u003c/td\u003e\n",
              "    \u003c/tr\u003e\n",
              "    \u003ctr\u003e\n",
              "      \u003cth rowspan\u003d\"2\" valign\u003d\"top\"\u003e1469974454\u003c/th\u003e\n",
              "      \u003cth\u003echeryl\u003c/th\u003e\n",
              "      \u003ctd\u003eintro.html\u003c/td\u003e\n",
              "      \u003ctd\u003e6\u003c/td\u003e\n",
              "      \u003ctd\u003eFalse\u003c/td\u003e\n",
              "      \u003ctd\u003e10.0\u003c/td\u003e\n",
              "    \u003c/tr\u003e\n",
              "    \u003ctr\u003e\n",
              "      \u003cth\u003esue\u003c/th\u003e\n",
              "      \u003ctd\u003eadvanced.html\u003c/td\u003e\n",
              "      \u003ctd\u003e24\u003c/td\u003e\n",
              "      \u003ctd\u003eFalse\u003c/td\u003e\n",
              "      \u003ctd\u003e10.0\u003c/td\u003e\n",
              "    \u003c/tr\u003e\n",
              "    \u003ctr\u003e\n",
              "      \u003cth\u003e1469974484\u003c/th\u003e\n",
              "      \u003cth\u003echeryl\u003c/th\u003e\n",
              "      \u003ctd\u003eintro.html\u003c/td\u003e\n",
              "      \u003ctd\u003e7\u003c/td\u003e\n",
              "      \u003ctd\u003eFalse\u003c/td\u003e\n",
              "      \u003ctd\u003e10.0\u003c/td\u003e\n",
              "    \u003c/tr\u003e\n",
              "  \u003c/tbody\u003e\n",
              "\u003c/table\u003e\n",
              "\u003c/div\u003e"
            ],
            "text/plain": [
              "                           video  playback position  paused  volume\n",
              "time       user                                                    \n",
              "1469974424 cheryl     intro.html                  5   False    10.0\n",
              "           sue     advanced.html                 23   False    10.0\n",
              "1469974454 cheryl     intro.html                  6   False    10.0\n",
              "           sue     advanced.html                 24   False    10.0\n",
              "1469974484 cheryl     intro.html                  7   False    10.0"
            ]
          },
          "metadata": {
            "tags": []
          },
          "execution_count": 105
        }
      ]
    }
  ]
}