{
  "nbformat": 4,
  "nbformat_minor": 0,
  "metadata": {
    "colab": {
      "name": "Assignment3dt.ipynb",
      "version": "0.3.2",
      "provenance": [],
      "collapsed_sections": []
    },
    "language_info": {
      "codemirror_mode": {
        "name": "ipython",
        "version": 3
      },
      "file_extension": ".py",
      "mimetype": "text/x-python",
      "name": "python",
      "nbconvert_exporter": "python",
      "pygments_lexer": "ipython3",
      "version": "3.6.2"
    },
    "kernelspec": {
      "display_name": "Python 3",
      "language": "python",
      "name": "python3"
    }
  },
  "cells": [
    {
      "metadata": {
        "id": "EhTnCcaiKiS_",
        "colab_type": "text"
      },
      "cell_type": "markdown",
      "source": [
        "---\n",
        "\n",
        "_You are currently looking at **version 1.5** of this notebook. To download notebooks and datafiles, as well as get help on Jupyter notebooks in the Coursera platform, visit the [Jupyter Notebook FAQ](https://www.coursera.org/learn/python-data-analysis/resources/0dhYG) course resource._\n",
        "\n",
        "---"
      ]
    },
    {
      "metadata": {
        "id": "fiZHx23mKiTA",
        "colab_type": "text"
      },
      "cell_type": "markdown",
      "source": [
        "# Assignment 3 - More Pandas\n",
        "This assignment requires more individual learning then the last one did - you are encouraged to check out the [pandas documentation](http://pandas.pydata.org/pandas-docs/stable/) to find functions or methods you might not have used yet, or ask questions on [Stack Overflow](http://stackoverflow.com/) and tag them as pandas and python related. And of course, the discussion forums are open for interaction with your peers and the course staff."
      ]
    },
    {
      "metadata": {
        "id": "1kAXdL30KiTB",
        "colab_type": "text"
      },
      "cell_type": "markdown",
      "source": [
        "### Question 1 (20%)\n",
        "Load the energy data from the file `Energy Indicators.xls`, which is a list of indicators of [energy supply and renewable electricity production](Energy%20Indicators.xls) from the [United Nations](http://unstats.un.org/unsd/environment/excel_file_tables/2013/Energy%20Indicators.xls) for the year 2013, and should be put into a DataFrame with the variable name of **energy**.\n",
        "\n",
        "Keep in mind that this is an Excel file, and not a comma separated values file. Also, make sure to exclude the footer and header information from the datafile. The first two columns are unneccessary, so you should get rid of them, and you should change the column labels so that the columns are:\n",
        "\n",
        "`['Country', 'Energy Supply', 'Energy Supply per Capita', '% Renewable']`\n",
        "\n",
        "Convert `Energy Supply` to gigajoules (there are 1,000,000 gigajoules in a petajoule). For all countries which have missing data (e.g. data with \"...\") make sure this is reflected as `np.NaN` values.\n",
        "\n",
        "Rename the following list of countries (for use in later questions):\n",
        "\n",
        "```\"Republic of Korea\": \"South Korea\",\n",
        "\"United States of America\": \"United States\",\n",
        "\"United Kingdom of Great Britain and Northern Ireland\": \"United Kingdom\",\n",
        "\"China, Hong Kong Special Administrative Region\": \"Hong Kong\"```\n",
        "\n",
        "There are also several countries with numbers and/or parenthesis in their name. Be sure to remove these, \n",
        "\n",
        "e.g. \n",
        "\n",
        "`'Bolivia (Plurinational State of)'` should be `'Bolivia'`, \n",
        "\n",
        "`'Switzerland17'` should be `'Switzerland'`.\n",
        "\n",
        "<br>\n",
        "\n",
        "Next, load the GDP data from the file `world_bank.csv`, which is a csv containing countries' GDP from 1960 to 2015 from [World Bank](http://data.worldbank.org/indicator/NY.GDP.MKTP.CD). Call this DataFrame **GDP**. \n",
        "\n",
        "Make sure to skip the header, and rename the following list of countries:\n",
        "\n",
        "```\"Korea, Rep.\": \"South Korea\", \n",
        "\"Iran, Islamic Rep.\": \"Iran\",\n",
        "\"Hong Kong SAR, China\": \"Hong Kong\"```\n",
        "\n",
        "<br>\n",
        "\n",
        "Finally, load the [Sciamgo Journal and Country Rank data for Energy Engineering and Power Technology](http://www.scimagojr.com/countryrank.php?category=2102) from the file `scimagojr-3.xlsx`, which ranks countries based on their journal contributions in the aforementioned area. Call this DataFrame **ScimEn**.\n",
        "\n",
        "Join the three datasets: GDP, Energy, and ScimEn into a new dataset (using the intersection of country names). Use only the last 10 years (2006-2015) of GDP data and only the top 15 countries by Scimagojr 'Rank' (Rank 1 through 15). \n",
        "\n",
        "The index of this DataFrame should be the name of the country, and the columns should be ['Rank', 'Documents', 'Citable documents', 'Citations', 'Self-citations',\n",
        "       'Citations per document', 'H index', 'Energy Supply',\n",
        "       'Energy Supply per Capita', '% Renewable', '2006', '2007', '2008',\n",
        "       '2009', '2010', '2011', '2012', '2013', '2014', '2015'].\n",
        "\n",
        "*This function should return a DataFrame with 20 columns and 15 entries.*"
      ]
    },
    {
      "metadata": {
        "id": "6VAB_S4WfVFD",
        "colab_type": "code",
        "colab": {}
      },
      "cell_type": "code",
      "source": [
        "# Energy Indicators.xls\n",
        "# world_bank.csv\n",
        "# scimagojr-3.xlsx\n",
        "# import numpy as np\n",
        "# import pandas as pd\n",
        "# from google.colab import files\n",
        "# uploaded = files.upload()"
      ],
      "execution_count": 0,
      "outputs": []
    },
    {
      "metadata": {
        "umich_part_id": "009",
        "umich_partlist_id": "003",
        "id": "K64tq750KiTB",
        "colab_type": "code",
        "outputId": "c91aadec-fdb2-44a5-9d3b-cb1f22e0dd97",
        "colab": {
          "base_uri": "https://localhost:8080/",
          "height": 684
        }
      },
      "cell_type": "code",
      "source": [
        "# import csv\n",
        "# %precision 2 \n",
        "import pandas as pd\n",
        "import numpy as np\n",
        "  \n",
        "def answer_one():\n",
        "#     header skip first 17 rows, footer skip last 38 rows \n",
        "    energy = pd.read_excel('Energy Indicators.xls', skiprows=17,skipfooter= 38)\n",
        "    energy = energy[['Unnamed: 1','Petajoules','Gigajoules','%']]\n",
        "    energy.columns = ['Country', 'Energy Supply', 'Energy Supply per Capita', '% Renewable']\n",
        "#     For all countries which have missing data (e.g. data with \"...\") make sure this is reflected as np.NaN values.\n",
        "    energy[['Energy Supply', 'Energy Supply per Capita', '% Renewable']] =  \\\n",
        "    energy[['Energy Supply', 'Energy Supply per Capita', '% Renewable']].replace('...',np.NaN).apply(pd.to_numeric)\n",
        "#     to gigajoules\n",
        "    energy['Energy Supply'] = energy['Energy Supply']*1000000\n",
        "#   Rename the following list of countries \n",
        "    energy['Country'] = energy['Country'].replace(\n",
        "        { 'China, Hong Kong Special Administrative Region':'Hong Kong',\n",
        "          'United Kingdom of Great Britain and Northern Ireland':'United Kingdom',\n",
        "          'Republic of Korea':'South Korea','United States of America':'United States',\n",
        "          'Iran (Islamic Republic of)':'Iran',\n",
        "         'Bolivia (Plurinational State of)':'Bolivia',\n",
        "         'Venezuela (Bolivarian Republic of)':'Venezuela'\n",
        "        })\n",
        "#     world_bank.csv\n",
        "#     with open('world_bank.csv') as csvfile:\n",
        "#       mpg = list(csv.DictReader(csvfile))\n",
        "    GDP = pd.read_csv('world_bank.csv', skiprows=4)\n",
        "    GDP['Country Name'] = GDP['Country Name'].replace('Korea, Rep.','South Korea')\n",
        "    GDP['Country Name'] = GDP['Country Name'].replace('Iran, Islamic Rep.','Iran')\n",
        "    GDP['Country Name'] = GDP['Country Name'].replace('Hong Kong SAR, China','Hong Kong')\n",
        "    columns = ['Country Name','2006','2007','2008','2009','2010','2011','2012','2013','2014','2015']\n",
        "    GDP = GDP[columns]\n",
        "    \n",
        "    ScimEn = pd.read_excel('scimagojr-3.xlsx')\n",
        "#     first 15\n",
        "    ScimEn_m = ScimEn[:15]\n",
        "    \n",
        "#     load scimagojr-3.xlsx\n",
        "    df = pd.merge(ScimEn_m, energy, how = 'inner', left_on = 'Country', right_on='Country')\n",
        "    final_df = pd.merge(df,GDP, how = 'inner', left_on = 'Country', right_on='Country Name')\n",
        "    final_df = final_df.set_index('Country')\n",
        "    columns = ['Rank', 'Documents', 'Citable documents', 'Citations', 'Self-citations', 'Citations per document', 'H index', 'Energy Supply', 'Energy Supply per Capita', '% Renewable', '2006', '2007', '2008', '2009', '2010', '2011', '2012', '2013', '2014', '2015']\n",
        "    ans = final_df[columns]\n",
        "    return ans\n",
        "#     return energy\n",
        "  \n",
        "answer_one()  "
      ],
      "execution_count": 127,
      "outputs": [
        {
          "output_type": "execute_result",
          "data": {
            "text/html": [
              "<div>\n",
              "<style scoped>\n",
              "    .dataframe tbody tr th:only-of-type {\n",
              "        vertical-align: middle;\n",
              "    }\n",
              "\n",
              "    .dataframe tbody tr th {\n",
              "        vertical-align: top;\n",
              "    }\n",
              "\n",
              "    .dataframe thead th {\n",
              "        text-align: right;\n",
              "    }\n",
              "</style>\n",
              "<table border=\"1\" class=\"dataframe\">\n",
              "  <thead>\n",
              "    <tr style=\"text-align: right;\">\n",
              "      <th></th>\n",
              "      <th>Rank</th>\n",
              "      <th>Documents</th>\n",
              "      <th>Citable documents</th>\n",
              "      <th>Citations</th>\n",
              "      <th>Self-citations</th>\n",
              "      <th>Citations per document</th>\n",
              "      <th>H index</th>\n",
              "      <th>Energy Supply</th>\n",
              "      <th>Energy Supply per Capita</th>\n",
              "      <th>% Renewable</th>\n",
              "      <th>2006</th>\n",
              "      <th>2007</th>\n",
              "      <th>2008</th>\n",
              "      <th>2009</th>\n",
              "      <th>2010</th>\n",
              "      <th>2011</th>\n",
              "      <th>2012</th>\n",
              "      <th>2013</th>\n",
              "      <th>2014</th>\n",
              "      <th>2015</th>\n",
              "    </tr>\n",
              "    <tr>\n",
              "      <th>Country</th>\n",
              "      <th></th>\n",
              "      <th></th>\n",
              "      <th></th>\n",
              "      <th></th>\n",
              "      <th></th>\n",
              "      <th></th>\n",
              "      <th></th>\n",
              "      <th></th>\n",
              "      <th></th>\n",
              "      <th></th>\n",
              "      <th></th>\n",
              "      <th></th>\n",
              "      <th></th>\n",
              "      <th></th>\n",
              "      <th></th>\n",
              "      <th></th>\n",
              "      <th></th>\n",
              "      <th></th>\n",
              "      <th></th>\n",
              "      <th></th>\n",
              "    </tr>\n",
              "  </thead>\n",
              "  <tbody>\n",
              "    <tr>\n",
              "      <th>China</th>\n",
              "      <td>1</td>\n",
              "      <td>127050</td>\n",
              "      <td>126767</td>\n",
              "      <td>597237</td>\n",
              "      <td>411683</td>\n",
              "      <td>4.70</td>\n",
              "      <td>138</td>\n",
              "      <td>1.271910e+11</td>\n",
              "      <td>93.0</td>\n",
              "      <td>19.754910</td>\n",
              "      <td>3.992331e+12</td>\n",
              "      <td>4.559041e+12</td>\n",
              "      <td>4.997775e+12</td>\n",
              "      <td>5.459247e+12</td>\n",
              "      <td>6.039659e+12</td>\n",
              "      <td>6.612490e+12</td>\n",
              "      <td>7.124978e+12</td>\n",
              "      <td>7.672448e+12</td>\n",
              "      <td>8.230121e+12</td>\n",
              "      <td>8.797999e+12</td>\n",
              "    </tr>\n",
              "    <tr>\n",
              "      <th>United States</th>\n",
              "      <td>2</td>\n",
              "      <td>96661</td>\n",
              "      <td>94747</td>\n",
              "      <td>792274</td>\n",
              "      <td>265436</td>\n",
              "      <td>8.20</td>\n",
              "      <td>230</td>\n",
              "      <td>9.083800e+10</td>\n",
              "      <td>286.0</td>\n",
              "      <td>11.570980</td>\n",
              "      <td>1.479230e+13</td>\n",
              "      <td>1.505540e+13</td>\n",
              "      <td>1.501149e+13</td>\n",
              "      <td>1.459484e+13</td>\n",
              "      <td>1.496437e+13</td>\n",
              "      <td>1.520402e+13</td>\n",
              "      <td>1.554216e+13</td>\n",
              "      <td>1.577367e+13</td>\n",
              "      <td>1.615662e+13</td>\n",
              "      <td>1.654857e+13</td>\n",
              "    </tr>\n",
              "    <tr>\n",
              "      <th>Japan</th>\n",
              "      <td>3</td>\n",
              "      <td>30504</td>\n",
              "      <td>30287</td>\n",
              "      <td>223024</td>\n",
              "      <td>61554</td>\n",
              "      <td>7.31</td>\n",
              "      <td>134</td>\n",
              "      <td>1.898400e+10</td>\n",
              "      <td>149.0</td>\n",
              "      <td>10.232820</td>\n",
              "      <td>5.496542e+12</td>\n",
              "      <td>5.617036e+12</td>\n",
              "      <td>5.558527e+12</td>\n",
              "      <td>5.251308e+12</td>\n",
              "      <td>5.498718e+12</td>\n",
              "      <td>5.473738e+12</td>\n",
              "      <td>5.569102e+12</td>\n",
              "      <td>5.644659e+12</td>\n",
              "      <td>5.642884e+12</td>\n",
              "      <td>5.669563e+12</td>\n",
              "    </tr>\n",
              "    <tr>\n",
              "      <th>United Kingdom</th>\n",
              "      <td>4</td>\n",
              "      <td>20944</td>\n",
              "      <td>20357</td>\n",
              "      <td>206091</td>\n",
              "      <td>37874</td>\n",
              "      <td>9.84</td>\n",
              "      <td>139</td>\n",
              "      <td>7.920000e+09</td>\n",
              "      <td>124.0</td>\n",
              "      <td>10.600470</td>\n",
              "      <td>2.419631e+12</td>\n",
              "      <td>2.482203e+12</td>\n",
              "      <td>2.470614e+12</td>\n",
              "      <td>2.367048e+12</td>\n",
              "      <td>2.403504e+12</td>\n",
              "      <td>2.450911e+12</td>\n",
              "      <td>2.479809e+12</td>\n",
              "      <td>2.533370e+12</td>\n",
              "      <td>2.605643e+12</td>\n",
              "      <td>2.666333e+12</td>\n",
              "    </tr>\n",
              "    <tr>\n",
              "      <th>Russian Federation</th>\n",
              "      <td>5</td>\n",
              "      <td>18534</td>\n",
              "      <td>18301</td>\n",
              "      <td>34266</td>\n",
              "      <td>12422</td>\n",
              "      <td>1.85</td>\n",
              "      <td>57</td>\n",
              "      <td>3.070900e+10</td>\n",
              "      <td>214.0</td>\n",
              "      <td>17.288680</td>\n",
              "      <td>1.385793e+12</td>\n",
              "      <td>1.504071e+12</td>\n",
              "      <td>1.583004e+12</td>\n",
              "      <td>1.459199e+12</td>\n",
              "      <td>1.524917e+12</td>\n",
              "      <td>1.589943e+12</td>\n",
              "      <td>1.645876e+12</td>\n",
              "      <td>1.666934e+12</td>\n",
              "      <td>1.678709e+12</td>\n",
              "      <td>1.616149e+12</td>\n",
              "    </tr>\n",
              "    <tr>\n",
              "      <th>Canada</th>\n",
              "      <td>6</td>\n",
              "      <td>17899</td>\n",
              "      <td>17620</td>\n",
              "      <td>215003</td>\n",
              "      <td>40930</td>\n",
              "      <td>12.01</td>\n",
              "      <td>149</td>\n",
              "      <td>1.043100e+10</td>\n",
              "      <td>296.0</td>\n",
              "      <td>61.945430</td>\n",
              "      <td>1.564469e+12</td>\n",
              "      <td>1.596740e+12</td>\n",
              "      <td>1.612713e+12</td>\n",
              "      <td>1.565145e+12</td>\n",
              "      <td>1.613406e+12</td>\n",
              "      <td>1.664087e+12</td>\n",
              "      <td>1.693133e+12</td>\n",
              "      <td>1.730688e+12</td>\n",
              "      <td>1.773486e+12</td>\n",
              "      <td>1.792609e+12</td>\n",
              "    </tr>\n",
              "    <tr>\n",
              "      <th>Germany</th>\n",
              "      <td>7</td>\n",
              "      <td>17027</td>\n",
              "      <td>16831</td>\n",
              "      <td>140566</td>\n",
              "      <td>27426</td>\n",
              "      <td>8.26</td>\n",
              "      <td>126</td>\n",
              "      <td>1.326100e+10</td>\n",
              "      <td>165.0</td>\n",
              "      <td>17.901530</td>\n",
              "      <td>3.332891e+12</td>\n",
              "      <td>3.441561e+12</td>\n",
              "      <td>3.478809e+12</td>\n",
              "      <td>3.283340e+12</td>\n",
              "      <td>3.417298e+12</td>\n",
              "      <td>3.542371e+12</td>\n",
              "      <td>3.556724e+12</td>\n",
              "      <td>3.567317e+12</td>\n",
              "      <td>3.624386e+12</td>\n",
              "      <td>3.685556e+12</td>\n",
              "    </tr>\n",
              "    <tr>\n",
              "      <th>India</th>\n",
              "      <td>8</td>\n",
              "      <td>15005</td>\n",
              "      <td>14841</td>\n",
              "      <td>128763</td>\n",
              "      <td>37209</td>\n",
              "      <td>8.58</td>\n",
              "      <td>115</td>\n",
              "      <td>3.319500e+10</td>\n",
              "      <td>26.0</td>\n",
              "      <td>14.969080</td>\n",
              "      <td>1.265894e+12</td>\n",
              "      <td>1.374865e+12</td>\n",
              "      <td>1.428361e+12</td>\n",
              "      <td>1.549483e+12</td>\n",
              "      <td>1.708459e+12</td>\n",
              "      <td>1.821872e+12</td>\n",
              "      <td>1.924235e+12</td>\n",
              "      <td>2.051982e+12</td>\n",
              "      <td>2.200617e+12</td>\n",
              "      <td>2.367206e+12</td>\n",
              "    </tr>\n",
              "    <tr>\n",
              "      <th>France</th>\n",
              "      <td>9</td>\n",
              "      <td>13153</td>\n",
              "      <td>12973</td>\n",
              "      <td>130632</td>\n",
              "      <td>28601</td>\n",
              "      <td>9.93</td>\n",
              "      <td>114</td>\n",
              "      <td>1.059700e+10</td>\n",
              "      <td>166.0</td>\n",
              "      <td>17.020280</td>\n",
              "      <td>2.607840e+12</td>\n",
              "      <td>2.669424e+12</td>\n",
              "      <td>2.674637e+12</td>\n",
              "      <td>2.595967e+12</td>\n",
              "      <td>2.646995e+12</td>\n",
              "      <td>2.702032e+12</td>\n",
              "      <td>2.706968e+12</td>\n",
              "      <td>2.722567e+12</td>\n",
              "      <td>2.729632e+12</td>\n",
              "      <td>2.761185e+12</td>\n",
              "    </tr>\n",
              "    <tr>\n",
              "      <th>South Korea</th>\n",
              "      <td>10</td>\n",
              "      <td>11983</td>\n",
              "      <td>11923</td>\n",
              "      <td>114675</td>\n",
              "      <td>22595</td>\n",
              "      <td>9.57</td>\n",
              "      <td>104</td>\n",
              "      <td>1.100700e+10</td>\n",
              "      <td>221.0</td>\n",
              "      <td>2.279353</td>\n",
              "      <td>9.410199e+11</td>\n",
              "      <td>9.924316e+11</td>\n",
              "      <td>1.020510e+12</td>\n",
              "      <td>1.027730e+12</td>\n",
              "      <td>1.094499e+12</td>\n",
              "      <td>1.134796e+12</td>\n",
              "      <td>1.160809e+12</td>\n",
              "      <td>1.194429e+12</td>\n",
              "      <td>1.234340e+12</td>\n",
              "      <td>1.266580e+12</td>\n",
              "    </tr>\n",
              "    <tr>\n",
              "      <th>Italy</th>\n",
              "      <td>11</td>\n",
              "      <td>10964</td>\n",
              "      <td>10794</td>\n",
              "      <td>111850</td>\n",
              "      <td>26661</td>\n",
              "      <td>10.20</td>\n",
              "      <td>106</td>\n",
              "      <td>6.530000e+09</td>\n",
              "      <td>109.0</td>\n",
              "      <td>33.667230</td>\n",
              "      <td>2.202170e+12</td>\n",
              "      <td>2.234627e+12</td>\n",
              "      <td>2.211154e+12</td>\n",
              "      <td>2.089938e+12</td>\n",
              "      <td>2.125185e+12</td>\n",
              "      <td>2.137439e+12</td>\n",
              "      <td>2.077184e+12</td>\n",
              "      <td>2.040871e+12</td>\n",
              "      <td>2.033868e+12</td>\n",
              "      <td>2.049316e+12</td>\n",
              "    </tr>\n",
              "    <tr>\n",
              "      <th>Spain</th>\n",
              "      <td>12</td>\n",
              "      <td>9428</td>\n",
              "      <td>9330</td>\n",
              "      <td>123336</td>\n",
              "      <td>23964</td>\n",
              "      <td>13.08</td>\n",
              "      <td>115</td>\n",
              "      <td>4.923000e+09</td>\n",
              "      <td>106.0</td>\n",
              "      <td>37.968590</td>\n",
              "      <td>1.414823e+12</td>\n",
              "      <td>1.468146e+12</td>\n",
              "      <td>1.484530e+12</td>\n",
              "      <td>1.431475e+12</td>\n",
              "      <td>1.431673e+12</td>\n",
              "      <td>1.417355e+12</td>\n",
              "      <td>1.380216e+12</td>\n",
              "      <td>1.357139e+12</td>\n",
              "      <td>1.375605e+12</td>\n",
              "      <td>1.419821e+12</td>\n",
              "    </tr>\n",
              "    <tr>\n",
              "      <th>Iran</th>\n",
              "      <td>13</td>\n",
              "      <td>8896</td>\n",
              "      <td>8819</td>\n",
              "      <td>57470</td>\n",
              "      <td>19125</td>\n",
              "      <td>6.46</td>\n",
              "      <td>72</td>\n",
              "      <td>9.172000e+09</td>\n",
              "      <td>119.0</td>\n",
              "      <td>5.707721</td>\n",
              "      <td>3.895523e+11</td>\n",
              "      <td>4.250646e+11</td>\n",
              "      <td>4.289909e+11</td>\n",
              "      <td>4.389208e+11</td>\n",
              "      <td>4.677902e+11</td>\n",
              "      <td>4.853309e+11</td>\n",
              "      <td>4.532569e+11</td>\n",
              "      <td>4.445926e+11</td>\n",
              "      <td>4.639027e+11</td>\n",
              "      <td>NaN</td>\n",
              "    </tr>\n",
              "    <tr>\n",
              "      <th>Australia</th>\n",
              "      <td>14</td>\n",
              "      <td>8831</td>\n",
              "      <td>8725</td>\n",
              "      <td>90765</td>\n",
              "      <td>15606</td>\n",
              "      <td>10.28</td>\n",
              "      <td>107</td>\n",
              "      <td>5.386000e+09</td>\n",
              "      <td>231.0</td>\n",
              "      <td>11.810810</td>\n",
              "      <td>1.021939e+12</td>\n",
              "      <td>1.060340e+12</td>\n",
              "      <td>1.099644e+12</td>\n",
              "      <td>1.119654e+12</td>\n",
              "      <td>1.142251e+12</td>\n",
              "      <td>1.169431e+12</td>\n",
              "      <td>1.211913e+12</td>\n",
              "      <td>1.241484e+12</td>\n",
              "      <td>1.272520e+12</td>\n",
              "      <td>1.301251e+12</td>\n",
              "    </tr>\n",
              "    <tr>\n",
              "      <th>Brazil</th>\n",
              "      <td>15</td>\n",
              "      <td>8668</td>\n",
              "      <td>8596</td>\n",
              "      <td>60702</td>\n",
              "      <td>14396</td>\n",
              "      <td>7.00</td>\n",
              "      <td>86</td>\n",
              "      <td>1.214900e+10</td>\n",
              "      <td>59.0</td>\n",
              "      <td>69.648030</td>\n",
              "      <td>1.845080e+12</td>\n",
              "      <td>1.957118e+12</td>\n",
              "      <td>2.056809e+12</td>\n",
              "      <td>2.054215e+12</td>\n",
              "      <td>2.208872e+12</td>\n",
              "      <td>2.295245e+12</td>\n",
              "      <td>2.339209e+12</td>\n",
              "      <td>2.409740e+12</td>\n",
              "      <td>2.412231e+12</td>\n",
              "      <td>2.319423e+12</td>\n",
              "    </tr>\n",
              "  </tbody>\n",
              "</table>\n",
              "</div>"
            ],
            "text/plain": [
              "                    Rank  Documents  Citable documents  Citations  \\\n",
              "Country                                                             \n",
              "China                  1     127050             126767     597237   \n",
              "United States          2      96661              94747     792274   \n",
              "Japan                  3      30504              30287     223024   \n",
              "United Kingdom         4      20944              20357     206091   \n",
              "Russian Federation     5      18534              18301      34266   \n",
              "Canada                 6      17899              17620     215003   \n",
              "Germany                7      17027              16831     140566   \n",
              "India                  8      15005              14841     128763   \n",
              "France                 9      13153              12973     130632   \n",
              "South Korea           10      11983              11923     114675   \n",
              "Italy                 11      10964              10794     111850   \n",
              "Spain                 12       9428               9330     123336   \n",
              "Iran                  13       8896               8819      57470   \n",
              "Australia             14       8831               8725      90765   \n",
              "Brazil                15       8668               8596      60702   \n",
              "\n",
              "                    Self-citations  Citations per document  H index  \\\n",
              "Country                                                               \n",
              "China                       411683                    4.70      138   \n",
              "United States               265436                    8.20      230   \n",
              "Japan                        61554                    7.31      134   \n",
              "United Kingdom               37874                    9.84      139   \n",
              "Russian Federation           12422                    1.85       57   \n",
              "Canada                       40930                   12.01      149   \n",
              "Germany                      27426                    8.26      126   \n",
              "India                        37209                    8.58      115   \n",
              "France                       28601                    9.93      114   \n",
              "South Korea                  22595                    9.57      104   \n",
              "Italy                        26661                   10.20      106   \n",
              "Spain                        23964                   13.08      115   \n",
              "Iran                         19125                    6.46       72   \n",
              "Australia                    15606                   10.28      107   \n",
              "Brazil                       14396                    7.00       86   \n",
              "\n",
              "                    Energy Supply  Energy Supply per Capita  % Renewable  \\\n",
              "Country                                                                    \n",
              "China                1.271910e+11                      93.0    19.754910   \n",
              "United States        9.083800e+10                     286.0    11.570980   \n",
              "Japan                1.898400e+10                     149.0    10.232820   \n",
              "United Kingdom       7.920000e+09                     124.0    10.600470   \n",
              "Russian Federation   3.070900e+10                     214.0    17.288680   \n",
              "Canada               1.043100e+10                     296.0    61.945430   \n",
              "Germany              1.326100e+10                     165.0    17.901530   \n",
              "India                3.319500e+10                      26.0    14.969080   \n",
              "France               1.059700e+10                     166.0    17.020280   \n",
              "South Korea          1.100700e+10                     221.0     2.279353   \n",
              "Italy                6.530000e+09                     109.0    33.667230   \n",
              "Spain                4.923000e+09                     106.0    37.968590   \n",
              "Iran                 9.172000e+09                     119.0     5.707721   \n",
              "Australia            5.386000e+09                     231.0    11.810810   \n",
              "Brazil               1.214900e+10                      59.0    69.648030   \n",
              "\n",
              "                            2006          2007          2008          2009  \\\n",
              "Country                                                                      \n",
              "China               3.992331e+12  4.559041e+12  4.997775e+12  5.459247e+12   \n",
              "United States       1.479230e+13  1.505540e+13  1.501149e+13  1.459484e+13   \n",
              "Japan               5.496542e+12  5.617036e+12  5.558527e+12  5.251308e+12   \n",
              "United Kingdom      2.419631e+12  2.482203e+12  2.470614e+12  2.367048e+12   \n",
              "Russian Federation  1.385793e+12  1.504071e+12  1.583004e+12  1.459199e+12   \n",
              "Canada              1.564469e+12  1.596740e+12  1.612713e+12  1.565145e+12   \n",
              "Germany             3.332891e+12  3.441561e+12  3.478809e+12  3.283340e+12   \n",
              "India               1.265894e+12  1.374865e+12  1.428361e+12  1.549483e+12   \n",
              "France              2.607840e+12  2.669424e+12  2.674637e+12  2.595967e+12   \n",
              "South Korea         9.410199e+11  9.924316e+11  1.020510e+12  1.027730e+12   \n",
              "Italy               2.202170e+12  2.234627e+12  2.211154e+12  2.089938e+12   \n",
              "Spain               1.414823e+12  1.468146e+12  1.484530e+12  1.431475e+12   \n",
              "Iran                3.895523e+11  4.250646e+11  4.289909e+11  4.389208e+11   \n",
              "Australia           1.021939e+12  1.060340e+12  1.099644e+12  1.119654e+12   \n",
              "Brazil              1.845080e+12  1.957118e+12  2.056809e+12  2.054215e+12   \n",
              "\n",
              "                            2010          2011          2012          2013  \\\n",
              "Country                                                                      \n",
              "China               6.039659e+12  6.612490e+12  7.124978e+12  7.672448e+12   \n",
              "United States       1.496437e+13  1.520402e+13  1.554216e+13  1.577367e+13   \n",
              "Japan               5.498718e+12  5.473738e+12  5.569102e+12  5.644659e+12   \n",
              "United Kingdom      2.403504e+12  2.450911e+12  2.479809e+12  2.533370e+12   \n",
              "Russian Federation  1.524917e+12  1.589943e+12  1.645876e+12  1.666934e+12   \n",
              "Canada              1.613406e+12  1.664087e+12  1.693133e+12  1.730688e+12   \n",
              "Germany             3.417298e+12  3.542371e+12  3.556724e+12  3.567317e+12   \n",
              "India               1.708459e+12  1.821872e+12  1.924235e+12  2.051982e+12   \n",
              "France              2.646995e+12  2.702032e+12  2.706968e+12  2.722567e+12   \n",
              "South Korea         1.094499e+12  1.134796e+12  1.160809e+12  1.194429e+12   \n",
              "Italy               2.125185e+12  2.137439e+12  2.077184e+12  2.040871e+12   \n",
              "Spain               1.431673e+12  1.417355e+12  1.380216e+12  1.357139e+12   \n",
              "Iran                4.677902e+11  4.853309e+11  4.532569e+11  4.445926e+11   \n",
              "Australia           1.142251e+12  1.169431e+12  1.211913e+12  1.241484e+12   \n",
              "Brazil              2.208872e+12  2.295245e+12  2.339209e+12  2.409740e+12   \n",
              "\n",
              "                            2014          2015  \n",
              "Country                                         \n",
              "China               8.230121e+12  8.797999e+12  \n",
              "United States       1.615662e+13  1.654857e+13  \n",
              "Japan               5.642884e+12  5.669563e+12  \n",
              "United Kingdom      2.605643e+12  2.666333e+12  \n",
              "Russian Federation  1.678709e+12  1.616149e+12  \n",
              "Canada              1.773486e+12  1.792609e+12  \n",
              "Germany             3.624386e+12  3.685556e+12  \n",
              "India               2.200617e+12  2.367206e+12  \n",
              "France              2.729632e+12  2.761185e+12  \n",
              "South Korea         1.234340e+12  1.266580e+12  \n",
              "Italy               2.033868e+12  2.049316e+12  \n",
              "Spain               1.375605e+12  1.419821e+12  \n",
              "Iran                4.639027e+11           NaN  \n",
              "Australia           1.272520e+12  1.301251e+12  \n",
              "Brazil              2.412231e+12  2.319423e+12  "
            ]
          },
          "metadata": {
            "tags": []
          },
          "execution_count": 127
        }
      ]
    },
    {
      "metadata": {
        "id": "xoIZcD2LKiTE",
        "colab_type": "text"
      },
      "cell_type": "markdown",
      "source": [
        "### Question 2 (6.6%)\n",
        "The previous question joined three datasets then reduced this to just the top 15 entries. When you joined the datasets, but before you reduced this to the top 15 items, how many entries did you lose?\n",
        "\n",
        "*This function should return a single number.*"
      ]
    },
    {
      "metadata": {
        "id": "wmF00eMnKiTF",
        "colab_type": "code",
        "outputId": "ba4de14e-d298-45a8-9e19-af2cfea55174",
        "colab": {
          "base_uri": "https://localhost:8080/",
          "height": 321
        }
      },
      "cell_type": "code",
      "source": [
        "%%HTML\n",
        "<svg width=\"800\" height=\"300\">\n",
        "  <circle cx=\"150\" cy=\"180\" r=\"80\" fill-opacity=\"0.2\" stroke=\"black\" stroke-width=\"2\" fill=\"blue\" />\n",
        "  <circle cx=\"200\" cy=\"100\" r=\"80\" fill-opacity=\"0.2\" stroke=\"black\" stroke-width=\"2\" fill=\"red\" />\n",
        "  <circle cx=\"100\" cy=\"100\" r=\"80\" fill-opacity=\"0.2\" stroke=\"black\" stroke-width=\"2\" fill=\"green\" />\n",
        "  <line x1=\"150\" y1=\"125\" x2=\"300\" y2=\"150\" stroke=\"black\" stroke-width=\"2\" fill=\"black\" stroke-dasharray=\"5,3\"/>\n",
        "  <text  x=\"300\" y=\"165\" font-family=\"Verdana\" font-size=\"35\">Everything but this! OK</text>\n",
        "</svg>"
      ],
      "execution_count": 128,
      "outputs": [
        {
          "output_type": "display_data",
          "data": {
            "text/html": [
              "<svg width=\"800\" height=\"300\">\n",
              "  <circle cx=\"150\" cy=\"180\" r=\"80\" fill-opacity=\"0.2\" stroke=\"black\" stroke-width=\"2\" fill=\"blue\" />\n",
              "  <circle cx=\"200\" cy=\"100\" r=\"80\" fill-opacity=\"0.2\" stroke=\"black\" stroke-width=\"2\" fill=\"red\" />\n",
              "  <circle cx=\"100\" cy=\"100\" r=\"80\" fill-opacity=\"0.2\" stroke=\"black\" stroke-width=\"2\" fill=\"green\" />\n",
              "  <line x1=\"150\" y1=\"125\" x2=\"300\" y2=\"150\" stroke=\"black\" stroke-width=\"2\" fill=\"black\" stroke-dasharray=\"5,3\"/>\n",
              "  <text  x=\"300\" y=\"165\" font-family=\"Verdana\" font-size=\"35\">Everything but this! OK</text>\n",
              "</svg>"
            ],
            "text/plain": [
              "<IPython.core.display.HTML object>"
            ]
          },
          "metadata": {
            "tags": []
          }
        }
      ]
    },
    {
      "metadata": {
        "umich_part_id": "010",
        "umich_partlist_id": "003",
        "id": "g461aOIWKiTI",
        "colab_type": "code",
        "colab": {
          "base_uri": "https://localhost:8080/",
          "height": 34
        },
        "outputId": "761eb622-2ff4-4319-d61b-59e013e2539d"
      },
      "cell_type": "code",
      "source": [
        "def answer_two():\n",
        "    import pandas as pd\n",
        "    import numpy as np\n",
        "\n",
        "    energy = pd.read_excel('Energy Indicators.xls', skiprows=17,skipfooter= 38)\n",
        "    energy = energy[['Unnamed: 1','Petajoules','Gigajoules','%']]\n",
        "    energy.columns = ['Country', 'Energy Supply', 'Energy Supply per Capita', '% Renewable']\n",
        "    energy[['Energy Supply', 'Energy Supply per Capita', '% Renewable']] =  energy[['Energy Supply', 'Energy Supply per Capita', '% Renewable']].replace('...',np.NaN).apply(pd.to_numeric)\n",
        "    energy['Energy Supply'] = energy['Energy Supply']*1000000\n",
        "    energy['Country'] = energy['Country'].replace(\n",
        "        {'China, Hong Kong Special Administrative Region':'Hong Kong',\n",
        "         'United Kingdom of Great Britain and Northern Ireland':'United Kingdom',\n",
        "         'Republic of Korea':'South Korea','United States of America':'United States',\n",
        "         'Iran (Islamic Republic of)':'Iran'})\n",
        "#     // filter ( . * )\n",
        "    energy['Country'] = energy['Country'].str.replace(\" \\(.*\\)\",\"\")\n",
        "#     print(energy)\n",
        "    \n",
        "    GDP = pd.read_csv('world_bank.csv',skiprows=4)\n",
        "    GDP['Country Name'] = GDP['Country Name'].replace('Korea, Rep.','South Korea')\n",
        "    GDP['Country Name'] = GDP['Country Name'].replace('Iran, Islamic Rep.','Iran')\n",
        "    GDP['Country Name'] = GDP['Country Name'].replace('Hong Kong SAR, China','Hong Kong')\n",
        "\n",
        "    columns = ['Country Name','2006','2007','2008','2009','2010','2011','2012','2013','2014','2015']\n",
        "    \n",
        "    GDP = GDP[columns]\n",
        "    GDP.columns = ['Country','2006','2007','2008','2009','2010','2011','2012','2013','2014','2015']\n",
        "    \n",
        "    ScimEn = pd.read_excel('scimagojr-3.xlsx')\n",
        "    ScimEn_m = ScimEn[:15]\n",
        "    \n",
        "    df = pd.merge(ScimEn, energy, how = 'inner', left_on = 'Country', right_on='Country')\n",
        "    final_df = pd.merge(df,GDP, how = 'inner', left_on = 'Country', right_on='Country')\n",
        "    final_df = final_df.set_index('Country')\n",
        "    columns = ['Rank', 'Documents', 'Citable documents', 'Citations', 'Self-citations', 'Citations per document', 'H index', 'Energy Supply', 'Energy Supply per Capita', '% Renewable', '2006', '2007', '2008', '2009', '2010', '2011', '2012', '2013', '2014', '2015']\n",
        "    ans = final_df[columns]\n",
        "    \n",
        "    df2 = pd.merge(ScimEn, energy, how = 'outer', left_on = 'Country', right_on='Country')\n",
        "    final_df2 = pd.merge(df2,GDP, how = 'outer', left_on = 'Country', right_on='Country')\n",
        "    \n",
        "    return len(final_df2) - len(final_df)\n",
        "\n",
        "answer_two() "
      ],
      "execution_count": 129,
      "outputs": [
        {
          "output_type": "execute_result",
          "data": {
            "text/plain": [
              "156"
            ]
          },
          "metadata": {
            "tags": []
          },
          "execution_count": 129
        }
      ]
    },
    {
      "metadata": {
        "id": "DvfFx134KiTK",
        "colab_type": "text"
      },
      "cell_type": "markdown",
      "source": [
        "## Answer the following questions in the context of only the top 15 countries by Scimagojr Rank (aka the DataFrame returned by `answer_one()`)"
      ]
    },
    {
      "metadata": {
        "id": "SygCMVbzKiTL",
        "colab_type": "text"
      },
      "cell_type": "markdown",
      "source": [
        "### Question 3 (6.6%)\n",
        "What is the average GDP over the last 10 years for each country? (exclude missing values from this calculation.)\n",
        "\n",
        "*This function should return a Series named `avgGDP` with 15 countries and their average GDP sorted in descending order.*"
      ]
    },
    {
      "metadata": {
        "scrolled": true,
        "umich_part_id": "011",
        "umich_partlist_id": "003",
        "id": "vCapkExcKiTM",
        "colab_type": "code",
        "colab": {
          "base_uri": "https://localhost:8080/",
          "height": 306
        },
        "outputId": "496fc431-ecea-4124-ff37-e9457fc9ff1f"
      },
      "cell_type": "code",
      "source": [
        "import pandas as pd\n",
        "import numpy as np\n",
        "def answer_three():\n",
        "    Top15 = answer_one()\n",
        "    columns = ['2006','2007','2008','2009','2010','2011','2012','2013','2014','2015']\n",
        "    Top15['Mean'] = Top15[columns].mean(axis=1)\n",
        "#     print(Top15['Mean'])\n",
        "    mean_sorted = Top15.sort_values(by='Mean',ascending=False)['Mean']\n",
        "#     print(mean_sorted)\n",
        "    return mean_sorted\n",
        "answer_three()  "
      ],
      "execution_count": 130,
      "outputs": [
        {
          "output_type": "execute_result",
          "data": {
            "text/plain": [
              "Country\n",
              "United States         1.536434e+13\n",
              "China                 6.348609e+12\n",
              "Japan                 5.542208e+12\n",
              "Germany               3.493025e+12\n",
              "France                2.681725e+12\n",
              "United Kingdom        2.487907e+12\n",
              "Brazil                2.189794e+12\n",
              "Italy                 2.120175e+12\n",
              "India                 1.769297e+12\n",
              "Canada                1.660647e+12\n",
              "Russian Federation    1.565459e+12\n",
              "Spain                 1.418078e+12\n",
              "Australia             1.164043e+12\n",
              "South Korea           1.106715e+12\n",
              "Iran                  4.441558e+11\n",
              "Name: Mean, dtype: float64"
            ]
          },
          "metadata": {
            "tags": []
          },
          "execution_count": 130
        }
      ]
    },
    {
      "metadata": {
        "id": "_gzlo7q_KiTO",
        "colab_type": "text"
      },
      "cell_type": "markdown",
      "source": [
        "### Question 4 (6.6%)\n",
        "By how much had the GDP changed over the 10 year span for the country with the 6th largest average GDP?\n",
        "\n",
        "*This function should return a single number.*"
      ]
    },
    {
      "metadata": {
        "scrolled": true,
        "umich_part_id": "012",
        "umich_partlist_id": "003",
        "id": "dJLM0lu1KiTP",
        "colab_type": "code",
        "colab": {
          "base_uri": "https://localhost:8080/",
          "height": 34
        },
        "outputId": "e8d8b345-33a0-4634-b250-a8f329c3251e"
      },
      "cell_type": "code",
      "source": [
        "def answer_four():\n",
        "    Top15 = answer_one()\n",
        "    columns = ['2006','2007','2008','2009','2010','2011','2012','2013','2014','2015']\n",
        "    Top15['Mean'] = Top15[columns].mean(axis=1)\n",
        "    mean_sorted = Top15.sort_values(by='Mean',ascending=False)['Mean']\n",
        "#     print(mean_sorted)\n",
        "    sixth_largest = mean_sorted.index[5]\n",
        "#     print(sixth_largest)\n",
        "    target_data = Top15.loc[sixth_largest]\n",
        "#     print(target_data)\n",
        "    diff_10_year_span = target_data['2015'] - target_data['2006']\n",
        "#     print(diff_10_year_span)\n",
        "    return diff_10_year_span\n",
        "  \n",
        "answer_four()  "
      ],
      "execution_count": 153,
      "outputs": [
        {
          "output_type": "execute_result",
          "data": {
            "text/plain": [
              "246702696075.40"
            ]
          },
          "metadata": {
            "tags": []
          },
          "execution_count": 153
        }
      ]
    },
    {
      "metadata": {
        "id": "p2Mui6XhKiTR",
        "colab_type": "text"
      },
      "cell_type": "markdown",
      "source": [
        "### Question 5 (6.6%)\n",
        "What is the mean `Energy Supply per Capita`?\n",
        "\n",
        "*This function should return a single number.*"
      ]
    },
    {
      "metadata": {
        "umich_part_id": "013",
        "umich_partlist_id": "003",
        "id": "-hI6UzIDKiTR",
        "colab_type": "code",
        "colab": {
          "base_uri": "https://localhost:8080/",
          "height": 34
        },
        "outputId": "f7cb5d90-1555-417c-99dc-f0360c6e52d3"
      },
      "cell_type": "code",
      "source": [
        "def answer_five():\n",
        "    Top15 = answer_one()\n",
        "    energy_per_capita = Top15['Energy Supply per Capita']\n",
        "#     print(energy_per_capita)\n",
        "    energy_per_capita_mean = energy_per_capita.mean()\n",
        "    return energy_per_capita_mean\n",
        "  \n",
        "answer_five()  "
      ],
      "execution_count": 157,
      "outputs": [
        {
          "output_type": "execute_result",
          "data": {
            "text/plain": [
              "157.60"
            ]
          },
          "metadata": {
            "tags": []
          },
          "execution_count": 157
        }
      ]
    },
    {
      "metadata": {
        "id": "GCL4PjG9KiTT",
        "colab_type": "text"
      },
      "cell_type": "markdown",
      "source": [
        "### Question 6 (6.6%)\n",
        "What country has the maximum % Renewable and what is the percentage?\n",
        "\n",
        "*This function should return a tuple with the name of the country and the percentage.*"
      ]
    },
    {
      "metadata": {
        "umich_part_id": "014",
        "umich_partlist_id": "003",
        "id": "rMDOxSA6KiTU",
        "colab_type": "code",
        "colab": {
          "base_uri": "https://localhost:8080/",
          "height": 51
        },
        "outputId": "a6b58c10-6bf0-4e3e-b884-a4e88c964566"
      },
      "cell_type": "code",
      "source": [
        "def answer_six():\n",
        "    Top15 = answer_one()\n",
        "    renewable = Top15['% Renewable']\n",
        "#     print(renewable)\n",
        "    \n",
        "    max_renewable = renewable.max()\n",
        "    name_country = Top15[Top15['% Renewable'] == max_renewable].index[0]\n",
        "    print(name_country)\n",
        "    return (name_country ,max_renewable)\n",
        "  \n",
        "answer_six()  "
      ],
      "execution_count": 165,
      "outputs": [
        {
          "output_type": "stream",
          "text": [
            "Brazil\n"
          ],
          "name": "stdout"
        },
        {
          "output_type": "execute_result",
          "data": {
            "text/plain": [
              "('Brazil', 69.65)"
            ]
          },
          "metadata": {
            "tags": []
          },
          "execution_count": 165
        }
      ]
    },
    {
      "metadata": {
        "id": "TpMWQZdVKiTW",
        "colab_type": "text"
      },
      "cell_type": "markdown",
      "source": [
        "### Question 7 (6.6%)\n",
        "Create a new column that is the ratio of Self-Citations to Total Citations. \n",
        "What is the maximum value for this new column, and what country has the highest ratio?\n",
        "\n",
        "*This function should return a tuple with the name of the country and the ratio.*"
      ]
    },
    {
      "metadata": {
        "umich_part_id": "015",
        "umich_partlist_id": "003",
        "id": "Q2Kzz-J0KiTX",
        "colab_type": "code",
        "colab": {
          "base_uri": "https://localhost:8080/",
          "height": 34
        },
        "outputId": "c09c24a9-0370-43f1-8f74-79bb18e378d3"
      },
      "cell_type": "code",
      "source": [
        "def answer_seven():\n",
        "    Top15 = answer_one()\n",
        "    Top15['Ratio'] = Top15['Self-citations'] / Top15['Citations']\n",
        "    max_ratio = Top15['Ratio'].max()\n",
        "#     print(Top15['Ratio'])\n",
        "#     print(max_ratio)\n",
        "    name_country = Top15[Top15['Ratio'] == max_ratio].index[0]\n",
        "#     print(name_country)\n",
        "    return (name_country,max_ratio)\n",
        "  \n",
        "answer_seven()  "
      ],
      "execution_count": 174,
      "outputs": [
        {
          "output_type": "execute_result",
          "data": {
            "text/plain": [
              "('China', 0.69)"
            ]
          },
          "metadata": {
            "tags": []
          },
          "execution_count": 174
        }
      ]
    },
    {
      "metadata": {
        "id": "ZJQ6BMrbKiTa",
        "colab_type": "text"
      },
      "cell_type": "markdown",
      "source": [
        "### Question 8 (6.6%)\n",
        "\n",
        "Create a column that estimates the population using Energy Supply and Energy Supply per capita. \n",
        "What is the third most populous country according to this estimate?\n",
        "\n",
        "*This function should return a single string value.*"
      ]
    },
    {
      "metadata": {
        "umich_part_id": "016",
        "umich_partlist_id": "003",
        "id": "svHkOlzxKiTb",
        "colab_type": "code",
        "colab": {
          "base_uri": "https://localhost:8080/",
          "height": 34
        },
        "outputId": "da9eb3b6-de88-452b-cb35-9c0518b1b835"
      },
      "cell_type": "code",
      "source": [
        "def answer_eight():\n",
        "    Top15 = answer_one()\n",
        "#     filter this\n",
        "    columns = ['Energy Supply','Energy Supply per Capita']\n",
        "    target = Top15[columns].copy()\n",
        "    target['Capita'] = target['Energy Supply'] / target['Energy Supply per Capita']\n",
        "    third_most_populous = target.sort_values(by='Capita',ascending=False)\n",
        "    ans = third_most_populous.iloc[2].name\n",
        "    return ans\n",
        "  \n",
        "answer_eight()  "
      ],
      "execution_count": 192,
      "outputs": [
        {
          "output_type": "execute_result",
          "data": {
            "text/plain": [
              "'United States'"
            ]
          },
          "metadata": {
            "tags": []
          },
          "execution_count": 192
        }
      ]
    },
    {
      "metadata": {
        "id": "kUs5A1wkKiTd",
        "colab_type": "text"
      },
      "cell_type": "markdown",
      "source": [
        "### Question 9 (6.6%)\n",
        "Create a column that estimates the number of citable documents per person. \n",
        "What is the correlation between the number of citable documents per capita and the energy supply per capita? Use the `.corr()` method, (Pearson's correlation).\n",
        "\n",
        "*This function should return a single number.*\n",
        "\n",
        "*(Optional: Use the built-in function `plot9()` to visualize the relationship between Energy Supply per Capita vs. Citable docs per Capita)*"
      ]
    },
    {
      "metadata": {
        "umich_part_id": "017",
        "umich_partlist_id": "003",
        "id": "Pqx8kiASKiTe",
        "colab_type": "code",
        "colab": {
          "base_uri": "https://localhost:8080/",
          "height": 34
        },
        "outputId": "5260a590-449c-44a9-b3a0-8ecbfbe4c144"
      },
      "cell_type": "code",
      "source": [
        "def answer_nine():\n",
        "    Top15 = answer_one()\n",
        "    Top15['PopEst'] = Top15['Energy Supply'] / Top15['Energy Supply per Capita']\n",
        "    Top15['Citable docs per Capita'] = Top15['Citable documents'] / Top15['PopEst']\n",
        "    ans = Top15['Citable docs per Capita'].corr(Top15['Energy Supply per Capita'])\n",
        "    return ans\n",
        "  \n",
        "answer_nine()\n"
      ],
      "execution_count": 193,
      "outputs": [
        {
          "output_type": "execute_result",
          "data": {
            "text/plain": [
              "0.79"
            ]
          },
          "metadata": {
            "tags": []
          },
          "execution_count": 193
        }
      ]
    },
    {
      "metadata": {
        "id": "NIUf386uKiTg",
        "colab_type": "code",
        "colab": {}
      },
      "cell_type": "code",
      "source": [
        "def plot9():\n",
        "    import matplotlib as plt\n",
        "    %matplotlib inline\n",
        "    \n",
        "    Top15 = answer_one()\n",
        "    Top15['PopEst'] = Top15['Energy Supply'] / Top15['Energy Supply per Capita']\n",
        "    Top15['Citable docs per Capita'] = Top15['Citable documents'] / Top15['PopEst']\n",
        "    Top15.plot(x='Citable docs per Capita', y='Energy Supply per Capita', kind='scatter', xlim=[0, 0.0006])"
      ],
      "execution_count": 0,
      "outputs": []
    },
    {
      "metadata": {
        "id": "8hml7pOGKiTi",
        "colab_type": "code",
        "colab": {
          "base_uri": "https://localhost:8080/",
          "height": 283
        },
        "outputId": "ba94232f-46b1-4858-cf25-39699c958423"
      },
      "cell_type": "code",
      "source": [
        "# plot9() # Be sure to comment out plot9() before submitting the assignment!"
      ],
      "execution_count": 196,
      "outputs": [
        {
          "output_type": "display_data",
          "data": {
            "image/png": "[encoded data removed]",
            "text/plain": [
              "<Figure size 432x288 with 1 Axes>"
            ]
          },
          "metadata": {
            "tags": []
          }
        }
      ]
    },
    {
      "metadata": {
        "id": "-gTNJyRfKiTj",
        "colab_type": "text"
      },
      "cell_type": "markdown",
      "source": [
        "### Question 10 (6.6%)\n",
        "Create a new column with a 1 if the country's % Renewable value is at or above the median for all countries in the top 15, and a 0 if the country's % Renewable value is below the median.\n",
        "\n",
        "*This function should return a series named `HighRenew` whose index is the country name sorted in ascending order of rank.*"
      ]
    },
    {
      "metadata": {
        "umich_part_id": "018",
        "umich_partlist_id": "003",
        "id": "OUQhnqsbKiTk",
        "colab_type": "code",
        "colab": {
          "base_uri": "https://localhost:8080/",
          "height": 306
        },
        "outputId": "55804d2c-1628-4d4a-9ea1-856d2bbd1433"
      },
      "cell_type": "code",
      "source": [
        "def answer_ten():\n",
        "    Top15 = answer_one()\n",
        "    med = Top15['% Renewable'].median()\n",
        "#     print(med)\n",
        "    Top15['HighRenew'] = [1 if i >= med else 0 for i in Top15['% Renewable']]\n",
        "    ans = Top15['HighRenew']\n",
        "#     print(Top15['HighRenew'])\n",
        "    return pd.Series(ans)\n",
        "  \n",
        "answer_ten()  "
      ],
      "execution_count": 203,
      "outputs": [
        {
          "output_type": "execute_result",
          "data": {
            "text/plain": [
              "Country\n",
              "China                 1\n",
              "United States         0\n",
              "Japan                 0\n",
              "United Kingdom        0\n",
              "Russian Federation    1\n",
              "Canada                1\n",
              "Germany               1\n",
              "India                 0\n",
              "France                0\n",
              "South Korea           0\n",
              "Italy                 1\n",
              "Spain                 1\n",
              "Iran                  0\n",
              "Australia             0\n",
              "Brazil                1\n",
              "Name: HighRenew, dtype: int64"
            ]
          },
          "metadata": {
            "tags": []
          },
          "execution_count": 203
        }
      ]
    },
    {
      "metadata": {
        "id": "hJWIwWapKiTm",
        "colab_type": "text"
      },
      "cell_type": "markdown",
      "source": [
        "### Question 11 (6.6%)\n",
        "Use the following dictionary to group the Countries by Continent, then create a dateframe that displays the sample size (the number of countries in each continent bin), and the sum, mean, and std deviation for the estimated population of each country.\n",
        "\n",
        "```python\n",
        "ContinentDict  = {'China':'Asia', \n",
        "                  'United States':'North America', \n",
        "                  'Japan':'Asia', \n",
        "                  'United Kingdom':'Europe', \n",
        "                  'Russian Federation':'Europe', \n",
        "                  'Canada':'North America', \n",
        "                  'Germany':'Europe', \n",
        "                  'India':'Asia',\n",
        "                  'France':'Europe', \n",
        "                  'South Korea':'Asia', \n",
        "                  'Italy':'Europe', \n",
        "                  'Spain':'Europe', \n",
        "                  'Iran':'Asia',\n",
        "                  'Australia':'Australia', \n",
        "                  'Brazil':'South America'}\n",
        "```\n",
        "\n",
        "*This function should return a DataFrame with index named Continent `['Asia', 'Australia', 'Europe', 'North America', 'South America']` and columns `['size', 'sum', 'mean', 'std']`*"
      ]
    },
    {
      "metadata": {
        "umich_part_id": "019",
        "umich_partlist_id": "003",
        "id": "Jo8Ef-8GKiTm",
        "colab_type": "code",
        "colab": {
          "base_uri": "https://localhost:8080/",
          "height": 269
        },
        "outputId": "404654da-dab8-42f7-e440-815bfc94fbf9"
      },
      "cell_type": "code",
      "source": [
        "def answer_eleven():\n",
        "   \n",
        "    ContinentDict  = {'China':'Asia', \n",
        "                  'United States':'North America', \n",
        "                  'Japan':'Asia', \n",
        "                  'United Kingdom':'Europe', \n",
        "                  'Russian Federation':'Europe', \n",
        "                  'Canada':'North America', \n",
        "                  'Germany':'Europe', \n",
        "                  'India':'Asia',\n",
        "                  'France':'Europe', \n",
        "                  'South Korea':'Asia', \n",
        "                  'Italy':'Europe', \n",
        "                  'Spain':'Europe', \n",
        "                  'Iran':'Asia',\n",
        "                  'Australia':'Australia', \n",
        "                  'Brazil':'South America'}\n",
        "    \n",
        "    Top15 = answer_one()\n",
        "    \n",
        "    Top15['PopEst'] = (Top15['Energy Supply'] / Top15['Energy Supply per Capita'])\n",
        "#     print(Top15)\n",
        "    Top15 = Top15.reset_index()\n",
        "    Top15['Continent'] = [ ContinentDict[country] for country in Top15['Country']]\n",
        "#     print(Top15['Continent'])\n",
        "    target = Top15.set_index('Continent').groupby(level = 0)['PopEst'].agg(\n",
        "        {'size':np.size, 'sum':np.sum, 'mean':np.mean, 'std':np.std\n",
        "        })\n",
        "#     print(target)\n",
        "    \n",
        "    return target[['size', 'sum', 'mean', 'std']]\n",
        "  \n",
        "answer_eleven()  "
      ],
      "execution_count": 213,
      "outputs": [
        {
          "output_type": "stream",
          "text": [
            "/usr/local/lib/python3.6/dist-packages/ipykernel_launcher.py:27: FutureWarning: using a dict on a Series for aggregation\n",
            "is deprecated and will be removed in a future version\n"
          ],
          "name": "stderr"
        },
        {
          "output_type": "execute_result",
          "data": {
            "text/html": [
              "<div>\n",
              "<style scoped>\n",
              "    .dataframe tbody tr th:only-of-type {\n",
              "        vertical-align: middle;\n",
              "    }\n",
              "\n",
              "    .dataframe tbody tr th {\n",
              "        vertical-align: top;\n",
              "    }\n",
              "\n",
              "    .dataframe thead th {\n",
              "        text-align: right;\n",
              "    }\n",
              "</style>\n",
              "<table border=\"1\" class=\"dataframe\">\n",
              "  <thead>\n",
              "    <tr style=\"text-align: right;\">\n",
              "      <th></th>\n",
              "      <th>size</th>\n",
              "      <th>sum</th>\n",
              "      <th>mean</th>\n",
              "      <th>std</th>\n",
              "    </tr>\n",
              "    <tr>\n",
              "      <th>Continent</th>\n",
              "      <th></th>\n",
              "      <th></th>\n",
              "      <th></th>\n",
              "      <th></th>\n",
              "    </tr>\n",
              "  </thead>\n",
              "  <tbody>\n",
              "    <tr>\n",
              "      <th>Asia</th>\n",
              "      <td>5.0</td>\n",
              "      <td>2.898666e+09</td>\n",
              "      <td>5.797333e+08</td>\n",
              "      <td>6.790979e+08</td>\n",
              "    </tr>\n",
              "    <tr>\n",
              "      <th>Australia</th>\n",
              "      <td>1.0</td>\n",
              "      <td>2.331602e+07</td>\n",
              "      <td>2.331602e+07</td>\n",
              "      <td>NaN</td>\n",
              "    </tr>\n",
              "    <tr>\n",
              "      <th>Europe</th>\n",
              "      <td>6.0</td>\n",
              "      <td>4.579297e+08</td>\n",
              "      <td>7.632161e+07</td>\n",
              "      <td>3.464767e+07</td>\n",
              "    </tr>\n",
              "    <tr>\n",
              "      <th>North America</th>\n",
              "      <td>2.0</td>\n",
              "      <td>3.528552e+08</td>\n",
              "      <td>1.764276e+08</td>\n",
              "      <td>1.996696e+08</td>\n",
              "    </tr>\n",
              "    <tr>\n",
              "      <th>South America</th>\n",
              "      <td>1.0</td>\n",
              "      <td>2.059153e+08</td>\n",
              "      <td>2.059153e+08</td>\n",
              "      <td>NaN</td>\n",
              "    </tr>\n",
              "  </tbody>\n",
              "</table>\n",
              "</div>"
            ],
            "text/plain": [
              "               size           sum          mean           std\n",
              "Continent                                                    \n",
              "Asia            5.0  2.898666e+09  5.797333e+08  6.790979e+08\n",
              "Australia       1.0  2.331602e+07  2.331602e+07           NaN\n",
              "Europe          6.0  4.579297e+08  7.632161e+07  3.464767e+07\n",
              "North America   2.0  3.528552e+08  1.764276e+08  1.996696e+08\n",
              "South America   1.0  2.059153e+08  2.059153e+08           NaN"
            ]
          },
          "metadata": {
            "tags": []
          },
          "execution_count": 213
        }
      ]
    },
    {
      "metadata": {
        "id": "XrVmWqMAKiTp",
        "colab_type": "text"
      },
      "cell_type": "markdown",
      "source": [
        "### Question 12 (6.6%)\n",
        "Cut % Renewable into 5 bins. Group Top15 by the Continent, as well as these new % Renewable bins. How many countries are in each of these groups?\n",
        "\n",
        "*This function should return a __Series__ with a MultiIndex of `Continent`, then the bins for `% Renewable`. Do not include groups with no countries.*"
      ]
    },
    {
      "metadata": {
        "scrolled": true,
        "id": "1jXco4bCKiTr",
        "colab_type": "code",
        "colab": {
          "base_uri": "https://localhost:8080/",
          "height": 204
        },
        "outputId": "db06c655-f9bd-4985-a67e-d1528121cd65"
      },
      "cell_type": "code",
      "source": [
        "def answer_twelve():\n",
        "    ContinentDict  = {'China':'Asia', \n",
        "                  'United States':'North America', \n",
        "                  'Japan':'Asia', \n",
        "                  'United Kingdom':'Europe', \n",
        "                  'Russian Federation':'Europe', \n",
        "                  'Canada':'North America', \n",
        "                  'Germany':'Europe', \n",
        "                  'India':'Asia',\n",
        "                  'France':'Europe', \n",
        "                  'South Korea':'Asia', \n",
        "                  'Italy':'Europe', \n",
        "                  'Spain':'Europe', \n",
        "                  'Iran':'Asia',\n",
        "                  'Australia':'Australia', \n",
        "                  'Brazil':'South America'}\n",
        "    \n",
        "    Top15 = answer_one()\n",
        "    \n",
        "    Top15['PopEst'] = (Top15['Energy Supply'] / Top15['Energy Supply per Capita'])\n",
        "#     print(Top15)\n",
        "    Top15 = Top15.reset_index()\n",
        "    Top15['Continent'] = [ContinentDict[country] for country in Top15['Country']]\n",
        "    Top15['bins'] = pd.cut(Top15['% Renewable'],5)\n",
        "    \n",
        "    ans = Top15.groupby(['Continent', 'bins']).size()\n",
        "    return pd.Series(ans)\n",
        "  \n",
        "answer_twelve()  "
      ],
      "execution_count": 217,
      "outputs": [
        {
          "output_type": "execute_result",
          "data": {
            "text/plain": [
              "Continent      bins            \n",
              "Asia           (2.212, 15.753]     4\n",
              "               (15.753, 29.227]    1\n",
              "Australia      (2.212, 15.753]     1\n",
              "Europe         (2.212, 15.753]     1\n",
              "               (15.753, 29.227]    3\n",
              "               (29.227, 42.701]    2\n",
              "North America  (2.212, 15.753]     1\n",
              "               (56.174, 69.648]    1\n",
              "South America  (56.174, 69.648]    1\n",
              "dtype: int64"
            ]
          },
          "metadata": {
            "tags": []
          },
          "execution_count": 217
        }
      ]
    },
    {
      "metadata": {
        "id": "H1Mln8ljKiTt",
        "colab_type": "text"
      },
      "cell_type": "markdown",
      "source": [
        "### Question 13 (6.6%)\n",
        "Convert the Population Estimate series to a string with thousands separator (using commas). Do not round the results.\n",
        "\n",
        "e.g. 317615384.61538464 -> 317,615,384.61538464\n",
        "\n",
        "*This function should return a Series `PopEst` whose index is the country name and whose values are the population estimate string.*"
      ]
    },
    {
      "metadata": {
        "scrolled": true,
        "umich_part_id": "020",
        "umich_partlist_id": "003",
        "id": "WdRXmGHnKiTu",
        "colab_type": "code",
        "colab": {
          "base_uri": "https://localhost:8080/",
          "height": 306
        },
        "outputId": "79d022c7-1bab-4889-c5a2-6324b63687de"
      },
      "cell_type": "code",
      "source": [
        "def answer_thirteen():\n",
        "    ContinentDict  = {'China':'Asia', \n",
        "                  'United States':'North America', \n",
        "                  'Japan':'Asia', \n",
        "                  'United Kingdom':'Europe', \n",
        "                  'Russian Federation':'Europe', \n",
        "                  'Canada':'North America', \n",
        "                  'Germany':'Europe', \n",
        "                  'India':'Asia',\n",
        "                  'France':'Europe', \n",
        "                  'South Korea':'Asia', \n",
        "                  'Italy':'Europe', \n",
        "                  'Spain':'Europe', \n",
        "                  'Iran':'Asia',\n",
        "                  'Australia':'Australia', \n",
        "                  'Brazil':'South America'}\n",
        "    Top15 = answer_one()\n",
        "    Top15['PopEst'] = (Top15['Energy Supply'] / Top15['Energy Supply per Capita'])\n",
        "    tmp = Top15['PopEst'].tolist()\n",
        "#     print(tmp)\n",
        "    \n",
        "    Top15['PopEst'] = (Top15['Energy Supply'] / Top15['Energy Supply per Capita']).apply(lambda x: \"{:,}\".format(x), tmp)\n",
        "    \n",
        "    ans = pd.Series(Top15['PopEst'])\n",
        "    \n",
        "    return ans\n",
        "  \n",
        "  \n",
        "answer_thirteen()  "
      ],
      "execution_count": 220,
      "outputs": [
        {
          "output_type": "execute_result",
          "data": {
            "text/plain": [
              "Country\n",
              "China                 1,367,645,161.2903225\n",
              "United States          317,615,384.61538464\n",
              "Japan                  127,409,395.97315437\n",
              "United Kingdom         63,870,967.741935484\n",
              "Russian Federation            143,500,000.0\n",
              "Canada                  35,239,864.86486486\n",
              "Germany                 80,369,696.96969697\n",
              "India                 1,276,730,769.2307692\n",
              "France                  63,837,349.39759036\n",
              "South Korea            49,805,429.864253394\n",
              "Italy                  59,908,256.880733944\n",
              "Spain                    46,443,396.2264151\n",
              "Iran                    77,075,630.25210084\n",
              "Australia              23,316,017.316017315\n",
              "Brazil                 205,915,254.23728815\n",
              "Name: PopEst, dtype: object"
            ]
          },
          "metadata": {
            "tags": []
          },
          "execution_count": 220
        }
      ]
    },
    {
      "metadata": {
        "id": "4t2ntkRlKiTx",
        "colab_type": "text"
      },
      "cell_type": "markdown",
      "source": [
        "### Optional\n",
        "\n",
        "Use the built in function `plot_optional()` to see an example visualization."
      ]
    },
    {
      "metadata": {
        "scrolled": true,
        "id": "8RFZR90jKiTy",
        "colab_type": "code",
        "colab": {}
      },
      "cell_type": "code",
      "source": [
        "def plot_optional():\n",
        "    import matplotlib as plt\n",
        "    %matplotlib inline\n",
        "    Top15 = answer_one()\n",
        "    ax = Top15.plot(x='Rank', y='% Renewable', kind='scatter', \n",
        "                    c=['#e41a1c','#377eb8','#e41a1c','#4daf4a','#4daf4a','#377eb8','#4daf4a','#e41a1c',\n",
        "                       '#4daf4a','#e41a1c','#4daf4a','#4daf4a','#e41a1c','#dede00','#ff7f00'], \n",
        "                    xticks=range(1,16), s=6*Top15['2014']/10**10, alpha=.75, figsize=[16,6]);\n",
        "\n",
        "    for i, txt in enumerate(Top15.index):\n",
        "        ax.annotate(txt, [Top15['Rank'][i], Top15['% Renewable'][i]], ha='center')\n",
        "\n",
        "    print(\"This is an example of a visualization that can be created to help understand the data. \\\n",
        "This is a bubble chart showing % Renewable vs. Rank. The size of the bubble corresponds to the countries' \\\n",
        "2014 GDP, and the color corresponds to the continent.\")"
      ],
      "execution_count": 0,
      "outputs": []
    },
    {
      "metadata": {
        "id": "qE-TiZUoKiT0",
        "colab_type": "code",
        "colab": {
          "base_uri": "https://localhost:8080/",
          "height": 429
        },
        "outputId": "27949c27-91fc-4fa3-a727-26d90dfa90ef"
      },
      "cell_type": "code",
      "source": [
        "# plot_optional() # Be sure to comment out plot_optional() before submitting the assignment!"
      ],
      "execution_count": 221,
      "outputs": [
        {
          "output_type": "stream",
          "text": [
            "This is an example of a visualization that can be created to help understand the data. This is a bubble chart showing % Renewable vs. Rank. The size of the bubble corresponds to the countries' 2014 GDP, and the color corresponds to the continent.\n"
          ],
          "name": "stdout"
        },
        {
          "output_type": "display_data",
          "data": {
            "image/png": "[encoded data removed]",
            "text/plain": [
              "<Figure size 1152x432 with 1 Axes>"
            ]
          },
          "metadata": {
            "tags": []
          }
        }
      ]
    }
  ]
}